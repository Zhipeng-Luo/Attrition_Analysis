{
 "cells": [
  {
   "cell_type": "markdown",
   "source": [
    "# Attrition Analysis"
   ],
   "metadata": {
    "tags": [],
    "is_collapsed": false,
    "cell_id": "00000-a325f824-7bb0-4a6e-ab37-05266bf0b682",
    "deepnote_cell_type": "text-cell-h1"
   }
  },
  {
   "cell_type": "markdown",
   "source": [
    "Primary datasource basic explanation :\n",
    "\n",
    "前置假设（可在project report data source 部分做描述）：此数据在kaggle的发布时间为2017年，我们假设此数据就是从IBM的年度HR数据中采集的。不过数据经过了脱敏处理。 "
   ],
   "metadata": {
    "tags": [],
    "cell_id": "00001-20851524-dc1b-480d-8451-67a55b4cbb39",
    "deepnote_cell_type": "markdown"
   }
  },
  {
   "cell_type": "markdown",
   "source": [
    "## Libraries &amp; Version"
   ],
   "metadata": {
    "tags": [],
    "is_collapsed": false,
    "cell_id": "00002-2db9681a-5970-43de-98e9-1e86790bac64",
    "deepnote_cell_type": "text-cell-h2"
   }
  },
  {
   "cell_type": "code",
   "execution_count": null,
   "source": [
    "import pandas as pd\r\n",
    "import numpy as np\r\n",
    "import matplotlib.pyplot as plt\r\n",
    "import matplotlib as mpl\r\n",
    "import seaborn as sns\r\n",
    "import altair as alt\r\n",
    "import plotly.express as px\r\n",
    "import scipy\r\n",
    "import scipy.stats as stats \r\n",
    "import sklearn\r\n",
    "from sklearn import preprocessing\r\n",
    "\r\n",
    "pd.options.display.max_rows = 500\r\n",
    "pd.options.display.max_columns = 500\r\n",
    "\r\n"
   ],
   "outputs": [],
   "metadata": {
    "tags": [],
    "cell_id": "00000-11276d07-5310-4b49-8dff-53389b6fa3c8",
    "deepnote_to_be_reexecuted": false,
    "source_hash": "187cf656",
    "execution_start": 1631582431559,
    "execution_millis": 2963,
    "deepnote_cell_type": "code"
   }
  },
  {
   "cell_type": "code",
   "execution_count": null,
   "source": [
    "!python --version\r\n",
    "\r\n",
    "print('Pandas version: ', pd.__version__)\r\n",
    "print('Numpy version: ', np.__version__)\r\n",
    "print('Matplotlib version: ', mpl.__version__)\r\n",
    "print('Seaborn version: ', sns.__version__)\r\n",
    "print('Altair version: ', alt.__version__)\r\n",
    "print('Scipy version: ', scipy.__version__)\r\n",
    "print('Sklearn version: ', sklearn.__version__)"
   ],
   "outputs": [
    {
     "output_type": "stream",
     "name": "stdout",
     "text": [
      "Python 3.7.11\n",
      "Pandas version:  1.2.5\n",
      "Numpy version:  1.19.5\n",
      "Matplotlib version:  3.4.3\n",
      "Seaborn version:  0.11.2\n",
      "Altair version:  4.1.0\n",
      "Scipy version:  1.7.1\n",
      "Sklearn version:  0.24.2\n"
     ]
    }
   ],
   "metadata": {
    "tags": [],
    "cell_id": "00001-68e3dc12-728c-432e-9eb0-5dcf4c9a0973",
    "deepnote_to_be_reexecuted": false,
    "source_hash": "78e461fe",
    "execution_start": 1631582434527,
    "execution_millis": 871,
    "deepnote_cell_type": "code"
   }
  },
  {
   "cell_type": "markdown",
   "source": [
    "## Loading data"
   ],
   "metadata": {
    "tags": [],
    "is_collapsed": false,
    "cell_id": "00004-a187b044-cc26-4403-8135-b98db760f17a",
    "deepnote_cell_type": "text-cell-h2"
   }
  },
  {
   "cell_type": "code",
   "execution_count": null,
   "source": [
    "df = pd.read_csv('./IMB_attrition.csv')\r\n",
    "df_ibm = df.copy()"
   ],
   "outputs": [],
   "metadata": {
    "tags": [],
    "cell_id": "00001-4f04f8c2-a337-48cc-a32c-5bddc20a1b9d",
    "deepnote_to_be_reexecuted": false,
    "source_hash": "ad33978b",
    "execution_start": 1631582435405,
    "execution_millis": 26,
    "deepnote_cell_type": "code"
   }
  },
  {
   "cell_type": "code",
   "execution_count": null,
   "source": [
    "df_ibm.info()  # check the features and whether empty value exists"
   ],
   "outputs": [
    {
     "output_type": "stream",
     "name": "stdout",
     "text": [
      "<class 'pandas.core.frame.DataFrame'>\n",
      "RangeIndex: 1470 entries, 0 to 1469\n",
      "Data columns (total 35 columns):\n",
      " #   Column                    Non-Null Count  Dtype \n",
      "---  ------                    --------------  ----- \n",
      " 0   Age                       1470 non-null   int64 \n",
      " 1   Attrition                 1470 non-null   object\n",
      " 2   BusinessTravel            1470 non-null   object\n",
      " 3   DailyRate                 1470 non-null   int64 \n",
      " 4   Department                1470 non-null   object\n",
      " 5   DistanceFromHome          1470 non-null   int64 \n",
      " 6   Education                 1470 non-null   int64 \n",
      " 7   EducationField            1470 non-null   object\n",
      " 8   EmployeeCount             1470 non-null   int64 \n",
      " 9   EmployeeNumber            1470 non-null   int64 \n",
      " 10  EnvironmentSatisfaction   1470 non-null   int64 \n",
      " 11  Gender                    1470 non-null   object\n",
      " 12  HourlyRate                1470 non-null   int64 \n",
      " 13  JobInvolvement            1470 non-null   int64 \n",
      " 14  JobLevel                  1470 non-null   int64 \n",
      " 15  JobRole                   1470 non-null   object\n",
      " 16  JobSatisfaction           1470 non-null   int64 \n",
      " 17  MaritalStatus             1470 non-null   object\n",
      " 18  MonthlyIncome             1470 non-null   int64 \n",
      " 19  MonthlyRate               1470 non-null   int64 \n",
      " 20  NumCompaniesWorked        1470 non-null   int64 \n",
      " 21  Over18                    1470 non-null   object\n",
      " 22  OverTime                  1470 non-null   object\n",
      " 23  PercentSalaryHike         1470 non-null   int64 \n",
      " 24  PerformanceRating         1470 non-null   int64 \n",
      " 25  RelationshipSatisfaction  1470 non-null   int64 \n",
      " 26  StandardHours             1470 non-null   int64 \n",
      " 27  StockOptionLevel          1470 non-null   int64 \n",
      " 28  TotalWorkingYears         1470 non-null   int64 \n",
      " 29  TrainingTimesLastYear     1470 non-null   int64 \n",
      " 30  WorkLifeBalance           1470 non-null   int64 \n",
      " 31  YearsAtCompany            1470 non-null   int64 \n",
      " 32  YearsInCurrentRole        1470 non-null   int64 \n",
      " 33  YearsSinceLastPromotion   1470 non-null   int64 \n",
      " 34  YearsWithCurrManager      1470 non-null   int64 \n",
      "dtypes: int64(26), object(9)\n",
      "memory usage: 402.1+ KB\n"
     ]
    }
   ],
   "metadata": {
    "tags": [],
    "cell_id": "00004-5c250385-e904-474f-8e11-d8ccd415241e",
    "deepnote_to_be_reexecuted": false,
    "source_hash": "961f6c2f",
    "execution_start": 1631582435433,
    "execution_millis": 43,
    "deepnote_cell_type": "code"
   }
  },
  {
   "cell_type": "code",
   "execution_count": null,
   "source": [
    "df_ibm.head()"
   ],
   "outputs": [
    {
     "output_type": "execute_result",
     "data": {
      "application/vnd.deepnote.dataframe.v2+json": {
       "row_count": 5,
       "column_count": 35,
       "columns": [
        {
         "name": "Age",
         "dtype": "int64",
         "stats": {
          "unique_count": 5,
          "nan_count": 0,
          "min": "27",
          "max": "49",
          "histogram": [
           {
            "bin_start": 27,
            "bin_end": 29.2,
            "count": 1
           },
           {
            "bin_start": 29.2,
            "bin_end": 31.4,
            "count": 0
           },
           {
            "bin_start": 31.4,
            "bin_end": 33.6,
            "count": 1
           },
           {
            "bin_start": 33.6,
            "bin_end": 35.8,
            "count": 0
           },
           {
            "bin_start": 35.8,
            "bin_end": 38,
            "count": 1
           },
           {
            "bin_start": 38,
            "bin_end": 40.2,
            "count": 0
           },
           {
            "bin_start": 40.2,
            "bin_end": 42.400000000000006,
            "count": 1
           },
           {
            "bin_start": 42.400000000000006,
            "bin_end": 44.6,
            "count": 0
           },
           {
            "bin_start": 44.6,
            "bin_end": 46.8,
            "count": 0
           },
           {
            "bin_start": 46.8,
            "bin_end": 49,
            "count": 1
           }
          ]
         }
        },
        {
         "name": "Attrition",
         "dtype": "object",
         "stats": {
          "unique_count": 2,
          "nan_count": 0,
          "categories": [
           {
            "name": "No",
            "count": 3
           },
           {
            "name": "Yes",
            "count": 2
           }
          ]
         }
        },
        {
         "name": "BusinessTravel",
         "dtype": "object",
         "stats": {
          "unique_count": 2,
          "nan_count": 0,
          "categories": [
           {
            "name": "Travel_Rarely",
            "count": 3
           },
           {
            "name": "Travel_Frequently",
            "count": 2
           }
          ]
         }
        },
        {
         "name": "DailyRate",
         "dtype": "int64",
         "stats": {
          "unique_count": 5,
          "nan_count": 0,
          "min": "279",
          "max": "1392",
          "histogram": [
           {
            "bin_start": 279,
            "bin_end": 390.3,
            "count": 1
           },
           {
            "bin_start": 390.3,
            "bin_end": 501.6,
            "count": 0
           },
           {
            "bin_start": 501.6,
            "bin_end": 612.9,
            "count": 1
           },
           {
            "bin_start": 612.9,
            "bin_end": 724.2,
            "count": 0
           },
           {
            "bin_start": 724.2,
            "bin_end": 835.5,
            "count": 0
           },
           {
            "bin_start": 835.5,
            "bin_end": 946.8,
            "count": 0
           },
           {
            "bin_start": 946.8,
            "bin_end": 1058.1,
            "count": 0
           },
           {
            "bin_start": 1058.1,
            "bin_end": 1169.4,
            "count": 1
           },
           {
            "bin_start": 1169.4,
            "bin_end": 1280.6999999999998,
            "count": 0
           },
           {
            "bin_start": 1280.6999999999998,
            "bin_end": 1392,
            "count": 2
           }
          ]
         }
        },
        {
         "name": "Department",
         "dtype": "object",
         "stats": {
          "unique_count": 2,
          "nan_count": 0,
          "categories": [
           {
            "name": "Research & Development",
            "count": 4
           },
           {
            "name": "Sales",
            "count": 1
           }
          ]
         }
        },
        {
         "name": "DistanceFromHome",
         "dtype": "int64",
         "stats": {
          "unique_count": 4,
          "nan_count": 0,
          "min": "1",
          "max": "8",
          "histogram": [
           {
            "bin_start": 1,
            "bin_end": 1.7,
            "count": 1
           },
           {
            "bin_start": 1.7,
            "bin_end": 2.4,
            "count": 2
           },
           {
            "bin_start": 2.4,
            "bin_end": 3.0999999999999996,
            "count": 1
           },
           {
            "bin_start": 3.0999999999999996,
            "bin_end": 3.8,
            "count": 0
           },
           {
            "bin_start": 3.8,
            "bin_end": 4.5,
            "count": 0
           },
           {
            "bin_start": 4.5,
            "bin_end": 5.199999999999999,
            "count": 0
           },
           {
            "bin_start": 5.199999999999999,
            "bin_end": 5.8999999999999995,
            "count": 0
           },
           {
            "bin_start": 5.8999999999999995,
            "bin_end": 6.6,
            "count": 0
           },
           {
            "bin_start": 6.6,
            "bin_end": 7.3,
            "count": 0
           },
           {
            "bin_start": 7.3,
            "bin_end": 8,
            "count": 1
           }
          ]
         }
        },
        {
         "name": "Education",
         "dtype": "int64",
         "stats": {
          "unique_count": 3,
          "nan_count": 0,
          "min": "1",
          "max": "4",
          "histogram": [
           {
            "bin_start": 1,
            "bin_end": 1.3,
            "count": 2
           },
           {
            "bin_start": 1.3,
            "bin_end": 1.6,
            "count": 0
           },
           {
            "bin_start": 1.6,
            "bin_end": 1.9,
            "count": 0
           },
           {
            "bin_start": 1.9,
            "bin_end": 2.2,
            "count": 2
           },
           {
            "bin_start": 2.2,
            "bin_end": 2.5,
            "count": 0
           },
           {
            "bin_start": 2.5,
            "bin_end": 2.8,
            "count": 0
           },
           {
            "bin_start": 2.8,
            "bin_end": 3.1,
            "count": 0
           },
           {
            "bin_start": 3.1,
            "bin_end": 3.4,
            "count": 0
           },
           {
            "bin_start": 3.4,
            "bin_end": 3.6999999999999997,
            "count": 0
           },
           {
            "bin_start": 3.6999999999999997,
            "bin_end": 4,
            "count": 1
           }
          ]
         }
        },
        {
         "name": "EducationField",
         "dtype": "object",
         "stats": {
          "unique_count": 3,
          "nan_count": 0,
          "categories": [
           {
            "name": "Life Sciences",
            "count": 3
           },
           {
            "name": "Other",
            "count": 1
           },
           {
            "name": "Medical",
            "count": 1
           }
          ]
         }
        },
        {
         "name": "EmployeeCount",
         "dtype": "int64",
         "stats": {
          "unique_count": 1,
          "nan_count": 0,
          "min": "1",
          "max": "1",
          "histogram": [
           {
            "bin_start": 0.5,
            "bin_end": 0.6,
            "count": 0
           },
           {
            "bin_start": 0.6,
            "bin_end": 0.7,
            "count": 0
           },
           {
            "bin_start": 0.7,
            "bin_end": 0.8,
            "count": 0
           },
           {
            "bin_start": 0.8,
            "bin_end": 0.9,
            "count": 0
           },
           {
            "bin_start": 0.9,
            "bin_end": 1,
            "count": 0
           },
           {
            "bin_start": 1,
            "bin_end": 1.1,
            "count": 5
           },
           {
            "bin_start": 1.1,
            "bin_end": 1.2000000000000002,
            "count": 0
           },
           {
            "bin_start": 1.2000000000000002,
            "bin_end": 1.3,
            "count": 0
           },
           {
            "bin_start": 1.3,
            "bin_end": 1.4,
            "count": 0
           },
           {
            "bin_start": 1.4,
            "bin_end": 1.5,
            "count": 0
           }
          ]
         }
        },
        {
         "name": "EmployeeNumber",
         "dtype": "int64",
         "stats": {
          "unique_count": 5,
          "nan_count": 0,
          "min": "1",
          "max": "7",
          "histogram": [
           {
            "bin_start": 1,
            "bin_end": 1.6,
            "count": 1
           },
           {
            "bin_start": 1.6,
            "bin_end": 2.2,
            "count": 1
           },
           {
            "bin_start": 2.2,
            "bin_end": 2.8,
            "count": 0
           },
           {
            "bin_start": 2.8,
            "bin_end": 3.4,
            "count": 0
           },
           {
            "bin_start": 3.4,
            "bin_end": 4,
            "count": 0
           },
           {
            "bin_start": 4,
            "bin_end": 4.6,
            "count": 1
           },
           {
            "bin_start": 4.6,
            "bin_end": 5.2,
            "count": 1
           },
           {
            "bin_start": 5.2,
            "bin_end": 5.8,
            "count": 0
           },
           {
            "bin_start": 5.8,
            "bin_end": 6.3999999999999995,
            "count": 0
           },
           {
            "bin_start": 6.3999999999999995,
            "bin_end": 7,
            "count": 1
           }
          ]
         }
        },
        {
         "name": "EnvironmentSatisfaction",
         "dtype": "int64",
         "stats": {
          "unique_count": 4,
          "nan_count": 0,
          "min": "1",
          "max": "4",
          "histogram": [
           {
            "bin_start": 1,
            "bin_end": 1.3,
            "count": 1
           },
           {
            "bin_start": 1.3,
            "bin_end": 1.6,
            "count": 0
           },
           {
            "bin_start": 1.6,
            "bin_end": 1.9,
            "count": 0
           },
           {
            "bin_start": 1.9,
            "bin_end": 2.2,
            "count": 1
           },
           {
            "bin_start": 2.2,
            "bin_end": 2.5,
            "count": 0
           },
           {
            "bin_start": 2.5,
            "bin_end": 2.8,
            "count": 0
           },
           {
            "bin_start": 2.8,
            "bin_end": 3.1,
            "count": 1
           },
           {
            "bin_start": 3.1,
            "bin_end": 3.4,
            "count": 0
           },
           {
            "bin_start": 3.4,
            "bin_end": 3.6999999999999997,
            "count": 0
           },
           {
            "bin_start": 3.6999999999999997,
            "bin_end": 4,
            "count": 2
           }
          ]
         }
        },
        {
         "name": "Gender",
         "dtype": "object",
         "stats": {
          "unique_count": 2,
          "nan_count": 0,
          "categories": [
           {
            "name": "Male",
            "count": 3
           },
           {
            "name": "Female",
            "count": 2
           }
          ]
         }
        },
        {
         "name": "HourlyRate",
         "dtype": "int64",
         "stats": {
          "unique_count": 5,
          "nan_count": 0,
          "min": "40",
          "max": "94",
          "histogram": [
           {
            "bin_start": 40,
            "bin_end": 45.4,
            "count": 1
           },
           {
            "bin_start": 45.4,
            "bin_end": 50.8,
            "count": 0
           },
           {
            "bin_start": 50.8,
            "bin_end": 56.2,
            "count": 1
           },
           {
            "bin_start": 56.2,
            "bin_end": 61.6,
            "count": 1
           },
           {
            "bin_start": 61.6,
            "bin_end": 67,
            "count": 0
           },
           {
            "bin_start": 67,
            "bin_end": 72.4,
            "count": 0
           },
           {
            "bin_start": 72.4,
            "bin_end": 77.80000000000001,
            "count": 0
           },
           {
            "bin_start": 77.80000000000001,
            "bin_end": 83.2,
            "count": 0
           },
           {
            "bin_start": 83.2,
            "bin_end": 88.6,
            "count": 0
           },
           {
            "bin_start": 88.6,
            "bin_end": 94,
            "count": 2
           }
          ]
         }
        },
        {
         "name": "JobInvolvement",
         "dtype": "int64",
         "stats": {
          "unique_count": 2,
          "nan_count": 0,
          "min": "2",
          "max": "3",
          "histogram": [
           {
            "bin_start": 2,
            "bin_end": 2.1,
            "count": 2
           },
           {
            "bin_start": 2.1,
            "bin_end": 2.2,
            "count": 0
           },
           {
            "bin_start": 2.2,
            "bin_end": 2.3,
            "count": 0
           },
           {
            "bin_start": 2.3,
            "bin_end": 2.4,
            "count": 0
           },
           {
            "bin_start": 2.4,
            "bin_end": 2.5,
            "count": 0
           },
           {
            "bin_start": 2.5,
            "bin_end": 2.6,
            "count": 0
           },
           {
            "bin_start": 2.6,
            "bin_end": 2.7,
            "count": 0
           },
           {
            "bin_start": 2.7,
            "bin_end": 2.8,
            "count": 0
           },
           {
            "bin_start": 2.8,
            "bin_end": 2.9,
            "count": 0
           },
           {
            "bin_start": 2.9,
            "bin_end": 3,
            "count": 3
           }
          ]
         }
        },
        {
         "name": "JobLevel",
         "dtype": "int64",
         "stats": {
          "unique_count": 2,
          "nan_count": 0,
          "min": "1",
          "max": "2",
          "histogram": [
           {
            "bin_start": 1,
            "bin_end": 1.1,
            "count": 3
           },
           {
            "bin_start": 1.1,
            "bin_end": 1.2,
            "count": 0
           },
           {
            "bin_start": 1.2,
            "bin_end": 1.3,
            "count": 0
           },
           {
            "bin_start": 1.3,
            "bin_end": 1.4,
            "count": 0
           },
           {
            "bin_start": 1.4,
            "bin_end": 1.5,
            "count": 0
           },
           {
            "bin_start": 1.5,
            "bin_end": 1.6,
            "count": 0
           },
           {
            "bin_start": 1.6,
            "bin_end": 1.7000000000000002,
            "count": 0
           },
           {
            "bin_start": 1.7000000000000002,
            "bin_end": 1.8,
            "count": 0
           },
           {
            "bin_start": 1.8,
            "bin_end": 1.9,
            "count": 0
           },
           {
            "bin_start": 1.9,
            "bin_end": 2,
            "count": 2
           }
          ]
         }
        },
        {
         "name": "JobRole",
         "dtype": "object",
         "stats": {
          "unique_count": 3,
          "nan_count": 0,
          "categories": [
           {
            "name": "Research Scientist",
            "count": 2
           },
           {
            "name": "Laboratory Technician",
            "count": 2
           },
           {
            "name": "Sales Executive",
            "count": 1
           }
          ]
         }
        },
        {
         "name": "JobSatisfaction",
         "dtype": "int64",
         "stats": {
          "unique_count": 3,
          "nan_count": 0,
          "min": "2",
          "max": "4",
          "histogram": [
           {
            "bin_start": 2,
            "bin_end": 2.2,
            "count": 2
           },
           {
            "bin_start": 2.2,
            "bin_end": 2.4,
            "count": 0
           },
           {
            "bin_start": 2.4,
            "bin_end": 2.6,
            "count": 0
           },
           {
            "bin_start": 2.6,
            "bin_end": 2.8,
            "count": 0
           },
           {
            "bin_start": 2.8,
            "bin_end": 3,
            "count": 0
           },
           {
            "bin_start": 3,
            "bin_end": 3.2,
            "count": 2
           },
           {
            "bin_start": 3.2,
            "bin_end": 3.4000000000000004,
            "count": 0
           },
           {
            "bin_start": 3.4000000000000004,
            "bin_end": 3.6,
            "count": 0
           },
           {
            "bin_start": 3.6,
            "bin_end": 3.8,
            "count": 0
           },
           {
            "bin_start": 3.8,
            "bin_end": 4,
            "count": 1
           }
          ]
         }
        },
        {
         "name": "MaritalStatus",
         "dtype": "object",
         "stats": {
          "unique_count": 2,
          "nan_count": 0,
          "categories": [
           {
            "name": "Married",
            "count": 3
           },
           {
            "name": "Single",
            "count": 2
           }
          ]
         }
        },
        {
         "name": "MonthlyIncome",
         "dtype": "int64",
         "stats": {
          "unique_count": 5,
          "nan_count": 0,
          "min": "2090",
          "max": "5993",
          "histogram": [
           {
            "bin_start": 2090,
            "bin_end": 2480.3,
            "count": 1
           },
           {
            "bin_start": 2480.3,
            "bin_end": 2870.6,
            "count": 0
           },
           {
            "bin_start": 2870.6,
            "bin_end": 3260.9,
            "count": 1
           },
           {
            "bin_start": 3260.9,
            "bin_end": 3651.2,
            "count": 1
           },
           {
            "bin_start": 3651.2,
            "bin_end": 4041.5,
            "count": 0
           },
           {
            "bin_start": 4041.5,
            "bin_end": 4431.8,
            "count": 0
           },
           {
            "bin_start": 4431.8,
            "bin_end": 4822.1,
            "count": 0
           },
           {
            "bin_start": 4822.1,
            "bin_end": 5212.4,
            "count": 1
           },
           {
            "bin_start": 5212.4,
            "bin_end": 5602.700000000001,
            "count": 0
           },
           {
            "bin_start": 5602.700000000001,
            "bin_end": 5993,
            "count": 1
           }
          ]
         }
        },
        {
         "name": "MonthlyRate",
         "dtype": "int64",
         "stats": {
          "unique_count": 5,
          "nan_count": 0,
          "min": "2396",
          "max": "24907",
          "histogram": [
           {
            "bin_start": 2396,
            "bin_end": 4647.1,
            "count": 1
           },
           {
            "bin_start": 4647.1,
            "bin_end": 6898.2,
            "count": 0
           },
           {
            "bin_start": 6898.2,
            "bin_end": 9149.3,
            "count": 0
           },
           {
            "bin_start": 9149.3,
            "bin_end": 11400.4,
            "count": 0
           },
           {
            "bin_start": 11400.4,
            "bin_end": 13651.5,
            "count": 0
           },
           {
            "bin_start": 13651.5,
            "bin_end": 15902.599999999999,
            "count": 0
           },
           {
            "bin_start": 15902.599999999999,
            "bin_end": 18153.699999999997,
            "count": 1
           },
           {
            "bin_start": 18153.699999999997,
            "bin_end": 20404.8,
            "count": 1
           },
           {
            "bin_start": 20404.8,
            "bin_end": 22655.899999999998,
            "count": 0
           },
           {
            "bin_start": 22655.899999999998,
            "bin_end": 24907,
            "count": 2
           }
          ]
         }
        },
        {
         "name": "NumCompaniesWorked",
         "dtype": "int64",
         "stats": {
          "unique_count": 4,
          "nan_count": 0,
          "min": "1",
          "max": "9",
          "histogram": [
           {
            "bin_start": 1,
            "bin_end": 1.8,
            "count": 2
           },
           {
            "bin_start": 1.8,
            "bin_end": 2.6,
            "count": 0
           },
           {
            "bin_start": 2.6,
            "bin_end": 3.4000000000000004,
            "count": 0
           },
           {
            "bin_start": 3.4000000000000004,
            "bin_end": 4.2,
            "count": 0
           },
           {
            "bin_start": 4.2,
            "bin_end": 5,
            "count": 0
           },
           {
            "bin_start": 5,
            "bin_end": 5.800000000000001,
            "count": 0
           },
           {
            "bin_start": 5.800000000000001,
            "bin_end": 6.6000000000000005,
            "count": 1
           },
           {
            "bin_start": 6.6000000000000005,
            "bin_end": 7.4,
            "count": 0
           },
           {
            "bin_start": 7.4,
            "bin_end": 8.2,
            "count": 1
           },
           {
            "bin_start": 8.2,
            "bin_end": 9,
            "count": 1
           }
          ]
         }
        },
        {
         "name": "Over18",
         "dtype": "object",
         "stats": {
          "unique_count": 1,
          "nan_count": 0,
          "categories": [
           {
            "name": "Y",
            "count": 5
           }
          ]
         }
        },
        {
         "name": "OverTime",
         "dtype": "object",
         "stats": {
          "unique_count": 2,
          "nan_count": 0,
          "categories": [
           {
            "name": "Yes",
            "count": 3
           },
           {
            "name": "No",
            "count": 2
           }
          ]
         }
        },
        {
         "name": "PercentSalaryHike",
         "dtype": "int64",
         "stats": {
          "unique_count": 4,
          "nan_count": 0,
          "min": "11",
          "max": "23",
          "histogram": [
           {
            "bin_start": 11,
            "bin_end": 12.2,
            "count": 3
           },
           {
            "bin_start": 12.2,
            "bin_end": 13.4,
            "count": 0
           },
           {
            "bin_start": 13.4,
            "bin_end": 14.6,
            "count": 0
           },
           {
            "bin_start": 14.6,
            "bin_end": 15.8,
            "count": 1
           },
           {
            "bin_start": 15.8,
            "bin_end": 17,
            "count": 0
           },
           {
            "bin_start": 17,
            "bin_end": 18.2,
            "count": 0
           },
           {
            "bin_start": 18.2,
            "bin_end": 19.4,
            "count": 0
           },
           {
            "bin_start": 19.4,
            "bin_end": 20.6,
            "count": 0
           },
           {
            "bin_start": 20.6,
            "bin_end": 21.799999999999997,
            "count": 0
           },
           {
            "bin_start": 21.799999999999997,
            "bin_end": 23,
            "count": 1
           }
          ]
         }
        },
        {
         "name": "PerformanceRating",
         "dtype": "int64",
         "stats": {
          "unique_count": 2,
          "nan_count": 0,
          "min": "3",
          "max": "4",
          "histogram": [
           {
            "bin_start": 3,
            "bin_end": 3.1,
            "count": 4
           },
           {
            "bin_start": 3.1,
            "bin_end": 3.2,
            "count": 0
           },
           {
            "bin_start": 3.2,
            "bin_end": 3.3,
            "count": 0
           },
           {
            "bin_start": 3.3,
            "bin_end": 3.4,
            "count": 0
           },
           {
            "bin_start": 3.4,
            "bin_end": 3.5,
            "count": 0
           },
           {
            "bin_start": 3.5,
            "bin_end": 3.6,
            "count": 0
           },
           {
            "bin_start": 3.6,
            "bin_end": 3.7,
            "count": 0
           },
           {
            "bin_start": 3.7,
            "bin_end": 3.8,
            "count": 0
           },
           {
            "bin_start": 3.8,
            "bin_end": 3.9,
            "count": 0
           },
           {
            "bin_start": 3.9,
            "bin_end": 4,
            "count": 1
           }
          ]
         }
        },
        {
         "name": "RelationshipSatisfaction",
         "dtype": "int64",
         "stats": {
          "unique_count": 4,
          "nan_count": 0,
          "min": "1",
          "max": "4",
          "histogram": [
           {
            "bin_start": 1,
            "bin_end": 1.3,
            "count": 1
           },
           {
            "bin_start": 1.3,
            "bin_end": 1.6,
            "count": 0
           },
           {
            "bin_start": 1.6,
            "bin_end": 1.9,
            "count": 0
           },
           {
            "bin_start": 1.9,
            "bin_end": 2.2,
            "count": 1
           },
           {
            "bin_start": 2.2,
            "bin_end": 2.5,
            "count": 0
           },
           {
            "bin_start": 2.5,
            "bin_end": 2.8,
            "count": 0
           },
           {
            "bin_start": 2.8,
            "bin_end": 3.1,
            "count": 1
           },
           {
            "bin_start": 3.1,
            "bin_end": 3.4,
            "count": 0
           },
           {
            "bin_start": 3.4,
            "bin_end": 3.6999999999999997,
            "count": 0
           },
           {
            "bin_start": 3.6999999999999997,
            "bin_end": 4,
            "count": 2
           }
          ]
         }
        },
        {
         "name": "StandardHours",
         "dtype": "int64",
         "stats": {
          "unique_count": 1,
          "nan_count": 0,
          "min": "80",
          "max": "80",
          "histogram": [
           {
            "bin_start": 79.5,
            "bin_end": 79.6,
            "count": 0
           },
           {
            "bin_start": 79.6,
            "bin_end": 79.7,
            "count": 0
           },
           {
            "bin_start": 79.7,
            "bin_end": 79.8,
            "count": 0
           },
           {
            "bin_start": 79.8,
            "bin_end": 79.9,
            "count": 0
           },
           {
            "bin_start": 79.9,
            "bin_end": 80,
            "count": 0
           },
           {
            "bin_start": 80,
            "bin_end": 80.1,
            "count": 5
           },
           {
            "bin_start": 80.1,
            "bin_end": 80.2,
            "count": 0
           },
           {
            "bin_start": 80.2,
            "bin_end": 80.3,
            "count": 0
           },
           {
            "bin_start": 80.3,
            "bin_end": 80.4,
            "count": 0
           },
           {
            "bin_start": 80.4,
            "bin_end": 80.5,
            "count": 0
           }
          ]
         }
        },
        {
         "name": "StockOptionLevel",
         "dtype": "int64",
         "stats": {
          "unique_count": 2,
          "nan_count": 0,
          "min": "0",
          "max": "1",
          "histogram": [
           {
            "bin_start": 0,
            "bin_end": 0.1,
            "count": 3
           },
           {
            "bin_start": 0.1,
            "bin_end": 0.2,
            "count": 0
           },
           {
            "bin_start": 0.2,
            "bin_end": 0.30000000000000004,
            "count": 0
           },
           {
            "bin_start": 0.30000000000000004,
            "bin_end": 0.4,
            "count": 0
           },
           {
            "bin_start": 0.4,
            "bin_end": 0.5,
            "count": 0
           },
           {
            "bin_start": 0.5,
            "bin_end": 0.6000000000000001,
            "count": 0
           },
           {
            "bin_start": 0.6000000000000001,
            "bin_end": 0.7000000000000001,
            "count": 0
           },
           {
            "bin_start": 0.7000000000000001,
            "bin_end": 0.8,
            "count": 0
           },
           {
            "bin_start": 0.8,
            "bin_end": 0.9,
            "count": 0
           },
           {
            "bin_start": 0.9,
            "bin_end": 1,
            "count": 2
           }
          ]
         }
        },
        {
         "name": "TotalWorkingYears",
         "dtype": "int64",
         "stats": {
          "unique_count": 4,
          "nan_count": 0,
          "min": "6",
          "max": "10",
          "histogram": [
           {
            "bin_start": 6,
            "bin_end": 6.4,
            "count": 1
           },
           {
            "bin_start": 6.4,
            "bin_end": 6.8,
            "count": 0
           },
           {
            "bin_start": 6.8,
            "bin_end": 7.2,
            "count": 1
           },
           {
            "bin_start": 7.2,
            "bin_end": 7.6,
            "count": 0
           },
           {
            "bin_start": 7.6,
            "bin_end": 8,
            "count": 0
           },
           {
            "bin_start": 8,
            "bin_end": 8.4,
            "count": 2
           },
           {
            "bin_start": 8.4,
            "bin_end": 8.8,
            "count": 0
           },
           {
            "bin_start": 8.8,
            "bin_end": 9.2,
            "count": 0
           },
           {
            "bin_start": 9.2,
            "bin_end": 9.6,
            "count": 0
           },
           {
            "bin_start": 9.6,
            "bin_end": 10,
            "count": 1
           }
          ]
         }
        },
        {
         "name": "TrainingTimesLastYear",
         "dtype": "int64",
         "stats": {
          "unique_count": 2,
          "nan_count": 0,
          "min": "0",
          "max": "3",
          "histogram": [
           {
            "bin_start": 0,
            "bin_end": 0.3,
            "count": 1
           },
           {
            "bin_start": 0.3,
            "bin_end": 0.6,
            "count": 0
           },
           {
            "bin_start": 0.6,
            "bin_end": 0.8999999999999999,
            "count": 0
           },
           {
            "bin_start": 0.8999999999999999,
            "bin_end": 1.2,
            "count": 0
           },
           {
            "bin_start": 1.2,
            "bin_end": 1.5,
            "count": 0
           },
           {
            "bin_start": 1.5,
            "bin_end": 1.7999999999999998,
            "count": 0
           },
           {
            "bin_start": 1.7999999999999998,
            "bin_end": 2.1,
            "count": 0
           },
           {
            "bin_start": 2.1,
            "bin_end": 2.4,
            "count": 0
           },
           {
            "bin_start": 2.4,
            "bin_end": 2.6999999999999997,
            "count": 0
           },
           {
            "bin_start": 2.6999999999999997,
            "bin_end": 3,
            "count": 4
           }
          ]
         }
        },
        {
         "name": "WorkLifeBalance",
         "dtype": "int64",
         "stats": {
          "unique_count": 2,
          "nan_count": 0,
          "min": "1",
          "max": "3",
          "histogram": [
           {
            "bin_start": 1,
            "bin_end": 1.2,
            "count": 1
           },
           {
            "bin_start": 1.2,
            "bin_end": 1.4,
            "count": 0
           },
           {
            "bin_start": 1.4,
            "bin_end": 1.6,
            "count": 0
           },
           {
            "bin_start": 1.6,
            "bin_end": 1.8,
            "count": 0
           },
           {
            "bin_start": 1.8,
            "bin_end": 2,
            "count": 0
           },
           {
            "bin_start": 2,
            "bin_end": 2.2,
            "count": 0
           },
           {
            "bin_start": 2.2,
            "bin_end": 2.4000000000000004,
            "count": 0
           },
           {
            "bin_start": 2.4000000000000004,
            "bin_end": 2.6,
            "count": 0
           },
           {
            "bin_start": 2.6,
            "bin_end": 2.8,
            "count": 0
           },
           {
            "bin_start": 2.8,
            "bin_end": 3,
            "count": 4
           }
          ]
         }
        },
        {
         "name": "YearsAtCompany",
         "dtype": "int64",
         "stats": {
          "unique_count": 5,
          "nan_count": 0,
          "min": "0",
          "max": "10",
          "histogram": [
           {
            "bin_start": 0,
            "bin_end": 1,
            "count": 1
           },
           {
            "bin_start": 1,
            "bin_end": 2,
            "count": 0
           },
           {
            "bin_start": 2,
            "bin_end": 3,
            "count": 1
           },
           {
            "bin_start": 3,
            "bin_end": 4,
            "count": 0
           },
           {
            "bin_start": 4,
            "bin_end": 5,
            "count": 0
           },
           {
            "bin_start": 5,
            "bin_end": 6,
            "count": 0
           },
           {
            "bin_start": 6,
            "bin_end": 7,
            "count": 1
           },
           {
            "bin_start": 7,
            "bin_end": 8,
            "count": 0
           },
           {
            "bin_start": 8,
            "bin_end": 9,
            "count": 1
           },
           {
            "bin_start": 9,
            "bin_end": 10,
            "count": 1
           }
          ]
         }
        },
        {
         "name": "YearsInCurrentRole",
         "dtype": "int64",
         "stats": {
          "unique_count": 4,
          "nan_count": 0,
          "min": "0",
          "max": "7",
          "histogram": [
           {
            "bin_start": 0,
            "bin_end": 0.7,
            "count": 1
           },
           {
            "bin_start": 0.7,
            "bin_end": 1.4,
            "count": 0
           },
           {
            "bin_start": 1.4,
            "bin_end": 2.0999999999999996,
            "count": 1
           },
           {
            "bin_start": 2.0999999999999996,
            "bin_end": 2.8,
            "count": 0
           },
           {
            "bin_start": 2.8,
            "bin_end": 3.5,
            "count": 0
           },
           {
            "bin_start": 3.5,
            "bin_end": 4.199999999999999,
            "count": 1
           },
           {
            "bin_start": 4.199999999999999,
            "bin_end": 4.8999999999999995,
            "count": 0
           },
           {
            "bin_start": 4.8999999999999995,
            "bin_end": 5.6,
            "count": 0
           },
           {
            "bin_start": 5.6,
            "bin_end": 6.3,
            "count": 0
           },
           {
            "bin_start": 6.3,
            "bin_end": 7,
            "count": 2
           }
          ]
         }
        },
        {
         "name": "YearsSinceLastPromotion",
         "dtype": "int64",
         "stats": {
          "unique_count": 4,
          "nan_count": 0,
          "min": "0",
          "max": "3",
          "histogram": [
           {
            "bin_start": 0,
            "bin_end": 0.3,
            "count": 2
           },
           {
            "bin_start": 0.3,
            "bin_end": 0.6,
            "count": 0
           },
           {
            "bin_start": 0.6,
            "bin_end": 0.8999999999999999,
            "count": 0
           },
           {
            "bin_start": 0.8999999999999999,
            "bin_end": 1.2,
            "count": 1
           },
           {
            "bin_start": 1.2,
            "bin_end": 1.5,
            "count": 0
           },
           {
            "bin_start": 1.5,
            "bin_end": 1.7999999999999998,
            "count": 0
           },
           {
            "bin_start": 1.7999999999999998,
            "bin_end": 2.1,
            "count": 1
           },
           {
            "bin_start": 2.1,
            "bin_end": 2.4,
            "count": 0
           },
           {
            "bin_start": 2.4,
            "bin_end": 2.6999999999999997,
            "count": 0
           },
           {
            "bin_start": 2.6999999999999997,
            "bin_end": 3,
            "count": 1
           }
          ]
         }
        },
        {
         "name": "YearsWithCurrManager",
         "dtype": "int64",
         "stats": {
          "unique_count": 4,
          "nan_count": 0,
          "min": "0",
          "max": "7",
          "histogram": [
           {
            "bin_start": 0,
            "bin_end": 0.7,
            "count": 2
           },
           {
            "bin_start": 0.7,
            "bin_end": 1.4,
            "count": 0
           },
           {
            "bin_start": 1.4,
            "bin_end": 2.0999999999999996,
            "count": 1
           },
           {
            "bin_start": 2.0999999999999996,
            "bin_end": 2.8,
            "count": 0
           },
           {
            "bin_start": 2.8,
            "bin_end": 3.5,
            "count": 0
           },
           {
            "bin_start": 3.5,
            "bin_end": 4.199999999999999,
            "count": 0
           },
           {
            "bin_start": 4.199999999999999,
            "bin_end": 4.8999999999999995,
            "count": 0
           },
           {
            "bin_start": 4.8999999999999995,
            "bin_end": 5.6,
            "count": 1
           },
           {
            "bin_start": 5.6,
            "bin_end": 6.3,
            "count": 0
           },
           {
            "bin_start": 6.3,
            "bin_end": 7,
            "count": 1
           }
          ]
         }
        },
        {
         "name": "_deepnote_index_column",
         "dtype": "int64"
        }
       ],
       "rows_top": [
        {
         "Age": 41,
         "Attrition": "Yes",
         "BusinessTravel": "Travel_Rarely",
         "DailyRate": 1102,
         "Department": "Sales",
         "DistanceFromHome": 1,
         "Education": 2,
         "EducationField": "Life Sciences",
         "EmployeeCount": 1,
         "EmployeeNumber": 1,
         "EnvironmentSatisfaction": 2,
         "Gender": "Female",
         "HourlyRate": 94,
         "JobInvolvement": 3,
         "JobLevel": 2,
         "JobRole": "Sales Executive",
         "JobSatisfaction": 4,
         "MaritalStatus": "Single",
         "MonthlyIncome": 5993,
         "MonthlyRate": 19479,
         "NumCompaniesWorked": 8,
         "Over18": "Y",
         "OverTime": "Yes",
         "PercentSalaryHike": 11,
         "PerformanceRating": 3,
         "RelationshipSatisfaction": 1,
         "StandardHours": 80,
         "StockOptionLevel": 0,
         "TotalWorkingYears": 8,
         "TrainingTimesLastYear": 0,
         "WorkLifeBalance": 1,
         "YearsAtCompany": 6,
         "YearsInCurrentRole": 4,
         "YearsSinceLastPromotion": 0,
         "YearsWithCurrManager": 5,
         "_deepnote_index_column": 0
        },
        {
         "Age": 49,
         "Attrition": "No",
         "BusinessTravel": "Travel_Frequently",
         "DailyRate": 279,
         "Department": "Research & Development",
         "DistanceFromHome": 8,
         "Education": 1,
         "EducationField": "Life Sciences",
         "EmployeeCount": 1,
         "EmployeeNumber": 2,
         "EnvironmentSatisfaction": 3,
         "Gender": "Male",
         "HourlyRate": 61,
         "JobInvolvement": 2,
         "JobLevel": 2,
         "JobRole": "Research Scientist",
         "JobSatisfaction": 2,
         "MaritalStatus": "Married",
         "MonthlyIncome": 5130,
         "MonthlyRate": 24907,
         "NumCompaniesWorked": 1,
         "Over18": "Y",
         "OverTime": "No",
         "PercentSalaryHike": 23,
         "PerformanceRating": 4,
         "RelationshipSatisfaction": 4,
         "StandardHours": 80,
         "StockOptionLevel": 1,
         "TotalWorkingYears": 10,
         "TrainingTimesLastYear": 3,
         "WorkLifeBalance": 3,
         "YearsAtCompany": 10,
         "YearsInCurrentRole": 7,
         "YearsSinceLastPromotion": 1,
         "YearsWithCurrManager": 7,
         "_deepnote_index_column": 1
        },
        {
         "Age": 37,
         "Attrition": "Yes",
         "BusinessTravel": "Travel_Rarely",
         "DailyRate": 1373,
         "Department": "Research & Development",
         "DistanceFromHome": 2,
         "Education": 2,
         "EducationField": "Other",
         "EmployeeCount": 1,
         "EmployeeNumber": 4,
         "EnvironmentSatisfaction": 4,
         "Gender": "Male",
         "HourlyRate": 92,
         "JobInvolvement": 2,
         "JobLevel": 1,
         "JobRole": "Laboratory Technician",
         "JobSatisfaction": 3,
         "MaritalStatus": "Single",
         "MonthlyIncome": 2090,
         "MonthlyRate": 2396,
         "NumCompaniesWorked": 6,
         "Over18": "Y",
         "OverTime": "Yes",
         "PercentSalaryHike": 15,
         "PerformanceRating": 3,
         "RelationshipSatisfaction": 2,
         "StandardHours": 80,
         "StockOptionLevel": 0,
         "TotalWorkingYears": 7,
         "TrainingTimesLastYear": 3,
         "WorkLifeBalance": 3,
         "YearsAtCompany": 0,
         "YearsInCurrentRole": 0,
         "YearsSinceLastPromotion": 0,
         "YearsWithCurrManager": 0,
         "_deepnote_index_column": 2
        },
        {
         "Age": 33,
         "Attrition": "No",
         "BusinessTravel": "Travel_Frequently",
         "DailyRate": 1392,
         "Department": "Research & Development",
         "DistanceFromHome": 3,
         "Education": 4,
         "EducationField": "Life Sciences",
         "EmployeeCount": 1,
         "EmployeeNumber": 5,
         "EnvironmentSatisfaction": 4,
         "Gender": "Female",
         "HourlyRate": 56,
         "JobInvolvement": 3,
         "JobLevel": 1,
         "JobRole": "Research Scientist",
         "JobSatisfaction": 3,
         "MaritalStatus": "Married",
         "MonthlyIncome": 2909,
         "MonthlyRate": 23159,
         "NumCompaniesWorked": 1,
         "Over18": "Y",
         "OverTime": "Yes",
         "PercentSalaryHike": 11,
         "PerformanceRating": 3,
         "RelationshipSatisfaction": 3,
         "StandardHours": 80,
         "StockOptionLevel": 0,
         "TotalWorkingYears": 8,
         "TrainingTimesLastYear": 3,
         "WorkLifeBalance": 3,
         "YearsAtCompany": 8,
         "YearsInCurrentRole": 7,
         "YearsSinceLastPromotion": 3,
         "YearsWithCurrManager": 0,
         "_deepnote_index_column": 3
        },
        {
         "Age": 27,
         "Attrition": "No",
         "BusinessTravel": "Travel_Rarely",
         "DailyRate": 591,
         "Department": "Research & Development",
         "DistanceFromHome": 2,
         "Education": 1,
         "EducationField": "Medical",
         "EmployeeCount": 1,
         "EmployeeNumber": 7,
         "EnvironmentSatisfaction": 1,
         "Gender": "Male",
         "HourlyRate": 40,
         "JobInvolvement": 3,
         "JobLevel": 1,
         "JobRole": "Laboratory Technician",
         "JobSatisfaction": 2,
         "MaritalStatus": "Married",
         "MonthlyIncome": 3468,
         "MonthlyRate": 16632,
         "NumCompaniesWorked": 9,
         "Over18": "Y",
         "OverTime": "No",
         "PercentSalaryHike": 12,
         "PerformanceRating": 3,
         "RelationshipSatisfaction": 4,
         "StandardHours": 80,
         "StockOptionLevel": 1,
         "TotalWorkingYears": 6,
         "TrainingTimesLastYear": 3,
         "WorkLifeBalance": 3,
         "YearsAtCompany": 2,
         "YearsInCurrentRole": 2,
         "YearsSinceLastPromotion": 2,
         "YearsWithCurrManager": 2,
         "_deepnote_index_column": 4
        }
       ],
       "rows_bottom": null
      },
      "text/html": [
       "<div>\n",
       "<style scoped>\n",
       "    .dataframe tbody tr th:only-of-type {\n",
       "        vertical-align: middle;\n",
       "    }\n",
       "\n",
       "    .dataframe tbody tr th {\n",
       "        vertical-align: top;\n",
       "    }\n",
       "\n",
       "    .dataframe thead th {\n",
       "        text-align: right;\n",
       "    }\n",
       "</style>\n",
       "<table border=\"1\" class=\"dataframe\">\n",
       "  <thead>\n",
       "    <tr style=\"text-align: right;\">\n",
       "      <th></th>\n",
       "      <th>Age</th>\n",
       "      <th>Attrition</th>\n",
       "      <th>BusinessTravel</th>\n",
       "      <th>DailyRate</th>\n",
       "      <th>Department</th>\n",
       "      <th>DistanceFromHome</th>\n",
       "      <th>Education</th>\n",
       "      <th>EducationField</th>\n",
       "      <th>EmployeeCount</th>\n",
       "      <th>EmployeeNumber</th>\n",
       "      <th>EnvironmentSatisfaction</th>\n",
       "      <th>Gender</th>\n",
       "      <th>HourlyRate</th>\n",
       "      <th>JobInvolvement</th>\n",
       "      <th>JobLevel</th>\n",
       "      <th>JobRole</th>\n",
       "      <th>JobSatisfaction</th>\n",
       "      <th>MaritalStatus</th>\n",
       "      <th>MonthlyIncome</th>\n",
       "      <th>MonthlyRate</th>\n",
       "      <th>NumCompaniesWorked</th>\n",
       "      <th>Over18</th>\n",
       "      <th>OverTime</th>\n",
       "      <th>PercentSalaryHike</th>\n",
       "      <th>PerformanceRating</th>\n",
       "      <th>RelationshipSatisfaction</th>\n",
       "      <th>StandardHours</th>\n",
       "      <th>StockOptionLevel</th>\n",
       "      <th>TotalWorkingYears</th>\n",
       "      <th>TrainingTimesLastYear</th>\n",
       "      <th>WorkLifeBalance</th>\n",
       "      <th>YearsAtCompany</th>\n",
       "      <th>YearsInCurrentRole</th>\n",
       "      <th>YearsSinceLastPromotion</th>\n",
       "      <th>YearsWithCurrManager</th>\n",
       "    </tr>\n",
       "  </thead>\n",
       "  <tbody>\n",
       "    <tr>\n",
       "      <th>0</th>\n",
       "      <td>41</td>\n",
       "      <td>Yes</td>\n",
       "      <td>Travel_Rarely</td>\n",
       "      <td>1102</td>\n",
       "      <td>Sales</td>\n",
       "      <td>1</td>\n",
       "      <td>2</td>\n",
       "      <td>Life Sciences</td>\n",
       "      <td>1</td>\n",
       "      <td>1</td>\n",
       "      <td>2</td>\n",
       "      <td>Female</td>\n",
       "      <td>94</td>\n",
       "      <td>3</td>\n",
       "      <td>2</td>\n",
       "      <td>Sales Executive</td>\n",
       "      <td>4</td>\n",
       "      <td>Single</td>\n",
       "      <td>5993</td>\n",
       "      <td>19479</td>\n",
       "      <td>8</td>\n",
       "      <td>Y</td>\n",
       "      <td>Yes</td>\n",
       "      <td>11</td>\n",
       "      <td>3</td>\n",
       "      <td>1</td>\n",
       "      <td>80</td>\n",
       "      <td>0</td>\n",
       "      <td>8</td>\n",
       "      <td>0</td>\n",
       "      <td>1</td>\n",
       "      <td>6</td>\n",
       "      <td>4</td>\n",
       "      <td>0</td>\n",
       "      <td>5</td>\n",
       "    </tr>\n",
       "    <tr>\n",
       "      <th>1</th>\n",
       "      <td>49</td>\n",
       "      <td>No</td>\n",
       "      <td>Travel_Frequently</td>\n",
       "      <td>279</td>\n",
       "      <td>Research &amp; Development</td>\n",
       "      <td>8</td>\n",
       "      <td>1</td>\n",
       "      <td>Life Sciences</td>\n",
       "      <td>1</td>\n",
       "      <td>2</td>\n",
       "      <td>3</td>\n",
       "      <td>Male</td>\n",
       "      <td>61</td>\n",
       "      <td>2</td>\n",
       "      <td>2</td>\n",
       "      <td>Research Scientist</td>\n",
       "      <td>2</td>\n",
       "      <td>Married</td>\n",
       "      <td>5130</td>\n",
       "      <td>24907</td>\n",
       "      <td>1</td>\n",
       "      <td>Y</td>\n",
       "      <td>No</td>\n",
       "      <td>23</td>\n",
       "      <td>4</td>\n",
       "      <td>4</td>\n",
       "      <td>80</td>\n",
       "      <td>1</td>\n",
       "      <td>10</td>\n",
       "      <td>3</td>\n",
       "      <td>3</td>\n",
       "      <td>10</td>\n",
       "      <td>7</td>\n",
       "      <td>1</td>\n",
       "      <td>7</td>\n",
       "    </tr>\n",
       "    <tr>\n",
       "      <th>2</th>\n",
       "      <td>37</td>\n",
       "      <td>Yes</td>\n",
       "      <td>Travel_Rarely</td>\n",
       "      <td>1373</td>\n",
       "      <td>Research &amp; Development</td>\n",
       "      <td>2</td>\n",
       "      <td>2</td>\n",
       "      <td>Other</td>\n",
       "      <td>1</td>\n",
       "      <td>4</td>\n",
       "      <td>4</td>\n",
       "      <td>Male</td>\n",
       "      <td>92</td>\n",
       "      <td>2</td>\n",
       "      <td>1</td>\n",
       "      <td>Laboratory Technician</td>\n",
       "      <td>3</td>\n",
       "      <td>Single</td>\n",
       "      <td>2090</td>\n",
       "      <td>2396</td>\n",
       "      <td>6</td>\n",
       "      <td>Y</td>\n",
       "      <td>Yes</td>\n",
       "      <td>15</td>\n",
       "      <td>3</td>\n",
       "      <td>2</td>\n",
       "      <td>80</td>\n",
       "      <td>0</td>\n",
       "      <td>7</td>\n",
       "      <td>3</td>\n",
       "      <td>3</td>\n",
       "      <td>0</td>\n",
       "      <td>0</td>\n",
       "      <td>0</td>\n",
       "      <td>0</td>\n",
       "    </tr>\n",
       "    <tr>\n",
       "      <th>3</th>\n",
       "      <td>33</td>\n",
       "      <td>No</td>\n",
       "      <td>Travel_Frequently</td>\n",
       "      <td>1392</td>\n",
       "      <td>Research &amp; Development</td>\n",
       "      <td>3</td>\n",
       "      <td>4</td>\n",
       "      <td>Life Sciences</td>\n",
       "      <td>1</td>\n",
       "      <td>5</td>\n",
       "      <td>4</td>\n",
       "      <td>Female</td>\n",
       "      <td>56</td>\n",
       "      <td>3</td>\n",
       "      <td>1</td>\n",
       "      <td>Research Scientist</td>\n",
       "      <td>3</td>\n",
       "      <td>Married</td>\n",
       "      <td>2909</td>\n",
       "      <td>23159</td>\n",
       "      <td>1</td>\n",
       "      <td>Y</td>\n",
       "      <td>Yes</td>\n",
       "      <td>11</td>\n",
       "      <td>3</td>\n",
       "      <td>3</td>\n",
       "      <td>80</td>\n",
       "      <td>0</td>\n",
       "      <td>8</td>\n",
       "      <td>3</td>\n",
       "      <td>3</td>\n",
       "      <td>8</td>\n",
       "      <td>7</td>\n",
       "      <td>3</td>\n",
       "      <td>0</td>\n",
       "    </tr>\n",
       "    <tr>\n",
       "      <th>4</th>\n",
       "      <td>27</td>\n",
       "      <td>No</td>\n",
       "      <td>Travel_Rarely</td>\n",
       "      <td>591</td>\n",
       "      <td>Research &amp; Development</td>\n",
       "      <td>2</td>\n",
       "      <td>1</td>\n",
       "      <td>Medical</td>\n",
       "      <td>1</td>\n",
       "      <td>7</td>\n",
       "      <td>1</td>\n",
       "      <td>Male</td>\n",
       "      <td>40</td>\n",
       "      <td>3</td>\n",
       "      <td>1</td>\n",
       "      <td>Laboratory Technician</td>\n",
       "      <td>2</td>\n",
       "      <td>Married</td>\n",
       "      <td>3468</td>\n",
       "      <td>16632</td>\n",
       "      <td>9</td>\n",
       "      <td>Y</td>\n",
       "      <td>No</td>\n",
       "      <td>12</td>\n",
       "      <td>3</td>\n",
       "      <td>4</td>\n",
       "      <td>80</td>\n",
       "      <td>1</td>\n",
       "      <td>6</td>\n",
       "      <td>3</td>\n",
       "      <td>3</td>\n",
       "      <td>2</td>\n",
       "      <td>2</td>\n",
       "      <td>2</td>\n",
       "      <td>2</td>\n",
       "    </tr>\n",
       "  </tbody>\n",
       "</table>\n",
       "</div>"
      ],
      "text/plain": [
       "   Age Attrition     BusinessTravel  DailyRate              Department  \\\n",
       "0   41       Yes      Travel_Rarely       1102                   Sales   \n",
       "1   49        No  Travel_Frequently        279  Research & Development   \n",
       "2   37       Yes      Travel_Rarely       1373  Research & Development   \n",
       "3   33        No  Travel_Frequently       1392  Research & Development   \n",
       "4   27        No      Travel_Rarely        591  Research & Development   \n",
       "\n",
       "   DistanceFromHome  Education EducationField  EmployeeCount  EmployeeNumber  \\\n",
       "0                 1          2  Life Sciences              1               1   \n",
       "1                 8          1  Life Sciences              1               2   \n",
       "2                 2          2          Other              1               4   \n",
       "3                 3          4  Life Sciences              1               5   \n",
       "4                 2          1        Medical              1               7   \n",
       "\n",
       "   EnvironmentSatisfaction  Gender  HourlyRate  JobInvolvement  JobLevel  \\\n",
       "0                        2  Female          94               3         2   \n",
       "1                        3    Male          61               2         2   \n",
       "2                        4    Male          92               2         1   \n",
       "3                        4  Female          56               3         1   \n",
       "4                        1    Male          40               3         1   \n",
       "\n",
       "                 JobRole  JobSatisfaction MaritalStatus  MonthlyIncome  \\\n",
       "0        Sales Executive                4        Single           5993   \n",
       "1     Research Scientist                2       Married           5130   \n",
       "2  Laboratory Technician                3        Single           2090   \n",
       "3     Research Scientist                3       Married           2909   \n",
       "4  Laboratory Technician                2       Married           3468   \n",
       "\n",
       "   MonthlyRate  NumCompaniesWorked Over18 OverTime  PercentSalaryHike  \\\n",
       "0        19479                   8      Y      Yes                 11   \n",
       "1        24907                   1      Y       No                 23   \n",
       "2         2396                   6      Y      Yes                 15   \n",
       "3        23159                   1      Y      Yes                 11   \n",
       "4        16632                   9      Y       No                 12   \n",
       "\n",
       "   PerformanceRating  RelationshipSatisfaction  StandardHours  \\\n",
       "0                  3                         1             80   \n",
       "1                  4                         4             80   \n",
       "2                  3                         2             80   \n",
       "3                  3                         3             80   \n",
       "4                  3                         4             80   \n",
       "\n",
       "   StockOptionLevel  TotalWorkingYears  TrainingTimesLastYear  \\\n",
       "0                 0                  8                      0   \n",
       "1                 1                 10                      3   \n",
       "2                 0                  7                      3   \n",
       "3                 0                  8                      3   \n",
       "4                 1                  6                      3   \n",
       "\n",
       "   WorkLifeBalance  YearsAtCompany  YearsInCurrentRole  \\\n",
       "0                1               6                   4   \n",
       "1                3              10                   7   \n",
       "2                3               0                   0   \n",
       "3                3               8                   7   \n",
       "4                3               2                   2   \n",
       "\n",
       "   YearsSinceLastPromotion  YearsWithCurrManager  \n",
       "0                        0                     5  \n",
       "1                        1                     7  \n",
       "2                        0                     0  \n",
       "3                        3                     0  \n",
       "4                        2                     2  "
      ]
     },
     "metadata": {},
     "execution_count": 5
    }
   ],
   "metadata": {
    "tags": [],
    "cell_id": "00005-c743f4b1-b3af-4f70-a34d-db456955a171",
    "deepnote_to_be_reexecuted": false,
    "source_hash": "ad904b3e",
    "execution_start": 1631582435485,
    "execution_millis": 158,
    "deepnote_cell_type": "code"
   }
  },
  {
   "cell_type": "code",
   "execution_count": null,
   "source": [
    "# Categorical Features Unique values \r\n",
    "object_col = []\r\n",
    "for column in df_ibm.columns:\r\n",
    "    if df_ibm[column].dtype == object and len(df_ibm[column].unique()) <= 30:\r\n",
    "        object_col.append(column)\r\n",
    "        print(f\"{column} : {df_ibm[column].unique()}\")\r\n",
    "        print(df_ibm[column].value_counts())\r\n",
    "        print(\"====================================\")\r\n",
    "object_col.remove('Attrition')"
   ],
   "outputs": [
    {
     "output_type": "stream",
     "name": "stdout",
     "text": [
      "Attrition : ['Yes' 'No']\n",
      "No     1233\n",
      "Yes     237\n",
      "Name: Attrition, dtype: int64\n",
      "====================================\n",
      "BusinessTravel : ['Travel_Rarely' 'Travel_Frequently' 'Non-Travel']\n",
      "Travel_Rarely        1043\n",
      "Travel_Frequently     277\n",
      "Non-Travel            150\n",
      "Name: BusinessTravel, dtype: int64\n",
      "====================================\n",
      "Department : ['Sales' 'Research & Development' 'Human Resources']\n",
      "Research & Development    961\n",
      "Sales                     446\n",
      "Human Resources            63\n",
      "Name: Department, dtype: int64\n",
      "====================================\n",
      "EducationField : ['Life Sciences' 'Other' 'Medical' 'Marketing' 'Technical Degree'\n",
      " 'Human Resources']\n",
      "Life Sciences       606\n",
      "Medical             464\n",
      "Marketing           159\n",
      "Technical Degree    132\n",
      "Other                82\n",
      "Human Resources      27\n",
      "Name: EducationField, dtype: int64\n",
      "====================================\n",
      "Gender : ['Female' 'Male']\n",
      "Male      882\n",
      "Female    588\n",
      "Name: Gender, dtype: int64\n",
      "====================================\n",
      "JobRole : ['Sales Executive' 'Research Scientist' 'Laboratory Technician'\n",
      " 'Manufacturing Director' 'Healthcare Representative' 'Manager'\n",
      " 'Sales Representative' 'Research Director' 'Human Resources']\n",
      "Sales Executive              326\n",
      "Research Scientist           292\n",
      "Laboratory Technician        259\n",
      "Manufacturing Director       145\n",
      "Healthcare Representative    131\n",
      "Manager                      102\n",
      "Sales Representative          83\n",
      "Research Director             80\n",
      "Human Resources               52\n",
      "Name: JobRole, dtype: int64\n",
      "====================================\n",
      "MaritalStatus : ['Single' 'Married' 'Divorced']\n",
      "Married     673\n",
      "Single      470\n",
      "Divorced    327\n",
      "Name: MaritalStatus, dtype: int64\n",
      "====================================\n",
      "Over18 : ['Y']\n",
      "Y    1470\n",
      "Name: Over18, dtype: int64\n",
      "====================================\n",
      "OverTime : ['Yes' 'No']\n",
      "No     1054\n",
      "Yes     416\n",
      "Name: OverTime, dtype: int64\n",
      "====================================\n"
     ]
    }
   ],
   "metadata": {
    "tags": [],
    "cell_id": "00009-0fa3a81f-9620-43ee-9f23-d175769ea22e",
    "deepnote_to_be_reexecuted": false,
    "source_hash": "29569513",
    "execution_start": 1631582435695,
    "execution_millis": 7,
    "deepnote_cell_type": "code"
   }
  },
  {
   "cell_type": "markdown",
   "source": [
    "## Data Manipulation"
   ],
   "metadata": {
    "tags": [],
    "is_collapsed": false,
    "cell_id": "00010-7c8d2791-5c20-43dc-8016-15503accfe8a",
    "deepnote_cell_type": "text-cell-h2"
   }
  },
  {
   "cell_type": "markdown",
   "source": [
    "The primary dataset has no empty value. So, no null issue should be treated. Our first data treatment is to transform the categorical data before we explore the correlation. The There are several features are required to be treated.\n",
    "- Attrition : {\"Yes\":1, \"No\":0}\n",
    "- BusinessTravel : {\"Non-Travel\":0, \"Travel_Rarely\":1, \"Travel_Frequently\":2}\n",
    "- Department : {\"Sales\":0, \"Research & Development\":1, \"Human Resources\":2}\n",
    "- EducationField: {\"Other\":0, \"Life Sciences\":1, \"Human Resources\":2, \"Medical\":3, \"Marketing\":4, \"Technical Degree\":5}\n",
    "- Gender : {\"Male\":1, \"Female\":0}\n",
    "- JobRole : {\"Manager\":0, \"Sales Executive\":1, \"Sales Representative\":2, \n",
    "            \"Research Scientist\":3, \"Laboratory Technician\":4, \"Manufacturing Director\":5, \n",
    "            \"Healthcare Representative\":6, \"Human Resources\":7, \"Research Director\":8}\n",
    "- MaritalStatus : {\"Single\":0, \"Married\":1, \"Divorced\":2}\n",
    "- Over18: all employees are over18. this column can be deleted.\n",
    "- OverTime : {\"Yes\":1, \"No\":0}\n"
   ],
   "metadata": {
    "tags": [],
    "cell_id": "00007-c2b3b7c6-7818-4a6b-9903-7846b6574763",
    "deepnote_cell_type": "markdown"
   }
  },
  {
   "cell_type": "code",
   "execution_count": null,
   "source": [
    "# categorical data transformation. pandas.Series.map, np.where, processing.LabelEncoder are all workable. Map is more explanable.\r\n",
    "\r\n",
    "df_ibm['Attrition'] = df_ibm['Attrition'].map({'Yes':1, 'No':0})\r\n",
    "df_ibm['BusinessTravel'] = df_ibm['BusinessTravel'].map({\"Non-Travel\":0, \"Travel_Rarely\":1, \"Travel_Frequently\":2})\r\n",
    "df_ibm['Department'] = df_ibm['Department'].map({\"Sales\":0, \"Research & Development\":1, \"Human Resources\":2})\r\n",
    "df_ibm['EducationField'] = df_ibm['EducationField'].map({\"Other\":0, \"Life Sciences\":1, \"Human Resources\":2, \"Medical\":3, \\\r\n",
    "                                                        \"Marketing\":4, \"Technical Degree\":5})\r\n",
    "df_ibm['Gender'] = df_ibm['Gender'].map({'Male':1, 'Female':0})\r\n",
    "df_ibm['JobRole'] = df_ibm['JobRole'].map({\"Manager\":0, \"Sales Executive\":1, \"Sales Representative\":2, \"Research Scientist\":3, \\\r\n",
    "                                            \"Laboratory Technician\":4, \"Manufacturing Director\":5, \"Healthcare Representative\":6,\\\r\n",
    "                                             \"Human Resources\":7, \"Research Director\":8})\r\n",
    "df_ibm['MaritalStatus'] = df_ibm['MaritalStatus'].map({\"Single\":0, \"Married\":1, \"Divorced\":2})\r\n",
    "df_ibm['OverTime'] = df_ibm['OverTime'].map({'Yes':1, 'No':0})\r\n"
   ],
   "outputs": [],
   "metadata": {
    "tags": [],
    "cell_id": "00006-2d715ef4-e8c2-4e69-a28b-7c36c8d32b45",
    "deepnote_to_be_reexecuted": false,
    "source_hash": "73490bd4",
    "execution_start": 1631582435696,
    "execution_millis": 43,
    "deepnote_cell_type": "code"
   }
  },
  {
   "cell_type": "code",
   "execution_count": null,
   "source": [
    "# delete the column\r\n",
    "\r\n",
    "df_ibm = df_ibm.drop(['Over18'], axis=1)"
   ],
   "outputs": [],
   "metadata": {
    "tags": [],
    "cell_id": "00014-c878308a-73b6-4383-b304-c5bd65655d23",
    "deepnote_to_be_reexecuted": false,
    "source_hash": "c950b2d0",
    "execution_start": 1631582435740,
    "execution_millis": 0,
    "deepnote_cell_type": "code"
   }
  },
  {
   "cell_type": "code",
   "execution_count": null,
   "source": [
    "df_ibm.head()"
   ],
   "outputs": [
    {
     "output_type": "execute_result",
     "data": {
      "application/vnd.deepnote.dataframe.v2+json": {
       "row_count": 5,
       "column_count": 34,
       "columns": [
        {
         "name": "Age",
         "dtype": "int64",
         "stats": {
          "unique_count": 5,
          "nan_count": 0,
          "min": "27",
          "max": "49",
          "histogram": [
           {
            "bin_start": 27,
            "bin_end": 29.2,
            "count": 1
           },
           {
            "bin_start": 29.2,
            "bin_end": 31.4,
            "count": 0
           },
           {
            "bin_start": 31.4,
            "bin_end": 33.6,
            "count": 1
           },
           {
            "bin_start": 33.6,
            "bin_end": 35.8,
            "count": 0
           },
           {
            "bin_start": 35.8,
            "bin_end": 38,
            "count": 1
           },
           {
            "bin_start": 38,
            "bin_end": 40.2,
            "count": 0
           },
           {
            "bin_start": 40.2,
            "bin_end": 42.400000000000006,
            "count": 1
           },
           {
            "bin_start": 42.400000000000006,
            "bin_end": 44.6,
            "count": 0
           },
           {
            "bin_start": 44.6,
            "bin_end": 46.8,
            "count": 0
           },
           {
            "bin_start": 46.8,
            "bin_end": 49,
            "count": 1
           }
          ]
         }
        },
        {
         "name": "Attrition",
         "dtype": "int64",
         "stats": {
          "unique_count": 2,
          "nan_count": 0,
          "min": "0",
          "max": "1",
          "histogram": [
           {
            "bin_start": 0,
            "bin_end": 0.1,
            "count": 3
           },
           {
            "bin_start": 0.1,
            "bin_end": 0.2,
            "count": 0
           },
           {
            "bin_start": 0.2,
            "bin_end": 0.30000000000000004,
            "count": 0
           },
           {
            "bin_start": 0.30000000000000004,
            "bin_end": 0.4,
            "count": 0
           },
           {
            "bin_start": 0.4,
            "bin_end": 0.5,
            "count": 0
           },
           {
            "bin_start": 0.5,
            "bin_end": 0.6000000000000001,
            "count": 0
           },
           {
            "bin_start": 0.6000000000000001,
            "bin_end": 0.7000000000000001,
            "count": 0
           },
           {
            "bin_start": 0.7000000000000001,
            "bin_end": 0.8,
            "count": 0
           },
           {
            "bin_start": 0.8,
            "bin_end": 0.9,
            "count": 0
           },
           {
            "bin_start": 0.9,
            "bin_end": 1,
            "count": 2
           }
          ]
         }
        },
        {
         "name": "BusinessTravel",
         "dtype": "int64",
         "stats": {
          "unique_count": 2,
          "nan_count": 0,
          "min": "1",
          "max": "2",
          "histogram": [
           {
            "bin_start": 1,
            "bin_end": 1.1,
            "count": 3
           },
           {
            "bin_start": 1.1,
            "bin_end": 1.2,
            "count": 0
           },
           {
            "bin_start": 1.2,
            "bin_end": 1.3,
            "count": 0
           },
           {
            "bin_start": 1.3,
            "bin_end": 1.4,
            "count": 0
           },
           {
            "bin_start": 1.4,
            "bin_end": 1.5,
            "count": 0
           },
           {
            "bin_start": 1.5,
            "bin_end": 1.6,
            "count": 0
           },
           {
            "bin_start": 1.6,
            "bin_end": 1.7000000000000002,
            "count": 0
           },
           {
            "bin_start": 1.7000000000000002,
            "bin_end": 1.8,
            "count": 0
           },
           {
            "bin_start": 1.8,
            "bin_end": 1.9,
            "count": 0
           },
           {
            "bin_start": 1.9,
            "bin_end": 2,
            "count": 2
           }
          ]
         }
        },
        {
         "name": "DailyRate",
         "dtype": "int64",
         "stats": {
          "unique_count": 5,
          "nan_count": 0,
          "min": "279",
          "max": "1392",
          "histogram": [
           {
            "bin_start": 279,
            "bin_end": 390.3,
            "count": 1
           },
           {
            "bin_start": 390.3,
            "bin_end": 501.6,
            "count": 0
           },
           {
            "bin_start": 501.6,
            "bin_end": 612.9,
            "count": 1
           },
           {
            "bin_start": 612.9,
            "bin_end": 724.2,
            "count": 0
           },
           {
            "bin_start": 724.2,
            "bin_end": 835.5,
            "count": 0
           },
           {
            "bin_start": 835.5,
            "bin_end": 946.8,
            "count": 0
           },
           {
            "bin_start": 946.8,
            "bin_end": 1058.1,
            "count": 0
           },
           {
            "bin_start": 1058.1,
            "bin_end": 1169.4,
            "count": 1
           },
           {
            "bin_start": 1169.4,
            "bin_end": 1280.6999999999998,
            "count": 0
           },
           {
            "bin_start": 1280.6999999999998,
            "bin_end": 1392,
            "count": 2
           }
          ]
         }
        },
        {
         "name": "Department",
         "dtype": "int64",
         "stats": {
          "unique_count": 2,
          "nan_count": 0,
          "min": "0",
          "max": "1",
          "histogram": [
           {
            "bin_start": 0,
            "bin_end": 0.1,
            "count": 1
           },
           {
            "bin_start": 0.1,
            "bin_end": 0.2,
            "count": 0
           },
           {
            "bin_start": 0.2,
            "bin_end": 0.30000000000000004,
            "count": 0
           },
           {
            "bin_start": 0.30000000000000004,
            "bin_end": 0.4,
            "count": 0
           },
           {
            "bin_start": 0.4,
            "bin_end": 0.5,
            "count": 0
           },
           {
            "bin_start": 0.5,
            "bin_end": 0.6000000000000001,
            "count": 0
           },
           {
            "bin_start": 0.6000000000000001,
            "bin_end": 0.7000000000000001,
            "count": 0
           },
           {
            "bin_start": 0.7000000000000001,
            "bin_end": 0.8,
            "count": 0
           },
           {
            "bin_start": 0.8,
            "bin_end": 0.9,
            "count": 0
           },
           {
            "bin_start": 0.9,
            "bin_end": 1,
            "count": 4
           }
          ]
         }
        },
        {
         "name": "DistanceFromHome",
         "dtype": "int64",
         "stats": {
          "unique_count": 4,
          "nan_count": 0,
          "min": "1",
          "max": "8",
          "histogram": [
           {
            "bin_start": 1,
            "bin_end": 1.7,
            "count": 1
           },
           {
            "bin_start": 1.7,
            "bin_end": 2.4,
            "count": 2
           },
           {
            "bin_start": 2.4,
            "bin_end": 3.0999999999999996,
            "count": 1
           },
           {
            "bin_start": 3.0999999999999996,
            "bin_end": 3.8,
            "count": 0
           },
           {
            "bin_start": 3.8,
            "bin_end": 4.5,
            "count": 0
           },
           {
            "bin_start": 4.5,
            "bin_end": 5.199999999999999,
            "count": 0
           },
           {
            "bin_start": 5.199999999999999,
            "bin_end": 5.8999999999999995,
            "count": 0
           },
           {
            "bin_start": 5.8999999999999995,
            "bin_end": 6.6,
            "count": 0
           },
           {
            "bin_start": 6.6,
            "bin_end": 7.3,
            "count": 0
           },
           {
            "bin_start": 7.3,
            "bin_end": 8,
            "count": 1
           }
          ]
         }
        },
        {
         "name": "Education",
         "dtype": "int64",
         "stats": {
          "unique_count": 3,
          "nan_count": 0,
          "min": "1",
          "max": "4",
          "histogram": [
           {
            "bin_start": 1,
            "bin_end": 1.3,
            "count": 2
           },
           {
            "bin_start": 1.3,
            "bin_end": 1.6,
            "count": 0
           },
           {
            "bin_start": 1.6,
            "bin_end": 1.9,
            "count": 0
           },
           {
            "bin_start": 1.9,
            "bin_end": 2.2,
            "count": 2
           },
           {
            "bin_start": 2.2,
            "bin_end": 2.5,
            "count": 0
           },
           {
            "bin_start": 2.5,
            "bin_end": 2.8,
            "count": 0
           },
           {
            "bin_start": 2.8,
            "bin_end": 3.1,
            "count": 0
           },
           {
            "bin_start": 3.1,
            "bin_end": 3.4,
            "count": 0
           },
           {
            "bin_start": 3.4,
            "bin_end": 3.6999999999999997,
            "count": 0
           },
           {
            "bin_start": 3.6999999999999997,
            "bin_end": 4,
            "count": 1
           }
          ]
         }
        },
        {
         "name": "EducationField",
         "dtype": "int64",
         "stats": {
          "unique_count": 3,
          "nan_count": 0,
          "min": "0",
          "max": "3",
          "histogram": [
           {
            "bin_start": 0,
            "bin_end": 0.3,
            "count": 1
           },
           {
            "bin_start": 0.3,
            "bin_end": 0.6,
            "count": 0
           },
           {
            "bin_start": 0.6,
            "bin_end": 0.8999999999999999,
            "count": 0
           },
           {
            "bin_start": 0.8999999999999999,
            "bin_end": 1.2,
            "count": 3
           },
           {
            "bin_start": 1.2,
            "bin_end": 1.5,
            "count": 0
           },
           {
            "bin_start": 1.5,
            "bin_end": 1.7999999999999998,
            "count": 0
           },
           {
            "bin_start": 1.7999999999999998,
            "bin_end": 2.1,
            "count": 0
           },
           {
            "bin_start": 2.1,
            "bin_end": 2.4,
            "count": 0
           },
           {
            "bin_start": 2.4,
            "bin_end": 2.6999999999999997,
            "count": 0
           },
           {
            "bin_start": 2.6999999999999997,
            "bin_end": 3,
            "count": 1
           }
          ]
         }
        },
        {
         "name": "EmployeeCount",
         "dtype": "int64",
         "stats": {
          "unique_count": 1,
          "nan_count": 0,
          "min": "1",
          "max": "1",
          "histogram": [
           {
            "bin_start": 0.5,
            "bin_end": 0.6,
            "count": 0
           },
           {
            "bin_start": 0.6,
            "bin_end": 0.7,
            "count": 0
           },
           {
            "bin_start": 0.7,
            "bin_end": 0.8,
            "count": 0
           },
           {
            "bin_start": 0.8,
            "bin_end": 0.9,
            "count": 0
           },
           {
            "bin_start": 0.9,
            "bin_end": 1,
            "count": 0
           },
           {
            "bin_start": 1,
            "bin_end": 1.1,
            "count": 5
           },
           {
            "bin_start": 1.1,
            "bin_end": 1.2000000000000002,
            "count": 0
           },
           {
            "bin_start": 1.2000000000000002,
            "bin_end": 1.3,
            "count": 0
           },
           {
            "bin_start": 1.3,
            "bin_end": 1.4,
            "count": 0
           },
           {
            "bin_start": 1.4,
            "bin_end": 1.5,
            "count": 0
           }
          ]
         }
        },
        {
         "name": "EmployeeNumber",
         "dtype": "int64",
         "stats": {
          "unique_count": 5,
          "nan_count": 0,
          "min": "1",
          "max": "7",
          "histogram": [
           {
            "bin_start": 1,
            "bin_end": 1.6,
            "count": 1
           },
           {
            "bin_start": 1.6,
            "bin_end": 2.2,
            "count": 1
           },
           {
            "bin_start": 2.2,
            "bin_end": 2.8,
            "count": 0
           },
           {
            "bin_start": 2.8,
            "bin_end": 3.4,
            "count": 0
           },
           {
            "bin_start": 3.4,
            "bin_end": 4,
            "count": 0
           },
           {
            "bin_start": 4,
            "bin_end": 4.6,
            "count": 1
           },
           {
            "bin_start": 4.6,
            "bin_end": 5.2,
            "count": 1
           },
           {
            "bin_start": 5.2,
            "bin_end": 5.8,
            "count": 0
           },
           {
            "bin_start": 5.8,
            "bin_end": 6.3999999999999995,
            "count": 0
           },
           {
            "bin_start": 6.3999999999999995,
            "bin_end": 7,
            "count": 1
           }
          ]
         }
        },
        {
         "name": "EnvironmentSatisfaction",
         "dtype": "int64",
         "stats": {
          "unique_count": 4,
          "nan_count": 0,
          "min": "1",
          "max": "4",
          "histogram": [
           {
            "bin_start": 1,
            "bin_end": 1.3,
            "count": 1
           },
           {
            "bin_start": 1.3,
            "bin_end": 1.6,
            "count": 0
           },
           {
            "bin_start": 1.6,
            "bin_end": 1.9,
            "count": 0
           },
           {
            "bin_start": 1.9,
            "bin_end": 2.2,
            "count": 1
           },
           {
            "bin_start": 2.2,
            "bin_end": 2.5,
            "count": 0
           },
           {
            "bin_start": 2.5,
            "bin_end": 2.8,
            "count": 0
           },
           {
            "bin_start": 2.8,
            "bin_end": 3.1,
            "count": 1
           },
           {
            "bin_start": 3.1,
            "bin_end": 3.4,
            "count": 0
           },
           {
            "bin_start": 3.4,
            "bin_end": 3.6999999999999997,
            "count": 0
           },
           {
            "bin_start": 3.6999999999999997,
            "bin_end": 4,
            "count": 2
           }
          ]
         }
        },
        {
         "name": "Gender",
         "dtype": "int64",
         "stats": {
          "unique_count": 2,
          "nan_count": 0,
          "min": "0",
          "max": "1",
          "histogram": [
           {
            "bin_start": 0,
            "bin_end": 0.1,
            "count": 2
           },
           {
            "bin_start": 0.1,
            "bin_end": 0.2,
            "count": 0
           },
           {
            "bin_start": 0.2,
            "bin_end": 0.30000000000000004,
            "count": 0
           },
           {
            "bin_start": 0.30000000000000004,
            "bin_end": 0.4,
            "count": 0
           },
           {
            "bin_start": 0.4,
            "bin_end": 0.5,
            "count": 0
           },
           {
            "bin_start": 0.5,
            "bin_end": 0.6000000000000001,
            "count": 0
           },
           {
            "bin_start": 0.6000000000000001,
            "bin_end": 0.7000000000000001,
            "count": 0
           },
           {
            "bin_start": 0.7000000000000001,
            "bin_end": 0.8,
            "count": 0
           },
           {
            "bin_start": 0.8,
            "bin_end": 0.9,
            "count": 0
           },
           {
            "bin_start": 0.9,
            "bin_end": 1,
            "count": 3
           }
          ]
         }
        },
        {
         "name": "HourlyRate",
         "dtype": "int64",
         "stats": {
          "unique_count": 5,
          "nan_count": 0,
          "min": "40",
          "max": "94",
          "histogram": [
           {
            "bin_start": 40,
            "bin_end": 45.4,
            "count": 1
           },
           {
            "bin_start": 45.4,
            "bin_end": 50.8,
            "count": 0
           },
           {
            "bin_start": 50.8,
            "bin_end": 56.2,
            "count": 1
           },
           {
            "bin_start": 56.2,
            "bin_end": 61.6,
            "count": 1
           },
           {
            "bin_start": 61.6,
            "bin_end": 67,
            "count": 0
           },
           {
            "bin_start": 67,
            "bin_end": 72.4,
            "count": 0
           },
           {
            "bin_start": 72.4,
            "bin_end": 77.80000000000001,
            "count": 0
           },
           {
            "bin_start": 77.80000000000001,
            "bin_end": 83.2,
            "count": 0
           },
           {
            "bin_start": 83.2,
            "bin_end": 88.6,
            "count": 0
           },
           {
            "bin_start": 88.6,
            "bin_end": 94,
            "count": 2
           }
          ]
         }
        },
        {
         "name": "JobInvolvement",
         "dtype": "int64",
         "stats": {
          "unique_count": 2,
          "nan_count": 0,
          "min": "2",
          "max": "3",
          "histogram": [
           {
            "bin_start": 2,
            "bin_end": 2.1,
            "count": 2
           },
           {
            "bin_start": 2.1,
            "bin_end": 2.2,
            "count": 0
           },
           {
            "bin_start": 2.2,
            "bin_end": 2.3,
            "count": 0
           },
           {
            "bin_start": 2.3,
            "bin_end": 2.4,
            "count": 0
           },
           {
            "bin_start": 2.4,
            "bin_end": 2.5,
            "count": 0
           },
           {
            "bin_start": 2.5,
            "bin_end": 2.6,
            "count": 0
           },
           {
            "bin_start": 2.6,
            "bin_end": 2.7,
            "count": 0
           },
           {
            "bin_start": 2.7,
            "bin_end": 2.8,
            "count": 0
           },
           {
            "bin_start": 2.8,
            "bin_end": 2.9,
            "count": 0
           },
           {
            "bin_start": 2.9,
            "bin_end": 3,
            "count": 3
           }
          ]
         }
        },
        {
         "name": "JobLevel",
         "dtype": "int64",
         "stats": {
          "unique_count": 2,
          "nan_count": 0,
          "min": "1",
          "max": "2",
          "histogram": [
           {
            "bin_start": 1,
            "bin_end": 1.1,
            "count": 3
           },
           {
            "bin_start": 1.1,
            "bin_end": 1.2,
            "count": 0
           },
           {
            "bin_start": 1.2,
            "bin_end": 1.3,
            "count": 0
           },
           {
            "bin_start": 1.3,
            "bin_end": 1.4,
            "count": 0
           },
           {
            "bin_start": 1.4,
            "bin_end": 1.5,
            "count": 0
           },
           {
            "bin_start": 1.5,
            "bin_end": 1.6,
            "count": 0
           },
           {
            "bin_start": 1.6,
            "bin_end": 1.7000000000000002,
            "count": 0
           },
           {
            "bin_start": 1.7000000000000002,
            "bin_end": 1.8,
            "count": 0
           },
           {
            "bin_start": 1.8,
            "bin_end": 1.9,
            "count": 0
           },
           {
            "bin_start": 1.9,
            "bin_end": 2,
            "count": 2
           }
          ]
         }
        },
        {
         "name": "JobRole",
         "dtype": "int64",
         "stats": {
          "unique_count": 3,
          "nan_count": 0,
          "min": "1",
          "max": "4",
          "histogram": [
           {
            "bin_start": 1,
            "bin_end": 1.3,
            "count": 1
           },
           {
            "bin_start": 1.3,
            "bin_end": 1.6,
            "count": 0
           },
           {
            "bin_start": 1.6,
            "bin_end": 1.9,
            "count": 0
           },
           {
            "bin_start": 1.9,
            "bin_end": 2.2,
            "count": 0
           },
           {
            "bin_start": 2.2,
            "bin_end": 2.5,
            "count": 0
           },
           {
            "bin_start": 2.5,
            "bin_end": 2.8,
            "count": 0
           },
           {
            "bin_start": 2.8,
            "bin_end": 3.1,
            "count": 2
           },
           {
            "bin_start": 3.1,
            "bin_end": 3.4,
            "count": 0
           },
           {
            "bin_start": 3.4,
            "bin_end": 3.6999999999999997,
            "count": 0
           },
           {
            "bin_start": 3.6999999999999997,
            "bin_end": 4,
            "count": 2
           }
          ]
         }
        },
        {
         "name": "JobSatisfaction",
         "dtype": "int64",
         "stats": {
          "unique_count": 3,
          "nan_count": 0,
          "min": "2",
          "max": "4",
          "histogram": [
           {
            "bin_start": 2,
            "bin_end": 2.2,
            "count": 2
           },
           {
            "bin_start": 2.2,
            "bin_end": 2.4,
            "count": 0
           },
           {
            "bin_start": 2.4,
            "bin_end": 2.6,
            "count": 0
           },
           {
            "bin_start": 2.6,
            "bin_end": 2.8,
            "count": 0
           },
           {
            "bin_start": 2.8,
            "bin_end": 3,
            "count": 0
           },
           {
            "bin_start": 3,
            "bin_end": 3.2,
            "count": 2
           },
           {
            "bin_start": 3.2,
            "bin_end": 3.4000000000000004,
            "count": 0
           },
           {
            "bin_start": 3.4000000000000004,
            "bin_end": 3.6,
            "count": 0
           },
           {
            "bin_start": 3.6,
            "bin_end": 3.8,
            "count": 0
           },
           {
            "bin_start": 3.8,
            "bin_end": 4,
            "count": 1
           }
          ]
         }
        },
        {
         "name": "MaritalStatus",
         "dtype": "int64",
         "stats": {
          "unique_count": 2,
          "nan_count": 0,
          "min": "0",
          "max": "1",
          "histogram": [
           {
            "bin_start": 0,
            "bin_end": 0.1,
            "count": 2
           },
           {
            "bin_start": 0.1,
            "bin_end": 0.2,
            "count": 0
           },
           {
            "bin_start": 0.2,
            "bin_end": 0.30000000000000004,
            "count": 0
           },
           {
            "bin_start": 0.30000000000000004,
            "bin_end": 0.4,
            "count": 0
           },
           {
            "bin_start": 0.4,
            "bin_end": 0.5,
            "count": 0
           },
           {
            "bin_start": 0.5,
            "bin_end": 0.6000000000000001,
            "count": 0
           },
           {
            "bin_start": 0.6000000000000001,
            "bin_end": 0.7000000000000001,
            "count": 0
           },
           {
            "bin_start": 0.7000000000000001,
            "bin_end": 0.8,
            "count": 0
           },
           {
            "bin_start": 0.8,
            "bin_end": 0.9,
            "count": 0
           },
           {
            "bin_start": 0.9,
            "bin_end": 1,
            "count": 3
           }
          ]
         }
        },
        {
         "name": "MonthlyIncome",
         "dtype": "int64",
         "stats": {
          "unique_count": 5,
          "nan_count": 0,
          "min": "2090",
          "max": "5993",
          "histogram": [
           {
            "bin_start": 2090,
            "bin_end": 2480.3,
            "count": 1
           },
           {
            "bin_start": 2480.3,
            "bin_end": 2870.6,
            "count": 0
           },
           {
            "bin_start": 2870.6,
            "bin_end": 3260.9,
            "count": 1
           },
           {
            "bin_start": 3260.9,
            "bin_end": 3651.2,
            "count": 1
           },
           {
            "bin_start": 3651.2,
            "bin_end": 4041.5,
            "count": 0
           },
           {
            "bin_start": 4041.5,
            "bin_end": 4431.8,
            "count": 0
           },
           {
            "bin_start": 4431.8,
            "bin_end": 4822.1,
            "count": 0
           },
           {
            "bin_start": 4822.1,
            "bin_end": 5212.4,
            "count": 1
           },
           {
            "bin_start": 5212.4,
            "bin_end": 5602.700000000001,
            "count": 0
           },
           {
            "bin_start": 5602.700000000001,
            "bin_end": 5993,
            "count": 1
           }
          ]
         }
        },
        {
         "name": "MonthlyRate",
         "dtype": "int64",
         "stats": {
          "unique_count": 5,
          "nan_count": 0,
          "min": "2396",
          "max": "24907",
          "histogram": [
           {
            "bin_start": 2396,
            "bin_end": 4647.1,
            "count": 1
           },
           {
            "bin_start": 4647.1,
            "bin_end": 6898.2,
            "count": 0
           },
           {
            "bin_start": 6898.2,
            "bin_end": 9149.3,
            "count": 0
           },
           {
            "bin_start": 9149.3,
            "bin_end": 11400.4,
            "count": 0
           },
           {
            "bin_start": 11400.4,
            "bin_end": 13651.5,
            "count": 0
           },
           {
            "bin_start": 13651.5,
            "bin_end": 15902.599999999999,
            "count": 0
           },
           {
            "bin_start": 15902.599999999999,
            "bin_end": 18153.699999999997,
            "count": 1
           },
           {
            "bin_start": 18153.699999999997,
            "bin_end": 20404.8,
            "count": 1
           },
           {
            "bin_start": 20404.8,
            "bin_end": 22655.899999999998,
            "count": 0
           },
           {
            "bin_start": 22655.899999999998,
            "bin_end": 24907,
            "count": 2
           }
          ]
         }
        },
        {
         "name": "NumCompaniesWorked",
         "dtype": "int64",
         "stats": {
          "unique_count": 4,
          "nan_count": 0,
          "min": "1",
          "max": "9",
          "histogram": [
           {
            "bin_start": 1,
            "bin_end": 1.8,
            "count": 2
           },
           {
            "bin_start": 1.8,
            "bin_end": 2.6,
            "count": 0
           },
           {
            "bin_start": 2.6,
            "bin_end": 3.4000000000000004,
            "count": 0
           },
           {
            "bin_start": 3.4000000000000004,
            "bin_end": 4.2,
            "count": 0
           },
           {
            "bin_start": 4.2,
            "bin_end": 5,
            "count": 0
           },
           {
            "bin_start": 5,
            "bin_end": 5.800000000000001,
            "count": 0
           },
           {
            "bin_start": 5.800000000000001,
            "bin_end": 6.6000000000000005,
            "count": 1
           },
           {
            "bin_start": 6.6000000000000005,
            "bin_end": 7.4,
            "count": 0
           },
           {
            "bin_start": 7.4,
            "bin_end": 8.2,
            "count": 1
           },
           {
            "bin_start": 8.2,
            "bin_end": 9,
            "count": 1
           }
          ]
         }
        },
        {
         "name": "OverTime",
         "dtype": "int64",
         "stats": {
          "unique_count": 2,
          "nan_count": 0,
          "min": "0",
          "max": "1",
          "histogram": [
           {
            "bin_start": 0,
            "bin_end": 0.1,
            "count": 2
           },
           {
            "bin_start": 0.1,
            "bin_end": 0.2,
            "count": 0
           },
           {
            "bin_start": 0.2,
            "bin_end": 0.30000000000000004,
            "count": 0
           },
           {
            "bin_start": 0.30000000000000004,
            "bin_end": 0.4,
            "count": 0
           },
           {
            "bin_start": 0.4,
            "bin_end": 0.5,
            "count": 0
           },
           {
            "bin_start": 0.5,
            "bin_end": 0.6000000000000001,
            "count": 0
           },
           {
            "bin_start": 0.6000000000000001,
            "bin_end": 0.7000000000000001,
            "count": 0
           },
           {
            "bin_start": 0.7000000000000001,
            "bin_end": 0.8,
            "count": 0
           },
           {
            "bin_start": 0.8,
            "bin_end": 0.9,
            "count": 0
           },
           {
            "bin_start": 0.9,
            "bin_end": 1,
            "count": 3
           }
          ]
         }
        },
        {
         "name": "PercentSalaryHike",
         "dtype": "int64",
         "stats": {
          "unique_count": 4,
          "nan_count": 0,
          "min": "11",
          "max": "23",
          "histogram": [
           {
            "bin_start": 11,
            "bin_end": 12.2,
            "count": 3
           },
           {
            "bin_start": 12.2,
            "bin_end": 13.4,
            "count": 0
           },
           {
            "bin_start": 13.4,
            "bin_end": 14.6,
            "count": 0
           },
           {
            "bin_start": 14.6,
            "bin_end": 15.8,
            "count": 1
           },
           {
            "bin_start": 15.8,
            "bin_end": 17,
            "count": 0
           },
           {
            "bin_start": 17,
            "bin_end": 18.2,
            "count": 0
           },
           {
            "bin_start": 18.2,
            "bin_end": 19.4,
            "count": 0
           },
           {
            "bin_start": 19.4,
            "bin_end": 20.6,
            "count": 0
           },
           {
            "bin_start": 20.6,
            "bin_end": 21.799999999999997,
            "count": 0
           },
           {
            "bin_start": 21.799999999999997,
            "bin_end": 23,
            "count": 1
           }
          ]
         }
        },
        {
         "name": "PerformanceRating",
         "dtype": "int64",
         "stats": {
          "unique_count": 2,
          "nan_count": 0,
          "min": "3",
          "max": "4",
          "histogram": [
           {
            "bin_start": 3,
            "bin_end": 3.1,
            "count": 4
           },
           {
            "bin_start": 3.1,
            "bin_end": 3.2,
            "count": 0
           },
           {
            "bin_start": 3.2,
            "bin_end": 3.3,
            "count": 0
           },
           {
            "bin_start": 3.3,
            "bin_end": 3.4,
            "count": 0
           },
           {
            "bin_start": 3.4,
            "bin_end": 3.5,
            "count": 0
           },
           {
            "bin_start": 3.5,
            "bin_end": 3.6,
            "count": 0
           },
           {
            "bin_start": 3.6,
            "bin_end": 3.7,
            "count": 0
           },
           {
            "bin_start": 3.7,
            "bin_end": 3.8,
            "count": 0
           },
           {
            "bin_start": 3.8,
            "bin_end": 3.9,
            "count": 0
           },
           {
            "bin_start": 3.9,
            "bin_end": 4,
            "count": 1
           }
          ]
         }
        },
        {
         "name": "RelationshipSatisfaction",
         "dtype": "int64",
         "stats": {
          "unique_count": 4,
          "nan_count": 0,
          "min": "1",
          "max": "4",
          "histogram": [
           {
            "bin_start": 1,
            "bin_end": 1.3,
            "count": 1
           },
           {
            "bin_start": 1.3,
            "bin_end": 1.6,
            "count": 0
           },
           {
            "bin_start": 1.6,
            "bin_end": 1.9,
            "count": 0
           },
           {
            "bin_start": 1.9,
            "bin_end": 2.2,
            "count": 1
           },
           {
            "bin_start": 2.2,
            "bin_end": 2.5,
            "count": 0
           },
           {
            "bin_start": 2.5,
            "bin_end": 2.8,
            "count": 0
           },
           {
            "bin_start": 2.8,
            "bin_end": 3.1,
            "count": 1
           },
           {
            "bin_start": 3.1,
            "bin_end": 3.4,
            "count": 0
           },
           {
            "bin_start": 3.4,
            "bin_end": 3.6999999999999997,
            "count": 0
           },
           {
            "bin_start": 3.6999999999999997,
            "bin_end": 4,
            "count": 2
           }
          ]
         }
        },
        {
         "name": "StandardHours",
         "dtype": "int64",
         "stats": {
          "unique_count": 1,
          "nan_count": 0,
          "min": "80",
          "max": "80",
          "histogram": [
           {
            "bin_start": 79.5,
            "bin_end": 79.6,
            "count": 0
           },
           {
            "bin_start": 79.6,
            "bin_end": 79.7,
            "count": 0
           },
           {
            "bin_start": 79.7,
            "bin_end": 79.8,
            "count": 0
           },
           {
            "bin_start": 79.8,
            "bin_end": 79.9,
            "count": 0
           },
           {
            "bin_start": 79.9,
            "bin_end": 80,
            "count": 0
           },
           {
            "bin_start": 80,
            "bin_end": 80.1,
            "count": 5
           },
           {
            "bin_start": 80.1,
            "bin_end": 80.2,
            "count": 0
           },
           {
            "bin_start": 80.2,
            "bin_end": 80.3,
            "count": 0
           },
           {
            "bin_start": 80.3,
            "bin_end": 80.4,
            "count": 0
           },
           {
            "bin_start": 80.4,
            "bin_end": 80.5,
            "count": 0
           }
          ]
         }
        },
        {
         "name": "StockOptionLevel",
         "dtype": "int64",
         "stats": {
          "unique_count": 2,
          "nan_count": 0,
          "min": "0",
          "max": "1",
          "histogram": [
           {
            "bin_start": 0,
            "bin_end": 0.1,
            "count": 3
           },
           {
            "bin_start": 0.1,
            "bin_end": 0.2,
            "count": 0
           },
           {
            "bin_start": 0.2,
            "bin_end": 0.30000000000000004,
            "count": 0
           },
           {
            "bin_start": 0.30000000000000004,
            "bin_end": 0.4,
            "count": 0
           },
           {
            "bin_start": 0.4,
            "bin_end": 0.5,
            "count": 0
           },
           {
            "bin_start": 0.5,
            "bin_end": 0.6000000000000001,
            "count": 0
           },
           {
            "bin_start": 0.6000000000000001,
            "bin_end": 0.7000000000000001,
            "count": 0
           },
           {
            "bin_start": 0.7000000000000001,
            "bin_end": 0.8,
            "count": 0
           },
           {
            "bin_start": 0.8,
            "bin_end": 0.9,
            "count": 0
           },
           {
            "bin_start": 0.9,
            "bin_end": 1,
            "count": 2
           }
          ]
         }
        },
        {
         "name": "TotalWorkingYears",
         "dtype": "int64",
         "stats": {
          "unique_count": 4,
          "nan_count": 0,
          "min": "6",
          "max": "10",
          "histogram": [
           {
            "bin_start": 6,
            "bin_end": 6.4,
            "count": 1
           },
           {
            "bin_start": 6.4,
            "bin_end": 6.8,
            "count": 0
           },
           {
            "bin_start": 6.8,
            "bin_end": 7.2,
            "count": 1
           },
           {
            "bin_start": 7.2,
            "bin_end": 7.6,
            "count": 0
           },
           {
            "bin_start": 7.6,
            "bin_end": 8,
            "count": 0
           },
           {
            "bin_start": 8,
            "bin_end": 8.4,
            "count": 2
           },
           {
            "bin_start": 8.4,
            "bin_end": 8.8,
            "count": 0
           },
           {
            "bin_start": 8.8,
            "bin_end": 9.2,
            "count": 0
           },
           {
            "bin_start": 9.2,
            "bin_end": 9.6,
            "count": 0
           },
           {
            "bin_start": 9.6,
            "bin_end": 10,
            "count": 1
           }
          ]
         }
        },
        {
         "name": "TrainingTimesLastYear",
         "dtype": "int64",
         "stats": {
          "unique_count": 2,
          "nan_count": 0,
          "min": "0",
          "max": "3",
          "histogram": [
           {
            "bin_start": 0,
            "bin_end": 0.3,
            "count": 1
           },
           {
            "bin_start": 0.3,
            "bin_end": 0.6,
            "count": 0
           },
           {
            "bin_start": 0.6,
            "bin_end": 0.8999999999999999,
            "count": 0
           },
           {
            "bin_start": 0.8999999999999999,
            "bin_end": 1.2,
            "count": 0
           },
           {
            "bin_start": 1.2,
            "bin_end": 1.5,
            "count": 0
           },
           {
            "bin_start": 1.5,
            "bin_end": 1.7999999999999998,
            "count": 0
           },
           {
            "bin_start": 1.7999999999999998,
            "bin_end": 2.1,
            "count": 0
           },
           {
            "bin_start": 2.1,
            "bin_end": 2.4,
            "count": 0
           },
           {
            "bin_start": 2.4,
            "bin_end": 2.6999999999999997,
            "count": 0
           },
           {
            "bin_start": 2.6999999999999997,
            "bin_end": 3,
            "count": 4
           }
          ]
         }
        },
        {
         "name": "WorkLifeBalance",
         "dtype": "int64",
         "stats": {
          "unique_count": 2,
          "nan_count": 0,
          "min": "1",
          "max": "3",
          "histogram": [
           {
            "bin_start": 1,
            "bin_end": 1.2,
            "count": 1
           },
           {
            "bin_start": 1.2,
            "bin_end": 1.4,
            "count": 0
           },
           {
            "bin_start": 1.4,
            "bin_end": 1.6,
            "count": 0
           },
           {
            "bin_start": 1.6,
            "bin_end": 1.8,
            "count": 0
           },
           {
            "bin_start": 1.8,
            "bin_end": 2,
            "count": 0
           },
           {
            "bin_start": 2,
            "bin_end": 2.2,
            "count": 0
           },
           {
            "bin_start": 2.2,
            "bin_end": 2.4000000000000004,
            "count": 0
           },
           {
            "bin_start": 2.4000000000000004,
            "bin_end": 2.6,
            "count": 0
           },
           {
            "bin_start": 2.6,
            "bin_end": 2.8,
            "count": 0
           },
           {
            "bin_start": 2.8,
            "bin_end": 3,
            "count": 4
           }
          ]
         }
        },
        {
         "name": "YearsAtCompany",
         "dtype": "int64",
         "stats": {
          "unique_count": 5,
          "nan_count": 0,
          "min": "0",
          "max": "10",
          "histogram": [
           {
            "bin_start": 0,
            "bin_end": 1,
            "count": 1
           },
           {
            "bin_start": 1,
            "bin_end": 2,
            "count": 0
           },
           {
            "bin_start": 2,
            "bin_end": 3,
            "count": 1
           },
           {
            "bin_start": 3,
            "bin_end": 4,
            "count": 0
           },
           {
            "bin_start": 4,
            "bin_end": 5,
            "count": 0
           },
           {
            "bin_start": 5,
            "bin_end": 6,
            "count": 0
           },
           {
            "bin_start": 6,
            "bin_end": 7,
            "count": 1
           },
           {
            "bin_start": 7,
            "bin_end": 8,
            "count": 0
           },
           {
            "bin_start": 8,
            "bin_end": 9,
            "count": 1
           },
           {
            "bin_start": 9,
            "bin_end": 10,
            "count": 1
           }
          ]
         }
        },
        {
         "name": "YearsInCurrentRole",
         "dtype": "int64",
         "stats": {
          "unique_count": 4,
          "nan_count": 0,
          "min": "0",
          "max": "7",
          "histogram": [
           {
            "bin_start": 0,
            "bin_end": 0.7,
            "count": 1
           },
           {
            "bin_start": 0.7,
            "bin_end": 1.4,
            "count": 0
           },
           {
            "bin_start": 1.4,
            "bin_end": 2.0999999999999996,
            "count": 1
           },
           {
            "bin_start": 2.0999999999999996,
            "bin_end": 2.8,
            "count": 0
           },
           {
            "bin_start": 2.8,
            "bin_end": 3.5,
            "count": 0
           },
           {
            "bin_start": 3.5,
            "bin_end": 4.199999999999999,
            "count": 1
           },
           {
            "bin_start": 4.199999999999999,
            "bin_end": 4.8999999999999995,
            "count": 0
           },
           {
            "bin_start": 4.8999999999999995,
            "bin_end": 5.6,
            "count": 0
           },
           {
            "bin_start": 5.6,
            "bin_end": 6.3,
            "count": 0
           },
           {
            "bin_start": 6.3,
            "bin_end": 7,
            "count": 2
           }
          ]
         }
        },
        {
         "name": "YearsSinceLastPromotion",
         "dtype": "int64",
         "stats": {
          "unique_count": 4,
          "nan_count": 0,
          "min": "0",
          "max": "3",
          "histogram": [
           {
            "bin_start": 0,
            "bin_end": 0.3,
            "count": 2
           },
           {
            "bin_start": 0.3,
            "bin_end": 0.6,
            "count": 0
           },
           {
            "bin_start": 0.6,
            "bin_end": 0.8999999999999999,
            "count": 0
           },
           {
            "bin_start": 0.8999999999999999,
            "bin_end": 1.2,
            "count": 1
           },
           {
            "bin_start": 1.2,
            "bin_end": 1.5,
            "count": 0
           },
           {
            "bin_start": 1.5,
            "bin_end": 1.7999999999999998,
            "count": 0
           },
           {
            "bin_start": 1.7999999999999998,
            "bin_end": 2.1,
            "count": 1
           },
           {
            "bin_start": 2.1,
            "bin_end": 2.4,
            "count": 0
           },
           {
            "bin_start": 2.4,
            "bin_end": 2.6999999999999997,
            "count": 0
           },
           {
            "bin_start": 2.6999999999999997,
            "bin_end": 3,
            "count": 1
           }
          ]
         }
        },
        {
         "name": "YearsWithCurrManager",
         "dtype": "int64",
         "stats": {
          "unique_count": 4,
          "nan_count": 0,
          "min": "0",
          "max": "7",
          "histogram": [
           {
            "bin_start": 0,
            "bin_end": 0.7,
            "count": 2
           },
           {
            "bin_start": 0.7,
            "bin_end": 1.4,
            "count": 0
           },
           {
            "bin_start": 1.4,
            "bin_end": 2.0999999999999996,
            "count": 1
           },
           {
            "bin_start": 2.0999999999999996,
            "bin_end": 2.8,
            "count": 0
           },
           {
            "bin_start": 2.8,
            "bin_end": 3.5,
            "count": 0
           },
           {
            "bin_start": 3.5,
            "bin_end": 4.199999999999999,
            "count": 0
           },
           {
            "bin_start": 4.199999999999999,
            "bin_end": 4.8999999999999995,
            "count": 0
           },
           {
            "bin_start": 4.8999999999999995,
            "bin_end": 5.6,
            "count": 1
           },
           {
            "bin_start": 5.6,
            "bin_end": 6.3,
            "count": 0
           },
           {
            "bin_start": 6.3,
            "bin_end": 7,
            "count": 1
           }
          ]
         }
        },
        {
         "name": "_deepnote_index_column",
         "dtype": "int64"
        }
       ],
       "rows_top": [
        {
         "Age": 41,
         "Attrition": 1,
         "BusinessTravel": 1,
         "DailyRate": 1102,
         "Department": 0,
         "DistanceFromHome": 1,
         "Education": 2,
         "EducationField": 1,
         "EmployeeCount": 1,
         "EmployeeNumber": 1,
         "EnvironmentSatisfaction": 2,
         "Gender": 0,
         "HourlyRate": 94,
         "JobInvolvement": 3,
         "JobLevel": 2,
         "JobRole": 1,
         "JobSatisfaction": 4,
         "MaritalStatus": 0,
         "MonthlyIncome": 5993,
         "MonthlyRate": 19479,
         "NumCompaniesWorked": 8,
         "OverTime": 1,
         "PercentSalaryHike": 11,
         "PerformanceRating": 3,
         "RelationshipSatisfaction": 1,
         "StandardHours": 80,
         "StockOptionLevel": 0,
         "TotalWorkingYears": 8,
         "TrainingTimesLastYear": 0,
         "WorkLifeBalance": 1,
         "YearsAtCompany": 6,
         "YearsInCurrentRole": 4,
         "YearsSinceLastPromotion": 0,
         "YearsWithCurrManager": 5,
         "_deepnote_index_column": 0
        },
        {
         "Age": 49,
         "Attrition": 0,
         "BusinessTravel": 2,
         "DailyRate": 279,
         "Department": 1,
         "DistanceFromHome": 8,
         "Education": 1,
         "EducationField": 1,
         "EmployeeCount": 1,
         "EmployeeNumber": 2,
         "EnvironmentSatisfaction": 3,
         "Gender": 1,
         "HourlyRate": 61,
         "JobInvolvement": 2,
         "JobLevel": 2,
         "JobRole": 3,
         "JobSatisfaction": 2,
         "MaritalStatus": 1,
         "MonthlyIncome": 5130,
         "MonthlyRate": 24907,
         "NumCompaniesWorked": 1,
         "OverTime": 0,
         "PercentSalaryHike": 23,
         "PerformanceRating": 4,
         "RelationshipSatisfaction": 4,
         "StandardHours": 80,
         "StockOptionLevel": 1,
         "TotalWorkingYears": 10,
         "TrainingTimesLastYear": 3,
         "WorkLifeBalance": 3,
         "YearsAtCompany": 10,
         "YearsInCurrentRole": 7,
         "YearsSinceLastPromotion": 1,
         "YearsWithCurrManager": 7,
         "_deepnote_index_column": 1
        },
        {
         "Age": 37,
         "Attrition": 1,
         "BusinessTravel": 1,
         "DailyRate": 1373,
         "Department": 1,
         "DistanceFromHome": 2,
         "Education": 2,
         "EducationField": 0,
         "EmployeeCount": 1,
         "EmployeeNumber": 4,
         "EnvironmentSatisfaction": 4,
         "Gender": 1,
         "HourlyRate": 92,
         "JobInvolvement": 2,
         "JobLevel": 1,
         "JobRole": 4,
         "JobSatisfaction": 3,
         "MaritalStatus": 0,
         "MonthlyIncome": 2090,
         "MonthlyRate": 2396,
         "NumCompaniesWorked": 6,
         "OverTime": 1,
         "PercentSalaryHike": 15,
         "PerformanceRating": 3,
         "RelationshipSatisfaction": 2,
         "StandardHours": 80,
         "StockOptionLevel": 0,
         "TotalWorkingYears": 7,
         "TrainingTimesLastYear": 3,
         "WorkLifeBalance": 3,
         "YearsAtCompany": 0,
         "YearsInCurrentRole": 0,
         "YearsSinceLastPromotion": 0,
         "YearsWithCurrManager": 0,
         "_deepnote_index_column": 2
        },
        {
         "Age": 33,
         "Attrition": 0,
         "BusinessTravel": 2,
         "DailyRate": 1392,
         "Department": 1,
         "DistanceFromHome": 3,
         "Education": 4,
         "EducationField": 1,
         "EmployeeCount": 1,
         "EmployeeNumber": 5,
         "EnvironmentSatisfaction": 4,
         "Gender": 0,
         "HourlyRate": 56,
         "JobInvolvement": 3,
         "JobLevel": 1,
         "JobRole": 3,
         "JobSatisfaction": 3,
         "MaritalStatus": 1,
         "MonthlyIncome": 2909,
         "MonthlyRate": 23159,
         "NumCompaniesWorked": 1,
         "OverTime": 1,
         "PercentSalaryHike": 11,
         "PerformanceRating": 3,
         "RelationshipSatisfaction": 3,
         "StandardHours": 80,
         "StockOptionLevel": 0,
         "TotalWorkingYears": 8,
         "TrainingTimesLastYear": 3,
         "WorkLifeBalance": 3,
         "YearsAtCompany": 8,
         "YearsInCurrentRole": 7,
         "YearsSinceLastPromotion": 3,
         "YearsWithCurrManager": 0,
         "_deepnote_index_column": 3
        },
        {
         "Age": 27,
         "Attrition": 0,
         "BusinessTravel": 1,
         "DailyRate": 591,
         "Department": 1,
         "DistanceFromHome": 2,
         "Education": 1,
         "EducationField": 3,
         "EmployeeCount": 1,
         "EmployeeNumber": 7,
         "EnvironmentSatisfaction": 1,
         "Gender": 1,
         "HourlyRate": 40,
         "JobInvolvement": 3,
         "JobLevel": 1,
         "JobRole": 4,
         "JobSatisfaction": 2,
         "MaritalStatus": 1,
         "MonthlyIncome": 3468,
         "MonthlyRate": 16632,
         "NumCompaniesWorked": 9,
         "OverTime": 0,
         "PercentSalaryHike": 12,
         "PerformanceRating": 3,
         "RelationshipSatisfaction": 4,
         "StandardHours": 80,
         "StockOptionLevel": 1,
         "TotalWorkingYears": 6,
         "TrainingTimesLastYear": 3,
         "WorkLifeBalance": 3,
         "YearsAtCompany": 2,
         "YearsInCurrentRole": 2,
         "YearsSinceLastPromotion": 2,
         "YearsWithCurrManager": 2,
         "_deepnote_index_column": 4
        }
       ],
       "rows_bottom": null
      },
      "text/html": [
       "<div>\n",
       "<style scoped>\n",
       "    .dataframe tbody tr th:only-of-type {\n",
       "        vertical-align: middle;\n",
       "    }\n",
       "\n",
       "    .dataframe tbody tr th {\n",
       "        vertical-align: top;\n",
       "    }\n",
       "\n",
       "    .dataframe thead th {\n",
       "        text-align: right;\n",
       "    }\n",
       "</style>\n",
       "<table border=\"1\" class=\"dataframe\">\n",
       "  <thead>\n",
       "    <tr style=\"text-align: right;\">\n",
       "      <th></th>\n",
       "      <th>Age</th>\n",
       "      <th>Attrition</th>\n",
       "      <th>BusinessTravel</th>\n",
       "      <th>DailyRate</th>\n",
       "      <th>Department</th>\n",
       "      <th>DistanceFromHome</th>\n",
       "      <th>Education</th>\n",
       "      <th>EducationField</th>\n",
       "      <th>EmployeeCount</th>\n",
       "      <th>EmployeeNumber</th>\n",
       "      <th>EnvironmentSatisfaction</th>\n",
       "      <th>Gender</th>\n",
       "      <th>HourlyRate</th>\n",
       "      <th>JobInvolvement</th>\n",
       "      <th>JobLevel</th>\n",
       "      <th>JobRole</th>\n",
       "      <th>JobSatisfaction</th>\n",
       "      <th>MaritalStatus</th>\n",
       "      <th>MonthlyIncome</th>\n",
       "      <th>MonthlyRate</th>\n",
       "      <th>NumCompaniesWorked</th>\n",
       "      <th>OverTime</th>\n",
       "      <th>PercentSalaryHike</th>\n",
       "      <th>PerformanceRating</th>\n",
       "      <th>RelationshipSatisfaction</th>\n",
       "      <th>StandardHours</th>\n",
       "      <th>StockOptionLevel</th>\n",
       "      <th>TotalWorkingYears</th>\n",
       "      <th>TrainingTimesLastYear</th>\n",
       "      <th>WorkLifeBalance</th>\n",
       "      <th>YearsAtCompany</th>\n",
       "      <th>YearsInCurrentRole</th>\n",
       "      <th>YearsSinceLastPromotion</th>\n",
       "      <th>YearsWithCurrManager</th>\n",
       "    </tr>\n",
       "  </thead>\n",
       "  <tbody>\n",
       "    <tr>\n",
       "      <th>0</th>\n",
       "      <td>41</td>\n",
       "      <td>1</td>\n",
       "      <td>1</td>\n",
       "      <td>1102</td>\n",
       "      <td>0</td>\n",
       "      <td>1</td>\n",
       "      <td>2</td>\n",
       "      <td>1</td>\n",
       "      <td>1</td>\n",
       "      <td>1</td>\n",
       "      <td>2</td>\n",
       "      <td>0</td>\n",
       "      <td>94</td>\n",
       "      <td>3</td>\n",
       "      <td>2</td>\n",
       "      <td>1</td>\n",
       "      <td>4</td>\n",
       "      <td>0</td>\n",
       "      <td>5993</td>\n",
       "      <td>19479</td>\n",
       "      <td>8</td>\n",
       "      <td>1</td>\n",
       "      <td>11</td>\n",
       "      <td>3</td>\n",
       "      <td>1</td>\n",
       "      <td>80</td>\n",
       "      <td>0</td>\n",
       "      <td>8</td>\n",
       "      <td>0</td>\n",
       "      <td>1</td>\n",
       "      <td>6</td>\n",
       "      <td>4</td>\n",
       "      <td>0</td>\n",
       "      <td>5</td>\n",
       "    </tr>\n",
       "    <tr>\n",
       "      <th>1</th>\n",
       "      <td>49</td>\n",
       "      <td>0</td>\n",
       "      <td>2</td>\n",
       "      <td>279</td>\n",
       "      <td>1</td>\n",
       "      <td>8</td>\n",
       "      <td>1</td>\n",
       "      <td>1</td>\n",
       "      <td>1</td>\n",
       "      <td>2</td>\n",
       "      <td>3</td>\n",
       "      <td>1</td>\n",
       "      <td>61</td>\n",
       "      <td>2</td>\n",
       "      <td>2</td>\n",
       "      <td>3</td>\n",
       "      <td>2</td>\n",
       "      <td>1</td>\n",
       "      <td>5130</td>\n",
       "      <td>24907</td>\n",
       "      <td>1</td>\n",
       "      <td>0</td>\n",
       "      <td>23</td>\n",
       "      <td>4</td>\n",
       "      <td>4</td>\n",
       "      <td>80</td>\n",
       "      <td>1</td>\n",
       "      <td>10</td>\n",
       "      <td>3</td>\n",
       "      <td>3</td>\n",
       "      <td>10</td>\n",
       "      <td>7</td>\n",
       "      <td>1</td>\n",
       "      <td>7</td>\n",
       "    </tr>\n",
       "    <tr>\n",
       "      <th>2</th>\n",
       "      <td>37</td>\n",
       "      <td>1</td>\n",
       "      <td>1</td>\n",
       "      <td>1373</td>\n",
       "      <td>1</td>\n",
       "      <td>2</td>\n",
       "      <td>2</td>\n",
       "      <td>0</td>\n",
       "      <td>1</td>\n",
       "      <td>4</td>\n",
       "      <td>4</td>\n",
       "      <td>1</td>\n",
       "      <td>92</td>\n",
       "      <td>2</td>\n",
       "      <td>1</td>\n",
       "      <td>4</td>\n",
       "      <td>3</td>\n",
       "      <td>0</td>\n",
       "      <td>2090</td>\n",
       "      <td>2396</td>\n",
       "      <td>6</td>\n",
       "      <td>1</td>\n",
       "      <td>15</td>\n",
       "      <td>3</td>\n",
       "      <td>2</td>\n",
       "      <td>80</td>\n",
       "      <td>0</td>\n",
       "      <td>7</td>\n",
       "      <td>3</td>\n",
       "      <td>3</td>\n",
       "      <td>0</td>\n",
       "      <td>0</td>\n",
       "      <td>0</td>\n",
       "      <td>0</td>\n",
       "    </tr>\n",
       "    <tr>\n",
       "      <th>3</th>\n",
       "      <td>33</td>\n",
       "      <td>0</td>\n",
       "      <td>2</td>\n",
       "      <td>1392</td>\n",
       "      <td>1</td>\n",
       "      <td>3</td>\n",
       "      <td>4</td>\n",
       "      <td>1</td>\n",
       "      <td>1</td>\n",
       "      <td>5</td>\n",
       "      <td>4</td>\n",
       "      <td>0</td>\n",
       "      <td>56</td>\n",
       "      <td>3</td>\n",
       "      <td>1</td>\n",
       "      <td>3</td>\n",
       "      <td>3</td>\n",
       "      <td>1</td>\n",
       "      <td>2909</td>\n",
       "      <td>23159</td>\n",
       "      <td>1</td>\n",
       "      <td>1</td>\n",
       "      <td>11</td>\n",
       "      <td>3</td>\n",
       "      <td>3</td>\n",
       "      <td>80</td>\n",
       "      <td>0</td>\n",
       "      <td>8</td>\n",
       "      <td>3</td>\n",
       "      <td>3</td>\n",
       "      <td>8</td>\n",
       "      <td>7</td>\n",
       "      <td>3</td>\n",
       "      <td>0</td>\n",
       "    </tr>\n",
       "    <tr>\n",
       "      <th>4</th>\n",
       "      <td>27</td>\n",
       "      <td>0</td>\n",
       "      <td>1</td>\n",
       "      <td>591</td>\n",
       "      <td>1</td>\n",
       "      <td>2</td>\n",
       "      <td>1</td>\n",
       "      <td>3</td>\n",
       "      <td>1</td>\n",
       "      <td>7</td>\n",
       "      <td>1</td>\n",
       "      <td>1</td>\n",
       "      <td>40</td>\n",
       "      <td>3</td>\n",
       "      <td>1</td>\n",
       "      <td>4</td>\n",
       "      <td>2</td>\n",
       "      <td>1</td>\n",
       "      <td>3468</td>\n",
       "      <td>16632</td>\n",
       "      <td>9</td>\n",
       "      <td>0</td>\n",
       "      <td>12</td>\n",
       "      <td>3</td>\n",
       "      <td>4</td>\n",
       "      <td>80</td>\n",
       "      <td>1</td>\n",
       "      <td>6</td>\n",
       "      <td>3</td>\n",
       "      <td>3</td>\n",
       "      <td>2</td>\n",
       "      <td>2</td>\n",
       "      <td>2</td>\n",
       "      <td>2</td>\n",
       "    </tr>\n",
       "  </tbody>\n",
       "</table>\n",
       "</div>"
      ],
      "text/plain": [
       "   Age  Attrition  BusinessTravel  DailyRate  Department  DistanceFromHome  \\\n",
       "0   41          1               1       1102           0                 1   \n",
       "1   49          0               2        279           1                 8   \n",
       "2   37          1               1       1373           1                 2   \n",
       "3   33          0               2       1392           1                 3   \n",
       "4   27          0               1        591           1                 2   \n",
       "\n",
       "   Education  EducationField  EmployeeCount  EmployeeNumber  \\\n",
       "0          2               1              1               1   \n",
       "1          1               1              1               2   \n",
       "2          2               0              1               4   \n",
       "3          4               1              1               5   \n",
       "4          1               3              1               7   \n",
       "\n",
       "   EnvironmentSatisfaction  Gender  HourlyRate  JobInvolvement  JobLevel  \\\n",
       "0                        2       0          94               3         2   \n",
       "1                        3       1          61               2         2   \n",
       "2                        4       1          92               2         1   \n",
       "3                        4       0          56               3         1   \n",
       "4                        1       1          40               3         1   \n",
       "\n",
       "   JobRole  JobSatisfaction  MaritalStatus  MonthlyIncome  MonthlyRate  \\\n",
       "0        1                4              0           5993        19479   \n",
       "1        3                2              1           5130        24907   \n",
       "2        4                3              0           2090         2396   \n",
       "3        3                3              1           2909        23159   \n",
       "4        4                2              1           3468        16632   \n",
       "\n",
       "   NumCompaniesWorked  OverTime  PercentSalaryHike  PerformanceRating  \\\n",
       "0                   8         1                 11                  3   \n",
       "1                   1         0                 23                  4   \n",
       "2                   6         1                 15                  3   \n",
       "3                   1         1                 11                  3   \n",
       "4                   9         0                 12                  3   \n",
       "\n",
       "   RelationshipSatisfaction  StandardHours  StockOptionLevel  \\\n",
       "0                         1             80                 0   \n",
       "1                         4             80                 1   \n",
       "2                         2             80                 0   \n",
       "3                         3             80                 0   \n",
       "4                         4             80                 1   \n",
       "\n",
       "   TotalWorkingYears  TrainingTimesLastYear  WorkLifeBalance  YearsAtCompany  \\\n",
       "0                  8                      0                1               6   \n",
       "1                 10                      3                3              10   \n",
       "2                  7                      3                3               0   \n",
       "3                  8                      3                3               8   \n",
       "4                  6                      3                3               2   \n",
       "\n",
       "   YearsInCurrentRole  YearsSinceLastPromotion  YearsWithCurrManager  \n",
       "0                   4                        0                     5  \n",
       "1                   7                        1                     7  \n",
       "2                   0                        0                     0  \n",
       "3                   7                        3                     0  \n",
       "4                   2                        2                     2  "
      ]
     },
     "metadata": {},
     "execution_count": 9
    }
   ],
   "metadata": {
    "tags": [],
    "cell_id": "00010-d56588a0-47a3-4643-ad77-ffb2864acc80",
    "deepnote_to_be_reexecuted": false,
    "source_hash": "ad904b3e",
    "execution_start": 1631582435740,
    "execution_millis": 108,
    "deepnote_cell_type": "code"
   }
  },
  {
   "cell_type": "code",
   "execution_count": null,
   "source": [
    "df_ibm.info() # data is ready for explore"
   ],
   "outputs": [
    {
     "output_type": "stream",
     "name": "stdout",
     "text": [
      "<class 'pandas.core.frame.DataFrame'>\n",
      "RangeIndex: 1470 entries, 0 to 1469\n",
      "Data columns (total 34 columns):\n",
      " #   Column                    Non-Null Count  Dtype\n",
      "---  ------                    --------------  -----\n",
      " 0   Age                       1470 non-null   int64\n",
      " 1   Attrition                 1470 non-null   int64\n",
      " 2   BusinessTravel            1470 non-null   int64\n",
      " 3   DailyRate                 1470 non-null   int64\n",
      " 4   Department                1470 non-null   int64\n",
      " 5   DistanceFromHome          1470 non-null   int64\n",
      " 6   Education                 1470 non-null   int64\n",
      " 7   EducationField            1470 non-null   int64\n",
      " 8   EmployeeCount             1470 non-null   int64\n",
      " 9   EmployeeNumber            1470 non-null   int64\n",
      " 10  EnvironmentSatisfaction   1470 non-null   int64\n",
      " 11  Gender                    1470 non-null   int64\n",
      " 12  HourlyRate                1470 non-null   int64\n",
      " 13  JobInvolvement            1470 non-null   int64\n",
      " 14  JobLevel                  1470 non-null   int64\n",
      " 15  JobRole                   1470 non-null   int64\n",
      " 16  JobSatisfaction           1470 non-null   int64\n",
      " 17  MaritalStatus             1470 non-null   int64\n",
      " 18  MonthlyIncome             1470 non-null   int64\n",
      " 19  MonthlyRate               1470 non-null   int64\n",
      " 20  NumCompaniesWorked        1470 non-null   int64\n",
      " 21  OverTime                  1470 non-null   int64\n",
      " 22  PercentSalaryHike         1470 non-null   int64\n",
      " 23  PerformanceRating         1470 non-null   int64\n",
      " 24  RelationshipSatisfaction  1470 non-null   int64\n",
      " 25  StandardHours             1470 non-null   int64\n",
      " 26  StockOptionLevel          1470 non-null   int64\n",
      " 27  TotalWorkingYears         1470 non-null   int64\n",
      " 28  TrainingTimesLastYear     1470 non-null   int64\n",
      " 29  WorkLifeBalance           1470 non-null   int64\n",
      " 30  YearsAtCompany            1470 non-null   int64\n",
      " 31  YearsInCurrentRole        1470 non-null   int64\n",
      " 32  YearsSinceLastPromotion   1470 non-null   int64\n",
      " 33  YearsWithCurrManager      1470 non-null   int64\n",
      "dtypes: int64(34)\n",
      "memory usage: 390.6 KB\n"
     ]
    }
   ],
   "metadata": {
    "tags": [],
    "cell_id": "00015-1efe2dc3-ec91-4969-8d8c-1779db1f2a96",
    "deepnote_to_be_reexecuted": false,
    "source_hash": "c1c51669",
    "execution_start": 1631582435843,
    "execution_millis": 32,
    "deepnote_cell_type": "code"
   }
  },
  {
   "cell_type": "markdown",
   "source": [
    "### Attrition Distribution"
   ],
   "metadata": {
    "tags": [],
    "is_collapsed": false,
    "cell_id": "00017-d4a38962-08a5-43c7-9f3a-646ff9d6f7f1",
    "deepnote_cell_type": "text-cell-h3"
   }
  },
  {
   "cell_type": "code",
   "execution_count": null,
   "source": [
    "df_attri = df_ibm.groupby(['Attrition'])['Attrition'].count()\r\n",
    "df_attri"
   ],
   "outputs": [
    {
     "output_type": "execute_result",
     "data": {
      "text/plain": [
       "Attrition\n",
       "0    1233\n",
       "1     237\n",
       "Name: Attrition, dtype: int64"
      ]
     },
     "metadata": {},
     "execution_count": 11
    }
   ],
   "metadata": {
    "tags": [],
    "cell_id": "00018-4d69e6ef-9d7a-409b-bf27-f259e06167f2",
    "deepnote_to_be_reexecuted": false,
    "source_hash": "bc9ec83c",
    "execution_start": 1631582435870,
    "execution_millis": 22,
    "deepnote_cell_type": "code"
   }
  },
  {
   "cell_type": "code",
   "execution_count": null,
   "source": [
    "df_attri.plot(kind='bar', title='Attrition Distribution - Data balance', ylabel='numbers', xlabel = 'Attrition')"
   ],
   "outputs": [
    {
     "output_type": "execute_result",
     "data": {
      "text/plain": [
       "<AxesSubplot:title={'center':'Attrition Distribution - Data balance'}, xlabel='Attrition', ylabel='numbers'>"
      ]
     },
     "metadata": {},
     "execution_count": 12
    },
    {
     "output_type": "display_data",
     "data": {
      "image/png": "[encoded data removed]",
      "text/plain": [
       "<Figure size 432x288 with 1 Axes>"
      ]
     },
     "metadata": {
      "needs_background": "light",
      "image/png": {
       "width": 395,
       "height": 275
      }
     }
    }
   ],
   "metadata": {
    "tags": [],
    "cell_id": "00019-31118593-b6be-4fd3-8275-71b044670220",
    "deepnote_to_be_reexecuted": false,
    "source_hash": "e847cb01",
    "execution_start": 1631582435893,
    "execution_millis": 351,
    "deepnote_cell_type": "code"
   }
  },
  {
   "cell_type": "code",
   "execution_count": null,
   "source": [
    "turnover_rate = len(df_ibm[df_ibm['Attrition']==1]) / len(df_ibm)\r\n",
    "turnover_rate"
   ],
   "outputs": [
    {
     "output_type": "execute_result",
     "data": {
      "text/plain": [
       "0.16122448979591836"
      ]
     },
     "metadata": {},
     "execution_count": 13
    }
   ],
   "metadata": {
    "tags": [],
    "cell_id": "00024-1d19b78d-5f50-48db-aad8-b1162a9e099a",
    "deepnote_to_be_reexecuted": false,
    "source_hash": "8cedff81",
    "execution_start": 1631582436248,
    "execution_millis": 29,
    "deepnote_cell_type": "code"
   }
  },
  {
   "cell_type": "markdown",
   "source": [
    "- From the IBM data, we can find the turnover rate is about 16%. Based on the data of [LinkedIn](https://www.linkedin.com/business/talent/blog/talent-strategy/industries-with-the-highest-turnover-rates#:~:text=Tech%20companies%20(software%2C%20not%20hardware,round%20out%20the%20top%20five.), in 2017, Technology industry suffered the highest turnover rate amongst all the indsutries, achieved 13.2% based on LinkedIn data, while, it is still 3% lower than that of IBM. So, it deserves us to further explore the reasons and try to find the correlations.\n",
    "\n",
    "- IBM Data distribution about attribution is highly unbalanced. So, we should take care when we design learning algorithm for predictions and select the algorithm evaluation metrics."
   ],
   "metadata": {
    "tags": [],
    "cell_id": "00020-0133ad03-de10-4c17-b092-b8886948ca6e",
    "deepnote_cell_type": "markdown"
   }
  },
  {
   "cell_type": "markdown",
   "source": [
    "### General Correlations with Attrition"
   ],
   "metadata": {
    "tags": [],
    "is_collapsed": false,
    "cell_id": "00021-419af093-9b88-41c6-b914-5db203b7b810",
    "deepnote_cell_type": "text-cell-h3"
   }
  },
  {
   "cell_type": "code",
   "execution_count": null,
   "source": [
    "corr_matrix =  df_ibm.corr(method='kendall')\r\n",
    "corr_matrix['Attrition'].sort_values(ascending=False)"
   ],
   "outputs": [
    {
     "output_type": "execute_result",
     "data": {
      "text/plain": [
       "Attrition                   1.000000\n",
       "OverTime                    0.246118\n",
       "BusinessTravel              0.123712\n",
       "DistanceFromHome            0.066765\n",
       "EducationField              0.059543\n",
       "Gender                      0.029453\n",
       "NumCompaniesWorked          0.026854\n",
       "MonthlyRate                 0.012462\n",
       "PerformanceRating           0.002889\n",
       "HourlyRate                 -0.005504\n",
       "EmployeeNumber             -0.008469\n",
       "PercentSalaryHike          -0.020190\n",
       "Education                  -0.027817\n",
       "RelationshipSatisfaction   -0.039069\n",
       "DailyRate                  -0.046549\n",
       "TrainingTimesLastYear      -0.047154\n",
       "YearsSinceLastPromotion    -0.047753\n",
       "JobRole                    -0.048717\n",
       "WorkLifeBalance            -0.049365\n",
       "Department                 -0.067866\n",
       "EnvironmentSatisfaction    -0.088377\n",
       "JobSatisfaction            -0.094305\n",
       "JobInvolvement             -0.113526\n",
       "Age                        -0.142012\n",
       "YearsWithCurrManager       -0.152006\n",
       "MaritalStatus              -0.156481\n",
       "YearsInCurrentRole         -0.156711\n",
       "YearsAtCompany             -0.161006\n",
       "MonthlyIncome              -0.161980\n",
       "StockOptionLevel           -0.162844\n",
       "TotalWorkingYears          -0.166781\n",
       "JobLevel                   -0.175770\n",
       "EmployeeCount                    NaN\n",
       "StandardHours                    NaN\n",
       "Name: Attrition, dtype: float64"
      ]
     },
     "metadata": {},
     "execution_count": 14
    }
   ],
   "metadata": {
    "tags": [],
    "cell_id": "00022-f3076e34-8b0d-43db-a541-8213c239f842",
    "deepnote_to_be_reexecuted": false,
    "source_hash": "6f1b0559",
    "execution_start": 1631582436270,
    "execution_millis": 565,
    "deepnote_cell_type": "code"
   }
  },
  {
   "cell_type": "code",
   "execution_count": null,
   "source": [
    "plt.figure(figsize=(20,8))\r\n",
    "corr_heatmap = sns.heatmap(corr_matrix, vmin=-1, vmax=1, cmap='BrBG')\r\n",
    "corr_heatmap.set_title(\"Attrition Correlation (Kendall)\",pad=12)\r\n"
   ],
   "outputs": [
    {
     "output_type": "execute_result",
     "data": {
      "text/plain": [
       "Text(0.5, 1.0, 'Attrition Correlation (Kendall)')"
      ]
     },
     "metadata": {},
     "execution_count": 15
    },
    {
     "output_type": "display_data",
     "data": {
      "image/png": "[encoded data removed]",
      "text/plain": [
       "<Figure size 1440x576 with 2 Axes>"
      ]
     },
     "metadata": {
      "needs_background": "light",
      "image/png": {
       "width": 1153,
       "height": 602
      }
     }
    }
   ],
   "metadata": {
    "tags": [],
    "cell_id": "00023-1cb6a51a-4c5e-4a59-839c-99bf0815b650",
    "deepnote_to_be_reexecuted": false,
    "source_hash": "ecb1c015",
    "execution_start": 1631582436832,
    "execution_millis": 2958,
    "deepnote_cell_type": "code"
   }
  },
  {
   "cell_type": "code",
   "execution_count": null,
   "source": [
    "plt.figure(figsize = (8,20))\r\n",
    "\r\n",
    "corr_heatmap2 = sns.heatmap(corr_matrix[['Attrition']].sort_values(by = 'Attrition', ascending=False), vmin=-1, vmax=1, annot=True, cmap='BrBG')\r\n",
    "\r\n",
    "corr_heatmap2.set_title('Features Correlation with Attrition', fontdict={'fontsize':18}, pad=16)\r\n"
   ],
   "outputs": [
    {
     "output_type": "execute_result",
     "data": {
      "text/plain": [
       "Text(0.5, 1.0, 'Features Correlation with Attrition')"
      ]
     },
     "metadata": {},
     "execution_count": 16
    },
    {
     "output_type": "display_data",
     "data": {
      "image/png": "[encoded data removed]",
      "text/plain": [
       "<Figure size 576x1440 with 2 Axes>"
      ]
     },
     "metadata": {
      "needs_background": "light",
      "image/png": {
       "width": 617,
       "height": 1148
      }
     }
    }
   ],
   "metadata": {
    "tags": [],
    "cell_id": "00024-0a6271c5-4089-4d10-87a7-ecb059a6ffed",
    "deepnote_to_be_reexecuted": false,
    "source_hash": "256efc0e",
    "execution_start": 1631582439789,
    "execution_millis": 1866,
    "deepnote_cell_type": "code"
   }
  },
  {
   "cell_type": "markdown",
   "source": [
    "### How many people left who suffered overtime ?"
   ],
   "metadata": {
    "tags": [],
    "is_collapsed": false,
    "cell_id": "00030-f7708ae3-a2e8-405d-89b5-1f4ab0d06bdf",
    "deepnote_cell_type": "text-cell-h3"
   }
  },
  {
   "cell_type": "code",
   "execution_count": null,
   "source": [
    "# general overtime percentage\r\n",
    "ot_rate = len(df_ibm[df_ibm['OverTime']==1])/ len(df_ibm)\r\n",
    "print(\"General OT rate: \", \"{:.1%}\".format(ot_rate))\r\n",
    "\r\n",
    "# the percentage that OT conditions suffered by people left \r\n",
    "df_left = df_ibm[df_ibm['Attrition']==1]\r\n",
    "ot_rate_left = len(df_left[df_left['OverTime']==1])/ len(df_left)\r\n",
    "print(\"OT rate of the Attrition: \", \"{:.1%}\".format(ot_rate_left))"
   ],
   "outputs": [
    {
     "output_type": "stream",
     "name": "stdout",
     "text": [
      "General OT rate:  28.3%\n",
      "OT rate of the Attrition:  53.6%\n"
     ]
    }
   ],
   "metadata": {
    "tags": [],
    "cell_id": "00030-9738856b-3c93-4ae3-9683-acb5401d46cf",
    "deepnote_to_be_reexecuted": false,
    "source_hash": "53918020",
    "execution_start": 1631582441684,
    "execution_millis": 15,
    "deepnote_cell_type": "code"
   }
  },
  {
   "cell_type": "markdown",
   "source": [
    "### Department &amp; OverTime &amp; Attrition"
   ],
   "metadata": {
    "tags": [],
    "is_collapsed": false,
    "cell_id": "00032-42571d22-c3d9-4a6d-8e8e-5f84ef37800e",
    "deepnote_cell_type": "text-cell-h3"
   }
  },
  {
   "cell_type": "code",
   "execution_count": null,
   "source": [
    "# which department suffered Attrition the worst ?\r\n",
    "print(\"Attrition counts by Department:\",\"\\n\",df_left.groupby('Department')['Department'].count())\r\n",
    "\r\n",
    "# which department suffered OT in worst ?\r\n",
    "# Department : {\"Sales\":0, \"Research & Development\":1, \"Human Resources\":2}\r\n",
    "print(\"Overtime conditions of the Attrition by Department: \",\"\\n\",df_left.groupby(['Department', 'OverTime'])['Department'].count())\r\n",
    "\r\n",
    "\r\n",
    "# staff numbers by Department \r\n",
    "print(\"Employee counts by Department: \", \"\\n\", df_ibm.groupby(['Department'])['Department'].count())"
   ],
   "outputs": [
    {
     "output_type": "stream",
     "name": "stdout",
     "text": [
      "Attrition counts by Department: \n",
      " Department\n",
      "0     92\n",
      "1    133\n",
      "2     12\n",
      "Name: Department, dtype: int64\n",
      "Overtime conditions of the Attrition by Department:  \n",
      " Department  OverTime\n",
      "0           0           44\n",
      "            1           48\n",
      "1           0           59\n",
      "            1           74\n",
      "2           0            7\n",
      "            1            5\n",
      "Name: Department, dtype: int64\n",
      "Employee counts by Department:  \n",
      " Department\n",
      "0    446\n",
      "1    961\n",
      "2     63\n",
      "Name: Department, dtype: int64\n"
     ]
    }
   ],
   "metadata": {
    "tags": [],
    "cell_id": "00033-15b87c8f-260c-4dfc-a27f-3b85b3e82ecd",
    "deepnote_to_be_reexecuted": false,
    "source_hash": "276f7b99",
    "execution_start": 1631582441708,
    "execution_millis": 10,
    "deepnote_cell_type": "code"
   }
  },
  {
   "cell_type": "markdown",
   "source": [
    "- 离职人数绝对值，R&D 占比最高，其次是 Sales 和 HR。 \n",
    "- 离职的部门相对值。 Sales最高(20.6%), R&D (13.8%), HR (19.0%)\n",
    "- 所以R&D离职人数高，是因为部门基数高，比例上来讲，还是Sales最高。\n",
    "- 在探索离职人群的加班情况时，R&D 的占比最高 55.6%， Sales 52.2%, HR 41.7%.\n",
    "\n",
    "但是到底是不是加班导致离职呢？ 从这里不能验证。下一步我们探索跟加班最直接相关的三个指标，工作满意度，工作生活平衡 和 收入。"
   ],
   "metadata": {
    "tags": [],
    "cell_id": "00034-70a450db-a945-4e52-ad1f-e1c985f666d9",
    "deepnote_cell_type": "markdown"
   }
  },
  {
   "cell_type": "markdown",
   "source": [
    "### 工作满意度"
   ],
   "metadata": {
    "tags": [],
    "is_collapsed": false,
    "cell_id": "00031-265de1c3-39ce-4d24-b2b8-bf9968dc84f1",
    "deepnote_cell_type": "text-cell-h3"
   }
  },
  {
   "cell_type": "code",
   "execution_count": null,
   "source": [
    "df_ibm['JobSatisfaction'].unique()"
   ],
   "outputs": [
    {
     "output_type": "execute_result",
     "data": {
      "text/plain": [
       "array([4, 2, 3, 1])"
      ]
     },
     "metadata": {},
     "execution_count": 19
    }
   ],
   "metadata": {
    "tags": [],
    "cell_id": "00035-72a02696-e3ad-484d-8eca-8ee3cf0a9224",
    "deepnote_to_be_reexecuted": false,
    "source_hash": "aaf1168f",
    "execution_start": 1631582441723,
    "execution_millis": 0,
    "deepnote_cell_type": "code"
   }
  },
  {
   "cell_type": "code",
   "execution_count": null,
   "source": [
    "df_satisfy = df_ibm.groupby(['Department','JobSatisfaction'])['JobSatisfaction'].count().reset_index(name='counts')\r\n",
    "df_dept = df_ibm.groupby(['Department'])['Department'].count().reset_index(name='counts_dept')\r\n",
    "df_satisfy = pd.merge(df_satisfy, df_dept, on='Department', how='outer')\r\n",
    "df_satisfy['percent'] = df_satisfy['counts'] / df_satisfy['counts_dept']\r\n",
    "df_satisfy['Department'] = df_satisfy['Department'].map({0:\"Sales\", 1:\"R&D\", 2:\"HR\"})\r\n",
    "df_satisfy"
   ],
   "outputs": [
    {
     "output_type": "execute_result",
     "data": {
      "application/vnd.deepnote.dataframe.v2+json": {
       "row_count": 12,
       "column_count": 5,
       "columns": [
        {
         "name": "Department",
         "dtype": "object",
         "stats": {
          "unique_count": 3,
          "nan_count": 0,
          "categories": [
           {
            "name": "Sales",
            "count": 4
           },
           {
            "name": "R&D",
            "count": 4
           },
           {
            "name": "HR",
            "count": 4
           }
          ]
         }
        },
        {
         "name": "JobSatisfaction",
         "dtype": "int64",
         "stats": {
          "unique_count": 4,
          "nan_count": 0,
          "min": "1",
          "max": "4",
          "histogram": [
           {
            "bin_start": 1,
            "bin_end": 1.3,
            "count": 3
           },
           {
            "bin_start": 1.3,
            "bin_end": 1.6,
            "count": 0
           },
           {
            "bin_start": 1.6,
            "bin_end": 1.9,
            "count": 0
           },
           {
            "bin_start": 1.9,
            "bin_end": 2.2,
            "count": 3
           },
           {
            "bin_start": 2.2,
            "bin_end": 2.5,
            "count": 0
           },
           {
            "bin_start": 2.5,
            "bin_end": 2.8,
            "count": 0
           },
           {
            "bin_start": 2.8,
            "bin_end": 3.1,
            "count": 3
           },
           {
            "bin_start": 3.1,
            "bin_end": 3.4,
            "count": 0
           },
           {
            "bin_start": 3.4,
            "bin_end": 3.6999999999999997,
            "count": 0
           },
           {
            "bin_start": 3.6999999999999997,
            "bin_end": 4,
            "count": 3
           }
          ]
         }
        },
        {
         "name": "counts",
         "dtype": "int64",
         "stats": {
          "unique_count": 11,
          "nan_count": 0,
          "min": "11",
          "max": "300",
          "histogram": [
           {
            "bin_start": 11,
            "bin_end": 39.9,
            "count": 4
           },
           {
            "bin_start": 39.9,
            "bin_end": 68.8,
            "count": 0
           },
           {
            "bin_start": 68.8,
            "bin_end": 97.69999999999999,
            "count": 2
           },
           {
            "bin_start": 97.69999999999999,
            "bin_end": 126.6,
            "count": 0
           },
           {
            "bin_start": 126.6,
            "bin_end": 155.5,
            "count": 2
           },
           {
            "bin_start": 155.5,
            "bin_end": 184.39999999999998,
            "count": 1
           },
           {
            "bin_start": 184.39999999999998,
            "bin_end": 213.29999999999998,
            "count": 1
           },
           {
            "bin_start": 213.29999999999998,
            "bin_end": 242.2,
            "count": 0
           },
           {
            "bin_start": 242.2,
            "bin_end": 271.09999999999997,
            "count": 0
           },
           {
            "bin_start": 271.09999999999997,
            "bin_end": 300,
            "count": 2
           }
          ]
         }
        },
        {
         "name": "counts_dept",
         "dtype": "int64",
         "stats": {
          "unique_count": 3,
          "nan_count": 0,
          "min": "63",
          "max": "961",
          "histogram": [
           {
            "bin_start": 63,
            "bin_end": 152.8,
            "count": 4
           },
           {
            "bin_start": 152.8,
            "bin_end": 242.6,
            "count": 0
           },
           {
            "bin_start": 242.6,
            "bin_end": 332.4,
            "count": 0
           },
           {
            "bin_start": 332.4,
            "bin_end": 422.2,
            "count": 0
           },
           {
            "bin_start": 422.2,
            "bin_end": 512,
            "count": 4
           },
           {
            "bin_start": 512,
            "bin_end": 601.8,
            "count": 0
           },
           {
            "bin_start": 601.8,
            "bin_end": 691.6,
            "count": 0
           },
           {
            "bin_start": 691.6,
            "bin_end": 781.4,
            "count": 0
           },
           {
            "bin_start": 781.4,
            "bin_end": 871.1999999999999,
            "count": 0
           },
           {
            "bin_start": 871.1999999999999,
            "bin_end": 961,
            "count": 4
           }
          ]
         }
        },
        {
         "name": "percent",
         "dtype": "float64",
         "stats": {
          "unique_count": 11,
          "nan_count": 0,
          "min": "0.1746031746031746",
          "max": "0.3295964125560538",
          "histogram": [
           {
            "bin_start": 0.1746031746031746,
            "bin_end": 0.19010249839846252,
            "count": 2
           },
           {
            "bin_start": 0.19010249839846252,
            "bin_end": 0.20560182219375045,
            "count": 3
           },
           {
            "bin_start": 0.20560182219375045,
            "bin_end": 0.22110114598903835,
            "count": 0
           },
           {
            "bin_start": 0.22110114598903835,
            "bin_end": 0.23660046978432628,
            "count": 0
           },
           {
            "bin_start": 0.23660046978432628,
            "bin_end": 0.2520997935796142,
            "count": 1
           },
           {
            "bin_start": 0.2520997935796142,
            "bin_end": 0.26759911737490216,
            "count": 0
           },
           {
            "bin_start": 0.26759911737490216,
            "bin_end": 0.28309844117019006,
            "count": 1
           },
           {
            "bin_start": 0.28309844117019006,
            "bin_end": 0.29859776496547796,
            "count": 1
           },
           {
            "bin_start": 0.29859776496547796,
            "bin_end": 0.3140970887607659,
            "count": 2
           },
           {
            "bin_start": 0.3140970887607659,
            "bin_end": 0.3295964125560538,
            "count": 2
           }
          ]
         }
        },
        {
         "name": "_deepnote_index_column",
         "dtype": "int64"
        }
       ],
       "rows_top": [
        {
         "Department": "Sales",
         "JobSatisfaction": 1,
         "counts": 86,
         "counts_dept": 446,
         "percent": 0.19282511210762332,
         "_deepnote_index_column": 0
        },
        {
         "Department": "Sales",
         "JobSatisfaction": 2,
         "counts": 86,
         "counts_dept": 446,
         "percent": 0.19282511210762332,
         "_deepnote_index_column": 1
        },
        {
         "Department": "Sales",
         "JobSatisfaction": 3,
         "counts": 127,
         "counts_dept": 446,
         "percent": 0.28475336322869954,
         "_deepnote_index_column": 2
        },
        {
         "Department": "Sales",
         "JobSatisfaction": 4,
         "counts": 147,
         "counts_dept": 446,
         "percent": 0.3295964125560538,
         "_deepnote_index_column": 3
        },
        {
         "Department": "R&D",
         "JobSatisfaction": 1,
         "counts": 192,
         "counts_dept": 961,
         "percent": 0.19979188345473464,
         "_deepnote_index_column": 4
        },
        {
         "Department": "R&D",
         "JobSatisfaction": 2,
         "counts": 174,
         "counts_dept": 961,
         "percent": 0.18106139438085328,
         "_deepnote_index_column": 5
        },
        {
         "Department": "R&D",
         "JobSatisfaction": 3,
         "counts": 300,
         "counts_dept": 961,
         "percent": 0.31217481789802287,
         "_deepnote_index_column": 6
        },
        {
         "Department": "R&D",
         "JobSatisfaction": 4,
         "counts": 295,
         "counts_dept": 961,
         "percent": 0.30697190426638915,
         "_deepnote_index_column": 7
        },
        {
         "Department": "HR",
         "JobSatisfaction": 1,
         "counts": 11,
         "counts_dept": 63,
         "percent": 0.1746031746031746,
         "_deepnote_index_column": 8
        },
        {
         "Department": "HR",
         "JobSatisfaction": 2,
         "counts": 20,
         "counts_dept": 63,
         "percent": 0.31746031746031744,
         "_deepnote_index_column": 9
        },
        {
         "Department": "HR",
         "JobSatisfaction": 3,
         "counts": 15,
         "counts_dept": 63,
         "percent": 0.23809523809523808,
         "_deepnote_index_column": 10
        },
        {
         "Department": "HR",
         "JobSatisfaction": 4,
         "counts": 17,
         "counts_dept": 63,
         "percent": 0.2698412698412698,
         "_deepnote_index_column": 11
        }
       ],
       "rows_bottom": null
      },
      "text/html": [
       "<div>\n",
       "<style scoped>\n",
       "    .dataframe tbody tr th:only-of-type {\n",
       "        vertical-align: middle;\n",
       "    }\n",
       "\n",
       "    .dataframe tbody tr th {\n",
       "        vertical-align: top;\n",
       "    }\n",
       "\n",
       "    .dataframe thead th {\n",
       "        text-align: right;\n",
       "    }\n",
       "</style>\n",
       "<table border=\"1\" class=\"dataframe\">\n",
       "  <thead>\n",
       "    <tr style=\"text-align: right;\">\n",
       "      <th></th>\n",
       "      <th>Department</th>\n",
       "      <th>JobSatisfaction</th>\n",
       "      <th>counts</th>\n",
       "      <th>counts_dept</th>\n",
       "      <th>percent</th>\n",
       "    </tr>\n",
       "  </thead>\n",
       "  <tbody>\n",
       "    <tr>\n",
       "      <th>0</th>\n",
       "      <td>Sales</td>\n",
       "      <td>1</td>\n",
       "      <td>86</td>\n",
       "      <td>446</td>\n",
       "      <td>0.192825</td>\n",
       "    </tr>\n",
       "    <tr>\n",
       "      <th>1</th>\n",
       "      <td>Sales</td>\n",
       "      <td>2</td>\n",
       "      <td>86</td>\n",
       "      <td>446</td>\n",
       "      <td>0.192825</td>\n",
       "    </tr>\n",
       "    <tr>\n",
       "      <th>2</th>\n",
       "      <td>Sales</td>\n",
       "      <td>3</td>\n",
       "      <td>127</td>\n",
       "      <td>446</td>\n",
       "      <td>0.284753</td>\n",
       "    </tr>\n",
       "    <tr>\n",
       "      <th>3</th>\n",
       "      <td>Sales</td>\n",
       "      <td>4</td>\n",
       "      <td>147</td>\n",
       "      <td>446</td>\n",
       "      <td>0.329596</td>\n",
       "    </tr>\n",
       "    <tr>\n",
       "      <th>4</th>\n",
       "      <td>R&amp;D</td>\n",
       "      <td>1</td>\n",
       "      <td>192</td>\n",
       "      <td>961</td>\n",
       "      <td>0.199792</td>\n",
       "    </tr>\n",
       "    <tr>\n",
       "      <th>5</th>\n",
       "      <td>R&amp;D</td>\n",
       "      <td>2</td>\n",
       "      <td>174</td>\n",
       "      <td>961</td>\n",
       "      <td>0.181061</td>\n",
       "    </tr>\n",
       "    <tr>\n",
       "      <th>6</th>\n",
       "      <td>R&amp;D</td>\n",
       "      <td>3</td>\n",
       "      <td>300</td>\n",
       "      <td>961</td>\n",
       "      <td>0.312175</td>\n",
       "    </tr>\n",
       "    <tr>\n",
       "      <th>7</th>\n",
       "      <td>R&amp;D</td>\n",
       "      <td>4</td>\n",
       "      <td>295</td>\n",
       "      <td>961</td>\n",
       "      <td>0.306972</td>\n",
       "    </tr>\n",
       "    <tr>\n",
       "      <th>8</th>\n",
       "      <td>HR</td>\n",
       "      <td>1</td>\n",
       "      <td>11</td>\n",
       "      <td>63</td>\n",
       "      <td>0.174603</td>\n",
       "    </tr>\n",
       "    <tr>\n",
       "      <th>9</th>\n",
       "      <td>HR</td>\n",
       "      <td>2</td>\n",
       "      <td>20</td>\n",
       "      <td>63</td>\n",
       "      <td>0.317460</td>\n",
       "    </tr>\n",
       "    <tr>\n",
       "      <th>10</th>\n",
       "      <td>HR</td>\n",
       "      <td>3</td>\n",
       "      <td>15</td>\n",
       "      <td>63</td>\n",
       "      <td>0.238095</td>\n",
       "    </tr>\n",
       "    <tr>\n",
       "      <th>11</th>\n",
       "      <td>HR</td>\n",
       "      <td>4</td>\n",
       "      <td>17</td>\n",
       "      <td>63</td>\n",
       "      <td>0.269841</td>\n",
       "    </tr>\n",
       "  </tbody>\n",
       "</table>\n",
       "</div>"
      ],
      "text/plain": [
       "   Department  JobSatisfaction  counts  counts_dept   percent\n",
       "0       Sales                1      86          446  0.192825\n",
       "1       Sales                2      86          446  0.192825\n",
       "2       Sales                3     127          446  0.284753\n",
       "3       Sales                4     147          446  0.329596\n",
       "4         R&D                1     192          961  0.199792\n",
       "5         R&D                2     174          961  0.181061\n",
       "6         R&D                3     300          961  0.312175\n",
       "7         R&D                4     295          961  0.306972\n",
       "8          HR                1      11           63  0.174603\n",
       "9          HR                2      20           63  0.317460\n",
       "10         HR                3      15           63  0.238095\n",
       "11         HR                4      17           63  0.269841"
      ]
     },
     "metadata": {},
     "execution_count": 20
    }
   ],
   "metadata": {
    "tags": [],
    "cell_id": "00032-e01364a8-9ac2-464c-90fa-d642e344f6ef",
    "deepnote_to_be_reexecuted": false,
    "source_hash": "bb6757e3",
    "execution_start": 1631582441737,
    "execution_millis": 45,
    "deepnote_cell_type": "code"
   }
  },
  {
   "cell_type": "code",
   "execution_count": null,
   "source": [
    "# Normalized stacked Bar Chart\r\n",
    "base = alt.Chart(df_satisfy).mark_bar().encode(\r\n",
    "    x=alt.X('percent:Q', stack=\"normalize\", axis= None),\r\n",
    "    y=alt.Y('Department:N', axis =alt.Axis(labelFontSize=12, title=None)),\r\n",
    "    order = alt.Order('JobSatisfaction:O', sort='descending')\r\n",
    ")\r\n",
    "\r\n",
    "bars = base.encode(\r\n",
    "    detail = 'JobSatisfaction:O',\r\n",
    "    color= alt.Color('JobSatisfaction:O', scale = alt.Scale(scheme='redblue')),\r\n",
    ")\r\n",
    "\r\n",
    "text = base.mark_text(dx=-15, dy=3, color='black').encode(\r\n",
    "    text=alt.Text('percent:Q', format='.1%')\r\n",
    ")\r\n",
    "\r\n",
    "alt.layer(bars, text).properties(\r\n",
    "    title = 'Job Satisfaction Level Percentage by Department',\r\n",
    "    width = 400,\r\n",
    "    height = 200\r\n",
    ")"
   ],
   "outputs": [
    {
     "output_type": "execute_result",
     "data": {
      "text/html": [
       "\n",
       "<div id=\"altair-viz-e898cb033b194fc2a695e055b4b03006\"></div>\n",
       "<script type=\"text/javascript\">\n",
       "  (function(spec, embedOpt){\n",
       "    let outputDiv = document.currentScript.previousElementSibling;\n",
       "    if (outputDiv.id !== \"altair-viz-e898cb033b194fc2a695e055b4b03006\") {\n",
       "      outputDiv = document.getElementById(\"altair-viz-e898cb033b194fc2a695e055b4b03006\");\n",
       "    }\n",
       "    const paths = {\n",
       "      \"vega\": \"https://cdn.jsdelivr.net/npm//vega@5?noext\",\n",
       "      \"vega-lib\": \"https://cdn.jsdelivr.net/npm//vega-lib?noext\",\n",
       "      \"vega-lite\": \"https://cdn.jsdelivr.net/npm//vega-lite@4.8.1?noext\",\n",
       "      \"vega-embed\": \"https://cdn.jsdelivr.net/npm//vega-embed@6?noext\",\n",
       "    };\n",
       "\n",
       "    function loadScript(lib) {\n",
       "      return new Promise(function(resolve, reject) {\n",
       "        var s = document.createElement('script');\n",
       "        s.src = paths[lib];\n",
       "        s.async = true;\n",
       "        s.onload = () => resolve(paths[lib]);\n",
       "        s.onerror = () => reject(`Error loading script: ${paths[lib]}`);\n",
       "        document.getElementsByTagName(\"head\")[0].appendChild(s);\n",
       "      });\n",
       "    }\n",
       "\n",
       "    function showError(err) {\n",
       "      outputDiv.innerHTML = `<div class=\"error\" style=\"color:red;\">${err}</div>`;\n",
       "      throw err;\n",
       "    }\n",
       "\n",
       "    function displayChart(vegaEmbed) {\n",
       "      vegaEmbed(outputDiv, spec, embedOpt)\n",
       "        .catch(err => showError(`Javascript Error: ${err.message}<br>This usually means there's a typo in your chart specification. See the javascript console for the full traceback.`));\n",
       "    }\n",
       "\n",
       "    if(typeof define === \"function\" && define.amd) {\n",
       "      requirejs.config({paths});\n",
       "      require([\"vega-embed\"], displayChart, err => showError(`Error loading script: ${err.message}`));\n",
       "    } else if (typeof vegaEmbed === \"function\") {\n",
       "      displayChart(vegaEmbed);\n",
       "    } else {\n",
       "      loadScript(\"vega\")\n",
       "        .then(() => loadScript(\"vega-lite\"))\n",
       "        .then(() => loadScript(\"vega-embed\"))\n",
       "        .catch(showError)\n",
       "        .then(() => displayChart(vegaEmbed));\n",
       "    }\n",
       "  })({\"config\": {\"view\": {\"continuousWidth\": 400, \"continuousHeight\": 300}}, \"layer\": [{\"mark\": \"bar\", \"encoding\": {\"color\": {\"type\": \"ordinal\", \"field\": \"JobSatisfaction\", \"scale\": {\"scheme\": \"redblue\"}}, \"detail\": {\"type\": \"ordinal\", \"field\": \"JobSatisfaction\"}, \"order\": {\"type\": \"ordinal\", \"field\": \"JobSatisfaction\", \"sort\": \"descending\"}, \"x\": {\"type\": \"quantitative\", \"axis\": null, \"field\": \"percent\", \"stack\": \"normalize\"}, \"y\": {\"type\": \"nominal\", \"axis\": {\"labelFontSize\": 12, \"title\": null}, \"field\": \"Department\"}}}, {\"mark\": {\"type\": \"text\", \"color\": \"black\", \"dx\": -15, \"dy\": 3}, \"encoding\": {\"order\": {\"type\": \"ordinal\", \"field\": \"JobSatisfaction\", \"sort\": \"descending\"}, \"text\": {\"type\": \"quantitative\", \"field\": \"percent\", \"format\": \".1%\"}, \"x\": {\"type\": \"quantitative\", \"axis\": null, \"field\": \"percent\", \"stack\": \"normalize\"}, \"y\": {\"type\": \"nominal\", \"axis\": {\"labelFontSize\": 12, \"title\": null}, \"field\": \"Department\"}}}], \"data\": {\"name\": \"data-d57e66ee21cc917e38ed9fbb1c60cb23\"}, \"height\": 200, \"title\": \"Job Satisfaction Level Percentage by Department\", \"width\": 400, \"$schema\": \"https://vega.github.io/schema/vega-lite/v4.8.1.json\", \"datasets\": {\"data-d57e66ee21cc917e38ed9fbb1c60cb23\": [{\"Department\": \"Sales\", \"JobSatisfaction\": 1, \"counts\": 86, \"counts_dept\": 446, \"percent\": 0.19282511210762332}, {\"Department\": \"Sales\", \"JobSatisfaction\": 2, \"counts\": 86, \"counts_dept\": 446, \"percent\": 0.19282511210762332}, {\"Department\": \"Sales\", \"JobSatisfaction\": 3, \"counts\": 127, \"counts_dept\": 446, \"percent\": 0.28475336322869954}, {\"Department\": \"Sales\", \"JobSatisfaction\": 4, \"counts\": 147, \"counts_dept\": 446, \"percent\": 0.3295964125560538}, {\"Department\": \"R&D\", \"JobSatisfaction\": 1, \"counts\": 192, \"counts_dept\": 961, \"percent\": 0.19979188345473464}, {\"Department\": \"R&D\", \"JobSatisfaction\": 2, \"counts\": 174, \"counts_dept\": 961, \"percent\": 0.18106139438085328}, {\"Department\": \"R&D\", \"JobSatisfaction\": 3, \"counts\": 300, \"counts_dept\": 961, \"percent\": 0.31217481789802287}, {\"Department\": \"R&D\", \"JobSatisfaction\": 4, \"counts\": 295, \"counts_dept\": 961, \"percent\": 0.30697190426638915}, {\"Department\": \"HR\", \"JobSatisfaction\": 1, \"counts\": 11, \"counts_dept\": 63, \"percent\": 0.1746031746031746}, {\"Department\": \"HR\", \"JobSatisfaction\": 2, \"counts\": 20, \"counts_dept\": 63, \"percent\": 0.31746031746031744}, {\"Department\": \"HR\", \"JobSatisfaction\": 3, \"counts\": 15, \"counts_dept\": 63, \"percent\": 0.23809523809523808}, {\"Department\": \"HR\", \"JobSatisfaction\": 4, \"counts\": 17, \"counts_dept\": 63, \"percent\": 0.2698412698412698}]}}, {\"actions\": false, \"mode\": \"vega-lite\"});\n",
       "</script>"
      ],
      "text/plain": [
       "alt.LayerChart(...)"
      ]
     },
     "metadata": {},
     "execution_count": 22
    }
   ],
   "metadata": {
    "tags": [],
    "cell_id": "00034-eaddc01d-f32e-4295-ae33-1d959c7e18a1",
    "deepnote_to_be_reexecuted": false,
    "source_hash": "83a3eef6",
    "execution_start": 1631582441943,
    "execution_millis": 104,
    "deepnote_cell_type": "code"
   }
  },
  {
   "cell_type": "code",
   "execution_count": null,
   "source": [
    "df_dept_left = df_left.groupby('Department')['Department'].count().reset_index(name='counts_left_depart')\r\n",
    "df_satisfy_left = df_left.groupby(['Department','JobSatisfaction'])['JobSatisfaction'].count().reset_index(name='counts')\r\n",
    "df_satisfy_left = pd.merge(df_satisfy_left, df_dept_left, on='Department', how='outer')\r\n",
    "df_satisfy_left['Department'] = df_satisfy_left['Department'].map({0:\"Sales\", 1:\"R&D\", 2:\"HR\"})\r\n",
    "df_satisfy_left"
   ],
   "outputs": [
    {
     "output_type": "execute_result",
     "data": {
      "application/vnd.deepnote.dataframe.v2+json": {
       "row_count": 12,
       "column_count": 4,
       "columns": [
        {
         "name": "Department",
         "dtype": "object",
         "stats": {
          "unique_count": 3,
          "nan_count": 0,
          "categories": [
           {
            "name": "Sales",
            "count": 4
           },
           {
            "name": "R&D",
            "count": 4
           },
           {
            "name": "HR",
            "count": 4
           }
          ]
         }
        },
        {
         "name": "JobSatisfaction",
         "dtype": "int64",
         "stats": {
          "unique_count": 4,
          "nan_count": 0,
          "min": "1",
          "max": "4",
          "histogram": [
           {
            "bin_start": 1,
            "bin_end": 1.3,
            "count": 3
           },
           {
            "bin_start": 1.3,
            "bin_end": 1.6,
            "count": 0
           },
           {
            "bin_start": 1.6,
            "bin_end": 1.9,
            "count": 0
           },
           {
            "bin_start": 1.9,
            "bin_end": 2.2,
            "count": 3
           },
           {
            "bin_start": 2.2,
            "bin_end": 2.5,
            "count": 0
           },
           {
            "bin_start": 2.5,
            "bin_end": 2.8,
            "count": 0
           },
           {
            "bin_start": 2.8,
            "bin_end": 3.1,
            "count": 3
           },
           {
            "bin_start": 3.1,
            "bin_end": 3.4,
            "count": 0
           },
           {
            "bin_start": 3.4,
            "bin_end": 3.6999999999999997,
            "count": 0
           },
           {
            "bin_start": 3.6999999999999997,
            "bin_end": 4,
            "count": 3
           }
          ]
         }
        },
        {
         "name": "counts",
         "dtype": "int64",
         "stats": {
          "unique_count": 11,
          "nan_count": 0,
          "min": "2",
          "max": "43",
          "histogram": [
           {
            "bin_start": 2,
            "bin_end": 6.1,
            "count": 4
           },
           {
            "bin_start": 6.1,
            "bin_end": 10.2,
            "count": 0
           },
           {
            "bin_start": 10.2,
            "bin_end": 14.299999999999999,
            "count": 0
           },
           {
            "bin_start": 14.299999999999999,
            "bin_end": 18.4,
            "count": 0
           },
           {
            "bin_start": 18.4,
            "bin_end": 22.5,
            "count": 2
           },
           {
            "bin_start": 22.5,
            "bin_end": 26.599999999999998,
            "count": 2
           },
           {
            "bin_start": 26.599999999999998,
            "bin_end": 30.699999999999996,
            "count": 2
           },
           {
            "bin_start": 30.699999999999996,
            "bin_end": 34.8,
            "count": 0
           },
           {
            "bin_start": 34.8,
            "bin_end": 38.9,
            "count": 1
           },
           {
            "bin_start": 38.9,
            "bin_end": 43,
            "count": 1
           }
          ]
         }
        },
        {
         "name": "counts_left_depart",
         "dtype": "int64",
         "stats": {
          "unique_count": 3,
          "nan_count": 0,
          "min": "12",
          "max": "133",
          "histogram": [
           {
            "bin_start": 12,
            "bin_end": 24.1,
            "count": 4
           },
           {
            "bin_start": 24.1,
            "bin_end": 36.2,
            "count": 0
           },
           {
            "bin_start": 36.2,
            "bin_end": 48.3,
            "count": 0
           },
           {
            "bin_start": 48.3,
            "bin_end": 60.4,
            "count": 0
           },
           {
            "bin_start": 60.4,
            "bin_end": 72.5,
            "count": 0
           },
           {
            "bin_start": 72.5,
            "bin_end": 84.6,
            "count": 0
           },
           {
            "bin_start": 84.6,
            "bin_end": 96.7,
            "count": 4
           },
           {
            "bin_start": 96.7,
            "bin_end": 108.8,
            "count": 0
           },
           {
            "bin_start": 108.8,
            "bin_end": 120.89999999999999,
            "count": 0
           },
           {
            "bin_start": 120.89999999999999,
            "bin_end": 133,
            "count": 4
           }
          ]
         }
        },
        {
         "name": "_deepnote_index_column",
         "dtype": "int64"
        }
       ],
       "rows_top": [
        {
         "Department": "Sales",
         "JobSatisfaction": 1,
         "counts": 23,
         "counts_left_depart": 92,
         "_deepnote_index_column": 0
        },
        {
         "Department": "Sales",
         "JobSatisfaction": 2,
         "counts": 20,
         "counts_left_depart": 92,
         "_deepnote_index_column": 1
        },
        {
         "Department": "Sales",
         "JobSatisfaction": 3,
         "counts": 27,
         "counts_left_depart": 92,
         "_deepnote_index_column": 2
        },
        {
         "Department": "Sales",
         "JobSatisfaction": 4,
         "counts": 22,
         "counts_left_depart": 92,
         "_deepnote_index_column": 3
        },
        {
         "Department": "R&D",
         "JobSatisfaction": 1,
         "counts": 38,
         "counts_left_depart": 133,
         "_deepnote_index_column": 4
        },
        {
         "Department": "R&D",
         "JobSatisfaction": 2,
         "counts": 24,
         "counts_left_depart": 133,
         "_deepnote_index_column": 5
        },
        {
         "Department": "R&D",
         "JobSatisfaction": 3,
         "counts": 43,
         "counts_left_depart": 133,
         "_deepnote_index_column": 6
        },
        {
         "Department": "R&D",
         "JobSatisfaction": 4,
         "counts": 28,
         "counts_left_depart": 133,
         "_deepnote_index_column": 7
        },
        {
         "Department": "HR",
         "JobSatisfaction": 1,
         "counts": 5,
         "counts_left_depart": 12,
         "_deepnote_index_column": 8
        },
        {
         "Department": "HR",
         "JobSatisfaction": 2,
         "counts": 2,
         "counts_left_depart": 12,
         "_deepnote_index_column": 9
        },
        {
         "Department": "HR",
         "JobSatisfaction": 3,
         "counts": 3,
         "counts_left_depart": 12,
         "_deepnote_index_column": 10
        },
        {
         "Department": "HR",
         "JobSatisfaction": 4,
         "counts": 2,
         "counts_left_depart": 12,
         "_deepnote_index_column": 11
        }
       ],
       "rows_bottom": null
      },
      "text/html": [
       "<div>\n",
       "<style scoped>\n",
       "    .dataframe tbody tr th:only-of-type {\n",
       "        vertical-align: middle;\n",
       "    }\n",
       "\n",
       "    .dataframe tbody tr th {\n",
       "        vertical-align: top;\n",
       "    }\n",
       "\n",
       "    .dataframe thead th {\n",
       "        text-align: right;\n",
       "    }\n",
       "</style>\n",
       "<table border=\"1\" class=\"dataframe\">\n",
       "  <thead>\n",
       "    <tr style=\"text-align: right;\">\n",
       "      <th></th>\n",
       "      <th>Department</th>\n",
       "      <th>JobSatisfaction</th>\n",
       "      <th>counts</th>\n",
       "      <th>counts_left_depart</th>\n",
       "    </tr>\n",
       "  </thead>\n",
       "  <tbody>\n",
       "    <tr>\n",
       "      <th>0</th>\n",
       "      <td>Sales</td>\n",
       "      <td>1</td>\n",
       "      <td>23</td>\n",
       "      <td>92</td>\n",
       "    </tr>\n",
       "    <tr>\n",
       "      <th>1</th>\n",
       "      <td>Sales</td>\n",
       "      <td>2</td>\n",
       "      <td>20</td>\n",
       "      <td>92</td>\n",
       "    </tr>\n",
       "    <tr>\n",
       "      <th>2</th>\n",
       "      <td>Sales</td>\n",
       "      <td>3</td>\n",
       "      <td>27</td>\n",
       "      <td>92</td>\n",
       "    </tr>\n",
       "    <tr>\n",
       "      <th>3</th>\n",
       "      <td>Sales</td>\n",
       "      <td>4</td>\n",
       "      <td>22</td>\n",
       "      <td>92</td>\n",
       "    </tr>\n",
       "    <tr>\n",
       "      <th>4</th>\n",
       "      <td>R&amp;D</td>\n",
       "      <td>1</td>\n",
       "      <td>38</td>\n",
       "      <td>133</td>\n",
       "    </tr>\n",
       "    <tr>\n",
       "      <th>5</th>\n",
       "      <td>R&amp;D</td>\n",
       "      <td>2</td>\n",
       "      <td>24</td>\n",
       "      <td>133</td>\n",
       "    </tr>\n",
       "    <tr>\n",
       "      <th>6</th>\n",
       "      <td>R&amp;D</td>\n",
       "      <td>3</td>\n",
       "      <td>43</td>\n",
       "      <td>133</td>\n",
       "    </tr>\n",
       "    <tr>\n",
       "      <th>7</th>\n",
       "      <td>R&amp;D</td>\n",
       "      <td>4</td>\n",
       "      <td>28</td>\n",
       "      <td>133</td>\n",
       "    </tr>\n",
       "    <tr>\n",
       "      <th>8</th>\n",
       "      <td>HR</td>\n",
       "      <td>1</td>\n",
       "      <td>5</td>\n",
       "      <td>12</td>\n",
       "    </tr>\n",
       "    <tr>\n",
       "      <th>9</th>\n",
       "      <td>HR</td>\n",
       "      <td>2</td>\n",
       "      <td>2</td>\n",
       "      <td>12</td>\n",
       "    </tr>\n",
       "    <tr>\n",
       "      <th>10</th>\n",
       "      <td>HR</td>\n",
       "      <td>3</td>\n",
       "      <td>3</td>\n",
       "      <td>12</td>\n",
       "    </tr>\n",
       "    <tr>\n",
       "      <th>11</th>\n",
       "      <td>HR</td>\n",
       "      <td>4</td>\n",
       "      <td>2</td>\n",
       "      <td>12</td>\n",
       "    </tr>\n",
       "  </tbody>\n",
       "</table>\n",
       "</div>"
      ],
      "text/plain": [
       "   Department  JobSatisfaction  counts  counts_left_depart\n",
       "0       Sales                1      23                  92\n",
       "1       Sales                2      20                  92\n",
       "2       Sales                3      27                  92\n",
       "3       Sales                4      22                  92\n",
       "4         R&D                1      38                 133\n",
       "5         R&D                2      24                 133\n",
       "6         R&D                3      43                 133\n",
       "7         R&D                4      28                 133\n",
       "8          HR                1       5                  12\n",
       "9          HR                2       2                  12\n",
       "10         HR                3       3                  12\n",
       "11         HR                4       2                  12"
      ]
     },
     "metadata": {},
     "execution_count": 23
    }
   ],
   "metadata": {
    "tags": [],
    "cell_id": "00034-84d837b9-0f2c-4180-a2ef-813166e72bdd",
    "deepnote_to_be_reexecuted": false,
    "source_hash": "130dec5e",
    "execution_start": 1631582442043,
    "execution_millis": 58,
    "deepnote_cell_type": "code"
   }
  },
  {
   "cell_type": "code",
   "execution_count": null,
   "source": [
    "# JobSatisfaction comparison\r\n",
    "\r\n",
    "# general JobSatisfaction mean value by department\r\n",
    "satisfy_mean = df_satisfy.groupby('Department').apply(lambda x: sum(x.JobSatisfaction * x.counts)/x.counts.sum())\r\n",
    "print(\"General mean value of Job Satisfaction: \\n\", satisfy_mean)\r\n",
    "\r\n",
    "# JobSatisfaction mean value of Attritions by department\r\n",
    "satisfy_mean_left = df_satisfy_left.groupby('Department').apply(lambda x: sum(x.JobSatisfaction * x.counts)/x.counts.sum())\r\n",
    "print(\"Job Satisfaction mean value of Attritions: \\n\", satisfy_mean_left)"
   ],
   "outputs": [
    {
     "output_type": "stream",
     "name": "stdout",
     "text": [
      "General mean value of Job Satisfaction: \n",
      " Department\n",
      "HR       2.603175\n",
      "R&D      2.726327\n",
      "Sales    2.751121\n",
      "dtype: float64\n",
      "Job Satisfaction mean value of Attritions: \n",
      " Department\n",
      "HR       2.166667\n",
      "R&D      2.458647\n",
      "Sales    2.521739\n",
      "dtype: float64\n"
     ]
    }
   ],
   "metadata": {
    "tags": [],
    "cell_id": "00036-e05b2200-41be-48c1-8fae-b2793200a238",
    "deepnote_to_be_reexecuted": false,
    "source_hash": "6294e12f",
    "execution_start": 1631582442099,
    "execution_millis": 33,
    "deepnote_cell_type": "code"
   }
  },
  {
   "cell_type": "markdown",
   "source": [
    "JobSatisfaction一共分了4级， 1-4， 分数越高表示对工作满意度约高。\n",
    " - 1 ： 不满意\n",
    " - 2 ： 比较不满意\n",
    " - 3 ： 比较满意\n",
    " - 4 ： 满意\n",
    "\n",
    "我们发现虽然R&D 和 Sales 的加班比例最高，Sales 的离职比例最高，但是两个部门的工作满意度的满意比例都超过部门总人数的60%。\n",
    "在离职的人群中，R&D 和 Sales 员工的工作满意度平均分超过2.7分，略低于总平均分 0.2 - 0.3分。 HR 的总平均分刚刚达到2.6， 离职人群的平均分已经明显在不满意的范围。"
   ],
   "metadata": {
    "tags": [],
    "cell_id": "00037-df92e643-e81d-47d6-a0c8-c2114797ef18",
    "deepnote_cell_type": "markdown"
   }
  },
  {
   "cell_type": "markdown",
   "source": [
    "### 收入情况"
   ],
   "metadata": {
    "tags": [],
    "is_collapsed": false,
    "cell_id": "00038-c09ea205-2b31-456d-894b-d600263f00da",
    "deepnote_cell_type": "text-cell-h3"
   }
  },
  {
   "cell_type": "code",
   "execution_count": null,
   "source": [
    "# Monthly income distribution by department\n",
    "plt.figure(figsize=(20,8))\n",
    "ax = sns.violinplot(x='Department', y='MonthlyIncome', hue='Attrition', data=df, palette='muted')"
   ],
   "outputs": [
    {
     "output_type": "display_data",
     "data": {
      "image/png": "[encoded data removed]",
      "text/plain": [
       "<Figure size 1440x576 with 1 Axes>"
      ]
     },
     "metadata": {
      "needs_background": "light",
      "image/png": {
       "width": 1182,
       "height": 480
      }
     }
    }
   ],
   "metadata": {
    "tags": [],
    "cell_id": "00039-0c14ee50-0536-419b-8386-2b98d9172bf9",
    "deepnote_to_be_reexecuted": false,
    "source_hash": "62ba10d3",
    "execution_start": 1631582442127,
    "execution_millis": 781,
    "deepnote_cell_type": "code"
   }
  },
  {
   "cell_type": "code",
   "execution_count": null,
   "source": [
    "plt.figure(figsize=(20,8))\n",
    "ax1 = sns.violinplot(x='JobSatisfaction', y='MonthlyIncome', hue='Attrition', data=df, palette='muted')"
   ],
   "outputs": [
    {
     "output_type": "display_data",
     "data": {
      "image/png": "[encoded data removed]",
      "text/plain": [
       "<Figure size 1440x576 with 1 Axes>"
      ]
     },
     "metadata": {
      "needs_background": "light",
      "image/png": {
       "width": 1182,
       "height": 480
      }
     }
    }
   ],
   "metadata": {
    "tags": [],
    "cell_id": "00040-43c50ecc-7f71-4300-89a0-38f14c1aee21",
    "deepnote_to_be_reexecuted": false,
    "source_hash": "483c7dec",
    "execution_start": 1631582442897,
    "execution_millis": 738,
    "deepnote_cell_type": "code"
   }
  },
  {
   "cell_type": "markdown",
   "source": [
    "- 从部门看，离职人员的中位数工资都低于未离职人员的中位数。\n",
    "- 从工作满意度看，几乎在每个工作满意度级别的群体中，离职员工的中位数公司都远远低于为离职的员工。 尤其是工作满意度高的群里，作为员工，尽管对工作比较满意，但是收入低了，还是会离职。"
   ],
   "metadata": {
    "tags": [],
    "cell_id": "00041-eda8a7da-18bb-47d1-889c-bff834bcf265",
    "deepnote_cell_type": "markdown"
   }
  },
  {
   "cell_type": "markdown",
   "source": [
    "### 离职群里的工作年限，本公司在职年限，岗位年限分布 "
   ],
   "metadata": {
    "tags": [],
    "is_collapsed": false,
    "cell_id": "00042-489fd075-8073-4f31-8d74-795bac5952de",
    "deepnote_cell_type": "text-cell-h3"
   }
  },
  {
   "cell_type": "code",
   "execution_count": null,
   "source": [
    "# total working years\n",
    "df_totalworkyear= df_left.groupby('TotalWorkingYears')['TotalWorkingYears'].count().reset_index(name='counts')\n",
    "df_totalworkyear.columns = ['year', 'counts']\n",
    "df_totalworkyear['cumpercent'] = df_totalworkyear['counts'].cumsum()/df_totalworkyear['counts'].sum()\n",
    "df_totalworkyear"
   ],
   "outputs": [
    {
     "output_type": "execute_result",
     "data": {
      "application/vnd.deepnote.dataframe.v2+json": {
       "row_count": 32,
       "column_count": 3,
       "columns": [
        {
         "name": "year",
         "dtype": "int64",
         "stats": {
          "unique_count": 32,
          "nan_count": 0,
          "min": "0",
          "max": "40",
          "histogram": [
           {
            "bin_start": 0,
            "bin_end": 4,
            "count": 4
           },
           {
            "bin_start": 4,
            "bin_end": 8,
            "count": 4
           },
           {
            "bin_start": 8,
            "bin_end": 12,
            "count": 4
           },
           {
            "bin_start": 12,
            "bin_end": 16,
            "count": 4
           },
           {
            "bin_start": 16,
            "bin_end": 20,
            "count": 4
           },
           {
            "bin_start": 20,
            "bin_end": 24,
            "count": 4
           },
           {
            "bin_start": 24,
            "bin_end": 28,
            "count": 3
           },
           {
            "bin_start": 28,
            "bin_end": 32,
            "count": 2
           },
           {
            "bin_start": 32,
            "bin_end": 36,
            "count": 2
           },
           {
            "bin_start": 36,
            "bin_end": 40,
            "count": 1
           }
          ]
         }
        },
        {
         "name": "counts",
         "dtype": "int64",
         "stats": {
          "unique_count": 14,
          "nan_count": 0,
          "min": "1",
          "max": "40",
          "histogram": [
           {
            "bin_start": 1,
            "bin_end": 4.9,
            "count": 18
           },
           {
            "bin_start": 4.9,
            "bin_end": 8.8,
            "count": 4
           },
           {
            "bin_start": 8.8,
            "bin_end": 12.7,
            "count": 4
           },
           {
            "bin_start": 12.7,
            "bin_end": 16.6,
            "count": 2
           },
           {
            "bin_start": 16.6,
            "bin_end": 20.5,
            "count": 1
           },
           {
            "bin_start": 20.5,
            "bin_end": 24.4,
            "count": 1
           },
           {
            "bin_start": 24.4,
            "bin_end": 28.3,
            "count": 1
           },
           {
            "bin_start": 28.3,
            "bin_end": 32.2,
            "count": 0
           },
           {
            "bin_start": 32.2,
            "bin_end": 36.1,
            "count": 0
           },
           {
            "bin_start": 36.1,
            "bin_end": 40,
            "count": 1
           }
          ]
         }
        },
        {
         "name": "cumpercent",
         "dtype": "float64",
         "stats": {
          "unique_count": 32,
          "nan_count": 0,
          "min": "0.02109704641350211",
          "max": "1.0",
          "histogram": [
           {
            "bin_start": 0.02109704641350211,
            "bin_end": 0.1189873417721519,
            "count": 1
           },
           {
            "bin_start": 0.1189873417721519,
            "bin_end": 0.2168776371308017,
            "count": 1
           },
           {
            "bin_start": 0.2168776371308017,
            "bin_end": 0.3147679324894515,
            "count": 2
           },
           {
            "bin_start": 0.3147679324894515,
            "bin_end": 0.4126582278481013,
            "count": 2
           },
           {
            "bin_start": 0.4126582278481013,
            "bin_end": 0.510548523206751,
            "count": 1
           },
           {
            "bin_start": 0.510548523206751,
            "bin_end": 0.6084388185654008,
            "count": 1
           },
           {
            "bin_start": 0.6084388185654008,
            "bin_end": 0.7063291139240506,
            "count": 2
           },
           {
            "bin_start": 0.7063291139240506,
            "bin_end": 0.8042194092827004,
            "count": 2
           },
           {
            "bin_start": 0.8042194092827004,
            "bin_end": 0.9021097046413502,
            "count": 6
           },
           {
            "bin_start": 0.9021097046413502,
            "bin_end": 1,
            "count": 14
           }
          ]
         }
        },
        {
         "name": "_deepnote_index_column",
         "dtype": "int64"
        }
       ],
       "rows_top": [
        {
         "year": 0,
         "counts": 5,
         "cumpercent": 0.02109704641350211,
         "_deepnote_index_column": 0
        },
        {
         "year": 1,
         "counts": 40,
         "cumpercent": 0.189873417721519,
         "_deepnote_index_column": 1
        },
        {
         "year": 2,
         "counts": 9,
         "cumpercent": 0.22784810126582278,
         "_deepnote_index_column": 2
        },
        {
         "year": 3,
         "counts": 9,
         "cumpercent": 0.26582278481012656,
         "_deepnote_index_column": 3
        },
        {
         "year": 4,
         "counts": 12,
         "cumpercent": 0.31645569620253167,
         "_deepnote_index_column": 4
        },
        {
         "year": 5,
         "counts": 16,
         "cumpercent": 0.38396624472573837,
         "_deepnote_index_column": 5
        },
        {
         "year": 6,
         "counts": 22,
         "cumpercent": 0.4767932489451477,
         "_deepnote_index_column": 6
        },
        {
         "year": 7,
         "counts": 18,
         "cumpercent": 0.5527426160337553,
         "_deepnote_index_column": 7
        },
        {
         "year": 8,
         "counts": 16,
         "cumpercent": 0.620253164556962,
         "_deepnote_index_column": 8
        },
        {
         "year": 9,
         "counts": 10,
         "cumpercent": 0.6624472573839663,
         "_deepnote_index_column": 9
        },
        {
         "year": 10,
         "counts": 25,
         "cumpercent": 0.7679324894514767,
         "_deepnote_index_column": 10
        },
        {
         "year": 11,
         "counts": 7,
         "cumpercent": 0.7974683544303798,
         "_deepnote_index_column": 11
        },
        {
         "year": 12,
         "counts": 5,
         "cumpercent": 0.8185654008438819,
         "_deepnote_index_column": 12
        },
        {
         "year": 13,
         "counts": 3,
         "cumpercent": 0.8312236286919831,
         "_deepnote_index_column": 13
        },
        {
         "year": 14,
         "counts": 4,
         "cumpercent": 0.8481012658227848,
         "_deepnote_index_column": 14
        },
        {
         "year": 15,
         "counts": 5,
         "cumpercent": 0.869198312236287,
         "_deepnote_index_column": 15
        },
        {
         "year": 16,
         "counts": 3,
         "cumpercent": 0.8818565400843882,
         "_deepnote_index_column": 16
        },
        {
         "year": 17,
         "counts": 3,
         "cumpercent": 0.8945147679324894,
         "_deepnote_index_column": 17
        },
        {
         "year": 18,
         "counts": 4,
         "cumpercent": 0.9113924050632911,
         "_deepnote_index_column": 18
        },
        {
         "year": 19,
         "counts": 3,
         "cumpercent": 0.9240506329113924,
         "_deepnote_index_column": 19
        },
        {
         "year": 20,
         "counts": 2,
         "cumpercent": 0.9324894514767933,
         "_deepnote_index_column": 20
        },
        {
         "year": 21,
         "counts": 1,
         "cumpercent": 0.9367088607594937,
         "_deepnote_index_column": 21
        },
        {
         "year": 22,
         "counts": 2,
         "cumpercent": 0.9451476793248945,
         "_deepnote_index_column": 22
        },
        {
         "year": 23,
         "counts": 2,
         "cumpercent": 0.9535864978902954,
         "_deepnote_index_column": 23
        },
        {
         "year": 24,
         "counts": 3,
         "cumpercent": 0.9662447257383966,
         "_deepnote_index_column": 24
        },
        {
         "year": 25,
         "counts": 1,
         "cumpercent": 0.9704641350210971,
         "_deepnote_index_column": 25
        },
        {
         "year": 26,
         "counts": 1,
         "cumpercent": 0.9746835443037974,
         "_deepnote_index_column": 26
        },
        {
         "year": 28,
         "counts": 1,
         "cumpercent": 0.9789029535864979,
         "_deepnote_index_column": 27
        },
        {
         "year": 31,
         "counts": 1,
         "cumpercent": 0.9831223628691983,
         "_deepnote_index_column": 28
        },
        {
         "year": 33,
         "counts": 1,
         "cumpercent": 0.9873417721518988,
         "_deepnote_index_column": 29
        },
        {
         "year": 34,
         "counts": 1,
         "cumpercent": 0.9915611814345991,
         "_deepnote_index_column": 30
        },
        {
         "year": 40,
         "counts": 2,
         "cumpercent": 1,
         "_deepnote_index_column": 31
        }
       ],
       "rows_bottom": null
      },
      "text/html": [
       "<div>\n",
       "<style scoped>\n",
       "    .dataframe tbody tr th:only-of-type {\n",
       "        vertical-align: middle;\n",
       "    }\n",
       "\n",
       "    .dataframe tbody tr th {\n",
       "        vertical-align: top;\n",
       "    }\n",
       "\n",
       "    .dataframe thead th {\n",
       "        text-align: right;\n",
       "    }\n",
       "</style>\n",
       "<table border=\"1\" class=\"dataframe\">\n",
       "  <thead>\n",
       "    <tr style=\"text-align: right;\">\n",
       "      <th></th>\n",
       "      <th>year</th>\n",
       "      <th>counts</th>\n",
       "      <th>cumpercent</th>\n",
       "    </tr>\n",
       "  </thead>\n",
       "  <tbody>\n",
       "    <tr>\n",
       "      <th>0</th>\n",
       "      <td>0</td>\n",
       "      <td>5</td>\n",
       "      <td>0.021097</td>\n",
       "    </tr>\n",
       "    <tr>\n",
       "      <th>1</th>\n",
       "      <td>1</td>\n",
       "      <td>40</td>\n",
       "      <td>0.189873</td>\n",
       "    </tr>\n",
       "    <tr>\n",
       "      <th>2</th>\n",
       "      <td>2</td>\n",
       "      <td>9</td>\n",
       "      <td>0.227848</td>\n",
       "    </tr>\n",
       "    <tr>\n",
       "      <th>3</th>\n",
       "      <td>3</td>\n",
       "      <td>9</td>\n",
       "      <td>0.265823</td>\n",
       "    </tr>\n",
       "    <tr>\n",
       "      <th>4</th>\n",
       "      <td>4</td>\n",
       "      <td>12</td>\n",
       "      <td>0.316456</td>\n",
       "    </tr>\n",
       "    <tr>\n",
       "      <th>5</th>\n",
       "      <td>5</td>\n",
       "      <td>16</td>\n",
       "      <td>0.383966</td>\n",
       "    </tr>\n",
       "    <tr>\n",
       "      <th>6</th>\n",
       "      <td>6</td>\n",
       "      <td>22</td>\n",
       "      <td>0.476793</td>\n",
       "    </tr>\n",
       "    <tr>\n",
       "      <th>7</th>\n",
       "      <td>7</td>\n",
       "      <td>18</td>\n",
       "      <td>0.552743</td>\n",
       "    </tr>\n",
       "    <tr>\n",
       "      <th>8</th>\n",
       "      <td>8</td>\n",
       "      <td>16</td>\n",
       "      <td>0.620253</td>\n",
       "    </tr>\n",
       "    <tr>\n",
       "      <th>9</th>\n",
       "      <td>9</td>\n",
       "      <td>10</td>\n",
       "      <td>0.662447</td>\n",
       "    </tr>\n",
       "    <tr>\n",
       "      <th>10</th>\n",
       "      <td>10</td>\n",
       "      <td>25</td>\n",
       "      <td>0.767932</td>\n",
       "    </tr>\n",
       "    <tr>\n",
       "      <th>11</th>\n",
       "      <td>11</td>\n",
       "      <td>7</td>\n",
       "      <td>0.797468</td>\n",
       "    </tr>\n",
       "    <tr>\n",
       "      <th>12</th>\n",
       "      <td>12</td>\n",
       "      <td>5</td>\n",
       "      <td>0.818565</td>\n",
       "    </tr>\n",
       "    <tr>\n",
       "      <th>13</th>\n",
       "      <td>13</td>\n",
       "      <td>3</td>\n",
       "      <td>0.831224</td>\n",
       "    </tr>\n",
       "    <tr>\n",
       "      <th>14</th>\n",
       "      <td>14</td>\n",
       "      <td>4</td>\n",
       "      <td>0.848101</td>\n",
       "    </tr>\n",
       "    <tr>\n",
       "      <th>15</th>\n",
       "      <td>15</td>\n",
       "      <td>5</td>\n",
       "      <td>0.869198</td>\n",
       "    </tr>\n",
       "    <tr>\n",
       "      <th>16</th>\n",
       "      <td>16</td>\n",
       "      <td>3</td>\n",
       "      <td>0.881857</td>\n",
       "    </tr>\n",
       "    <tr>\n",
       "      <th>17</th>\n",
       "      <td>17</td>\n",
       "      <td>3</td>\n",
       "      <td>0.894515</td>\n",
       "    </tr>\n",
       "    <tr>\n",
       "      <th>18</th>\n",
       "      <td>18</td>\n",
       "      <td>4</td>\n",
       "      <td>0.911392</td>\n",
       "    </tr>\n",
       "    <tr>\n",
       "      <th>19</th>\n",
       "      <td>19</td>\n",
       "      <td>3</td>\n",
       "      <td>0.924051</td>\n",
       "    </tr>\n",
       "    <tr>\n",
       "      <th>20</th>\n",
       "      <td>20</td>\n",
       "      <td>2</td>\n",
       "      <td>0.932489</td>\n",
       "    </tr>\n",
       "    <tr>\n",
       "      <th>21</th>\n",
       "      <td>21</td>\n",
       "      <td>1</td>\n",
       "      <td>0.936709</td>\n",
       "    </tr>\n",
       "    <tr>\n",
       "      <th>22</th>\n",
       "      <td>22</td>\n",
       "      <td>2</td>\n",
       "      <td>0.945148</td>\n",
       "    </tr>\n",
       "    <tr>\n",
       "      <th>23</th>\n",
       "      <td>23</td>\n",
       "      <td>2</td>\n",
       "      <td>0.953586</td>\n",
       "    </tr>\n",
       "    <tr>\n",
       "      <th>24</th>\n",
       "      <td>24</td>\n",
       "      <td>3</td>\n",
       "      <td>0.966245</td>\n",
       "    </tr>\n",
       "    <tr>\n",
       "      <th>25</th>\n",
       "      <td>25</td>\n",
       "      <td>1</td>\n",
       "      <td>0.970464</td>\n",
       "    </tr>\n",
       "    <tr>\n",
       "      <th>26</th>\n",
       "      <td>26</td>\n",
       "      <td>1</td>\n",
       "      <td>0.974684</td>\n",
       "    </tr>\n",
       "    <tr>\n",
       "      <th>27</th>\n",
       "      <td>28</td>\n",
       "      <td>1</td>\n",
       "      <td>0.978903</td>\n",
       "    </tr>\n",
       "    <tr>\n",
       "      <th>28</th>\n",
       "      <td>31</td>\n",
       "      <td>1</td>\n",
       "      <td>0.983122</td>\n",
       "    </tr>\n",
       "    <tr>\n",
       "      <th>29</th>\n",
       "      <td>33</td>\n",
       "      <td>1</td>\n",
       "      <td>0.987342</td>\n",
       "    </tr>\n",
       "    <tr>\n",
       "      <th>30</th>\n",
       "      <td>34</td>\n",
       "      <td>1</td>\n",
       "      <td>0.991561</td>\n",
       "    </tr>\n",
       "    <tr>\n",
       "      <th>31</th>\n",
       "      <td>40</td>\n",
       "      <td>2</td>\n",
       "      <td>1.000000</td>\n",
       "    </tr>\n",
       "  </tbody>\n",
       "</table>\n",
       "</div>"
      ],
      "text/plain": [
       "    year  counts  cumpercent\n",
       "0      0       5    0.021097\n",
       "1      1      40    0.189873\n",
       "2      2       9    0.227848\n",
       "3      3       9    0.265823\n",
       "4      4      12    0.316456\n",
       "5      5      16    0.383966\n",
       "6      6      22    0.476793\n",
       "7      7      18    0.552743\n",
       "8      8      16    0.620253\n",
       "9      9      10    0.662447\n",
       "10    10      25    0.767932\n",
       "11    11       7    0.797468\n",
       "12    12       5    0.818565\n",
       "13    13       3    0.831224\n",
       "14    14       4    0.848101\n",
       "15    15       5    0.869198\n",
       "16    16       3    0.881857\n",
       "17    17       3    0.894515\n",
       "18    18       4    0.911392\n",
       "19    19       3    0.924051\n",
       "20    20       2    0.932489\n",
       "21    21       1    0.936709\n",
       "22    22       2    0.945148\n",
       "23    23       2    0.953586\n",
       "24    24       3    0.966245\n",
       "25    25       1    0.970464\n",
       "26    26       1    0.974684\n",
       "27    28       1    0.978903\n",
       "28    31       1    0.983122\n",
       "29    33       1    0.987342\n",
       "30    34       1    0.991561\n",
       "31    40       2    1.000000"
      ]
     },
     "metadata": {},
     "execution_count": 27
    }
   ],
   "metadata": {
    "tags": [],
    "cell_id": "00040-df9239c6-491d-433a-b320-61c265d0f56a",
    "deepnote_to_be_reexecuted": false,
    "source_hash": "6185ebe8",
    "execution_start": 1631582443632,
    "execution_millis": 49,
    "deepnote_cell_type": "code"
   }
  },
  {
   "cell_type": "code",
   "execution_count": null,
   "source": [
    "def years_pareto(df):\n",
    "    \"\"\"\n",
    "    This is the basic demonstration of the approach. The basic pareto chart is composed of two parts. \n",
    "        - Bar : Distribution of the transaction amount with each countries, sorted in descending order.\n",
    "        - Line : Cumulative percentage line \n",
    "\n",
    "    In this special cases, I won't sort the counts, because the sequence of years is better for me to \n",
    "    analyze the attrition condition by year interval if needed.\n",
    "    \"\"\"\n",
    "    #sort_order = df['year'].tolist() # sort order\n",
    "\n",
    "    # define the base of the chart, x axis is shared.\n",
    "    base = alt.Chart(df).encode(\n",
    "        x = alt.X('year:O', axis = alt.Axis(title = 'Years', titleFontSize=14))\n",
    "    ).properties(\n",
    "        width = 1000,\n",
    "        height = 300\n",
    "    )\n",
    "\n",
    "    # plot the bars, defining bar size and opacity.\n",
    "    bars = base.mark_bar(size=15, opacity=0.5).encode(\n",
    "        y = alt.Y('counts:Q', axis = alt.Axis(title='Number of Attritions', titlePadding=10, titleFontSize=14))\n",
    "    ).properties(\n",
    "        width = 1000,\n",
    "        height = 300\n",
    "    )\n",
    "\n",
    "    # plot the line\n",
    "    line = base.mark_line(\n",
    "        strokeWidth= 1.5,\n",
    "        color = '#cb4154',\n",
    "    ).encode(\n",
    "        y = alt.Y('cumpercent:Q',\n",
    "            axis = alt.Axis(title = 'Cumulative percentage', titlePadding=10, titleFontSize=14,format='.0%')),\n",
    "        text = alt.Text('cumpercent:Q')\n",
    "    )\n",
    "\n",
    "    # plot the points\n",
    "    points = base.mark_circle(\n",
    "        strokeWidth = 3,\n",
    "        color = '#cb4154',\n",
    "    ).encode(\n",
    "        y = alt.Y('cumpercent:Q', axis = None),\n",
    "        text = alt.Text('cumpercent:Q')\n",
    "    )\n",
    "\n",
    "    # mark text for each point.\n",
    "    points_text = points.mark_text(\n",
    "        align = 'left',\n",
    "        baseline = 'middle',\n",
    "        dx = -10, # Nudges text to right so it doesn't appear on top of the bar\n",
    "        dy = -10\n",
    "    ).encode(\n",
    "        y = alt.Y('cumpercent:Q', axis=None),\n",
    "        text = alt.Text('cumpercent:Q', format='.0%'),\n",
    "        color = alt.value('#cb4154')\n",
    "    )\n",
    "\n",
    "\n",
    "    Figure = (bars + line + points + points_text).resolve_scale(\n",
    "        y = 'independent'\n",
    "    ).configure_mark().configure_view(\n",
    "        strokeWidth = 0\n",
    "    )\n",
    "\n",
    "    return Figure\n"
   ],
   "outputs": [],
   "metadata": {
    "tags": [],
    "cell_id": "00044-996940c3-2c72-4752-8ad1-30b02b801431",
    "deepnote_to_be_reexecuted": false,
    "source_hash": "974de885",
    "execution_start": 1631582923467,
    "execution_millis": 1,
    "deepnote_cell_type": "code"
   }
  },
  {
   "cell_type": "code",
   "execution_count": null,
   "source": [
    "years_pareto(df_totalworkyear).properties(\n",
    "        title = {\n",
    "            'text': 'Attrition Distrition along the Total Working Years',\n",
    "            'subtitle':'Revised Pareto Chart (No Sorting Operation)',\n",
    "            'subtitleFontWeight':500,\n",
    "            'subtitleFontSize': 13,\n",
    "            'anchor':'start',\n",
    "            'fontSize': 20,\n",
    "            'offset':20,\n",
    "            'subtitlePadding':5\n",
    "\n",
    "        }\n",
    "    )"
   ],
   "outputs": [
    {
     "output_type": "execute_result",
     "data": {
      "text/html": [
       "\n",
       "<div id=\"altair-viz-d32824394fe045ddaea7205bd36dd6c0\"></div>\n",
       "<script type=\"text/javascript\">\n",
       "  (function(spec, embedOpt){\n",
       "    let outputDiv = document.currentScript.previousElementSibling;\n",
       "    if (outputDiv.id !== \"altair-viz-d32824394fe045ddaea7205bd36dd6c0\") {\n",
       "      outputDiv = document.getElementById(\"altair-viz-d32824394fe045ddaea7205bd36dd6c0\");\n",
       "    }\n",
       "    const paths = {\n",
       "      \"vega\": \"https://cdn.jsdelivr.net/npm//vega@5?noext\",\n",
       "      \"vega-lib\": \"https://cdn.jsdelivr.net/npm//vega-lib?noext\",\n",
       "      \"vega-lite\": \"https://cdn.jsdelivr.net/npm//vega-lite@4.8.1?noext\",\n",
       "      \"vega-embed\": \"https://cdn.jsdelivr.net/npm//vega-embed@6?noext\",\n",
       "    };\n",
       "\n",
       "    function loadScript(lib) {\n",
       "      return new Promise(function(resolve, reject) {\n",
       "        var s = document.createElement('script');\n",
       "        s.src = paths[lib];\n",
       "        s.async = true;\n",
       "        s.onload = () => resolve(paths[lib]);\n",
       "        s.onerror = () => reject(`Error loading script: ${paths[lib]}`);\n",
       "        document.getElementsByTagName(\"head\")[0].appendChild(s);\n",
       "      });\n",
       "    }\n",
       "\n",
       "    function showError(err) {\n",
       "      outputDiv.innerHTML = `<div class=\"error\" style=\"color:red;\">${err}</div>`;\n",
       "      throw err;\n",
       "    }\n",
       "\n",
       "    function displayChart(vegaEmbed) {\n",
       "      vegaEmbed(outputDiv, spec, embedOpt)\n",
       "        .catch(err => showError(`Javascript Error: ${err.message}<br>This usually means there's a typo in your chart specification. See the javascript console for the full traceback.`));\n",
       "    }\n",
       "\n",
       "    if(typeof define === \"function\" && define.amd) {\n",
       "      requirejs.config({paths});\n",
       "      require([\"vega-embed\"], displayChart, err => showError(`Error loading script: ${err.message}`));\n",
       "    } else if (typeof vegaEmbed === \"function\") {\n",
       "      displayChart(vegaEmbed);\n",
       "    } else {\n",
       "      loadScript(\"vega\")\n",
       "        .then(() => loadScript(\"vega-lite\"))\n",
       "        .then(() => loadScript(\"vega-embed\"))\n",
       "        .catch(showError)\n",
       "        .then(() => displayChart(vegaEmbed));\n",
       "    }\n",
       "  })({\"config\": {\"view\": {\"continuousWidth\": 400, \"continuousHeight\": 300, \"strokeWidth\": 0}, \"mark\": {}}, \"layer\": [{\"mark\": {\"type\": \"bar\", \"opacity\": 0.5, \"size\": 15}, \"encoding\": {\"x\": {\"type\": \"ordinal\", \"axis\": {\"title\": \"Years\", \"titleFontSize\": 14}, \"field\": \"year\"}, \"y\": {\"type\": \"quantitative\", \"axis\": {\"title\": \"Number of Attritions\", \"titleFontSize\": 14, \"titlePadding\": 10}, \"field\": \"counts\"}}, \"height\": 300, \"width\": 1000}, {\"mark\": {\"type\": \"line\", \"color\": \"#cb4154\", \"strokeWidth\": 1.5}, \"encoding\": {\"text\": {\"type\": \"quantitative\", \"field\": \"cumpercent\"}, \"x\": {\"type\": \"ordinal\", \"axis\": {\"title\": \"Years\", \"titleFontSize\": 14}, \"field\": \"year\"}, \"y\": {\"type\": \"quantitative\", \"axis\": {\"format\": \".0%\", \"title\": \"Cumulative percentage\", \"titleFontSize\": 14, \"titlePadding\": 10}, \"field\": \"cumpercent\"}}, \"height\": 300, \"width\": 1000}, {\"mark\": {\"type\": \"circle\", \"color\": \"#cb4154\", \"strokeWidth\": 3}, \"encoding\": {\"text\": {\"type\": \"quantitative\", \"field\": \"cumpercent\"}, \"x\": {\"type\": \"ordinal\", \"axis\": {\"title\": \"Years\", \"titleFontSize\": 14}, \"field\": \"year\"}, \"y\": {\"type\": \"quantitative\", \"axis\": null, \"field\": \"cumpercent\"}}, \"height\": 300, \"width\": 1000}, {\"mark\": {\"type\": \"text\", \"align\": \"left\", \"baseline\": \"middle\", \"dx\": -10, \"dy\": -10}, \"encoding\": {\"color\": {\"value\": \"#cb4154\"}, \"text\": {\"type\": \"quantitative\", \"field\": \"cumpercent\", \"format\": \".0%\"}, \"x\": {\"type\": \"ordinal\", \"axis\": {\"title\": \"Years\", \"titleFontSize\": 14}, \"field\": \"year\"}, \"y\": {\"type\": \"quantitative\", \"axis\": null, \"field\": \"cumpercent\"}}, \"height\": 300, \"width\": 1000}], \"data\": {\"name\": \"data-c5b40134d166606c6284f9a439cfa657\"}, \"resolve\": {\"scale\": {\"y\": \"independent\"}}, \"title\": {\"text\": \"Attrition Distrition along the Total Working Years\", \"subtitle\": \"Revised Pareto Chart (No Sorting Operation)\", \"subtitleFontWeight\": 500, \"subtitleFontSize\": 13, \"anchor\": \"start\", \"fontSize\": 20, \"offset\": 20, \"subtitlePadding\": 5}, \"$schema\": \"https://vega.github.io/schema/vega-lite/v4.8.1.json\", \"datasets\": {\"data-c5b40134d166606c6284f9a439cfa657\": [{\"year\": 0, \"counts\": 5, \"cumpercent\": 0.02109704641350211}, {\"year\": 1, \"counts\": 40, \"cumpercent\": 0.189873417721519}, {\"year\": 2, \"counts\": 9, \"cumpercent\": 0.22784810126582278}, {\"year\": 3, \"counts\": 9, \"cumpercent\": 0.26582278481012656}, {\"year\": 4, \"counts\": 12, \"cumpercent\": 0.31645569620253167}, {\"year\": 5, \"counts\": 16, \"cumpercent\": 0.38396624472573837}, {\"year\": 6, \"counts\": 22, \"cumpercent\": 0.4767932489451477}, {\"year\": 7, \"counts\": 18, \"cumpercent\": 0.5527426160337553}, {\"year\": 8, \"counts\": 16, \"cumpercent\": 0.620253164556962}, {\"year\": 9, \"counts\": 10, \"cumpercent\": 0.6624472573839663}, {\"year\": 10, \"counts\": 25, \"cumpercent\": 0.7679324894514767}, {\"year\": 11, \"counts\": 7, \"cumpercent\": 0.7974683544303798}, {\"year\": 12, \"counts\": 5, \"cumpercent\": 0.8185654008438819}, {\"year\": 13, \"counts\": 3, \"cumpercent\": 0.8312236286919831}, {\"year\": 14, \"counts\": 4, \"cumpercent\": 0.8481012658227848}, {\"year\": 15, \"counts\": 5, \"cumpercent\": 0.869198312236287}, {\"year\": 16, \"counts\": 3, \"cumpercent\": 0.8818565400843882}, {\"year\": 17, \"counts\": 3, \"cumpercent\": 0.8945147679324894}, {\"year\": 18, \"counts\": 4, \"cumpercent\": 0.9113924050632911}, {\"year\": 19, \"counts\": 3, \"cumpercent\": 0.9240506329113924}, {\"year\": 20, \"counts\": 2, \"cumpercent\": 0.9324894514767933}, {\"year\": 21, \"counts\": 1, \"cumpercent\": 0.9367088607594937}, {\"year\": 22, \"counts\": 2, \"cumpercent\": 0.9451476793248945}, {\"year\": 23, \"counts\": 2, \"cumpercent\": 0.9535864978902954}, {\"year\": 24, \"counts\": 3, \"cumpercent\": 0.9662447257383966}, {\"year\": 25, \"counts\": 1, \"cumpercent\": 0.9704641350210971}, {\"year\": 26, \"counts\": 1, \"cumpercent\": 0.9746835443037974}, {\"year\": 28, \"counts\": 1, \"cumpercent\": 0.9789029535864979}, {\"year\": 31, \"counts\": 1, \"cumpercent\": 0.9831223628691983}, {\"year\": 33, \"counts\": 1, \"cumpercent\": 0.9873417721518988}, {\"year\": 34, \"counts\": 1, \"cumpercent\": 0.9915611814345991}, {\"year\": 40, \"counts\": 2, \"cumpercent\": 1.0}]}}, {\"actions\": false, \"mode\": \"vega-lite\"});\n",
       "</script>"
      ],
      "text/plain": [
       "alt.LayerChart(...)"
      ]
     },
     "metadata": {},
     "execution_count": 38
    }
   ],
   "metadata": {
    "tags": [],
    "cell_id": "00045-b70051e9-c0cc-4567-adde-40041423d3ad",
    "deepnote_to_be_reexecuted": false,
    "source_hash": "2171a9e3",
    "execution_start": 1631582924482,
    "execution_millis": 65,
    "deepnote_cell_type": "code"
   }
  },
  {
   "cell_type": "code",
   "execution_count": null,
   "source": [
    "# Years At Company \n",
    "\n",
    "df_yearatcompany= df_left.groupby('YearsAtCompany')['YearsAtCompany'].count().reset_index(name='counts')\n",
    "df_yearatcompany.columns = ['year', 'counts']\n",
    "df_yearatcompany['cumpercent'] = df_yearatcompany['counts'].cumsum()/df_yearatcompany['counts'].sum()\n",
    "df_yearatcompany"
   ],
   "outputs": [
    {
     "output_type": "execute_result",
     "data": {
      "application/vnd.deepnote.dataframe.v2+json": {
       "row_count": 28,
       "column_count": 3,
       "columns": [
        {
         "name": "year",
         "dtype": "int64",
         "stats": {
          "unique_count": 28,
          "nan_count": 0,
          "min": "0",
          "max": "40",
          "histogram": [
           {
            "bin_start": 0,
            "bin_end": 4,
            "count": 4
           },
           {
            "bin_start": 4,
            "bin_end": 8,
            "count": 4
           },
           {
            "bin_start": 8,
            "bin_end": 12,
            "count": 4
           },
           {
            "bin_start": 12,
            "bin_end": 16,
            "count": 3
           },
           {
            "bin_start": 16,
            "bin_end": 20,
            "count": 4
           },
           {
            "bin_start": 20,
            "bin_end": 24,
            "count": 4
           },
           {
            "bin_start": 24,
            "bin_end": 28,
            "count": 1
           },
           {
            "bin_start": 28,
            "bin_end": 32,
            "count": 1
           },
           {
            "bin_start": 32,
            "bin_end": 36,
            "count": 2
           },
           {
            "bin_start": 36,
            "bin_end": 40,
            "count": 1
           }
          ]
         }
        },
        {
         "name": "counts",
         "dtype": "int64",
         "stats": {
          "unique_count": 12,
          "nan_count": 0,
          "min": "1",
          "max": "59",
          "histogram": [
           {
            "bin_start": 1,
            "bin_end": 6.8,
            "count": 17
           },
           {
            "bin_start": 6.8,
            "bin_end": 12.6,
            "count": 4
           },
           {
            "bin_start": 12.6,
            "bin_end": 18.4,
            "count": 2
           },
           {
            "bin_start": 18.4,
            "bin_end": 24.2,
            "count": 3
           },
           {
            "bin_start": 24.2,
            "bin_end": 30,
            "count": 1
           },
           {
            "bin_start": 30,
            "bin_end": 35.8,
            "count": 0
           },
           {
            "bin_start": 35.8,
            "bin_end": 41.6,
            "count": 0
           },
           {
            "bin_start": 41.6,
            "bin_end": 47.4,
            "count": 0
           },
           {
            "bin_start": 47.4,
            "bin_end": 53.199999999999996,
            "count": 0
           },
           {
            "bin_start": 53.199999999999996,
            "bin_end": 59,
            "count": 1
           }
          ]
         }
        },
        {
         "name": "cumpercent",
         "dtype": "float64",
         "stats": {
          "unique_count": 28,
          "nan_count": 0,
          "min": "0.06751054852320675",
          "max": "1.0",
          "histogram": [
           {
            "bin_start": 0.06751054852320675,
            "bin_end": 0.16075949367088607,
            "count": 1
           },
           {
            "bin_start": 0.16075949367088607,
            "bin_end": 0.2540084388185654,
            "count": 0
           },
           {
            "bin_start": 0.2540084388185654,
            "bin_end": 0.3472573839662447,
            "count": 1
           },
           {
            "bin_start": 0.3472573839662447,
            "bin_end": 0.44050632911392407,
            "count": 1
           },
           {
            "bin_start": 0.44050632911392407,
            "bin_end": 0.5337552742616034,
            "count": 1
           },
           {
            "bin_start": 0.5337552742616034,
            "bin_end": 0.6270042194092826,
            "count": 1
           },
           {
            "bin_start": 0.6270042194092826,
            "bin_end": 0.720253164556962,
            "count": 1
           },
           {
            "bin_start": 0.720253164556962,
            "bin_end": 0.8135021097046413,
            "count": 3
           },
           {
            "bin_start": 0.8135021097046413,
            "bin_end": 0.9067510548523207,
            "count": 1
           },
           {
            "bin_start": 0.9067510548523207,
            "bin_end": 1,
            "count": 18
           }
          ]
         }
        },
        {
         "name": "_deepnote_index_column",
         "dtype": "int64"
        }
       ],
       "rows_top": [
        {
         "year": 0,
         "counts": 16,
         "cumpercent": 0.06751054852320675,
         "_deepnote_index_column": 0
        },
        {
         "year": 1,
         "counts": 59,
         "cumpercent": 0.31645569620253167,
         "_deepnote_index_column": 1
        },
        {
         "year": 2,
         "counts": 27,
         "cumpercent": 0.43037974683544306,
         "_deepnote_index_column": 2
        },
        {
         "year": 3,
         "counts": 20,
         "cumpercent": 0.5147679324894515,
         "_deepnote_index_column": 3
        },
        {
         "year": 4,
         "counts": 19,
         "cumpercent": 0.5949367088607594,
         "_deepnote_index_column": 4
        },
        {
         "year": 5,
         "counts": 21,
         "cumpercent": 0.6835443037974683,
         "_deepnote_index_column": 5
        },
        {
         "year": 6,
         "counts": 9,
         "cumpercent": 0.7215189873417721,
         "_deepnote_index_column": 6
        },
        {
         "year": 7,
         "counts": 11,
         "cumpercent": 0.7679324894514767,
         "_deepnote_index_column": 7
        },
        {
         "year": 8,
         "counts": 9,
         "cumpercent": 0.8059071729957806,
         "_deepnote_index_column": 8
        },
        {
         "year": 9,
         "counts": 8,
         "cumpercent": 0.8396624472573839,
         "_deepnote_index_column": 9
        },
        {
         "year": 10,
         "counts": 18,
         "cumpercent": 0.9156118143459916,
         "_deepnote_index_column": 10
        },
        {
         "year": 11,
         "counts": 2,
         "cumpercent": 0.9240506329113924,
         "_deepnote_index_column": 11
        },
        {
         "year": 13,
         "counts": 2,
         "cumpercent": 0.9324894514767933,
         "_deepnote_index_column": 12
        },
        {
         "year": 14,
         "counts": 2,
         "cumpercent": 0.9409282700421941,
         "_deepnote_index_column": 13
        },
        {
         "year": 15,
         "counts": 1,
         "cumpercent": 0.9451476793248945,
         "_deepnote_index_column": 14
        },
        {
         "year": 16,
         "counts": 1,
         "cumpercent": 0.9493670886075949,
         "_deepnote_index_column": 15
        },
        {
         "year": 17,
         "counts": 1,
         "cumpercent": 0.9535864978902954,
         "_deepnote_index_column": 16
        },
        {
         "year": 18,
         "counts": 1,
         "cumpercent": 0.9578059071729957,
         "_deepnote_index_column": 17
        },
        {
         "year": 19,
         "counts": 1,
         "cumpercent": 0.9620253164556962,
         "_deepnote_index_column": 18
        },
        {
         "year": 20,
         "counts": 1,
         "cumpercent": 0.9662447257383966,
         "_deepnote_index_column": 19
        },
        {
         "year": 21,
         "counts": 1,
         "cumpercent": 0.9704641350210971,
         "_deepnote_index_column": 20
        },
        {
         "year": 22,
         "counts": 1,
         "cumpercent": 0.9746835443037974,
         "_deepnote_index_column": 21
        },
        {
         "year": 23,
         "counts": 1,
         "cumpercent": 0.9789029535864979,
         "_deepnote_index_column": 22
        },
        {
         "year": 24,
         "counts": 1,
         "cumpercent": 0.9831223628691983,
         "_deepnote_index_column": 23
        },
        {
         "year": 31,
         "counts": 1,
         "cumpercent": 0.9873417721518988,
         "_deepnote_index_column": 24
        },
        {
         "year": 32,
         "counts": 1,
         "cumpercent": 0.9915611814345991,
         "_deepnote_index_column": 25
        },
        {
         "year": 33,
         "counts": 1,
         "cumpercent": 0.9957805907172996,
         "_deepnote_index_column": 26
        },
        {
         "year": 40,
         "counts": 1,
         "cumpercent": 1,
         "_deepnote_index_column": 27
        }
       ],
       "rows_bottom": null
      },
      "text/html": [
       "<div>\n",
       "<style scoped>\n",
       "    .dataframe tbody tr th:only-of-type {\n",
       "        vertical-align: middle;\n",
       "    }\n",
       "\n",
       "    .dataframe tbody tr th {\n",
       "        vertical-align: top;\n",
       "    }\n",
       "\n",
       "    .dataframe thead th {\n",
       "        text-align: right;\n",
       "    }\n",
       "</style>\n",
       "<table border=\"1\" class=\"dataframe\">\n",
       "  <thead>\n",
       "    <tr style=\"text-align: right;\">\n",
       "      <th></th>\n",
       "      <th>year</th>\n",
       "      <th>counts</th>\n",
       "      <th>cumpercent</th>\n",
       "    </tr>\n",
       "  </thead>\n",
       "  <tbody>\n",
       "    <tr>\n",
       "      <th>0</th>\n",
       "      <td>0</td>\n",
       "      <td>16</td>\n",
       "      <td>0.067511</td>\n",
       "    </tr>\n",
       "    <tr>\n",
       "      <th>1</th>\n",
       "      <td>1</td>\n",
       "      <td>59</td>\n",
       "      <td>0.316456</td>\n",
       "    </tr>\n",
       "    <tr>\n",
       "      <th>2</th>\n",
       "      <td>2</td>\n",
       "      <td>27</td>\n",
       "      <td>0.430380</td>\n",
       "    </tr>\n",
       "    <tr>\n",
       "      <th>3</th>\n",
       "      <td>3</td>\n",
       "      <td>20</td>\n",
       "      <td>0.514768</td>\n",
       "    </tr>\n",
       "    <tr>\n",
       "      <th>4</th>\n",
       "      <td>4</td>\n",
       "      <td>19</td>\n",
       "      <td>0.594937</td>\n",
       "    </tr>\n",
       "    <tr>\n",
       "      <th>5</th>\n",
       "      <td>5</td>\n",
       "      <td>21</td>\n",
       "      <td>0.683544</td>\n",
       "    </tr>\n",
       "    <tr>\n",
       "      <th>6</th>\n",
       "      <td>6</td>\n",
       "      <td>9</td>\n",
       "      <td>0.721519</td>\n",
       "    </tr>\n",
       "    <tr>\n",
       "      <th>7</th>\n",
       "      <td>7</td>\n",
       "      <td>11</td>\n",
       "      <td>0.767932</td>\n",
       "    </tr>\n",
       "    <tr>\n",
       "      <th>8</th>\n",
       "      <td>8</td>\n",
       "      <td>9</td>\n",
       "      <td>0.805907</td>\n",
       "    </tr>\n",
       "    <tr>\n",
       "      <th>9</th>\n",
       "      <td>9</td>\n",
       "      <td>8</td>\n",
       "      <td>0.839662</td>\n",
       "    </tr>\n",
       "    <tr>\n",
       "      <th>10</th>\n",
       "      <td>10</td>\n",
       "      <td>18</td>\n",
       "      <td>0.915612</td>\n",
       "    </tr>\n",
       "    <tr>\n",
       "      <th>11</th>\n",
       "      <td>11</td>\n",
       "      <td>2</td>\n",
       "      <td>0.924051</td>\n",
       "    </tr>\n",
       "    <tr>\n",
       "      <th>12</th>\n",
       "      <td>13</td>\n",
       "      <td>2</td>\n",
       "      <td>0.932489</td>\n",
       "    </tr>\n",
       "    <tr>\n",
       "      <th>13</th>\n",
       "      <td>14</td>\n",
       "      <td>2</td>\n",
       "      <td>0.940928</td>\n",
       "    </tr>\n",
       "    <tr>\n",
       "      <th>14</th>\n",
       "      <td>15</td>\n",
       "      <td>1</td>\n",
       "      <td>0.945148</td>\n",
       "    </tr>\n",
       "    <tr>\n",
       "      <th>15</th>\n",
       "      <td>16</td>\n",
       "      <td>1</td>\n",
       "      <td>0.949367</td>\n",
       "    </tr>\n",
       "    <tr>\n",
       "      <th>16</th>\n",
       "      <td>17</td>\n",
       "      <td>1</td>\n",
       "      <td>0.953586</td>\n",
       "    </tr>\n",
       "    <tr>\n",
       "      <th>17</th>\n",
       "      <td>18</td>\n",
       "      <td>1</td>\n",
       "      <td>0.957806</td>\n",
       "    </tr>\n",
       "    <tr>\n",
       "      <th>18</th>\n",
       "      <td>19</td>\n",
       "      <td>1</td>\n",
       "      <td>0.962025</td>\n",
       "    </tr>\n",
       "    <tr>\n",
       "      <th>19</th>\n",
       "      <td>20</td>\n",
       "      <td>1</td>\n",
       "      <td>0.966245</td>\n",
       "    </tr>\n",
       "    <tr>\n",
       "      <th>20</th>\n",
       "      <td>21</td>\n",
       "      <td>1</td>\n",
       "      <td>0.970464</td>\n",
       "    </tr>\n",
       "    <tr>\n",
       "      <th>21</th>\n",
       "      <td>22</td>\n",
       "      <td>1</td>\n",
       "      <td>0.974684</td>\n",
       "    </tr>\n",
       "    <tr>\n",
       "      <th>22</th>\n",
       "      <td>23</td>\n",
       "      <td>1</td>\n",
       "      <td>0.978903</td>\n",
       "    </tr>\n",
       "    <tr>\n",
       "      <th>23</th>\n",
       "      <td>24</td>\n",
       "      <td>1</td>\n",
       "      <td>0.983122</td>\n",
       "    </tr>\n",
       "    <tr>\n",
       "      <th>24</th>\n",
       "      <td>31</td>\n",
       "      <td>1</td>\n",
       "      <td>0.987342</td>\n",
       "    </tr>\n",
       "    <tr>\n",
       "      <th>25</th>\n",
       "      <td>32</td>\n",
       "      <td>1</td>\n",
       "      <td>0.991561</td>\n",
       "    </tr>\n",
       "    <tr>\n",
       "      <th>26</th>\n",
       "      <td>33</td>\n",
       "      <td>1</td>\n",
       "      <td>0.995781</td>\n",
       "    </tr>\n",
       "    <tr>\n",
       "      <th>27</th>\n",
       "      <td>40</td>\n",
       "      <td>1</td>\n",
       "      <td>1.000000</td>\n",
       "    </tr>\n",
       "  </tbody>\n",
       "</table>\n",
       "</div>"
      ],
      "text/plain": [
       "    year  counts  cumpercent\n",
       "0      0      16    0.067511\n",
       "1      1      59    0.316456\n",
       "2      2      27    0.430380\n",
       "3      3      20    0.514768\n",
       "4      4      19    0.594937\n",
       "5      5      21    0.683544\n",
       "6      6       9    0.721519\n",
       "7      7      11    0.767932\n",
       "8      8       9    0.805907\n",
       "9      9       8    0.839662\n",
       "10    10      18    0.915612\n",
       "11    11       2    0.924051\n",
       "12    13       2    0.932489\n",
       "13    14       2    0.940928\n",
       "14    15       1    0.945148\n",
       "15    16       1    0.949367\n",
       "16    17       1    0.953586\n",
       "17    18       1    0.957806\n",
       "18    19       1    0.962025\n",
       "19    20       1    0.966245\n",
       "20    21       1    0.970464\n",
       "21    22       1    0.974684\n",
       "22    23       1    0.978903\n",
       "23    24       1    0.983122\n",
       "24    31       1    0.987342\n",
       "25    32       1    0.991561\n",
       "26    33       1    0.995781\n",
       "27    40       1    1.000000"
      ]
     },
     "metadata": {},
     "execution_count": 39
    }
   ],
   "metadata": {
    "tags": [],
    "cell_id": "00044-6d2db12c-808c-4d16-9c72-5a15c49057e9",
    "deepnote_to_be_reexecuted": false,
    "source_hash": "8d536ec2",
    "execution_start": 1631582925580,
    "execution_millis": 62,
    "deepnote_cell_type": "code"
   }
  },
  {
   "cell_type": "code",
   "execution_count": null,
   "source": [
    "years_pareto(df_yearatcompany).properties(\n",
    "        title = {\n",
    "            'text': 'Attrition Distrition by Years at Company',\n",
    "            'subtitle':'Revised Pareto Chart (No Sorting Operation)',\n",
    "            'subtitleFontWeight':500,\n",
    "            'subtitleFontSize': 13,\n",
    "            'anchor':'start',\n",
    "            'fontSize': 20,\n",
    "            'offset':20,\n",
    "            'subtitlePadding':5\n",
    "\n",
    "        }\n",
    "    )"
   ],
   "outputs": [
    {
     "output_type": "execute_result",
     "data": {
      "text/html": [
       "\n",
       "<div id=\"altair-viz-c86c5db5119844308583bc99508aea06\"></div>\n",
       "<script type=\"text/javascript\">\n",
       "  (function(spec, embedOpt){\n",
       "    let outputDiv = document.currentScript.previousElementSibling;\n",
       "    if (outputDiv.id !== \"altair-viz-c86c5db5119844308583bc99508aea06\") {\n",
       "      outputDiv = document.getElementById(\"altair-viz-c86c5db5119844308583bc99508aea06\");\n",
       "    }\n",
       "    const paths = {\n",
       "      \"vega\": \"https://cdn.jsdelivr.net/npm//vega@5?noext\",\n",
       "      \"vega-lib\": \"https://cdn.jsdelivr.net/npm//vega-lib?noext\",\n",
       "      \"vega-lite\": \"https://cdn.jsdelivr.net/npm//vega-lite@4.8.1?noext\",\n",
       "      \"vega-embed\": \"https://cdn.jsdelivr.net/npm//vega-embed@6?noext\",\n",
       "    };\n",
       "\n",
       "    function loadScript(lib) {\n",
       "      return new Promise(function(resolve, reject) {\n",
       "        var s = document.createElement('script');\n",
       "        s.src = paths[lib];\n",
       "        s.async = true;\n",
       "        s.onload = () => resolve(paths[lib]);\n",
       "        s.onerror = () => reject(`Error loading script: ${paths[lib]}`);\n",
       "        document.getElementsByTagName(\"head\")[0].appendChild(s);\n",
       "      });\n",
       "    }\n",
       "\n",
       "    function showError(err) {\n",
       "      outputDiv.innerHTML = `<div class=\"error\" style=\"color:red;\">${err}</div>`;\n",
       "      throw err;\n",
       "    }\n",
       "\n",
       "    function displayChart(vegaEmbed) {\n",
       "      vegaEmbed(outputDiv, spec, embedOpt)\n",
       "        .catch(err => showError(`Javascript Error: ${err.message}<br>This usually means there's a typo in your chart specification. See the javascript console for the full traceback.`));\n",
       "    }\n",
       "\n",
       "    if(typeof define === \"function\" && define.amd) {\n",
       "      requirejs.config({paths});\n",
       "      require([\"vega-embed\"], displayChart, err => showError(`Error loading script: ${err.message}`));\n",
       "    } else if (typeof vegaEmbed === \"function\") {\n",
       "      displayChart(vegaEmbed);\n",
       "    } else {\n",
       "      loadScript(\"vega\")\n",
       "        .then(() => loadScript(\"vega-lite\"))\n",
       "        .then(() => loadScript(\"vega-embed\"))\n",
       "        .catch(showError)\n",
       "        .then(() => displayChart(vegaEmbed));\n",
       "    }\n",
       "  })({\"config\": {\"view\": {\"continuousWidth\": 400, \"continuousHeight\": 300, \"strokeWidth\": 0}, \"mark\": {}}, \"layer\": [{\"mark\": {\"type\": \"bar\", \"opacity\": 0.5, \"size\": 15}, \"encoding\": {\"x\": {\"type\": \"ordinal\", \"axis\": {\"title\": \"Years\", \"titleFontSize\": 14}, \"field\": \"year\"}, \"y\": {\"type\": \"quantitative\", \"axis\": {\"title\": \"Number of Attritions\", \"titleFontSize\": 14, \"titlePadding\": 10}, \"field\": \"counts\"}}, \"height\": 300, \"width\": 1000}, {\"mark\": {\"type\": \"line\", \"color\": \"#cb4154\", \"strokeWidth\": 1.5}, \"encoding\": {\"text\": {\"type\": \"quantitative\", \"field\": \"cumpercent\"}, \"x\": {\"type\": \"ordinal\", \"axis\": {\"title\": \"Years\", \"titleFontSize\": 14}, \"field\": \"year\"}, \"y\": {\"type\": \"quantitative\", \"axis\": {\"format\": \".0%\", \"title\": \"Cumulative percentage\", \"titleFontSize\": 14, \"titlePadding\": 10}, \"field\": \"cumpercent\"}}, \"height\": 300, \"width\": 1000}, {\"mark\": {\"type\": \"circle\", \"color\": \"#cb4154\", \"strokeWidth\": 3}, \"encoding\": {\"text\": {\"type\": \"quantitative\", \"field\": \"cumpercent\"}, \"x\": {\"type\": \"ordinal\", \"axis\": {\"title\": \"Years\", \"titleFontSize\": 14}, \"field\": \"year\"}, \"y\": {\"type\": \"quantitative\", \"axis\": null, \"field\": \"cumpercent\"}}, \"height\": 300, \"width\": 1000}, {\"mark\": {\"type\": \"text\", \"align\": \"left\", \"baseline\": \"middle\", \"dx\": -10, \"dy\": -10}, \"encoding\": {\"color\": {\"value\": \"#cb4154\"}, \"text\": {\"type\": \"quantitative\", \"field\": \"cumpercent\", \"format\": \".0%\"}, \"x\": {\"type\": \"ordinal\", \"axis\": {\"title\": \"Years\", \"titleFontSize\": 14}, \"field\": \"year\"}, \"y\": {\"type\": \"quantitative\", \"axis\": null, \"field\": \"cumpercent\"}}, \"height\": 300, \"width\": 1000}], \"data\": {\"name\": \"data-46e5cfea4613aa2e45604e540782d86a\"}, \"resolve\": {\"scale\": {\"y\": \"independent\"}}, \"title\": {\"text\": \"Attrition Distrition by Years at Company\", \"subtitle\": \"Revised Pareto Chart (No Sorting Operation)\", \"subtitleFontWeight\": 500, \"subtitleFontSize\": 13, \"anchor\": \"start\", \"fontSize\": 20, \"offset\": 20, \"subtitlePadding\": 5}, \"$schema\": \"https://vega.github.io/schema/vega-lite/v4.8.1.json\", \"datasets\": {\"data-46e5cfea4613aa2e45604e540782d86a\": [{\"year\": 0, \"counts\": 16, \"cumpercent\": 0.06751054852320675}, {\"year\": 1, \"counts\": 59, \"cumpercent\": 0.31645569620253167}, {\"year\": 2, \"counts\": 27, \"cumpercent\": 0.43037974683544306}, {\"year\": 3, \"counts\": 20, \"cumpercent\": 0.5147679324894515}, {\"year\": 4, \"counts\": 19, \"cumpercent\": 0.5949367088607594}, {\"year\": 5, \"counts\": 21, \"cumpercent\": 0.6835443037974683}, {\"year\": 6, \"counts\": 9, \"cumpercent\": 0.7215189873417721}, {\"year\": 7, \"counts\": 11, \"cumpercent\": 0.7679324894514767}, {\"year\": 8, \"counts\": 9, \"cumpercent\": 0.8059071729957806}, {\"year\": 9, \"counts\": 8, \"cumpercent\": 0.8396624472573839}, {\"year\": 10, \"counts\": 18, \"cumpercent\": 0.9156118143459916}, {\"year\": 11, \"counts\": 2, \"cumpercent\": 0.9240506329113924}, {\"year\": 13, \"counts\": 2, \"cumpercent\": 0.9324894514767933}, {\"year\": 14, \"counts\": 2, \"cumpercent\": 0.9409282700421941}, {\"year\": 15, \"counts\": 1, \"cumpercent\": 0.9451476793248945}, {\"year\": 16, \"counts\": 1, \"cumpercent\": 0.9493670886075949}, {\"year\": 17, \"counts\": 1, \"cumpercent\": 0.9535864978902954}, {\"year\": 18, \"counts\": 1, \"cumpercent\": 0.9578059071729957}, {\"year\": 19, \"counts\": 1, \"cumpercent\": 0.9620253164556962}, {\"year\": 20, \"counts\": 1, \"cumpercent\": 0.9662447257383966}, {\"year\": 21, \"counts\": 1, \"cumpercent\": 0.9704641350210971}, {\"year\": 22, \"counts\": 1, \"cumpercent\": 0.9746835443037974}, {\"year\": 23, \"counts\": 1, \"cumpercent\": 0.9789029535864979}, {\"year\": 24, \"counts\": 1, \"cumpercent\": 0.9831223628691983}, {\"year\": 31, \"counts\": 1, \"cumpercent\": 0.9873417721518988}, {\"year\": 32, \"counts\": 1, \"cumpercent\": 0.9915611814345991}, {\"year\": 33, \"counts\": 1, \"cumpercent\": 0.9957805907172996}, {\"year\": 40, \"counts\": 1, \"cumpercent\": 1.0}]}}, {\"actions\": false, \"mode\": \"vega-lite\"});\n",
       "</script>"
      ],
      "text/plain": [
       "alt.LayerChart(...)"
      ]
     },
     "metadata": {},
     "execution_count": 40
    }
   ],
   "metadata": {
    "tags": [],
    "cell_id": "00040-bfd0e217-7d1c-4e26-adcc-df2ca2aeeeed",
    "deepnote_to_be_reexecuted": false,
    "source_hash": "f44a8737",
    "execution_start": 1631582929468,
    "execution_millis": 71,
    "deepnote_cell_type": "code"
   }
  },
  {
   "cell_type": "code",
   "execution_count": null,
   "source": [
    "# YearsInCurrentRole\n",
    "\n",
    "df_yearcurrentrole= df_left.groupby('YearsInCurrentRole')['YearsInCurrentRole'].count().reset_index(name='counts')\n",
    "df_yearcurrentrole.columns = ['year', 'counts']\n",
    "df_yearcurrentrole['cumpercent'] = df_yearcurrentrole['counts'].cumsum()/df_yearcurrentrole['counts'].sum()\n",
    "\n",
    "years_pareto(df_yearcurrentrole).properties(\n",
    "        title = {\n",
    "            'text': 'Attrition Distrition by Years in Current Roles',\n",
    "            'subtitle':'Revised Pareto Chart (No Sorting Operation)',\n",
    "            'subtitleFontWeight':500,\n",
    "            'subtitleFontSize': 13,\n",
    "            'anchor':'start',\n",
    "            'fontSize': 20,\n",
    "            'offset':20,\n",
    "            'subtitlePadding':5\n",
    "\n",
    "        }\n",
    "    )"
   ],
   "outputs": [
    {
     "output_type": "execute_result",
     "data": {
      "text/html": [
       "\n",
       "<div id=\"altair-viz-62baf28bfb9c4934b780357e511d2717\"></div>\n",
       "<script type=\"text/javascript\">\n",
       "  (function(spec, embedOpt){\n",
       "    let outputDiv = document.currentScript.previousElementSibling;\n",
       "    if (outputDiv.id !== \"altair-viz-62baf28bfb9c4934b780357e511d2717\") {\n",
       "      outputDiv = document.getElementById(\"altair-viz-62baf28bfb9c4934b780357e511d2717\");\n",
       "    }\n",
       "    const paths = {\n",
       "      \"vega\": \"https://cdn.jsdelivr.net/npm//vega@5?noext\",\n",
       "      \"vega-lib\": \"https://cdn.jsdelivr.net/npm//vega-lib?noext\",\n",
       "      \"vega-lite\": \"https://cdn.jsdelivr.net/npm//vega-lite@4.8.1?noext\",\n",
       "      \"vega-embed\": \"https://cdn.jsdelivr.net/npm//vega-embed@6?noext\",\n",
       "    };\n",
       "\n",
       "    function loadScript(lib) {\n",
       "      return new Promise(function(resolve, reject) {\n",
       "        var s = document.createElement('script');\n",
       "        s.src = paths[lib];\n",
       "        s.async = true;\n",
       "        s.onload = () => resolve(paths[lib]);\n",
       "        s.onerror = () => reject(`Error loading script: ${paths[lib]}`);\n",
       "        document.getElementsByTagName(\"head\")[0].appendChild(s);\n",
       "      });\n",
       "    }\n",
       "\n",
       "    function showError(err) {\n",
       "      outputDiv.innerHTML = `<div class=\"error\" style=\"color:red;\">${err}</div>`;\n",
       "      throw err;\n",
       "    }\n",
       "\n",
       "    function displayChart(vegaEmbed) {\n",
       "      vegaEmbed(outputDiv, spec, embedOpt)\n",
       "        .catch(err => showError(`Javascript Error: ${err.message}<br>This usually means there's a typo in your chart specification. See the javascript console for the full traceback.`));\n",
       "    }\n",
       "\n",
       "    if(typeof define === \"function\" && define.amd) {\n",
       "      requirejs.config({paths});\n",
       "      require([\"vega-embed\"], displayChart, err => showError(`Error loading script: ${err.message}`));\n",
       "    } else if (typeof vegaEmbed === \"function\") {\n",
       "      displayChart(vegaEmbed);\n",
       "    } else {\n",
       "      loadScript(\"vega\")\n",
       "        .then(() => loadScript(\"vega-lite\"))\n",
       "        .then(() => loadScript(\"vega-embed\"))\n",
       "        .catch(showError)\n",
       "        .then(() => displayChart(vegaEmbed));\n",
       "    }\n",
       "  })({\"config\": {\"view\": {\"continuousWidth\": 400, \"continuousHeight\": 300, \"strokeWidth\": 0}, \"mark\": {}}, \"layer\": [{\"mark\": {\"type\": \"bar\", \"opacity\": 0.5, \"size\": 15}, \"encoding\": {\"x\": {\"type\": \"ordinal\", \"axis\": {\"title\": \"Years\", \"titleFontSize\": 14}, \"field\": \"year\"}, \"y\": {\"type\": \"quantitative\", \"axis\": {\"title\": \"Number of Attritions\", \"titleFontSize\": 14, \"titlePadding\": 10}, \"field\": \"counts\"}}, \"height\": 300, \"width\": 1000}, {\"mark\": {\"type\": \"line\", \"color\": \"#cb4154\", \"strokeWidth\": 1.5}, \"encoding\": {\"text\": {\"type\": \"quantitative\", \"field\": \"cumpercent\"}, \"x\": {\"type\": \"ordinal\", \"axis\": {\"title\": \"Years\", \"titleFontSize\": 14}, \"field\": \"year\"}, \"y\": {\"type\": \"quantitative\", \"axis\": {\"format\": \".0%\", \"title\": \"Cumulative percentage\", \"titleFontSize\": 14, \"titlePadding\": 10}, \"field\": \"cumpercent\"}}, \"height\": 300, \"width\": 1000}, {\"mark\": {\"type\": \"circle\", \"color\": \"#cb4154\", \"strokeWidth\": 3}, \"encoding\": {\"text\": {\"type\": \"quantitative\", \"field\": \"cumpercent\"}, \"x\": {\"type\": \"ordinal\", \"axis\": {\"title\": \"Years\", \"titleFontSize\": 14}, \"field\": \"year\"}, \"y\": {\"type\": \"quantitative\", \"axis\": null, \"field\": \"cumpercent\"}}, \"height\": 300, \"width\": 1000}, {\"mark\": {\"type\": \"text\", \"align\": \"left\", \"baseline\": \"middle\", \"dx\": -10, \"dy\": -10}, \"encoding\": {\"color\": {\"value\": \"#cb4154\"}, \"text\": {\"type\": \"quantitative\", \"field\": \"cumpercent\", \"format\": \".0%\"}, \"x\": {\"type\": \"ordinal\", \"axis\": {\"title\": \"Years\", \"titleFontSize\": 14}, \"field\": \"year\"}, \"y\": {\"type\": \"quantitative\", \"axis\": null, \"field\": \"cumpercent\"}}, \"height\": 300, \"width\": 1000}], \"data\": {\"name\": \"data-367f43dfcd4075fc07929048c09d6ab2\"}, \"resolve\": {\"scale\": {\"y\": \"independent\"}}, \"title\": {\"text\": \"Attrition Distrition by Years in Current Roles\", \"subtitle\": \"Revised Pareto Chart (No Sorting Operation)\", \"subtitleFontWeight\": 500, \"subtitleFontSize\": 13, \"anchor\": \"start\", \"fontSize\": 20, \"offset\": 20, \"subtitlePadding\": 5}, \"$schema\": \"https://vega.github.io/schema/vega-lite/v4.8.1.json\", \"datasets\": {\"data-367f43dfcd4075fc07929048c09d6ab2\": [{\"year\": 0, \"counts\": 73, \"cumpercent\": 0.3080168776371308}, {\"year\": 1, \"counts\": 11, \"cumpercent\": 0.35443037974683544}, {\"year\": 2, \"counts\": 68, \"cumpercent\": 0.6413502109704642}, {\"year\": 3, \"counts\": 16, \"cumpercent\": 0.7088607594936709}, {\"year\": 4, \"counts\": 15, \"cumpercent\": 0.7721518987341772}, {\"year\": 5, \"counts\": 1, \"cumpercent\": 0.7763713080168776}, {\"year\": 6, \"counts\": 2, \"cumpercent\": 0.7848101265822784}, {\"year\": 7, \"counts\": 31, \"cumpercent\": 0.9156118143459916}, {\"year\": 8, \"counts\": 7, \"cumpercent\": 0.9451476793248945}, {\"year\": 9, \"counts\": 6, \"cumpercent\": 0.9704641350210971}, {\"year\": 10, \"counts\": 2, \"cumpercent\": 0.9789029535864979}, {\"year\": 12, \"counts\": 1, \"cumpercent\": 0.9831223628691983}, {\"year\": 13, \"counts\": 1, \"cumpercent\": 0.9873417721518988}, {\"year\": 14, \"counts\": 1, \"cumpercent\": 0.9915611814345991}, {\"year\": 15, \"counts\": 2, \"cumpercent\": 1.0}]}}, {\"actions\": false, \"mode\": \"vega-lite\"});\n",
       "</script>"
      ],
      "text/plain": [
       "alt.LayerChart(...)"
      ]
     },
     "metadata": {},
     "execution_count": 42
    }
   ],
   "metadata": {
    "tags": [],
    "cell_id": "00041-e224f79f-6e74-422f-bfb9-09591d61bf6e",
    "deepnote_to_be_reexecuted": false,
    "source_hash": "6d11d2a",
    "execution_start": 1631583313555,
    "execution_millis": 35,
    "deepnote_cell_type": "code"
   }
  },
  {
   "cell_type": "code",
   "execution_count": null,
   "source": [
    "df_left.columns"
   ],
   "outputs": [
    {
     "output_type": "execute_result",
     "data": {
      "text/plain": [
       "Index(['Age', 'Attrition', 'BusinessTravel', 'DailyRate', 'Department',\n",
       "       'DistanceFromHome', 'Education', 'EducationField', 'EmployeeCount',\n",
       "       'EmployeeNumber', 'EnvironmentSatisfaction', 'Gender', 'HourlyRate',\n",
       "       'JobInvolvement', 'JobLevel', 'JobRole', 'JobSatisfaction',\n",
       "       'MaritalStatus', 'MonthlyIncome', 'MonthlyRate', 'NumCompaniesWorked',\n",
       "       'OverTime', 'PercentSalaryHike', 'PerformanceRating',\n",
       "       'RelationshipSatisfaction', 'StandardHours', 'StockOptionLevel',\n",
       "       'TotalWorkingYears', 'TrainingTimesLastYear', 'WorkLifeBalance',\n",
       "       'YearsAtCompany', 'YearsInCurrentRole', 'YearsSinceLastPromotion',\n",
       "       'YearsWithCurrManager'],\n",
       "      dtype='object')"
      ]
     },
     "metadata": {},
     "execution_count": 43
    }
   ],
   "metadata": {
    "tags": [],
    "cell_id": "00049-262c2d40-472c-4199-bb51-4445db823fd4",
    "deepnote_to_be_reexecuted": false,
    "source_hash": "8dd40f5d",
    "execution_start": 1631585193751,
    "execution_millis": 14,
    "deepnote_cell_type": "code"
   }
  },
  {
   "cell_type": "code",
   "execution_count": null,
   "source": [
    "# YearsSinceLastPromotion\n",
    "\n",
    "df_promot= df_left.groupby('YearsSinceLastPromotion')['YearsSinceLastPromotion'].count().reset_index(name='counts')\n",
    "df_promot.columns = ['year', 'counts']\n",
    "df_promot['cumpercent'] = df_promot['counts'].cumsum()/df_promot['counts'].sum()\n",
    "\n",
    "years_pareto(df_promot).properties(\n",
    "        title = {\n",
    "            'text': 'Attrition Distrition by the Parameters of Years-Since-Last-Promotion',\n",
    "            'subtitle':'Revised Pareto Chart (No Sorting Operation)',\n",
    "            'subtitleFontWeight':500,\n",
    "            'subtitleFontSize': 13,\n",
    "            'anchor':'start',\n",
    "            'fontSize': 20,\n",
    "            'offset':20,\n",
    "            'subtitlePadding':5\n",
    "\n",
    "        }\n",
    "    )"
   ],
   "outputs": [
    {
     "output_type": "execute_result",
     "data": {
      "text/html": [
       "\n",
       "<div id=\"altair-viz-79a4b89e468a411d83a14d9407e40a50\"></div>\n",
       "<script type=\"text/javascript\">\n",
       "  (function(spec, embedOpt){\n",
       "    let outputDiv = document.currentScript.previousElementSibling;\n",
       "    if (outputDiv.id !== \"altair-viz-79a4b89e468a411d83a14d9407e40a50\") {\n",
       "      outputDiv = document.getElementById(\"altair-viz-79a4b89e468a411d83a14d9407e40a50\");\n",
       "    }\n",
       "    const paths = {\n",
       "      \"vega\": \"https://cdn.jsdelivr.net/npm//vega@5?noext\",\n",
       "      \"vega-lib\": \"https://cdn.jsdelivr.net/npm//vega-lib?noext\",\n",
       "      \"vega-lite\": \"https://cdn.jsdelivr.net/npm//vega-lite@4.8.1?noext\",\n",
       "      \"vega-embed\": \"https://cdn.jsdelivr.net/npm//vega-embed@6?noext\",\n",
       "    };\n",
       "\n",
       "    function loadScript(lib) {\n",
       "      return new Promise(function(resolve, reject) {\n",
       "        var s = document.createElement('script');\n",
       "        s.src = paths[lib];\n",
       "        s.async = true;\n",
       "        s.onload = () => resolve(paths[lib]);\n",
       "        s.onerror = () => reject(`Error loading script: ${paths[lib]}`);\n",
       "        document.getElementsByTagName(\"head\")[0].appendChild(s);\n",
       "      });\n",
       "    }\n",
       "\n",
       "    function showError(err) {\n",
       "      outputDiv.innerHTML = `<div class=\"error\" style=\"color:red;\">${err}</div>`;\n",
       "      throw err;\n",
       "    }\n",
       "\n",
       "    function displayChart(vegaEmbed) {\n",
       "      vegaEmbed(outputDiv, spec, embedOpt)\n",
       "        .catch(err => showError(`Javascript Error: ${err.message}<br>This usually means there's a typo in your chart specification. See the javascript console for the full traceback.`));\n",
       "    }\n",
       "\n",
       "    if(typeof define === \"function\" && define.amd) {\n",
       "      requirejs.config({paths});\n",
       "      require([\"vega-embed\"], displayChart, err => showError(`Error loading script: ${err.message}`));\n",
       "    } else if (typeof vegaEmbed === \"function\") {\n",
       "      displayChart(vegaEmbed);\n",
       "    } else {\n",
       "      loadScript(\"vega\")\n",
       "        .then(() => loadScript(\"vega-lite\"))\n",
       "        .then(() => loadScript(\"vega-embed\"))\n",
       "        .catch(showError)\n",
       "        .then(() => displayChart(vegaEmbed));\n",
       "    }\n",
       "  })({\"config\": {\"view\": {\"continuousWidth\": 400, \"continuousHeight\": 300, \"strokeWidth\": 0}, \"mark\": {}}, \"layer\": [{\"mark\": {\"type\": \"bar\", \"opacity\": 0.5, \"size\": 15}, \"encoding\": {\"x\": {\"type\": \"ordinal\", \"axis\": {\"title\": \"Years\", \"titleFontSize\": 14}, \"field\": \"year\"}, \"y\": {\"type\": \"quantitative\", \"axis\": {\"title\": \"Number of Attritions\", \"titleFontSize\": 14, \"titlePadding\": 10}, \"field\": \"counts\"}}, \"height\": 300, \"width\": 1000}, {\"mark\": {\"type\": \"line\", \"color\": \"#cb4154\", \"strokeWidth\": 1.5}, \"encoding\": {\"text\": {\"type\": \"quantitative\", \"field\": \"cumpercent\"}, \"x\": {\"type\": \"ordinal\", \"axis\": {\"title\": \"Years\", \"titleFontSize\": 14}, \"field\": \"year\"}, \"y\": {\"type\": \"quantitative\", \"axis\": {\"format\": \".0%\", \"title\": \"Cumulative percentage\", \"titleFontSize\": 14, \"titlePadding\": 10}, \"field\": \"cumpercent\"}}, \"height\": 300, \"width\": 1000}, {\"mark\": {\"type\": \"circle\", \"color\": \"#cb4154\", \"strokeWidth\": 3}, \"encoding\": {\"text\": {\"type\": \"quantitative\", \"field\": \"cumpercent\"}, \"x\": {\"type\": \"ordinal\", \"axis\": {\"title\": \"Years\", \"titleFontSize\": 14}, \"field\": \"year\"}, \"y\": {\"type\": \"quantitative\", \"axis\": null, \"field\": \"cumpercent\"}}, \"height\": 300, \"width\": 1000}, {\"mark\": {\"type\": \"text\", \"align\": \"left\", \"baseline\": \"middle\", \"dx\": -10, \"dy\": -10}, \"encoding\": {\"color\": {\"value\": \"#cb4154\"}, \"text\": {\"type\": \"quantitative\", \"field\": \"cumpercent\", \"format\": \".0%\"}, \"x\": {\"type\": \"ordinal\", \"axis\": {\"title\": \"Years\", \"titleFontSize\": 14}, \"field\": \"year\"}, \"y\": {\"type\": \"quantitative\", \"axis\": null, \"field\": \"cumpercent\"}}, \"height\": 300, \"width\": 1000}], \"data\": {\"name\": \"data-a22d9a3949bc6cfc4df8e528492acab0\"}, \"resolve\": {\"scale\": {\"y\": \"independent\"}}, \"title\": {\"text\": \"Attrition Distrition by the Parameters of Years-Since-Last-Promotion\", \"subtitle\": \"Revised Pareto Chart (No Sorting Operation)\", \"subtitleFontWeight\": 500, \"subtitleFontSize\": 13, \"anchor\": \"start\", \"fontSize\": 20, \"offset\": 20, \"subtitlePadding\": 5}, \"$schema\": \"https://vega.github.io/schema/vega-lite/v4.8.1.json\", \"datasets\": {\"data-a22d9a3949bc6cfc4df8e528492acab0\": [{\"year\": 0, \"counts\": 110, \"cumpercent\": 0.4641350210970464}, {\"year\": 1, \"counts\": 49, \"cumpercent\": 0.6708860759493671}, {\"year\": 2, \"counts\": 27, \"cumpercent\": 0.7848101265822784}, {\"year\": 3, \"counts\": 9, \"cumpercent\": 0.8227848101265823}, {\"year\": 4, \"counts\": 5, \"cumpercent\": 0.8438818565400844}, {\"year\": 5, \"counts\": 2, \"cumpercent\": 0.8523206751054853}, {\"year\": 6, \"counts\": 6, \"cumpercent\": 0.8776371308016878}, {\"year\": 7, \"counts\": 16, \"cumpercent\": 0.9451476793248945}, {\"year\": 9, \"counts\": 4, \"cumpercent\": 0.9620253164556962}, {\"year\": 10, \"counts\": 1, \"cumpercent\": 0.9662447257383966}, {\"year\": 11, \"counts\": 2, \"cumpercent\": 0.9746835443037974}, {\"year\": 13, \"counts\": 2, \"cumpercent\": 0.9831223628691983}, {\"year\": 14, \"counts\": 1, \"cumpercent\": 0.9873417721518988}, {\"year\": 15, \"counts\": 3, \"cumpercent\": 1.0}]}}, {\"actions\": false, \"mode\": \"vega-lite\"});\n",
       "</script>"
      ],
      "text/plain": [
       "alt.LayerChart(...)"
      ]
     },
     "metadata": {},
     "execution_count": 44
    }
   ],
   "metadata": {
    "tags": [],
    "cell_id": "00049-24943cf3-e389-4aec-b61a-eaa491bee2e6",
    "deepnote_to_be_reexecuted": false,
    "source_hash": "d945115",
    "execution_start": 1631585274713,
    "execution_millis": 9,
    "deepnote_cell_type": "code"
   }
  },
  {
   "cell_type": "markdown",
   "source": [
    "- 19% 的离职人员工作经验不到2年。\n",
    "- 32% 的离职人员在IBM工作不到2年。\n",
    "- 31% 的离职人员在此岗位上不满1年。\n",
    "- 78% 的离职人员在3年以内得到了提升。\n",
    "\n",
    "从上面四张图，2年以内的离职率很高，可以推想刚毕业的年轻人更容易离职，他们没有家庭的负担和牵绊，自由度很高。\n",
    "虽然IBM的晋升制度理想，员工能够通过努力得到职位提升，但是还是因为其它原因离开。升职并不能左右员工的离职决定。\n",
    "\n",
    "聚焦到Attrition Distribution by Years at Company 这张图，我们发现抛开只在IBM工作了2年的这部分。 在IBM工作3-10年的比例高达41%。\n",
    "通常在一家公司工作3年以上，可以算是已经基本融入公司，基本认可公司价值观，与公司和同事产生了比较密切的链接。\n",
    "这个数据集是2018年的，所以我们想看：\n",
    "- 过去10年，IBM公司的财经信息在2017-2018 是否有一些比较异常的情况。\n",
    "- 公司是否发生重组，业务切割，抛售 等等\n",
    "- R&D 部门的headcount 在IBM比重非常大，我们想看看 Stackoverflow 在2018年對全球軟體工程師的問券調查, 看看行业内人员的薪资，工作满意度 等指标。"
   ],
   "metadata": {
    "tags": [],
    "cell_id": "00049-2eb0bbce-188c-41ba-a025-b57603df27a2",
    "deepnote_cell_type": "markdown"
   }
  },
  {
   "cell_type": "markdown",
   "source": [
    "## Explore the secondary dataset"
   ],
   "metadata": {
    "tags": [],
    "is_collapsed": false,
    "cell_id": "00048-63ed610e-1311-4dbc-be22-8b0a184b0cce",
    "deepnote_cell_type": "text-cell-h2"
   }
  },
  {
   "cell_type": "code",
   "execution_count": null,
   "source": [
    "df_stack = pd.read_csv('survey_results_public.csv', encoding=\"cp1252\")\n",
    "df_usa = df_stack[(df_stack['Country'] == 'United States') & (df_stack['Employment'] == 'Employed full-time')]\n",
    "df_usa.head()"
   ],
   "outputs": [
    {
     "output_type": "stream",
     "name": "stderr",
     "text": [
      "/shared-libs/python3.7/py-core/lib/python3.7/site-packages/IPython/core/interactiveshell.py:3170: DtypeWarning: Columns (8,12,13,14,15,16,50,51,52,53,55,56,57,58,59,60,61,62,63,64,65,66,67,68,69,70,71,72,73,74,75,76,77,78,79,80,81,82,83,84,85,93,94,95,96,97,98,99,100,101,102,103,104,105,106,107,108,109,110,111,112,113,114,115,116,117,118,119,120,121,122,123,124,125,126,127,128) have mixed types.Specify dtype option on import or set low_memory=False.\n",
      "  interactivity=interactivity, compiler=compiler, result=result)\n"
     ]
    },
    {
     "output_type": "execute_result",
     "data": {
      "application/vnd.deepnote.dataframe.v2+json": {
       "row_count": 5,
       "column_count": 129,
       "columns": [
        {
         "name": "Respondent",
         "dtype": "int64",
         "stats": {
          "unique_count": 5,
          "nan_count": 0,
          "min": "4",
          "max": "34",
          "histogram": [
           {
            "bin_start": 4,
            "bin_end": 7,
            "count": 2
           },
           {
            "bin_start": 7,
            "bin_end": 10,
            "count": 1
           },
           {
            "bin_start": 10,
            "bin_end": 13,
            "count": 1
           },
           {
            "bin_start": 13,
            "bin_end": 16,
            "count": 0
           },
           {
            "bin_start": 16,
            "bin_end": 19,
            "count": 0
           },
           {
            "bin_start": 19,
            "bin_end": 22,
            "count": 0
           },
           {
            "bin_start": 22,
            "bin_end": 25,
            "count": 0
           },
           {
            "bin_start": 25,
            "bin_end": 28,
            "count": 0
           },
           {
            "bin_start": 28,
            "bin_end": 31,
            "count": 0
           },
           {
            "bin_start": 31,
            "bin_end": 34,
            "count": 1
           }
          ]
         }
        },
        {
         "name": "Hobby",
         "dtype": "object",
         "stats": {
          "unique_count": 2,
          "nan_count": 0,
          "categories": [
           {
            "name": "Yes",
            "count": 4
           },
           {
            "name": "No",
            "count": 1
           }
          ]
         }
        },
        {
         "name": "OpenSource",
         "dtype": "object",
         "stats": {
          "unique_count": 2,
          "nan_count": 0,
          "categories": [
           {
            "name": "Yes",
            "count": 3
           },
           {
            "name": "No",
            "count": 2
           }
          ]
         }
        },
        {
         "name": "Country",
         "dtype": "object",
         "stats": {
          "unique_count": 1,
          "nan_count": 0,
          "categories": [
           {
            "name": "United States",
            "count": 5
           }
          ]
         }
        },
        {
         "name": "Student",
         "dtype": "object",
         "stats": {
          "unique_count": 1,
          "nan_count": 0,
          "categories": [
           {
            "name": "No",
            "count": 5
           }
          ]
         }
        },
        {
         "name": "Employment",
         "dtype": "object",
         "stats": {
          "unique_count": 1,
          "nan_count": 0,
          "categories": [
           {
            "name": "Employed full-time",
            "count": 5
           }
          ]
         }
        },
        {
         "name": "FormalEducation",
         "dtype": "object",
         "stats": {
          "unique_count": 3,
          "nan_count": 0,
          "categories": [
           {
            "name": "Bachelor?™s degree (BA, BS, B.Eng., etc.)",
            "count": 2
           },
           {
            "name": "Some college/university study without earning a degree",
            "count": 2
           },
           {
            "name": "Associate degree",
            "count": 1
           }
          ]
         }
        },
        {
         "name": "UndergradMajor",
         "dtype": "object",
         "stats": {
          "unique_count": 2,
          "nan_count": 1,
          "categories": [
           {
            "name": "Computer science, computer engineering, or software engineering",
            "count": 3
           },
           {
            "name": "Fine arts or performing arts (ex. graphic design, music, studio art)",
            "count": 1
           },
           {
            "name": "Missing",
            "count": 1
           }
          ]
         }
        },
        {
         "name": "CompanySize",
         "dtype": "object",
         "stats": {
          "unique_count": 4,
          "nan_count": 0,
          "categories": [
           {
            "name": "100 to 499 employees",
            "count": 2
           },
           {
            "name": "20 to 99 employees",
            "count": 1
           },
           {
            "name": "2 others",
            "count": 2
           }
          ]
         }
        },
        {
         "name": "DevType",
         "dtype": "object",
         "stats": {
          "unique_count": 5,
          "nan_count": 0,
          "categories": [
           {
            "name": "Engineering manager;Full-stack developer",
            "count": 1
           },
           {
            "name": "Full-stack developer",
            "count": 1
           },
           {
            "name": "3 others",
            "count": 3
           }
          ]
         }
        },
        {
         "name": "YearsCoding",
         "dtype": "object",
         "stats": {
          "unique_count": 4,
          "nan_count": 0,
          "categories": [
           {
            "name": "24-26 years",
            "count": 2
           },
           {
            "name": "18-20 years",
            "count": 1
           },
           {
            "name": "2 others",
            "count": 2
           }
          ]
         }
        },
        {
         "name": "YearsCodingProf",
         "dtype": "object",
         "stats": {
          "unique_count": 5,
          "nan_count": 0,
          "categories": [
           {
            "name": "6-8 years",
            "count": 1
           },
           {
            "name": "12-14 years",
            "count": 1
           },
           {
            "name": "3 others",
            "count": 3
           }
          ]
         }
        },
        {
         "name": "JobSatisfaction",
         "dtype": "object",
         "stats": {
          "unique_count": 4,
          "nan_count": 0,
          "categories": [
           {
            "name": "Moderately satisfied",
            "count": 2
           },
           {
            "name": "Neither satisfied nor dissatisfied",
            "count": 1
           },
           {
            "name": "2 others",
            "count": 2
           }
          ]
         }
        },
        {
         "name": "CareerSatisfaction",
         "dtype": "object",
         "stats": {
          "unique_count": 2,
          "nan_count": 0,
          "categories": [
           {
            "name": "Moderately satisfied",
            "count": 4
           },
           {
            "name": "Slightly dissatisfied",
            "count": 1
           }
          ]
         }
        },
        {
         "name": "HopeFiveYears",
         "dtype": "object",
         "stats": {
          "unique_count": 3,
          "nan_count": 0,
          "categories": [
           {
            "name": "Working as a founder or co-founder of my own company",
            "count": 3
           },
           {
            "name": "Doing the same work",
            "count": 1
           },
           {
            "name": "Working in a different or more specialized technical role than the one I'm in now",
            "count": 1
           }
          ]
         }
        },
        {
         "name": "JobSearchStatus",
         "dtype": "object",
         "stats": {
          "unique_count": 1,
          "nan_count": 0,
          "categories": [
           {
            "name": "I?™m not actively looking, but I am open to new opportunities",
            "count": 5
           }
          ]
         }
        },
        {
         "name": "LastNewJob",
         "dtype": "object",
         "stats": {
          "unique_count": 3,
          "nan_count": 0,
          "categories": [
           {
            "name": "Less than a year ago",
            "count": 3
           },
           {
            "name": "Between 2 and 4 years ago",
            "count": 1
           },
           {
            "name": "More than 4 years ago",
            "count": 1
           }
          ]
         }
        },
        {
         "name": "AssessJob1",
         "dtype": "float64",
         "stats": {
          "unique_count": 3,
          "nan_count": 2,
          "min": "3.0",
          "max": "6.0",
          "histogram": [
           {
            "bin_start": 3,
            "bin_end": 3.3,
            "count": 1
           },
           {
            "bin_start": 3.3,
            "bin_end": 3.6,
            "count": 0
           },
           {
            "bin_start": 3.6,
            "bin_end": 3.9,
            "count": 0
           },
           {
            "bin_start": 3.9,
            "bin_end": 4.2,
            "count": 0
           },
           {
            "bin_start": 4.2,
            "bin_end": 4.5,
            "count": 0
           },
           {
            "bin_start": 4.5,
            "bin_end": 4.8,
            "count": 0
           },
           {
            "bin_start": 4.8,
            "bin_end": 5.1,
            "count": 1
           },
           {
            "bin_start": 5.1,
            "bin_end": 5.4,
            "count": 0
           },
           {
            "bin_start": 5.4,
            "bin_end": 5.699999999999999,
            "count": 0
           },
           {
            "bin_start": 5.699999999999999,
            "bin_end": 6,
            "count": 1
           }
          ]
         }
        },
        {
         "name": "AssessJob2",
         "dtype": "float64",
         "stats": {
          "unique_count": 2,
          "nan_count": 2,
          "min": "3.0",
          "max": "4.0",
          "histogram": [
           {
            "bin_start": 3,
            "bin_end": 3.1,
            "count": 2
           },
           {
            "bin_start": 3.1,
            "bin_end": 3.2,
            "count": 0
           },
           {
            "bin_start": 3.2,
            "bin_end": 3.3,
            "count": 0
           },
           {
            "bin_start": 3.3,
            "bin_end": 3.4,
            "count": 0
           },
           {
            "bin_start": 3.4,
            "bin_end": 3.5,
            "count": 0
           },
           {
            "bin_start": 3.5,
            "bin_end": 3.6,
            "count": 0
           },
           {
            "bin_start": 3.6,
            "bin_end": 3.7,
            "count": 0
           },
           {
            "bin_start": 3.7,
            "bin_end": 3.8,
            "count": 0
           },
           {
            "bin_start": 3.8,
            "bin_end": 3.9,
            "count": 0
           },
           {
            "bin_start": 3.9,
            "bin_end": 4,
            "count": 1
           }
          ]
         }
        },
        {
         "name": "AssessJob3",
         "dtype": "float64",
         "stats": {
          "unique_count": 3,
          "nan_count": 2,
          "min": "6.0",
          "max": "9.0",
          "histogram": [
           {
            "bin_start": 6,
            "bin_end": 6.3,
            "count": 1
           },
           {
            "bin_start": 6.3,
            "bin_end": 6.6,
            "count": 0
           },
           {
            "bin_start": 6.6,
            "bin_end": 6.9,
            "count": 0
           },
           {
            "bin_start": 6.9,
            "bin_end": 7.2,
            "count": 1
           },
           {
            "bin_start": 7.2,
            "bin_end": 7.5,
            "count": 0
           },
           {
            "bin_start": 7.5,
            "bin_end": 7.8,
            "count": 0
           },
           {
            "bin_start": 7.8,
            "bin_end": 8.1,
            "count": 0
           },
           {
            "bin_start": 8.1,
            "bin_end": 8.4,
            "count": 0
           },
           {
            "bin_start": 8.4,
            "bin_end": 8.7,
            "count": 0
           },
           {
            "bin_start": 8.7,
            "bin_end": 9,
            "count": 1
           }
          ]
         }
        },
        {
         "name": "AssessJob4",
         "dtype": "float64",
         "stats": {
          "unique_count": 2,
          "nan_count": 2,
          "min": "4.0",
          "max": "7.0",
          "histogram": [
           {
            "bin_start": 4,
            "bin_end": 4.3,
            "count": 2
           },
           {
            "bin_start": 4.3,
            "bin_end": 4.6,
            "count": 0
           },
           {
            "bin_start": 4.6,
            "bin_end": 4.9,
            "count": 0
           },
           {
            "bin_start": 4.9,
            "bin_end": 5.2,
            "count": 0
           },
           {
            "bin_start": 5.2,
            "bin_end": 5.5,
            "count": 0
           },
           {
            "bin_start": 5.5,
            "bin_end": 5.8,
            "count": 0
           },
           {
            "bin_start": 5.8,
            "bin_end": 6.1,
            "count": 0
           },
           {
            "bin_start": 6.1,
            "bin_end": 6.4,
            "count": 0
           },
           {
            "bin_start": 6.4,
            "bin_end": 6.699999999999999,
            "count": 0
           },
           {
            "bin_start": 6.699999999999999,
            "bin_end": 7,
            "count": 1
           }
          ]
         }
        },
        {
         "name": "AssessJob5",
         "dtype": "float64",
         "stats": {
          "unique_count": 1,
          "nan_count": 2,
          "min": "1.0",
          "max": "1.0",
          "histogram": [
           {
            "bin_start": 0.5,
            "bin_end": 0.6,
            "count": 0
           },
           {
            "bin_start": 0.6,
            "bin_end": 0.7,
            "count": 0
           },
           {
            "bin_start": 0.7,
            "bin_end": 0.8,
            "count": 0
           },
           {
            "bin_start": 0.8,
            "bin_end": 0.9,
            "count": 0
           },
           {
            "bin_start": 0.9,
            "bin_end": 1,
            "count": 0
           },
           {
            "bin_start": 1,
            "bin_end": 1.1,
            "count": 3
           },
           {
            "bin_start": 1.1,
            "bin_end": 1.2000000000000002,
            "count": 0
           },
           {
            "bin_start": 1.2000000000000002,
            "bin_end": 1.3,
            "count": 0
           },
           {
            "bin_start": 1.3,
            "bin_end": 1.4,
            "count": 0
           },
           {
            "bin_start": 1.4,
            "bin_end": 1.5,
            "count": 0
           }
          ]
         }
        },
        {
         "name": "AssessJob6",
         "dtype": "float64",
         "stats": {
          "unique_count": 2,
          "nan_count": 2,
          "min": "5.0",
          "max": "8.0",
          "histogram": [
           {
            "bin_start": 5,
            "bin_end": 5.3,
            "count": 1
           },
           {
            "bin_start": 5.3,
            "bin_end": 5.6,
            "count": 0
           },
           {
            "bin_start": 5.6,
            "bin_end": 5.9,
            "count": 0
           },
           {
            "bin_start": 5.9,
            "bin_end": 6.2,
            "count": 0
           },
           {
            "bin_start": 6.2,
            "bin_end": 6.5,
            "count": 0
           },
           {
            "bin_start": 6.5,
            "bin_end": 6.8,
            "count": 0
           },
           {
            "bin_start": 6.8,
            "bin_end": 7.1,
            "count": 0
           },
           {
            "bin_start": 7.1,
            "bin_end": 7.4,
            "count": 0
           },
           {
            "bin_start": 7.4,
            "bin_end": 7.699999999999999,
            "count": 0
           },
           {
            "bin_start": 7.699999999999999,
            "bin_end": 8,
            "count": 2
           }
          ]
         }
        },
        {
         "name": "AssessJob7",
         "dtype": "float64",
         "stats": {
          "unique_count": 3,
          "nan_count": 2,
          "min": "2.0",
          "max": "10.0",
          "histogram": [
           {
            "bin_start": 2,
            "bin_end": 2.8,
            "count": 1
           },
           {
            "bin_start": 2.8,
            "bin_end": 3.6,
            "count": 0
           },
           {
            "bin_start": 3.6,
            "bin_end": 4.4,
            "count": 0
           },
           {
            "bin_start": 4.4,
            "bin_end": 5.2,
            "count": 1
           },
           {
            "bin_start": 5.2,
            "bin_end": 6,
            "count": 0
           },
           {
            "bin_start": 6,
            "bin_end": 6.800000000000001,
            "count": 0
           },
           {
            "bin_start": 6.800000000000001,
            "bin_end": 7.6000000000000005,
            "count": 0
           },
           {
            "bin_start": 7.6000000000000005,
            "bin_end": 8.4,
            "count": 0
           },
           {
            "bin_start": 8.4,
            "bin_end": 9.2,
            "count": 0
           },
           {
            "bin_start": 9.2,
            "bin_end": 10,
            "count": 1
           }
          ]
         }
        },
        {
         "name": "AssessJob8",
         "dtype": "float64",
         "stats": {
          "unique_count": 3,
          "nan_count": 2,
          "min": "2.0",
          "max": "8.0",
          "histogram": [
           {
            "bin_start": 2,
            "bin_end": 2.6,
            "count": 1
           },
           {
            "bin_start": 2.6,
            "bin_end": 3.2,
            "count": 0
           },
           {
            "bin_start": 3.2,
            "bin_end": 3.8,
            "count": 0
           },
           {
            "bin_start": 3.8,
            "bin_end": 4.4,
            "count": 0
           },
           {
            "bin_start": 4.4,
            "bin_end": 5,
            "count": 0
           },
           {
            "bin_start": 5,
            "bin_end": 5.6,
            "count": 0
           },
           {
            "bin_start": 5.6,
            "bin_end": 6.2,
            "count": 0
           },
           {
            "bin_start": 6.2,
            "bin_end": 6.8,
            "count": 0
           },
           {
            "bin_start": 6.8,
            "bin_end": 7.3999999999999995,
            "count": 1
           },
           {
            "bin_start": 7.3999999999999995,
            "bin_end": 8,
            "count": 1
           }
          ]
         }
        },
        {
         "name": "AssessJob9",
         "dtype": "float64",
         "stats": {
          "unique_count": 2,
          "nan_count": 2,
          "min": "9.0",
          "max": "10.0",
          "histogram": [
           {
            "bin_start": 9,
            "bin_end": 9.1,
            "count": 2
           },
           {
            "bin_start": 9.1,
            "bin_end": 9.2,
            "count": 0
           },
           {
            "bin_start": 9.2,
            "bin_end": 9.3,
            "count": 0
           },
           {
            "bin_start": 9.3,
            "bin_end": 9.4,
            "count": 0
           },
           {
            "bin_start": 9.4,
            "bin_end": 9.5,
            "count": 0
           },
           {
            "bin_start": 9.5,
            "bin_end": 9.6,
            "count": 0
           },
           {
            "bin_start": 9.6,
            "bin_end": 9.7,
            "count": 0
           },
           {
            "bin_start": 9.7,
            "bin_end": 9.8,
            "count": 0
           },
           {
            "bin_start": 9.8,
            "bin_end": 9.9,
            "count": 0
           },
           {
            "bin_start": 9.9,
            "bin_end": 10,
            "count": 1
           }
          ]
         }
        },
        {
         "name": "AssessJob10",
         "dtype": "float64",
         "stats": {
          "unique_count": 3,
          "nan_count": 2,
          "min": "2.0",
          "max": "10.0",
          "histogram": [
           {
            "bin_start": 2,
            "bin_end": 2.8,
            "count": 1
           },
           {
            "bin_start": 2.8,
            "bin_end": 3.6,
            "count": 0
           },
           {
            "bin_start": 3.6,
            "bin_end": 4.4,
            "count": 0
           },
           {
            "bin_start": 4.4,
            "bin_end": 5.2,
            "count": 0
           },
           {
            "bin_start": 5.2,
            "bin_end": 6,
            "count": 0
           },
           {
            "bin_start": 6,
            "bin_end": 6.800000000000001,
            "count": 1
           },
           {
            "bin_start": 6.800000000000001,
            "bin_end": 7.6000000000000005,
            "count": 0
           },
           {
            "bin_start": 7.6000000000000005,
            "bin_end": 8.4,
            "count": 0
           },
           {
            "bin_start": 8.4,
            "bin_end": 9.2,
            "count": 0
           },
           {
            "bin_start": 9.2,
            "bin_end": 10,
            "count": 1
           }
          ]
         }
        },
        {
         "name": "AssessBenefits1",
         "dtype": "float64",
         "stats": {
          "unique_count": 2,
          "nan_count": 2,
          "min": "1.0",
          "max": "2.0",
          "histogram": [
           {
            "bin_start": 1,
            "bin_end": 1.1,
            "count": 2
           },
           {
            "bin_start": 1.1,
            "bin_end": 1.2,
            "count": 0
           },
           {
            "bin_start": 1.2,
            "bin_end": 1.3,
            "count": 0
           },
           {
            "bin_start": 1.3,
            "bin_end": 1.4,
            "count": 0
           },
           {
            "bin_start": 1.4,
            "bin_end": 1.5,
            "count": 0
           },
           {
            "bin_start": 1.5,
            "bin_end": 1.6,
            "count": 0
           },
           {
            "bin_start": 1.6,
            "bin_end": 1.7000000000000002,
            "count": 0
           },
           {
            "bin_start": 1.7000000000000002,
            "bin_end": 1.8,
            "count": 0
           },
           {
            "bin_start": 1.8,
            "bin_end": 1.9,
            "count": 0
           },
           {
            "bin_start": 1.9,
            "bin_end": 2,
            "count": 1
           }
          ]
         }
        },
        {
         "name": "AssessBenefits2",
         "dtype": "float64",
         "stats": {
          "unique_count": 2,
          "nan_count": 2,
          "min": "3.0",
          "max": "4.0",
          "histogram": [
           {
            "bin_start": 3,
            "bin_end": 3.1,
            "count": 2
           },
           {
            "bin_start": 3.1,
            "bin_end": 3.2,
            "count": 0
           },
           {
            "bin_start": 3.2,
            "bin_end": 3.3,
            "count": 0
           },
           {
            "bin_start": 3.3,
            "bin_end": 3.4,
            "count": 0
           },
           {
            "bin_start": 3.4,
            "bin_end": 3.5,
            "count": 0
           },
           {
            "bin_start": 3.5,
            "bin_end": 3.6,
            "count": 0
           },
           {
            "bin_start": 3.6,
            "bin_end": 3.7,
            "count": 0
           },
           {
            "bin_start": 3.7,
            "bin_end": 3.8,
            "count": 0
           },
           {
            "bin_start": 3.8,
            "bin_end": 3.9,
            "count": 0
           },
           {
            "bin_start": 3.9,
            "bin_end": 4,
            "count": 1
           }
          ]
         }
        },
        {
         "name": "AssessBenefits3",
         "dtype": "float64",
         "stats": {
          "unique_count": 2,
          "nan_count": 2,
          "min": "1.0",
          "max": "2.0",
          "histogram": [
           {
            "bin_start": 1,
            "bin_end": 1.1,
            "count": 1
           },
           {
            "bin_start": 1.1,
            "bin_end": 1.2,
            "count": 0
           },
           {
            "bin_start": 1.2,
            "bin_end": 1.3,
            "count": 0
           },
           {
            "bin_start": 1.3,
            "bin_end": 1.4,
            "count": 0
           },
           {
            "bin_start": 1.4,
            "bin_end": 1.5,
            "count": 0
           },
           {
            "bin_start": 1.5,
            "bin_end": 1.6,
            "count": 0
           },
           {
            "bin_start": 1.6,
            "bin_end": 1.7000000000000002,
            "count": 0
           },
           {
            "bin_start": 1.7000000000000002,
            "bin_end": 1.8,
            "count": 0
           },
           {
            "bin_start": 1.8,
            "bin_end": 1.9,
            "count": 0
           },
           {
            "bin_start": 1.9,
            "bin_end": 2,
            "count": 2
           }
          ]
         }
        },
        {
         "name": "AssessBenefits4",
         "dtype": "float64",
         "stats": {
          "unique_count": 2,
          "nan_count": 2,
          "min": "9.0",
          "max": "11.0",
          "histogram": [
           {
            "bin_start": 9,
            "bin_end": 9.2,
            "count": 2
           },
           {
            "bin_start": 9.2,
            "bin_end": 9.4,
            "count": 0
           },
           {
            "bin_start": 9.4,
            "bin_end": 9.6,
            "count": 0
           },
           {
            "bin_start": 9.6,
            "bin_end": 9.8,
            "count": 0
           },
           {
            "bin_start": 9.8,
            "bin_end": 10,
            "count": 0
           },
           {
            "bin_start": 10,
            "bin_end": 10.2,
            "count": 0
           },
           {
            "bin_start": 10.2,
            "bin_end": 10.4,
            "count": 0
           },
           {
            "bin_start": 10.4,
            "bin_end": 10.6,
            "count": 0
           },
           {
            "bin_start": 10.6,
            "bin_end": 10.8,
            "count": 0
           },
           {
            "bin_start": 10.8,
            "bin_end": 11,
            "count": 1
           }
          ]
         }
        },
        {
         "name": "AssessBenefits5",
         "dtype": "float64",
         "stats": {
          "unique_count": 2,
          "nan_count": 2,
          "min": "7.0",
          "max": "11.0",
          "histogram": [
           {
            "bin_start": 7,
            "bin_end": 7.4,
            "count": 1
           },
           {
            "bin_start": 7.4,
            "bin_end": 7.8,
            "count": 0
           },
           {
            "bin_start": 7.8,
            "bin_end": 8.2,
            "count": 0
           },
           {
            "bin_start": 8.2,
            "bin_end": 8.6,
            "count": 0
           },
           {
            "bin_start": 8.6,
            "bin_end": 9,
            "count": 0
           },
           {
            "bin_start": 9,
            "bin_end": 9.4,
            "count": 0
           },
           {
            "bin_start": 9.4,
            "bin_end": 9.8,
            "count": 0
           },
           {
            "bin_start": 9.8,
            "bin_end": 10.2,
            "count": 0
           },
           {
            "bin_start": 10.2,
            "bin_end": 10.6,
            "count": 0
           },
           {
            "bin_start": 10.6,
            "bin_end": 11,
            "count": 2
           }
          ]
         }
        },
        {
         "name": "AssessBenefits6",
         "dtype": "float64",
         "stats": {
          "unique_count": 3,
          "nan_count": 2,
          "min": "3.0",
          "max": "5.0",
          "histogram": [
           {
            "bin_start": 3,
            "bin_end": 3.2,
            "count": 1
           },
           {
            "bin_start": 3.2,
            "bin_end": 3.4,
            "count": 0
           },
           {
            "bin_start": 3.4,
            "bin_end": 3.6,
            "count": 0
           },
           {
            "bin_start": 3.6,
            "bin_end": 3.8,
            "count": 0
           },
           {
            "bin_start": 3.8,
            "bin_end": 4,
            "count": 0
           },
           {
            "bin_start": 4,
            "bin_end": 4.2,
            "count": 1
           },
           {
            "bin_start": 4.2,
            "bin_end": 4.4,
            "count": 0
           },
           {
            "bin_start": 4.4,
            "bin_end": 4.6,
            "count": 0
           },
           {
            "bin_start": 4.6,
            "bin_end": 4.8,
            "count": 0
           },
           {
            "bin_start": 4.8,
            "bin_end": 5,
            "count": 1
           }
          ]
         }
        },
        {
         "name": "AssessBenefits7",
         "dtype": "float64",
         "stats": {
          "unique_count": 1,
          "nan_count": 2,
          "min": "8.0",
          "max": "8.0",
          "histogram": [
           {
            "bin_start": 7.5,
            "bin_end": 7.6,
            "count": 0
           },
           {
            "bin_start": 7.6,
            "bin_end": 7.7,
            "count": 0
           },
           {
            "bin_start": 7.7,
            "bin_end": 7.8,
            "count": 0
           },
           {
            "bin_start": 7.8,
            "bin_end": 7.9,
            "count": 0
           },
           {
            "bin_start": 7.9,
            "bin_end": 8,
            "count": 0
           },
           {
            "bin_start": 8,
            "bin_end": 8.1,
            "count": 3
           },
           {
            "bin_start": 8.1,
            "bin_end": 8.2,
            "count": 0
           },
           {
            "bin_start": 8.2,
            "bin_end": 8.3,
            "count": 0
           },
           {
            "bin_start": 8.3,
            "bin_end": 8.4,
            "count": 0
           },
           {
            "bin_start": 8.4,
            "bin_end": 8.5,
            "count": 0
           }
          ]
         }
        },
        {
         "name": "AssessBenefits8",
         "dtype": "float64",
         "stats": {
          "unique_count": 3,
          "nan_count": 2,
          "min": "4.0",
          "max": "6.0",
          "histogram": [
           {
            "bin_start": 4,
            "bin_end": 4.2,
            "count": 1
           },
           {
            "bin_start": 4.2,
            "bin_end": 4.4,
            "count": 0
           },
           {
            "bin_start": 4.4,
            "bin_end": 4.6,
            "count": 0
           },
           {
            "bin_start": 4.6,
            "bin_end": 4.8,
            "count": 0
           },
           {
            "bin_start": 4.8,
            "bin_end": 5,
            "count": 0
           },
           {
            "bin_start": 5,
            "bin_end": 5.2,
            "count": 1
           },
           {
            "bin_start": 5.2,
            "bin_end": 5.4,
            "count": 0
           },
           {
            "bin_start": 5.4,
            "bin_end": 5.6,
            "count": 0
           },
           {
            "bin_start": 5.6,
            "bin_end": 5.8,
            "count": 0
           },
           {
            "bin_start": 5.8,
            "bin_end": 6,
            "count": 1
           }
          ]
         }
        },
        {
         "name": "AssessBenefits9",
         "dtype": "float64",
         "stats": {
          "unique_count": 3,
          "nan_count": 2,
          "min": "7.0",
          "max": "10.0",
          "histogram": [
           {
            "bin_start": 7,
            "bin_end": 7.3,
            "count": 1
           },
           {
            "bin_start": 7.3,
            "bin_end": 7.6,
            "count": 0
           },
           {
            "bin_start": 7.6,
            "bin_end": 7.9,
            "count": 0
           },
           {
            "bin_start": 7.9,
            "bin_end": 8.2,
            "count": 0
           },
           {
            "bin_start": 8.2,
            "bin_end": 8.5,
            "count": 0
           },
           {
            "bin_start": 8.5,
            "bin_end": 8.8,
            "count": 0
           },
           {
            "bin_start": 8.8,
            "bin_end": 9.1,
            "count": 1
           },
           {
            "bin_start": 9.1,
            "bin_end": 9.4,
            "count": 0
           },
           {
            "bin_start": 9.4,
            "bin_end": 9.7,
            "count": 0
           },
           {
            "bin_start": 9.7,
            "bin_end": 10,
            "count": 1
           }
          ]
         }
        },
        {
         "name": "AssessBenefits10",
         "dtype": "float64",
         "stats": {
          "unique_count": 3,
          "nan_count": 2,
          "min": "6.0",
          "max": "10.0",
          "histogram": [
           {
            "bin_start": 6,
            "bin_end": 6.4,
            "count": 1
           },
           {
            "bin_start": 6.4,
            "bin_end": 6.8,
            "count": 0
           },
           {
            "bin_start": 6.8,
            "bin_end": 7.2,
            "count": 1
           },
           {
            "bin_start": 7.2,
            "bin_end": 7.6,
            "count": 0
           },
           {
            "bin_start": 7.6,
            "bin_end": 8,
            "count": 0
           },
           {
            "bin_start": 8,
            "bin_end": 8.4,
            "count": 0
           },
           {
            "bin_start": 8.4,
            "bin_end": 8.8,
            "count": 0
           },
           {
            "bin_start": 8.8,
            "bin_end": 9.2,
            "count": 0
           },
           {
            "bin_start": 9.2,
            "bin_end": 9.6,
            "count": 0
           },
           {
            "bin_start": 9.6,
            "bin_end": 10,
            "count": 1
           }
          ]
         }
        },
        {
         "name": "AssessBenefits11",
         "dtype": "float64",
         "stats": {
          "unique_count": 3,
          "nan_count": 2,
          "min": "5.0",
          "max": "10.0",
          "histogram": [
           {
            "bin_start": 5,
            "bin_end": 5.5,
            "count": 1
           },
           {
            "bin_start": 5.5,
            "bin_end": 6,
            "count": 0
           },
           {
            "bin_start": 6,
            "bin_end": 6.5,
            "count": 1
           },
           {
            "bin_start": 6.5,
            "bin_end": 7,
            "count": 0
           },
           {
            "bin_start": 7,
            "bin_end": 7.5,
            "count": 0
           },
           {
            "bin_start": 7.5,
            "bin_end": 8,
            "count": 0
           },
           {
            "bin_start": 8,
            "bin_end": 8.5,
            "count": 0
           },
           {
            "bin_start": 8.5,
            "bin_end": 9,
            "count": 0
           },
           {
            "bin_start": 9,
            "bin_end": 9.5,
            "count": 0
           },
           {
            "bin_start": 9.5,
            "bin_end": 10,
            "count": 1
           }
          ]
         }
        },
        {
         "name": "JobContactPriorities1",
         "dtype": "float64",
         "stats": {
          "unique_count": 3,
          "nan_count": 2,
          "min": "2.0",
          "max": "5.0",
          "histogram": [
           {
            "bin_start": 2,
            "bin_end": 2.3,
            "count": 1
           },
           {
            "bin_start": 2.3,
            "bin_end": 2.6,
            "count": 0
           },
           {
            "bin_start": 2.6,
            "bin_end": 2.9,
            "count": 0
           },
           {
            "bin_start": 2.9,
            "bin_end": 3.2,
            "count": 1
           },
           {
            "bin_start": 3.2,
            "bin_end": 3.5,
            "count": 0
           },
           {
            "bin_start": 3.5,
            "bin_end": 3.8,
            "count": 0
           },
           {
            "bin_start": 3.8,
            "bin_end": 4.1,
            "count": 0
           },
           {
            "bin_start": 4.1,
            "bin_end": 4.4,
            "count": 0
           },
           {
            "bin_start": 4.4,
            "bin_end": 4.699999999999999,
            "count": 0
           },
           {
            "bin_start": 4.699999999999999,
            "bin_end": 5,
            "count": 1
           }
          ]
         }
        },
        {
         "name": "JobContactPriorities2",
         "dtype": "float64",
         "stats": {
          "unique_count": 1,
          "nan_count": 2,
          "min": "1.0",
          "max": "1.0",
          "histogram": [
           {
            "bin_start": 0.5,
            "bin_end": 0.6,
            "count": 0
           },
           {
            "bin_start": 0.6,
            "bin_end": 0.7,
            "count": 0
           },
           {
            "bin_start": 0.7,
            "bin_end": 0.8,
            "count": 0
           },
           {
            "bin_start": 0.8,
            "bin_end": 0.9,
            "count": 0
           },
           {
            "bin_start": 0.9,
            "bin_end": 1,
            "count": 0
           },
           {
            "bin_start": 1,
            "bin_end": 1.1,
            "count": 3
           },
           {
            "bin_start": 1.1,
            "bin_end": 1.2000000000000002,
            "count": 0
           },
           {
            "bin_start": 1.2000000000000002,
            "bin_end": 1.3,
            "count": 0
           },
           {
            "bin_start": 1.3,
            "bin_end": 1.4,
            "count": 0
           },
           {
            "bin_start": 1.4,
            "bin_end": 1.5,
            "count": 0
           }
          ]
         }
        },
        {
         "name": "JobContactPriorities3",
         "dtype": "float64",
         "stats": {
          "unique_count": 2,
          "nan_count": 2,
          "min": "2.0",
          "max": "5.0",
          "histogram": [
           {
            "bin_start": 2,
            "bin_end": 2.3,
            "count": 1
           },
           {
            "bin_start": 2.3,
            "bin_end": 2.6,
            "count": 0
           },
           {
            "bin_start": 2.6,
            "bin_end": 2.9,
            "count": 0
           },
           {
            "bin_start": 2.9,
            "bin_end": 3.2,
            "count": 0
           },
           {
            "bin_start": 3.2,
            "bin_end": 3.5,
            "count": 0
           },
           {
            "bin_start": 3.5,
            "bin_end": 3.8,
            "count": 0
           },
           {
            "bin_start": 3.8,
            "bin_end": 4.1,
            "count": 0
           },
           {
            "bin_start": 4.1,
            "bin_end": 4.4,
            "count": 0
           },
           {
            "bin_start": 4.4,
            "bin_end": 4.699999999999999,
            "count": 0
           },
           {
            "bin_start": 4.699999999999999,
            "bin_end": 5,
            "count": 2
           }
          ]
         }
        },
        {
         "name": "JobContactPriorities4",
         "dtype": "float64",
         "stats": {
          "unique_count": 2,
          "nan_count": 2,
          "min": "3.0",
          "max": "4.0",
          "histogram": [
           {
            "bin_start": 3,
            "bin_end": 3.1,
            "count": 1
           },
           {
            "bin_start": 3.1,
            "bin_end": 3.2,
            "count": 0
           },
           {
            "bin_start": 3.2,
            "bin_end": 3.3,
            "count": 0
           },
           {
            "bin_start": 3.3,
            "bin_end": 3.4,
            "count": 0
           },
           {
            "bin_start": 3.4,
            "bin_end": 3.5,
            "count": 0
           },
           {
            "bin_start": 3.5,
            "bin_end": 3.6,
            "count": 0
           },
           {
            "bin_start": 3.6,
            "bin_end": 3.7,
            "count": 0
           },
           {
            "bin_start": 3.7,
            "bin_end": 3.8,
            "count": 0
           },
           {
            "bin_start": 3.8,
            "bin_end": 3.9,
            "count": 0
           },
           {
            "bin_start": 3.9,
            "bin_end": 4,
            "count": 2
           }
          ]
         }
        },
        {
         "name": "JobContactPriorities5",
         "dtype": "float64",
         "stats": {
          "unique_count": 3,
          "nan_count": 2,
          "min": "2.0",
          "max": "4.0",
          "histogram": [
           {
            "bin_start": 2,
            "bin_end": 2.2,
            "count": 1
           },
           {
            "bin_start": 2.2,
            "bin_end": 2.4,
            "count": 0
           },
           {
            "bin_start": 2.4,
            "bin_end": 2.6,
            "count": 0
           },
           {
            "bin_start": 2.6,
            "bin_end": 2.8,
            "count": 0
           },
           {
            "bin_start": 2.8,
            "bin_end": 3,
            "count": 0
           },
           {
            "bin_start": 3,
            "bin_end": 3.2,
            "count": 1
           },
           {
            "bin_start": 3.2,
            "bin_end": 3.4000000000000004,
            "count": 0
           },
           {
            "bin_start": 3.4000000000000004,
            "bin_end": 3.6,
            "count": 0
           },
           {
            "bin_start": 3.6,
            "bin_end": 3.8,
            "count": 0
           },
           {
            "bin_start": 3.8,
            "bin_end": 4,
            "count": 1
           }
          ]
         }
        },
        {
         "name": "JobEmailPriorities1",
         "dtype": "float64",
         "stats": {
          "unique_count": 3,
          "nan_count": 2,
          "min": "1.0",
          "max": "3.0",
          "histogram": [
           {
            "bin_start": 1,
            "bin_end": 1.2,
            "count": 1
           },
           {
            "bin_start": 1.2,
            "bin_end": 1.4,
            "count": 0
           },
           {
            "bin_start": 1.4,
            "bin_end": 1.6,
            "count": 0
           },
           {
            "bin_start": 1.6,
            "bin_end": 1.8,
            "count": 0
           },
           {
            "bin_start": 1.8,
            "bin_end": 2,
            "count": 0
           },
           {
            "bin_start": 2,
            "bin_end": 2.2,
            "count": 1
           },
           {
            "bin_start": 2.2,
            "bin_end": 2.4000000000000004,
            "count": 0
           },
           {
            "bin_start": 2.4000000000000004,
            "bin_end": 2.6,
            "count": 0
           },
           {
            "bin_start": 2.6,
            "bin_end": 2.8,
            "count": 0
           },
           {
            "bin_start": 2.8,
            "bin_end": 3,
            "count": 1
           }
          ]
         }
        },
        {
         "name": "JobEmailPriorities2",
         "dtype": "float64",
         "stats": {
          "unique_count": 3,
          "nan_count": 2,
          "min": "1.0",
          "max": "7.0",
          "histogram": [
           {
            "bin_start": 1,
            "bin_end": 1.6,
            "count": 1
           },
           {
            "bin_start": 1.6,
            "bin_end": 2.2,
            "count": 0
           },
           {
            "bin_start": 2.2,
            "bin_end": 2.8,
            "count": 0
           },
           {
            "bin_start": 2.8,
            "bin_end": 3.4,
            "count": 0
           },
           {
            "bin_start": 3.4,
            "bin_end": 4,
            "count": 0
           },
           {
            "bin_start": 4,
            "bin_end": 4.6,
            "count": 0
           },
           {
            "bin_start": 4.6,
            "bin_end": 5.2,
            "count": 1
           },
           {
            "bin_start": 5.2,
            "bin_end": 5.8,
            "count": 0
           },
           {
            "bin_start": 5.8,
            "bin_end": 6.3999999999999995,
            "count": 0
           },
           {
            "bin_start": 6.3999999999999995,
            "bin_end": 7,
            "count": 1
           }
          ]
         }
        },
        {
         "name": "JobEmailPriorities3",
         "dtype": "float64",
         "stats": {
          "unique_count": 2,
          "nan_count": 2,
          "min": "2.0",
          "max": "3.0",
          "histogram": [
           {
            "bin_start": 2,
            "bin_end": 2.1,
            "count": 1
           },
           {
            "bin_start": 2.1,
            "bin_end": 2.2,
            "count": 0
           },
           {
            "bin_start": 2.2,
            "bin_end": 2.3,
            "count": 0
           },
           {
            "bin_start": 2.3,
            "bin_end": 2.4,
            "count": 0
           },
           {
            "bin_start": 2.4,
            "bin_end": 2.5,
            "count": 0
           },
           {
            "bin_start": 2.5,
            "bin_end": 2.6,
            "count": 0
           },
           {
            "bin_start": 2.6,
            "bin_end": 2.7,
            "count": 0
           },
           {
            "bin_start": 2.7,
            "bin_end": 2.8,
            "count": 0
           },
           {
            "bin_start": 2.8,
            "bin_end": 2.9,
            "count": 0
           },
           {
            "bin_start": 2.9,
            "bin_end": 3,
            "count": 2
           }
          ]
         }
        },
        {
         "name": "JobEmailPriorities4",
         "dtype": "float64",
         "stats": {
          "unique_count": 2,
          "nan_count": 2,
          "min": "4.0",
          "max": "5.0",
          "histogram": [
           {
            "bin_start": 4,
            "bin_end": 4.1,
            "count": 2
           },
           {
            "bin_start": 4.1,
            "bin_end": 4.2,
            "count": 0
           },
           {
            "bin_start": 4.2,
            "bin_end": 4.3,
            "count": 0
           },
           {
            "bin_start": 4.3,
            "bin_end": 4.4,
            "count": 0
           },
           {
            "bin_start": 4.4,
            "bin_end": 4.5,
            "count": 0
           },
           {
            "bin_start": 4.5,
            "bin_end": 4.6,
            "count": 0
           },
           {
            "bin_start": 4.6,
            "bin_end": 4.7,
            "count": 0
           },
           {
            "bin_start": 4.7,
            "bin_end": 4.8,
            "count": 0
           },
           {
            "bin_start": 4.8,
            "bin_end": 4.9,
            "count": 0
           },
           {
            "bin_start": 4.9,
            "bin_end": 5,
            "count": 1
           }
          ]
         }
        },
        {
         "name": "JobEmailPriorities5",
         "dtype": "float64",
         "stats": {
          "unique_count": 3,
          "nan_count": 2,
          "min": "1.0",
          "max": "4.0",
          "histogram": [
           {
            "bin_start": 1,
            "bin_end": 1.3,
            "count": 1
           },
           {
            "bin_start": 1.3,
            "bin_end": 1.6,
            "count": 0
           },
           {
            "bin_start": 1.6,
            "bin_end": 1.9,
            "count": 0
           },
           {
            "bin_start": 1.9,
            "bin_end": 2.2,
            "count": 1
           },
           {
            "bin_start": 2.2,
            "bin_end": 2.5,
            "count": 0
           },
           {
            "bin_start": 2.5,
            "bin_end": 2.8,
            "count": 0
           },
           {
            "bin_start": 2.8,
            "bin_end": 3.1,
            "count": 0
           },
           {
            "bin_start": 3.1,
            "bin_end": 3.4,
            "count": 0
           },
           {
            "bin_start": 3.4,
            "bin_end": 3.6999999999999997,
            "count": 0
           },
           {
            "bin_start": 3.6999999999999997,
            "bin_end": 4,
            "count": 1
           }
          ]
         }
        },
        {
         "name": "JobEmailPriorities6",
         "dtype": "float64",
         "stats": {
          "unique_count": 2,
          "nan_count": 2,
          "min": "6.0",
          "max": "7.0",
          "histogram": [
           {
            "bin_start": 6,
            "bin_end": 6.1,
            "count": 2
           },
           {
            "bin_start": 6.1,
            "bin_end": 6.2,
            "count": 0
           },
           {
            "bin_start": 6.2,
            "bin_end": 6.3,
            "count": 0
           },
           {
            "bin_start": 6.3,
            "bin_end": 6.4,
            "count": 0
           },
           {
            "bin_start": 6.4,
            "bin_end": 6.5,
            "count": 0
           },
           {
            "bin_start": 6.5,
            "bin_end": 6.6,
            "count": 0
           },
           {
            "bin_start": 6.6,
            "bin_end": 6.7,
            "count": 0
           },
           {
            "bin_start": 6.7,
            "bin_end": 6.8,
            "count": 0
           },
           {
            "bin_start": 6.8,
            "bin_end": 6.9,
            "count": 0
           },
           {
            "bin_start": 6.9,
            "bin_end": 7,
            "count": 1
           }
          ]
         }
        },
        {
         "name": "JobEmailPriorities7",
         "dtype": "float64",
         "stats": {
          "unique_count": 3,
          "nan_count": 2,
          "min": "5.0",
          "max": "7.0",
          "histogram": [
           {
            "bin_start": 5,
            "bin_end": 5.2,
            "count": 1
           },
           {
            "bin_start": 5.2,
            "bin_end": 5.4,
            "count": 0
           },
           {
            "bin_start": 5.4,
            "bin_end": 5.6,
            "count": 0
           },
           {
            "bin_start": 5.6,
            "bin_end": 5.8,
            "count": 0
           },
           {
            "bin_start": 5.8,
            "bin_end": 6,
            "count": 0
           },
           {
            "bin_start": 6,
            "bin_end": 6.2,
            "count": 1
           },
           {
            "bin_start": 6.2,
            "bin_end": 6.4,
            "count": 0
           },
           {
            "bin_start": 6.4,
            "bin_end": 6.6,
            "count": 0
           },
           {
            "bin_start": 6.6,
            "bin_end": 6.8,
            "count": 0
           },
           {
            "bin_start": 6.8,
            "bin_end": 7,
            "count": 1
           }
          ]
         }
        },
        {
         "name": "UpdateCV",
         "dtype": "object",
         "stats": {
          "unique_count": 2,
          "nan_count": 1,
          "categories": [
           {
            "name": "My job status or other personal status changed",
            "count": 3
           },
           {
            "name": "A recruiter contacted me",
            "count": 1
           },
           {
            "name": "Missing",
            "count": 1
           }
          ]
         }
        },
        {
         "name": "Currency",
         "dtype": "object",
         "stats": {
          "unique_count": 1,
          "nan_count": 1,
          "categories": [
           {
            "name": "U.S. dollars ($)",
            "count": 4
           },
           {
            "name": "Missing",
            "count": 1
           }
          ]
         }
        },
        {
         "name": "Salary",
         "dtype": "object",
         "stats": {
          "unique_count": 2,
          "nan_count": 3,
          "categories": [
           {
            "name": "120000",
            "count": 1
           },
           {
            "name": "250000",
            "count": 1
           },
           {
            "name": "Missing",
            "count": 3
           }
          ]
         }
        },
        {
         "name": "SalaryType",
         "dtype": "object",
         "stats": {
          "unique_count": 2,
          "nan_count": 2,
          "categories": [
           {
            "name": "Yearly",
            "count": 2
           },
           {
            "name": "Monthly",
            "count": 1
           },
           {
            "name": "Missing",
            "count": 2
           }
          ]
         }
        },
        {
         "name": "ConvertedSalary",
         "dtype": "float64",
         "stats": {
          "unique_count": 2,
          "nan_count": 3,
          "min": "120000.0",
          "max": "250000.0",
          "histogram": [
           {
            "bin_start": 120000,
            "bin_end": 133000,
            "count": 1
           },
           {
            "bin_start": 133000,
            "bin_end": 146000,
            "count": 0
           },
           {
            "bin_start": 146000,
            "bin_end": 159000,
            "count": 0
           },
           {
            "bin_start": 159000,
            "bin_end": 172000,
            "count": 0
           },
           {
            "bin_start": 172000,
            "bin_end": 185000,
            "count": 0
           },
           {
            "bin_start": 185000,
            "bin_end": 198000,
            "count": 0
           },
           {
            "bin_start": 198000,
            "bin_end": 211000,
            "count": 0
           },
           {
            "bin_start": 211000,
            "bin_end": 224000,
            "count": 0
           },
           {
            "bin_start": 224000,
            "bin_end": 237000,
            "count": 0
           },
           {
            "bin_start": 237000,
            "bin_end": 250000,
            "count": 1
           }
          ]
         }
        },
        {
         "name": "CurrencySymbol",
         "dtype": "object",
         "stats": {
          "unique_count": 1,
          "nan_count": 2,
          "categories": [
           {
            "name": "USD",
            "count": 3
           },
           {
            "name": "Missing",
            "count": 2
           }
          ]
         }
        },
        {
         "name": "CommunicationTools",
         "dtype": "object",
         "stats": {
          "unique_count": 3,
          "nan_count": 2,
          "categories": [
           {
            "name": "Confluence;Office / productivity suite (Microsoft Office, Google Suite, etc.);Stack Overflow Enterprise;Other chat system (IRC, proprietary software, etc.);Other wiki tool (Github, Google Sites, proprietary software, etc.)",
            "count": 1
           },
           {
            "name": "2 others",
            "count": 2
           },
           {
            "name": "Missing",
            "count": 2
           }
          ]
         }
        },
        {
         "name": "TimeFullyProductive",
         "dtype": "object",
         "stats": {
          "unique_count": 2,
          "nan_count": 1,
          "categories": [
           {
            "name": "Three to six months",
            "count": 3
           },
           {
            "name": "Six to nine months",
            "count": 1
           },
           {
            "name": "Missing",
            "count": 1
           }
          ]
         }
        },
        {
         "name": "EducationTypes",
         "dtype": "object",
         "stats": {
          "unique_count": 4,
          "nan_count": 1,
          "categories": [
           {
            "name": "Completed an industry certification program (e.g. MCPD);Taught yourself a new language, framework, or tool without taking a formal course",
            "count": 1
           },
           {
            "name": "3 others",
            "count": 3
           },
           {
            "name": "Missing",
            "count": 1
           }
          ]
         }
        },
        {
         "name": "SelfTaughtTypes",
         "dtype": "object",
         "stats": {
          "unique_count": 4,
          "nan_count": 1,
          "categories": [
           {
            "name": "The official documentation and/or standards for the technology;A book or e-book from O?™Reilly, Apress, or a similar publisher;Questions & answers on Stack Overflow;The technology?™s online help system",
            "count": 1
           },
           {
            "name": "3 others",
            "count": 3
           },
           {
            "name": "Missing",
            "count": 1
           }
          ]
         }
        },
        {
         "name": "TimeAfterBootcamp",
         "dtype": "object",
         "stats": {
          "unique_count": 0,
          "nan_count": 5,
          "categories": [
           {
            "name": "Missing",
            "count": 5
           }
          ]
         }
        },
        {
         "name": "HackathonReasons",
         "dtype": "object",
         "stats": {
          "unique_count": 1,
          "nan_count": 4,
          "categories": [
           {
            "name": "Because I find it enjoyable",
            "count": 1
           },
           {
            "name": "Missing",
            "count": 4
           }
          ]
         }
        },
        {
         "name": "AgreeDisagree1",
         "dtype": "object",
         "stats": {
          "unique_count": 2,
          "nan_count": 1,
          "categories": [
           {
            "name": "Disagree",
            "count": 2
           },
           {
            "name": "Strongly agree",
            "count": 2
           },
           {
            "name": "Missing",
            "count": 1
           }
          ]
         }
        },
        {
         "name": "AgreeDisagree2",
         "dtype": "object",
         "stats": {
          "unique_count": 3,
          "nan_count": 1,
          "categories": [
           {
            "name": "Strongly disagree",
            "count": 2
           },
           {
            "name": "2 others",
            "count": 2
           },
           {
            "name": "Missing",
            "count": 1
           }
          ]
         }
        },
        {
         "name": "AgreeDisagree3",
         "dtype": "object",
         "stats": {
          "unique_count": 2,
          "nan_count": 1,
          "categories": [
           {
            "name": "Strongly disagree",
            "count": 3
           },
           {
            "name": "Disagree",
            "count": 1
           },
           {
            "name": "Missing",
            "count": 1
           }
          ]
         }
        },
        {
         "name": "LanguageWorkedWith",
         "dtype": "object",
         "stats": {
          "unique_count": 4,
          "nan_count": 1,
          "categories": [
           {
            "name": "C#;JavaScript;SQL;TypeScript;HTML;CSS;Bash/Shell",
            "count": 1
           },
           {
            "name": "3 others",
            "count": 3
           },
           {
            "name": "Missing",
            "count": 1
           }
          ]
         }
        },
        {
         "name": "LanguageDesireNextYear",
         "dtype": "object",
         "stats": {
          "unique_count": 4,
          "nan_count": 1,
          "categories": [
           {
            "name": "C#;JavaScript;SQL;TypeScript;HTML;CSS;Bash/Shell",
            "count": 1
           },
           {
            "name": "3 others",
            "count": 3
           },
           {
            "name": "Missing",
            "count": 1
           }
          ]
         }
        },
        {
         "name": "DatabaseWorkedWith",
         "dtype": "object",
         "stats": {
          "unique_count": 4,
          "nan_count": 1,
          "categories": [
           {
            "name": "SQL Server;Microsoft Azure (Tables, CosmosDB, SQL, etc)",
            "count": 1
           },
           {
            "name": "3 others",
            "count": 3
           },
           {
            "name": "Missing",
            "count": 1
           }
          ]
         }
        },
        {
         "name": "DatabaseDesireNextYear",
         "dtype": "object",
         "stats": {
          "unique_count": 3,
          "nan_count": 2,
          "categories": [
           {
            "name": "SQL Server;Microsoft Azure (Tables, CosmosDB, SQL, etc)",
            "count": 1
           },
           {
            "name": "2 others",
            "count": 2
           },
           {
            "name": "Missing",
            "count": 2
           }
          ]
         }
        },
        {
         "name": "PlatformWorkedWith",
         "dtype": "object",
         "stats": {
          "unique_count": 4,
          "nan_count": 1,
          "categories": [
           {
            "name": "Azure",
            "count": 1
           },
           {
            "name": "3 others",
            "count": 3
           },
           {
            "name": "Missing",
            "count": 1
           }
          ]
         }
        },
        {
         "name": "PlatformDesireNextYear",
         "dtype": "object",
         "stats": {
          "unique_count": 4,
          "nan_count": 1,
          "categories": [
           {
            "name": "Azure",
            "count": 1
           },
           {
            "name": "3 others",
            "count": 3
           },
           {
            "name": "Missing",
            "count": 1
           }
          ]
         }
        },
        {
         "name": "FrameworkWorkedWith",
         "dtype": "object",
         "stats": {
          "unique_count": 3,
          "nan_count": 2,
          "categories": [
           {
            "name": "Node.js;React",
            "count": 1
           },
           {
            "name": "2 others",
            "count": 2
           },
           {
            "name": "Missing",
            "count": 2
           }
          ]
         }
        },
        {
         "name": "FrameworkDesireNextYear",
         "dtype": "object",
         "stats": {
          "unique_count": 3,
          "nan_count": 2,
          "categories": [
           {
            "name": "Angular;.NET Core;React",
            "count": 1
           },
           {
            "name": "2 others",
            "count": 2
           },
           {
            "name": "Missing",
            "count": 2
           }
          ]
         }
        },
        {
         "name": "IDE",
         "dtype": "object",
         "stats": {
          "unique_count": 3,
          "nan_count": 1,
          "categories": [
           {
            "name": "Visual Studio;Visual Studio Code",
            "count": 2
           },
           {
            "name": "2 others",
            "count": 2
           },
           {
            "name": "Missing",
            "count": 1
           }
          ]
         }
        },
        {
         "name": "OperatingSystem",
         "dtype": "object",
         "stats": {
          "unique_count": 2,
          "nan_count": 1,
          "categories": [
           {
            "name": "MacOS",
            "count": 3
           },
           {
            "name": "Windows",
            "count": 1
           },
           {
            "name": "Missing",
            "count": 1
           }
          ]
         }
        },
        {
         "name": "NumberMonitors",
         "dtype": "object",
         "stats": {
          "unique_count": 3,
          "nan_count": 1,
          "categories": [
           {
            "name": "2",
            "count": 2
           },
           {
            "name": "2 others",
            "count": 2
           },
           {
            "name": "Missing",
            "count": 1
           }
          ]
         }
        },
        {
         "name": "Methodology",
         "dtype": "object",
         "stats": {
          "unique_count": 3,
          "nan_count": 1,
          "categories": [
           {
            "name": "Agile;Scrum",
            "count": 2
           },
           {
            "name": "2 others",
            "count": 2
           },
           {
            "name": "Missing",
            "count": 1
           }
          ]
         }
        },
        {
         "name": "VersionControl",
         "dtype": "object",
         "stats": {
          "unique_count": 2,
          "nan_count": 1,
          "categories": [
           {
            "name": "Git",
            "count": 3
           },
           {
            "name": "Git;Subversion",
            "count": 1
           },
           {
            "name": "Missing",
            "count": 1
           }
          ]
         }
        },
        {
         "name": "CheckInCode",
         "dtype": "object",
         "stats": {
          "unique_count": 1,
          "nan_count": 1,
          "categories": [
           {
            "name": "Multiple times per day",
            "count": 4
           },
           {
            "name": "Missing",
            "count": 1
           }
          ]
         }
        },
        {
         "name": "AdBlocker",
         "dtype": "object",
         "stats": {
          "unique_count": 2,
          "nan_count": 1,
          "categories": [
           {
            "name": "Yes",
            "count": 2
           },
           {
            "name": "No",
            "count": 2
           },
           {
            "name": "Missing",
            "count": 1
           }
          ]
         }
        },
        {
         "name": "AdBlockerDisable",
         "dtype": "object",
         "stats": {
          "unique_count": 1,
          "nan_count": 3,
          "categories": [
           {
            "name": "Yes",
            "count": 2
           },
           {
            "name": "Missing",
            "count": 3
           }
          ]
         }
        },
        {
         "name": "AdBlockerReasons",
         "dtype": "object",
         "stats": {
          "unique_count": 1,
          "nan_count": 3,
          "categories": [
           {
            "name": "The ad-blocking software was causing display issues on a website",
            "count": 2
           },
           {
            "name": "Missing",
            "count": 3
           }
          ]
         }
        },
        {
         "name": "AdsAgreeDisagree1",
         "dtype": "object",
         "stats": {
          "unique_count": 3,
          "nan_count": 1,
          "categories": [
           {
            "name": "Neither agree nor disagree",
            "count": 2
           },
           {
            "name": "2 others",
            "count": 2
           },
           {
            "name": "Missing",
            "count": 1
           }
          ]
         }
        },
        {
         "name": "AdsAgreeDisagree2",
         "dtype": "object",
         "stats": {
          "unique_count": 2,
          "nan_count": 1,
          "categories": [
           {
            "name": "Somewhat agree",
            "count": 3
           },
           {
            "name": "Neither agree nor disagree",
            "count": 1
           },
           {
            "name": "Missing",
            "count": 1
           }
          ]
         }
        },
        {
         "name": "AdsAgreeDisagree3",
         "dtype": "object",
         "stats": {
          "unique_count": 3,
          "nan_count": 1,
          "categories": [
           {
            "name": "Somewhat disagree",
            "count": 2
           },
           {
            "name": "2 others",
            "count": 2
           },
           {
            "name": "Missing",
            "count": 1
           }
          ]
         }
        },
        {
         "name": "AdsActions",
         "dtype": "object",
         "stats": {
          "unique_count": 4,
          "nan_count": 1,
          "categories": [
           {
            "name": "Stopped going to a website because of their advertising",
            "count": 1
           },
           {
            "name": "3 others",
            "count": 3
           },
           {
            "name": "Missing",
            "count": 1
           }
          ]
         }
        },
        {
         "name": "AdsPriorities1",
         "dtype": "float64",
         "stats": {
          "unique_count": 1,
          "nan_count": 2,
          "min": "1.0",
          "max": "1.0",
          "histogram": [
           {
            "bin_start": 0.5,
            "bin_end": 0.6,
            "count": 0
           },
           {
            "bin_start": 0.6,
            "bin_end": 0.7,
            "count": 0
           },
           {
            "bin_start": 0.7,
            "bin_end": 0.8,
            "count": 0
           },
           {
            "bin_start": 0.8,
            "bin_end": 0.9,
            "count": 0
           },
           {
            "bin_start": 0.9,
            "bin_end": 1,
            "count": 0
           },
           {
            "bin_start": 1,
            "bin_end": 1.1,
            "count": 3
           },
           {
            "bin_start": 1.1,
            "bin_end": 1.2000000000000002,
            "count": 0
           },
           {
            "bin_start": 1.2000000000000002,
            "bin_end": 1.3,
            "count": 0
           },
           {
            "bin_start": 1.3,
            "bin_end": 1.4,
            "count": 0
           },
           {
            "bin_start": 1.4,
            "bin_end": 1.5,
            "count": 0
           }
          ]
         }
        },
        {
         "name": "AdsPriorities2",
         "dtype": "float64",
         "stats": {
          "unique_count": 2,
          "nan_count": 2,
          "min": "3.0",
          "max": "4.0",
          "histogram": [
           {
            "bin_start": 3,
            "bin_end": 3.1,
            "count": 2
           },
           {
            "bin_start": 3.1,
            "bin_end": 3.2,
            "count": 0
           },
           {
            "bin_start": 3.2,
            "bin_end": 3.3,
            "count": 0
           },
           {
            "bin_start": 3.3,
            "bin_end": 3.4,
            "count": 0
           },
           {
            "bin_start": 3.4,
            "bin_end": 3.5,
            "count": 0
           },
           {
            "bin_start": 3.5,
            "bin_end": 3.6,
            "count": 0
           },
           {
            "bin_start": 3.6,
            "bin_end": 3.7,
            "count": 0
           },
           {
            "bin_start": 3.7,
            "bin_end": 3.8,
            "count": 0
           },
           {
            "bin_start": 3.8,
            "bin_end": 3.9,
            "count": 0
           },
           {
            "bin_start": 3.9,
            "bin_end": 4,
            "count": 1
           }
          ]
         }
        },
        {
         "name": "AdsPriorities3",
         "dtype": "float64",
         "stats": {
          "unique_count": 2,
          "nan_count": 2,
          "min": "2.0",
          "max": "5.0",
          "histogram": [
           {
            "bin_start": 2,
            "bin_end": 2.3,
            "count": 2
           },
           {
            "bin_start": 2.3,
            "bin_end": 2.6,
            "count": 0
           },
           {
            "bin_start": 2.6,
            "bin_end": 2.9,
            "count": 0
           },
           {
            "bin_start": 2.9,
            "bin_end": 3.2,
            "count": 0
           },
           {
            "bin_start": 3.2,
            "bin_end": 3.5,
            "count": 0
           },
           {
            "bin_start": 3.5,
            "bin_end": 3.8,
            "count": 0
           },
           {
            "bin_start": 3.8,
            "bin_end": 4.1,
            "count": 0
           },
           {
            "bin_start": 4.1,
            "bin_end": 4.4,
            "count": 0
           },
           {
            "bin_start": 4.4,
            "bin_end": 4.699999999999999,
            "count": 0
           },
           {
            "bin_start": 4.699999999999999,
            "bin_end": 5,
            "count": 1
           }
          ]
         }
        },
        {
         "name": "AdsPriorities4",
         "dtype": "float64",
         "stats": {
          "unique_count": 2,
          "nan_count": 2,
          "min": "4.0",
          "max": "5.0",
          "histogram": [
           {
            "bin_start": 4,
            "bin_end": 4.1,
            "count": 2
           },
           {
            "bin_start": 4.1,
            "bin_end": 4.2,
            "count": 0
           },
           {
            "bin_start": 4.2,
            "bin_end": 4.3,
            "count": 0
           },
           {
            "bin_start": 4.3,
            "bin_end": 4.4,
            "count": 0
           },
           {
            "bin_start": 4.4,
            "bin_end": 4.5,
            "count": 0
           },
           {
            "bin_start": 4.5,
            "bin_end": 4.6,
            "count": 0
           },
           {
            "bin_start": 4.6,
            "bin_end": 4.7,
            "count": 0
           },
           {
            "bin_start": 4.7,
            "bin_end": 4.8,
            "count": 0
           },
           {
            "bin_start": 4.8,
            "bin_end": 4.9,
            "count": 0
           },
           {
            "bin_start": 4.9,
            "bin_end": 5,
            "count": 1
           }
          ]
         }
        },
        {
         "name": "AdsPriorities5",
         "dtype": "float64",
         "stats": {
          "unique_count": 3,
          "nan_count": 2,
          "min": "2.0",
          "max": "7.0",
          "histogram": [
           {
            "bin_start": 2,
            "bin_end": 2.5,
            "count": 1
           },
           {
            "bin_start": 2.5,
            "bin_end": 3,
            "count": 0
           },
           {
            "bin_start": 3,
            "bin_end": 3.5,
            "count": 1
           },
           {
            "bin_start": 3.5,
            "bin_end": 4,
            "count": 0
           },
           {
            "bin_start": 4,
            "bin_end": 4.5,
            "count": 0
           },
           {
            "bin_start": 4.5,
            "bin_end": 5,
            "count": 0
           },
           {
            "bin_start": 5,
            "bin_end": 5.5,
            "count": 0
           },
           {
            "bin_start": 5.5,
            "bin_end": 6,
            "count": 0
           },
           {
            "bin_start": 6,
            "bin_end": 6.5,
            "count": 0
           },
           {
            "bin_start": 6.5,
            "bin_end": 7,
            "count": 1
           }
          ]
         }
        },
        {
         "name": "AdsPriorities6",
         "dtype": "float64",
         "stats": {
          "unique_count": 2,
          "nan_count": 2,
          "min": "5.0",
          "max": "7.0",
          "histogram": [
           {
            "bin_start": 5,
            "bin_end": 5.2,
            "count": 1
           },
           {
            "bin_start": 5.2,
            "bin_end": 5.4,
            "count": 0
           },
           {
            "bin_start": 5.4,
            "bin_end": 5.6,
            "count": 0
           },
           {
            "bin_start": 5.6,
            "bin_end": 5.8,
            "count": 0
           },
           {
            "bin_start": 5.8,
            "bin_end": 6,
            "count": 0
           },
           {
            "bin_start": 6,
            "bin_end": 6.2,
            "count": 0
           },
           {
            "bin_start": 6.2,
            "bin_end": 6.4,
            "count": 0
           },
           {
            "bin_start": 6.4,
            "bin_end": 6.6,
            "count": 0
           },
           {
            "bin_start": 6.6,
            "bin_end": 6.8,
            "count": 0
           },
           {
            "bin_start": 6.8,
            "bin_end": 7,
            "count": 2
           }
          ]
         }
        },
        {
         "name": "AdsPriorities7",
         "dtype": "float64",
         "stats": {
          "unique_count": 1,
          "nan_count": 2,
          "min": "6.0",
          "max": "6.0",
          "histogram": [
           {
            "bin_start": 5.5,
            "bin_end": 5.6,
            "count": 0
           },
           {
            "bin_start": 5.6,
            "bin_end": 5.7,
            "count": 0
           },
           {
            "bin_start": 5.7,
            "bin_end": 5.8,
            "count": 0
           },
           {
            "bin_start": 5.8,
            "bin_end": 5.9,
            "count": 0
           },
           {
            "bin_start": 5.9,
            "bin_end": 6,
            "count": 0
           },
           {
            "bin_start": 6,
            "bin_end": 6.1,
            "count": 3
           },
           {
            "bin_start": 6.1,
            "bin_end": 6.2,
            "count": 0
           },
           {
            "bin_start": 6.2,
            "bin_end": 6.3,
            "count": 0
           },
           {
            "bin_start": 6.3,
            "bin_end": 6.4,
            "count": 0
           },
           {
            "bin_start": 6.4,
            "bin_end": 6.5,
            "count": 0
           }
          ]
         }
        },
        {
         "name": "AIDangerous",
         "dtype": "object",
         "stats": {
          "unique_count": 2,
          "nan_count": 1,
          "categories": [
           {
            "name": "Artificial intelligence surpassing human intelligence (\"the singularity\")",
            "count": 2
           },
           {
            "name": "Algorithms making important decisions",
            "count": 2
           },
           {
            "name": "Missing",
            "count": 1
           }
          ]
         }
        },
        {
         "name": "AIInteresting",
         "dtype": "object",
         "stats": {
          "unique_count": 2,
          "nan_count": 1,
          "categories": [
           {
            "name": "Artificial intelligence surpassing human intelligence (\"the singularity\")",
            "count": 3
           },
           {
            "name": "Increasing automation of jobs",
            "count": 1
           },
           {
            "name": "Missing",
            "count": 1
           }
          ]
         }
        },
        {
         "name": "AIResponsible",
         "dtype": "object",
         "stats": {
          "unique_count": 2,
          "nan_count": 1,
          "categories": [
           {
            "name": "The developers or the people creating the AI",
            "count": 3
           },
           {
            "name": "A governmental or other regulatory body",
            "count": 1
           },
           {
            "name": "Missing",
            "count": 1
           }
          ]
         }
        },
        {
         "name": "AIFuture",
         "dtype": "object",
         "stats": {
          "unique_count": 3,
          "nan_count": 1,
          "categories": [
           {
            "name": "I'm worried about the dangers more than I'm excited about the possibilities.",
            "count": 2
           },
           {
            "name": "2 others",
            "count": 2
           },
           {
            "name": "Missing",
            "count": 1
           }
          ]
         }
        },
        {
         "name": "EthicsChoice",
         "dtype": "object",
         "stats": {
          "unique_count": 2,
          "nan_count": 1,
          "categories": [
           {
            "name": "No",
            "count": 3
           },
           {
            "name": "Depends on what it is",
            "count": 1
           },
           {
            "name": "Missing",
            "count": 1
           }
          ]
         }
        },
        {
         "name": "EthicsReport",
         "dtype": "object",
         "stats": {
          "unique_count": 2,
          "nan_count": 1,
          "categories": [
           {
            "name": "Yes, but only within the company",
            "count": 3
           },
           {
            "name": "Yes, and publicly",
            "count": 1
           },
           {
            "name": "Missing",
            "count": 1
           }
          ]
         }
        },
        {
         "name": "EthicsResponsible",
         "dtype": "object",
         "stats": {
          "unique_count": 2,
          "nan_count": 1,
          "categories": [
           {
            "name": "Upper management at the company/organization",
            "count": 3
           },
           {
            "name": "The person who came up with the idea",
            "count": 1
           },
           {
            "name": "Missing",
            "count": 1
           }
          ]
         }
        },
        {
         "name": "EthicalImplications",
         "dtype": "object",
         "stats": {
          "unique_count": 1,
          "nan_count": 1,
          "categories": [
           {
            "name": "Yes",
            "count": 4
           },
           {
            "name": "Missing",
            "count": 1
           }
          ]
         }
        },
        {
         "name": "StackOverflowRecommend",
         "dtype": "object",
         "stats": {
          "unique_count": 2,
          "nan_count": 1,
          "categories": [
           {
            "name": "10 (Very Likely)",
            "count": 3
           },
           {
            "name": "7",
            "count": 1
           },
           {
            "name": "Missing",
            "count": 1
           }
          ]
         }
        },
        {
         "name": "StackOverflowVisit",
         "dtype": "object",
         "stats": {
          "unique_count": 4,
          "nan_count": 1,
          "categories": [
           {
            "name": "A few times per week",
            "count": 1
           },
           {
            "name": "3 others",
            "count": 3
           },
           {
            "name": "Missing",
            "count": 1
           }
          ]
         }
        },
        {
         "name": "StackOverflowHasAccount",
         "dtype": "object",
         "stats": {
          "unique_count": 1,
          "nan_count": 1,
          "categories": [
           {
            "name": "Yes",
            "count": 4
           },
           {
            "name": "Missing",
            "count": 1
           }
          ]
         }
        },
        {
         "name": "StackOverflowParticipate",
         "dtype": "object",
         "stats": {
          "unique_count": 3,
          "nan_count": 1,
          "categories": [
           {
            "name": "A few times per month or weekly",
            "count": 2
           },
           {
            "name": "2 others",
            "count": 2
           },
           {
            "name": "Missing",
            "count": 1
           }
          ]
         }
        },
        {
         "name": "StackOverflowJobs",
         "dtype": "object",
         "stats": {
          "unique_count": 1,
          "nan_count": 1,
          "categories": [
           {
            "name": "Yes",
            "count": 4
           },
           {
            "name": "Missing",
            "count": 1
           }
          ]
         }
        },
        {
         "name": "StackOverflowDevStory",
         "dtype": "object",
         "stats": {
          "unique_count": 3,
          "nan_count": 1,
          "categories": [
           {
            "name": "No, I have one but it's out of date",
            "count": 2
           },
           {
            "name": "2 others",
            "count": 2
           },
           {
            "name": "Missing",
            "count": 1
           }
          ]
         }
        },
        {
         "name": "StackOverflowJobsRecommend",
         "dtype": "object",
         "stats": {
          "unique_count": 2,
          "nan_count": 1,
          "categories": [
           {
            "name": "7",
            "count": 3
           },
           {
            "name": "8",
            "count": 1
           },
           {
            "name": "Missing",
            "count": 1
           }
          ]
         }
        },
        {
         "name": "StackOverflowConsiderMember",
         "dtype": "object",
         "stats": {
          "unique_count": 2,
          "nan_count": 1,
          "categories": [
           {
            "name": "Yes",
            "count": 2
           },
           {
            "name": "No",
            "count": 2
           },
           {
            "name": "Missing",
            "count": 1
           }
          ]
         }
        },
        {
         "name": "HypotheticalTools1",
         "dtype": "object",
         "stats": {
          "unique_count": 3,
          "nan_count": 1,
          "categories": [
           {
            "name": "Somewhat interested",
            "count": 2
           },
           {
            "name": "2 others",
            "count": 2
           },
           {
            "name": "Missing",
            "count": 1
           }
          ]
         }
        },
        {
         "name": "HypotheticalTools2",
         "dtype": "object",
         "stats": {
          "unique_count": 3,
          "nan_count": 1,
          "categories": [
           {
            "name": "A little bit interested",
            "count": 2
           },
           {
            "name": "2 others",
            "count": 2
           },
           {
            "name": "Missing",
            "count": 1
           }
          ]
         }
        },
        {
         "name": "HypotheticalTools3",
         "dtype": "object",
         "stats": {
          "unique_count": 3,
          "nan_count": 1,
          "categories": [
           {
            "name": "Not at all interested",
            "count": 2
           },
           {
            "name": "2 others",
            "count": 2
           },
           {
            "name": "Missing",
            "count": 1
           }
          ]
         }
        },
        {
         "name": "HypotheticalTools4",
         "dtype": "object",
         "stats": {
          "unique_count": 3,
          "nan_count": 1,
          "categories": [
           {
            "name": "Somewhat interested",
            "count": 2
           },
           {
            "name": "2 others",
            "count": 2
           },
           {
            "name": "Missing",
            "count": 1
           }
          ]
         }
        },
        {
         "name": "HypotheticalTools5",
         "dtype": "object",
         "stats": {
          "unique_count": 3,
          "nan_count": 1,
          "categories": [
           {
            "name": "Very interested",
            "count": 2
           },
           {
            "name": "2 others",
            "count": 2
           },
           {
            "name": "Missing",
            "count": 1
           }
          ]
         }
        },
        {
         "name": "WakeTime",
         "dtype": "object",
         "stats": {
          "unique_count": 3,
          "nan_count": 1,
          "categories": [
           {
            "name": "Between 6:01 - 7:00 AM",
            "count": 2
           },
           {
            "name": "2 others",
            "count": 2
           },
           {
            "name": "Missing",
            "count": 1
           }
          ]
         }
        },
        {
         "name": "HoursComputer",
         "dtype": "object",
         "stats": {
          "unique_count": 3,
          "nan_count": 1,
          "categories": [
           {
            "name": "9 - 12 hours",
            "count": 2
           },
           {
            "name": "2 others",
            "count": 2
           },
           {
            "name": "Missing",
            "count": 1
           }
          ]
         }
        },
        {
         "name": "HoursOutside",
         "dtype": "object",
         "stats": {
          "unique_count": 2,
          "nan_count": 1,
          "categories": [
           {
            "name": "Less than 30 minutes",
            "count": 3
           },
           {
            "name": "1 - 2 hours",
            "count": 1
           },
           {
            "name": "Missing",
            "count": 1
           }
          ]
         }
        },
        {
         "name": "SkipMeals",
         "dtype": "object",
         "stats": {
          "unique_count": 2,
          "nan_count": 2,
          "categories": [
           {
            "name": "1 - 2 times per week",
            "count": 2
           },
           {
            "name": "3 - 4 times per week",
            "count": 1
           },
           {
            "name": "Missing",
            "count": 2
           }
          ]
         }
        },
        {
         "name": "ErgonomicDevices",
         "dtype": "object",
         "stats": {
          "unique_count": 2,
          "nan_count": 3,
          "categories": [
           {
            "name": "Standing desk;Fatigue-relieving floor mat",
            "count": 1
           },
           {
            "name": "Ergonomic keyboard or mouse",
            "count": 1
           },
           {
            "name": "Missing",
            "count": 3
           }
          ]
         }
        },
        {
         "name": "Exercise",
         "dtype": "object",
         "stats": {
          "unique_count": 2,
          "nan_count": 1,
          "categories": [
           {
            "name": "I don't typically exercise",
            "count": 3
           },
           {
            "name": "Daily or almost every day",
            "count": 1
           },
           {
            "name": "Missing",
            "count": 1
           }
          ]
         }
        },
        {
         "name": "Gender",
         "dtype": "object",
         "stats": {
          "unique_count": 1,
          "nan_count": 1,
          "categories": [
           {
            "name": "Male",
            "count": 4
           },
           {
            "name": "Missing",
            "count": 1
           }
          ]
         }
        },
        {
         "name": "SexualOrientation",
         "dtype": "object",
         "stats": {
          "unique_count": 1,
          "nan_count": 1,
          "categories": [
           {
            "name": "Straight or heterosexual",
            "count": 4
           },
           {
            "name": "Missing",
            "count": 1
           }
          ]
         }
        },
        {
         "name": "EducationParents",
         "dtype": "object",
         "stats": {
          "unique_count": 3,
          "nan_count": 1,
          "categories": [
           {
            "name": "Some college/university study without earning a degree",
            "count": 2
           },
           {
            "name": "2 others",
            "count": 2
           },
           {
            "name": "Missing",
            "count": 1
           }
          ]
         }
        },
        {
         "name": "RaceEthnicity",
         "dtype": "object",
         "stats": {
          "unique_count": 1,
          "nan_count": 1,
          "categories": [
           {
            "name": "White or of European descent",
            "count": 4
           },
           {
            "name": "Missing",
            "count": 1
           }
          ]
         }
        },
        {
         "name": "Age",
         "dtype": "object",
         "stats": {
          "unique_count": 3,
          "nan_count": 1,
          "categories": [
           {
            "name": "35 - 44 years old",
            "count": 2
           },
           {
            "name": "2 others",
            "count": 2
           },
           {
            "name": "Missing",
            "count": 1
           }
          ]
         }
        },
        {
         "name": "Dependents",
         "dtype": "object",
         "stats": {
          "unique_count": 2,
          "nan_count": 1,
          "categories": [
           {
            "name": "No",
            "count": 2
           },
           {
            "name": "Yes",
            "count": 2
           },
           {
            "name": "Missing",
            "count": 1
           }
          ]
         }
        },
        {
         "name": "MilitaryUS",
         "dtype": "object",
         "stats": {
          "unique_count": 1,
          "nan_count": 1,
          "categories": [
           {
            "name": "No",
            "count": 4
           },
           {
            "name": "Missing",
            "count": 1
           }
          ]
         }
        },
        {
         "name": "SurveyTooLong",
         "dtype": "object",
         "stats": {
          "unique_count": 2,
          "nan_count": 1,
          "categories": [
           {
            "name": "The survey was an appropriate length",
            "count": 3
           },
           {
            "name": "The survey was too long",
            "count": 1
           },
           {
            "name": "Missing",
            "count": 1
           }
          ]
         }
        },
        {
         "name": "SurveyEasy",
         "dtype": "object",
         "stats": {
          "unique_count": 2,
          "nan_count": 1,
          "categories": [
           {
            "name": "Somewhat easy",
            "count": 2
           },
           {
            "name": "Very easy",
            "count": 2
           },
           {
            "name": "Missing",
            "count": 1
           }
          ]
         }
        },
        {
         "name": "_deepnote_index_column",
         "dtype": "int64"
        }
       ],
       "rows_top": [
        {
         "Respondent": 4,
         "Hobby": "Yes",
         "OpenSource": "Yes",
         "Country": "United States",
         "Student": "No",
         "Employment": "Employed full-time",
         "FormalEducation": "Associate degree",
         "UndergradMajor": "Computer science, computer engineering, or software engineering",
         "CompanySize": "20 to 99 employees",
         "DevType": "Engineering manager;Full-stack developer",
         "YearsCoding": "24-26 years",
         "YearsCodingProf": "6-8 years",
         "JobSatisfaction": "Moderately satisfied",
         "CareerSatisfaction": "Moderately satisfied",
         "HopeFiveYears": "Working as a founder or co-founder of my own company",
         "JobSearchStatus": "I?™m not actively looking, but I am open to new opportunities",
         "LastNewJob": "Less than a year ago",
         "AssessJob1": "nan",
         "AssessJob2": "nan",
         "AssessJob3": "nan",
         "AssessJob4": "nan",
         "AssessJob5": "nan",
         "AssessJob6": "nan",
         "AssessJob7": "nan",
         "AssessJob8": "nan",
         "AssessJob9": "nan",
         "AssessJob10": "nan",
         "AssessBenefits1": "nan",
         "AssessBenefits2": "nan",
         "AssessBenefits3": "nan",
         "AssessBenefits4": "nan",
         "AssessBenefits5": "nan",
         "AssessBenefits6": "nan",
         "AssessBenefits7": "nan",
         "AssessBenefits8": "nan",
         "AssessBenefits9": "nan",
         "AssessBenefits10": "nan",
         "AssessBenefits11": "nan",
         "JobContactPriorities1": "nan",
         "JobContactPriorities2": "nan",
         "JobContactPriorities3": "nan",
         "JobContactPriorities4": "nan",
         "JobContactPriorities5": "nan",
         "JobEmailPriorities1": "nan",
         "JobEmailPriorities2": "nan",
         "JobEmailPriorities3": "nan",
         "JobEmailPriorities4": "nan",
         "JobEmailPriorities5": "nan",
         "JobEmailPriorities6": "nan",
         "JobEmailPriorities7": "nan",
         "UpdateCV": "nan",
         "Currency": "nan",
         "Salary": "nan",
         "SalaryType": "nan",
         "ConvertedSalary": "nan",
         "CurrencySymbol": "nan",
         "CommunicationTools": "nan",
         "TimeFullyProductive": "nan",
         "EducationTypes": "nan",
         "SelfTaughtTypes": "nan",
         "TimeAfterBootcamp": "nan",
         "HackathonReasons": "nan",
         "AgreeDisagree1": "nan",
         "AgreeDisagree2": "nan",
         "AgreeDisagree3": "nan",
         "LanguageWorkedWith": "nan",
         "LanguageDesireNextYear": "nan",
         "DatabaseWorkedWith": "nan",
         "DatabaseDesireNextYear": "nan",
         "PlatformWorkedWith": "nan",
         "PlatformDesireNextYear": "nan",
         "FrameworkWorkedWith": "nan",
         "FrameworkDesireNextYear": "nan",
         "IDE": "nan",
         "OperatingSystem": "nan",
         "NumberMonitors": "nan",
         "Methodology": "nan",
         "VersionControl": "nan",
         "CheckInCode": "nan",
         "AdBlocker": "nan",
         "AdBlockerDisable": "nan",
         "AdBlockerReasons": "nan",
         "AdsAgreeDisagree1": "nan",
         "AdsAgreeDisagree2": "nan",
         "AdsAgreeDisagree3": "nan",
         "AdsActions": "nan",
         "AdsPriorities1": "nan",
         "AdsPriorities2": "nan",
         "AdsPriorities3": "nan",
         "AdsPriorities4": "nan",
         "AdsPriorities5": "nan",
         "AdsPriorities6": "nan",
         "AdsPriorities7": "nan",
         "AIDangerous": "nan",
         "AIInteresting": "nan",
         "AIResponsible": "nan",
         "AIFuture": "nan",
         "EthicsChoice": "nan",
         "EthicsReport": "nan",
         "EthicsResponsible": "nan",
         "EthicalImplications": "nan",
         "StackOverflowRecommend": "nan",
         "StackOverflowVisit": "nan",
         "StackOverflowHasAccount": "nan",
         "StackOverflowParticipate": "nan",
         "StackOverflowJobs": "nan",
         "StackOverflowDevStory": "nan",
         "StackOverflowJobsRecommend": "nan",
         "StackOverflowConsiderMember": "nan",
         "HypotheticalTools1": "nan",
         "HypotheticalTools2": "nan",
         "HypotheticalTools3": "nan",
         "HypotheticalTools4": "nan",
         "HypotheticalTools5": "nan",
         "WakeTime": "nan",
         "HoursComputer": "nan",
         "HoursOutside": "nan",
         "SkipMeals": "nan",
         "ErgonomicDevices": "nan",
         "Exercise": "nan",
         "Gender": "nan",
         "SexualOrientation": "nan",
         "EducationParents": "nan",
         "RaceEthnicity": "nan",
         "Age": "nan",
         "Dependents": "nan",
         "MilitaryUS": "nan",
         "SurveyTooLong": "nan",
         "SurveyEasy": "nan",
         "_deepnote_index_column": 2
        },
        {
         "Respondent": 5,
         "Hobby": "No",
         "OpenSource": "No",
         "Country": "United States",
         "Student": "No",
         "Employment": "Employed full-time",
         "FormalEducation": "Bachelor?™s degree (BA, BS, B.Eng., etc.)",
         "UndergradMajor": "Computer science, computer engineering, or software engineering",
         "CompanySize": "100 to 499 employees",
         "DevType": "Full-stack developer",
         "YearsCoding": "18-20 years",
         "YearsCodingProf": "12-14 years",
         "JobSatisfaction": "Neither satisfied nor dissatisfied",
         "CareerSatisfaction": "Slightly dissatisfied",
         "HopeFiveYears": "Working as a founder or co-founder of my own company",
         "JobSearchStatus": "I?™m not actively looking, but I am open to new opportunities",
         "LastNewJob": "Less than a year ago",
         "AssessJob1": "nan",
         "AssessJob2": "nan",
         "AssessJob3": "nan",
         "AssessJob4": "nan",
         "AssessJob5": "nan",
         "AssessJob6": "nan",
         "AssessJob7": "nan",
         "AssessJob8": "nan",
         "AssessJob9": "nan",
         "AssessJob10": "nan",
         "AssessBenefits1": "nan",
         "AssessBenefits2": "nan",
         "AssessBenefits3": "nan",
         "AssessBenefits4": "nan",
         "AssessBenefits5": "nan",
         "AssessBenefits6": "nan",
         "AssessBenefits7": "nan",
         "AssessBenefits8": "nan",
         "AssessBenefits9": "nan",
         "AssessBenefits10": "nan",
         "AssessBenefits11": "nan",
         "JobContactPriorities1": "nan",
         "JobContactPriorities2": "nan",
         "JobContactPriorities3": "nan",
         "JobContactPriorities4": "nan",
         "JobContactPriorities5": "nan",
         "JobEmailPriorities1": "nan",
         "JobEmailPriorities2": "nan",
         "JobEmailPriorities3": "nan",
         "JobEmailPriorities4": "nan",
         "JobEmailPriorities5": "nan",
         "JobEmailPriorities6": "nan",
         "JobEmailPriorities7": "nan",
         "UpdateCV": "A recruiter contacted me",
         "Currency": "U.S. dollars ($)",
         "Salary": "nan",
         "SalaryType": "nan",
         "ConvertedSalary": "nan",
         "CurrencySymbol": "nan",
         "CommunicationTools": "nan",
         "TimeFullyProductive": "Three to six months",
         "EducationTypes": "Completed an industry certification program (e.g. MCPD);Taught yourself a new language, framework, …",
         "SelfTaughtTypes": "The official documentation and/or standards for the technology;A book or e-book from O?™Reilly, Apr…",
         "TimeAfterBootcamp": "nan",
         "HackathonReasons": "nan",
         "AgreeDisagree1": "Disagree",
         "AgreeDisagree2": "Disagree",
         "AgreeDisagree3": "Strongly disagree",
         "LanguageWorkedWith": "C#;JavaScript;SQL;TypeScript;HTML;CSS;Bash/Shell",
         "LanguageDesireNextYear": "C#;JavaScript;SQL;TypeScript;HTML;CSS;Bash/Shell",
         "DatabaseWorkedWith": "SQL Server;Microsoft Azure (Tables, CosmosDB, SQL, etc)",
         "DatabaseDesireNextYear": "SQL Server;Microsoft Azure (Tables, CosmosDB, SQL, etc)",
         "PlatformWorkedWith": "Azure",
         "PlatformDesireNextYear": "Azure",
         "FrameworkWorkedWith": "nan",
         "FrameworkDesireNextYear": "Angular;.NET Core;React",
         "IDE": "Visual Studio;Visual Studio Code",
         "OperatingSystem": "Windows",
         "NumberMonitors": "2",
         "Methodology": "Agile;Kanban;Scrum",
         "VersionControl": "Git",
         "CheckInCode": "Multiple times per day",
         "AdBlocker": "Yes",
         "AdBlockerDisable": "Yes",
         "AdBlockerReasons": "The ad-blocking software was causing display issues on a website",
         "AdsAgreeDisagree1": "Neither agree nor disagree",
         "AdsAgreeDisagree2": "Somewhat agree",
         "AdsAgreeDisagree3": "Somewhat agree",
         "AdsActions": "Stopped going to a website because of their advertising",
         "AdsPriorities1": "nan",
         "AdsPriorities2": "nan",
         "AdsPriorities3": "nan",
         "AdsPriorities4": "nan",
         "AdsPriorities5": "nan",
         "AdsPriorities6": "nan",
         "AdsPriorities7": "nan",
         "AIDangerous": "Artificial intelligence surpassing human intelligence (\"the singularity\")",
         "AIInteresting": "Artificial intelligence surpassing human intelligence (\"the singularity\")",
         "AIResponsible": "A governmental or other regulatory body",
         "AIFuture": "I don't care about it, or I haven't thought about it.",
         "EthicsChoice": "No",
         "EthicsReport": "Yes, but only within the company",
         "EthicsResponsible": "Upper management at the company/organization",
         "EthicalImplications": "Yes",
         "StackOverflowRecommend": "10 (Very Likely)",
         "StackOverflowVisit": "A few times per week",
         "StackOverflowHasAccount": "Yes",
         "StackOverflowParticipate": "A few times per month or weekly",
         "StackOverflowJobs": "Yes",
         "StackOverflowDevStory": "No, I have one but it's out of date",
         "StackOverflowJobsRecommend": "8",
         "StackOverflowConsiderMember": "Yes",
         "HypotheticalTools1": "Somewhat interested",
         "HypotheticalTools2": "Somewhat interested",
         "HypotheticalTools3": "Somewhat interested",
         "HypotheticalTools4": "Somewhat interested",
         "HypotheticalTools5": "Somewhat interested",
         "WakeTime": "Between 6:01 - 7:00 AM",
         "HoursComputer": "9 - 12 hours",
         "HoursOutside": "Less than 30 minutes",
         "SkipMeals": "3 - 4 times per week",
         "ErgonomicDevices": "nan",
         "Exercise": "I don't typically exercise",
         "Gender": "Male",
         "SexualOrientation": "Straight or heterosexual",
         "EducationParents": "Some college/university study without earning a degree",
         "RaceEthnicity": "White or of European descent",
         "Age": "35 - 44 years old",
         "Dependents": "No",
         "MilitaryUS": "No",
         "SurveyTooLong": "The survey was an appropriate length",
         "SurveyEasy": "Somewhat easy",
         "_deepnote_index_column": 3
        },
        {
         "Respondent": 9,
         "Hobby": "Yes",
         "OpenSource": "Yes",
         "Country": "United States",
         "Student": "No",
         "Employment": "Employed full-time",
         "FormalEducation": "Some college/university study without earning a degree",
         "UndergradMajor": "Computer science, computer engineering, or software engineering",
         "CompanySize": "10,000 or more employees",
         "DevType": "Back-end developer;Front-end developer;Full-stack developer",
         "YearsCoding": "9-11 years",
         "YearsCodingProf": "0-2 years",
         "JobSatisfaction": "Slightly satisfied",
         "CareerSatisfaction": "Moderately satisfied",
         "HopeFiveYears": "Working as a founder or co-founder of my own company",
         "JobSearchStatus": "I?™m not actively looking, but I am open to new opportunities",
         "LastNewJob": "Less than a year ago",
         "AssessJob1": 5,
         "AssessJob2": 3,
         "AssessJob3": 9,
         "AssessJob4": 4,
         "AssessJob5": 1,
         "AssessJob6": 8,
         "AssessJob7": 2,
         "AssessJob8": 7,
         "AssessJob9": 10,
         "AssessJob10": 6,
         "AssessBenefits1": 1,
         "AssessBenefits2": 3,
         "AssessBenefits3": 2,
         "AssessBenefits4": 9,
         "AssessBenefits5": 11,
         "AssessBenefits6": 4,
         "AssessBenefits7": 8,
         "AssessBenefits8": 6,
         "AssessBenefits9": 7,
         "AssessBenefits10": 10,
         "AssessBenefits11": 5,
         "JobContactPriorities1": 3,
         "JobContactPriorities2": 1,
         "JobContactPriorities3": 5,
         "JobContactPriorities4": 4,
         "JobContactPriorities5": 2,
         "JobEmailPriorities1": 1,
         "JobEmailPriorities2": 5,
         "JobEmailPriorities3": 3,
         "JobEmailPriorities4": 4,
         "JobEmailPriorities5": 2,
         "JobEmailPriorities6": 6,
         "JobEmailPriorities7": 7,
         "UpdateCV": "My job status or other personal status changed",
         "Currency": "U.S. dollars ($)",
         "Salary": "120000",
         "SalaryType": "Yearly",
         "ConvertedSalary": 120000,
         "CurrencySymbol": "USD",
         "CommunicationTools": "Confluence;Office / productivity suite (Microsoft Office, Google Suite, etc.);Stack Overflow Enterp…",
         "TimeFullyProductive": "Six to nine months",
         "EducationTypes": "Received on-the-job training in software development;Taught yourself a new language, framework, or …",
         "SelfTaughtTypes": "The official documentation and/or standards for the technology;Questions & answers on Stack Overflo…",
         "TimeAfterBootcamp": "nan",
         "HackathonReasons": "nan",
         "AgreeDisagree1": "Disagree",
         "AgreeDisagree2": "Agree",
         "AgreeDisagree3": "Strongly disagree",
         "LanguageWorkedWith": "JavaScript;HTML;CSS",
         "LanguageDesireNextYear": "C;Go;JavaScript;Python;HTML;CSS",
         "DatabaseWorkedWith": "MongoDB",
         "DatabaseDesireNextYear": "nan",
         "PlatformWorkedWith": "Linux",
         "PlatformDesireNextYear": "Linux",
         "FrameworkWorkedWith": "Node.js;React",
         "FrameworkDesireNextYear": "React;TensorFlow",
         "IDE": "Atom;Visual Studio Code",
         "OperatingSystem": "MacOS",
         "NumberMonitors": "2",
         "Methodology": "Agile;Scrum",
         "VersionControl": "Git",
         "CheckInCode": "Multiple times per day",
         "AdBlocker": "Yes",
         "AdBlockerDisable": "Yes",
         "AdBlockerReasons": "The ad-blocking software was causing display issues on a website",
         "AdsAgreeDisagree1": "Somewhat disagree",
         "AdsAgreeDisagree2": "Neither agree nor disagree",
         "AdsAgreeDisagree3": "Somewhat disagree",
         "AdsActions": "Clicked on an online advertisement;Stopped going to a website because of their advertising",
         "AdsPriorities1": 1,
         "AdsPriorities2": 4,
         "AdsPriorities3": 2,
         "AdsPriorities4": 5,
         "AdsPriorities5": 3,
         "AdsPriorities6": 7,
         "AdsPriorities7": 6,
         "AIDangerous": "Algorithms making important decisions",
         "AIInteresting": "Artificial intelligence surpassing human intelligence (\"the singularity\")",
         "AIResponsible": "The developers or the people creating the AI",
         "AIFuture": "I'm excited about the possibilities more than worried about the dangers.",
         "EthicsChoice": "Depends on what it is",
         "EthicsReport": "Yes, but only within the company",
         "EthicsResponsible": "Upper management at the company/organization",
         "EthicalImplications": "Yes",
         "StackOverflowRecommend": "10 (Very Likely)",
         "StackOverflowVisit": "Multiple times per day",
         "StackOverflowHasAccount": "Yes",
         "StackOverflowParticipate": "I have never participated in Q&A on Stack Overflow",
         "StackOverflowJobs": "Yes",
         "StackOverflowDevStory": "No, I have one but it's out of date",
         "StackOverflowJobsRecommend": "7",
         "StackOverflowConsiderMember": "No",
         "HypotheticalTools1": "Very interested",
         "HypotheticalTools2": "A little bit interested",
         "HypotheticalTools3": "Extremely interested",
         "HypotheticalTools4": "Very interested",
         "HypotheticalTools5": "Very interested",
         "WakeTime": "Between 9:01 - 10:00 AM",
         "HoursComputer": "Over 12 hours",
         "HoursOutside": "Less than 30 minutes",
         "SkipMeals": "1 - 2 times per week",
         "ErgonomicDevices": "nan",
         "Exercise": "I don't typically exercise",
         "Gender": "Male",
         "SexualOrientation": "Straight or heterosexual",
         "EducationParents": "Master?™s degree (MA, MS, M.Eng., MBA, etc.)",
         "RaceEthnicity": "White or of European descent",
         "Age": "18 - 24 years old",
         "Dependents": "No",
         "MilitaryUS": "No",
         "SurveyTooLong": "The survey was an appropriate length",
         "SurveyEasy": "Somewhat easy",
         "_deepnote_index_column": 6
        },
        {
         "Respondent": 11,
         "Hobby": "Yes",
         "OpenSource": "Yes",
         "Country": "United States",
         "Student": "No",
         "Employment": "Employed full-time",
         "FormalEducation": "Some college/university study without earning a degree",
         "UndergradMajor": "Fine arts or performing arts (ex. graphic design, music, studio art)",
         "CompanySize": "100 to 499 employees",
         "DevType": "Back-end developer;C-suite executive (CEO, CTO, etc.);Data or business analyst;Database administrat…",
         "YearsCoding": "30 or more years",
         "YearsCodingProf": "21-23 years",
         "JobSatisfaction": "Moderately satisfied",
         "CareerSatisfaction": "Moderately satisfied",
         "HopeFiveYears": "Doing the same work",
         "JobSearchStatus": "I?™m not actively looking, but I am open to new opportunities",
         "LastNewJob": "Between 2 and 4 years ago",
         "AssessJob1": 6,
         "AssessJob2": 3,
         "AssessJob3": 7,
         "AssessJob4": 4,
         "AssessJob5": 1,
         "AssessJob6": 5,
         "AssessJob7": 10,
         "AssessJob8": 8,
         "AssessJob9": 9,
         "AssessJob10": 2,
         "AssessBenefits1": 1,
         "AssessBenefits2": 3,
         "AssessBenefits3": 2,
         "AssessBenefits4": 9,
         "AssessBenefits5": 11,
         "AssessBenefits6": 5,
         "AssessBenefits7": 8,
         "AssessBenefits8": 4,
         "AssessBenefits9": 10,
         "AssessBenefits10": 7,
         "AssessBenefits11": 6,
         "JobContactPriorities1": 5,
         "JobContactPriorities2": 1,
         "JobContactPriorities3": 2,
         "JobContactPriorities4": 3,
         "JobContactPriorities5": 4,
         "JobEmailPriorities1": 3,
         "JobEmailPriorities2": 7,
         "JobEmailPriorities3": 2,
         "JobEmailPriorities4": 4,
         "JobEmailPriorities5": 1,
         "JobEmailPriorities6": 6,
         "JobEmailPriorities7": 5,
         "UpdateCV": "My job status or other personal status changed",
         "Currency": "U.S. dollars ($)",
         "Salary": "250000",
         "SalaryType": "Yearly",
         "ConvertedSalary": 250000,
         "CurrencySymbol": "USD",
         "CommunicationTools": "Confluence;HipChat;Jira;Office / productivity suite (Microsoft Office, Google Suite, etc.)",
         "TimeFullyProductive": "Three to six months",
         "EducationTypes": "Taken an online course in programming or software development (e.g. a MOOC);Taught yourself a new l…",
         "SelfTaughtTypes": "The official documentation and/or standards for the technology;A book or e-book from O?™Reilly, Apr…",
         "TimeAfterBootcamp": "nan",
         "HackathonReasons": "Because I find it enjoyable",
         "AgreeDisagree1": "Strongly agree",
         "AgreeDisagree2": "Strongly disagree",
         "AgreeDisagree3": "Strongly disagree",
         "LanguageWorkedWith": "Assembly;CoffeeScript;Erlang;Go;JavaScript;Lua;Python;Ruby;SQL;HTML;CSS;Bash/Shell",
         "LanguageDesireNextYear": "Erlang;Go;Python;Rust;SQL",
         "DatabaseWorkedWith": "Redis;PostgreSQL;Amazon DynamoDB;Apache HBase;Apache Hive;Amazon Redshift;Amazon RDS/Aurora;Elastic…",
         "DatabaseDesireNextYear": "Redis;PostgreSQL;Amazon DynamoDB;Apache Hive;Amazon RDS/Aurora;Neo4j",
         "PlatformWorkedWith": "Amazon Echo;AWS;iOS;Linux;Mac OS;Serverless",
         "PlatformDesireNextYear": "AWS;Linux;Mac OS;Serverless",
         "FrameworkWorkedWith": "Hadoop;Node.js;React;Spark",
         "FrameworkDesireNextYear": "nan",
         "IDE": "IntelliJ;PyCharm;Sublime Text;Vim",
         "OperatingSystem": "MacOS",
         "NumberMonitors": "1",
         "Methodology": "Agile;Evidence-based software engineering;Extreme programming (XP);Formal standard such as ISO 9001…",
         "VersionControl": "Git",
         "CheckInCode": "Multiple times per day",
         "AdBlocker": "No",
         "AdBlockerDisable": "nan",
         "AdBlockerReasons": "nan",
         "AdsAgreeDisagree1": "Neither agree nor disagree",
         "AdsAgreeDisagree2": "Somewhat agree",
         "AdsAgreeDisagree3": "Neither agree nor disagree",
         "AdsActions": "Clicked on an online advertisement;Saw an online advertisement and then researched it (without clic…",
         "AdsPriorities1": 1,
         "AdsPriorities2": 3,
         "AdsPriorities3": 5,
         "AdsPriorities4": 4,
         "AdsPriorities5": 2,
         "AdsPriorities6": 7,
         "AdsPriorities7": 6,
         "AIDangerous": "Algorithms making important decisions",
         "AIInteresting": "Artificial intelligence surpassing human intelligence (\"the singularity\")",
         "AIResponsible": "The developers or the people creating the AI",
         "AIFuture": "I'm worried about the dangers more than I'm excited about the possibilities.",
         "EthicsChoice": "No",
         "EthicsReport": "Yes, and publicly",
         "EthicsResponsible": "The person who came up with the idea",
         "EthicalImplications": "Yes",
         "StackOverflowRecommend": "7",
         "StackOverflowVisit": "A few times per month or weekly",
         "StackOverflowHasAccount": "Yes",
         "StackOverflowParticipate": "Less than once per month or monthly",
         "StackOverflowJobs": "Yes",
         "StackOverflowDevStory": "Yes",
         "StackOverflowJobsRecommend": "7",
         "StackOverflowConsiderMember": "No",
         "HypotheticalTools1": "Not at all interested",
         "HypotheticalTools2": "Not at all interested",
         "HypotheticalTools3": "Not at all interested",
         "HypotheticalTools4": "Not at all interested",
         "HypotheticalTools5": "Not at all interested",
         "WakeTime": "Between 8:01 - 9:00 AM",
         "HoursComputer": "9 - 12 hours",
         "HoursOutside": "Less than 30 minutes",
         "SkipMeals": "1 - 2 times per week",
         "ErgonomicDevices": "Standing desk;Fatigue-relieving floor mat",
         "Exercise": "I don't typically exercise",
         "Gender": "Male",
         "SexualOrientation": "Straight or heterosexual",
         "EducationParents": "Some college/university study without earning a degree",
         "RaceEthnicity": "White or of European descent",
         "Age": "35 - 44 years old",
         "Dependents": "Yes",
         "MilitaryUS": "No",
         "SurveyTooLong": "The survey was an appropriate length",
         "SurveyEasy": "Very easy",
         "_deepnote_index_column": 8
        },
        {
         "Respondent": 34,
         "Hobby": "Yes",
         "OpenSource": "No",
         "Country": "United States",
         "Student": "No",
         "Employment": "Employed full-time",
         "FormalEducation": "Bachelor?™s degree (BA, BS, B.Eng., etc.)",
         "UndergradMajor": "nan",
         "CompanySize": "500 to 999 employees",
         "DevType": "Back-end developer;Desktop or enterprise applications developer;QA or test developer",
         "YearsCoding": "24-26 years",
         "YearsCodingProf": "24-26 years",
         "JobSatisfaction": "Extremely satisfied",
         "CareerSatisfaction": "Moderately satisfied",
         "HopeFiveYears": "Working in a different or more specialized technical role than the one I'm in now",
         "JobSearchStatus": "I?™m not actively looking, but I am open to new opportunities",
         "LastNewJob": "More than 4 years ago",
         "AssessJob1": 3,
         "AssessJob2": 4,
         "AssessJob3": 6,
         "AssessJob4": 7,
         "AssessJob5": 1,
         "AssessJob6": 8,
         "AssessJob7": 5,
         "AssessJob8": 2,
         "AssessJob9": 9,
         "AssessJob10": 10,
         "AssessBenefits1": 2,
         "AssessBenefits2": 4,
         "AssessBenefits3": 1,
         "AssessBenefits4": 11,
         "AssessBenefits5": 7,
         "AssessBenefits6": 3,
         "AssessBenefits7": 8,
         "AssessBenefits8": 5,
         "AssessBenefits9": 9,
         "AssessBenefits10": 6,
         "AssessBenefits11": 10,
         "JobContactPriorities1": 2,
         "JobContactPriorities2": 1,
         "JobContactPriorities3": 5,
         "JobContactPriorities4": 4,
         "JobContactPriorities5": 3,
         "JobEmailPriorities1": 2,
         "JobEmailPriorities2": 1,
         "JobEmailPriorities3": 3,
         "JobEmailPriorities4": 5,
         "JobEmailPriorities5": 4,
         "JobEmailPriorities6": 7,
         "JobEmailPriorities7": 6,
         "UpdateCV": "My job status or other personal status changed",
         "Currency": "U.S. dollars ($)",
         "Salary": "nan",
         "SalaryType": "Monthly",
         "ConvertedSalary": "nan",
         "CurrencySymbol": "USD",
         "CommunicationTools": "Confluence;Jira;Office / productivity suite (Microsoft Office, Google Suite, etc.);Slack",
         "TimeFullyProductive": "Three to six months",
         "EducationTypes": "Taken an online course in programming or software development (e.g. a MOOC);Taken a part-time in-pe…",
         "SelfTaughtTypes": "The official documentation and/or standards for the technology;A book or e-book from O?™Reilly, Apr…",
         "TimeAfterBootcamp": "nan",
         "HackathonReasons": "nan",
         "AgreeDisagree1": "Strongly agree",
         "AgreeDisagree2": "Strongly disagree",
         "AgreeDisagree3": "Disagree",
         "LanguageWorkedWith": "C;C++;C#;Groovy;JavaScript;Python;SQL;HTML;CSS;Bash/Shell",
         "LanguageDesireNextYear": "C;C++;JavaScript;Python;HTML;CSS;Bash/Shell",
         "DatabaseWorkedWith": "SQL Server;MySQL;SQLite",
         "DatabaseDesireNextYear": "MySQL;SQLite;Elasticsearch",
         "PlatformWorkedWith": "Linux;Mac OS;Windows Desktop or Server",
         "PlatformDesireNextYear": "Linux;Mac OS;Windows Desktop or Server",
         "FrameworkWorkedWith": "Django",
         "FrameworkDesireNextYear": "Django;Node.js",
         "IDE": "Visual Studio;Visual Studio Code",
         "OperatingSystem": "MacOS",
         "NumberMonitors": "3",
         "Methodology": "Agile;Scrum",
         "VersionControl": "Git;Subversion",
         "CheckInCode": "Multiple times per day",
         "AdBlocker": "No",
         "AdBlockerDisable": "nan",
         "AdBlockerReasons": "nan",
         "AdsAgreeDisagree1": "Somewhat agree",
         "AdsAgreeDisagree2": "Somewhat agree",
         "AdsAgreeDisagree3": "Somewhat disagree",
         "AdsActions": "Clicked on an online advertisement;Saw an online advertisement and then researched it (without clic…",
         "AdsPriorities1": 1,
         "AdsPriorities2": 3,
         "AdsPriorities3": 2,
         "AdsPriorities4": 4,
         "AdsPriorities5": 7,
         "AdsPriorities6": 5,
         "AdsPriorities7": 6,
         "AIDangerous": "Artificial intelligence surpassing human intelligence (\"the singularity\")",
         "AIInteresting": "Increasing automation of jobs",
         "AIResponsible": "The developers or the people creating the AI",
         "AIFuture": "I'm worried about the dangers more than I'm excited about the possibilities.",
         "EthicsChoice": "No",
         "EthicsReport": "Yes, but only within the company",
         "EthicsResponsible": "Upper management at the company/organization",
         "EthicalImplications": "Yes",
         "StackOverflowRecommend": "10 (Very Likely)",
         "StackOverflowVisit": "Daily or almost daily",
         "StackOverflowHasAccount": "Yes",
         "StackOverflowParticipate": "A few times per month or weekly",
         "StackOverflowJobs": "Yes",
         "StackOverflowDevStory": "No, I know what it is but I don't have one",
         "StackOverflowJobsRecommend": "7",
         "StackOverflowConsiderMember": "Yes",
         "HypotheticalTools1": "Somewhat interested",
         "HypotheticalTools2": "A little bit interested",
         "HypotheticalTools3": "Not at all interested",
         "HypotheticalTools4": "Somewhat interested",
         "HypotheticalTools5": "Very interested",
         "WakeTime": "Between 6:01 - 7:00 AM",
         "HoursComputer": "5 - 8 hours",
         "HoursOutside": "1 - 2 hours",
         "SkipMeals": "nan",
         "ErgonomicDevices": "Ergonomic keyboard or mouse",
         "Exercise": "Daily or almost every day",
         "Gender": "Male",
         "SexualOrientation": "Straight or heterosexual",
         "EducationParents": "Bachelor?™s degree (BA, BS, B.Eng., etc.)",
         "RaceEthnicity": "White or of European descent",
         "Age": "45 - 54 years old",
         "Dependents": "Yes",
         "MilitaryUS": "No",
         "SurveyTooLong": "The survey was too long",
         "SurveyEasy": "Very easy",
         "_deepnote_index_column": 21
        }
       ],
       "rows_bottom": null
      },
      "text/html": [
       "<div>\n",
       "<style scoped>\n",
       "    .dataframe tbody tr th:only-of-type {\n",
       "        vertical-align: middle;\n",
       "    }\n",
       "\n",
       "    .dataframe tbody tr th {\n",
       "        vertical-align: top;\n",
       "    }\n",
       "\n",
       "    .dataframe thead th {\n",
       "        text-align: right;\n",
       "    }\n",
       "</style>\n",
       "<table border=\"1\" class=\"dataframe\">\n",
       "  <thead>\n",
       "    <tr style=\"text-align: right;\">\n",
       "      <th></th>\n",
       "      <th>Respondent</th>\n",
       "      <th>Hobby</th>\n",
       "      <th>OpenSource</th>\n",
       "      <th>Country</th>\n",
       "      <th>Student</th>\n",
       "      <th>Employment</th>\n",
       "      <th>FormalEducation</th>\n",
       "      <th>UndergradMajor</th>\n",
       "      <th>CompanySize</th>\n",
       "      <th>DevType</th>\n",
       "      <th>YearsCoding</th>\n",
       "      <th>YearsCodingProf</th>\n",
       "      <th>JobSatisfaction</th>\n",
       "      <th>CareerSatisfaction</th>\n",
       "      <th>HopeFiveYears</th>\n",
       "      <th>JobSearchStatus</th>\n",
       "      <th>LastNewJob</th>\n",
       "      <th>AssessJob1</th>\n",
       "      <th>AssessJob2</th>\n",
       "      <th>AssessJob3</th>\n",
       "      <th>AssessJob4</th>\n",
       "      <th>AssessJob5</th>\n",
       "      <th>AssessJob6</th>\n",
       "      <th>AssessJob7</th>\n",
       "      <th>AssessJob8</th>\n",
       "      <th>AssessJob9</th>\n",
       "      <th>AssessJob10</th>\n",
       "      <th>AssessBenefits1</th>\n",
       "      <th>AssessBenefits2</th>\n",
       "      <th>AssessBenefits3</th>\n",
       "      <th>AssessBenefits4</th>\n",
       "      <th>AssessBenefits5</th>\n",
       "      <th>AssessBenefits6</th>\n",
       "      <th>AssessBenefits7</th>\n",
       "      <th>AssessBenefits8</th>\n",
       "      <th>AssessBenefits9</th>\n",
       "      <th>AssessBenefits10</th>\n",
       "      <th>AssessBenefits11</th>\n",
       "      <th>JobContactPriorities1</th>\n",
       "      <th>JobContactPriorities2</th>\n",
       "      <th>JobContactPriorities3</th>\n",
       "      <th>JobContactPriorities4</th>\n",
       "      <th>JobContactPriorities5</th>\n",
       "      <th>JobEmailPriorities1</th>\n",
       "      <th>JobEmailPriorities2</th>\n",
       "      <th>JobEmailPriorities3</th>\n",
       "      <th>JobEmailPriorities4</th>\n",
       "      <th>JobEmailPriorities5</th>\n",
       "      <th>JobEmailPriorities6</th>\n",
       "      <th>JobEmailPriorities7</th>\n",
       "      <th>UpdateCV</th>\n",
       "      <th>Currency</th>\n",
       "      <th>Salary</th>\n",
       "      <th>SalaryType</th>\n",
       "      <th>ConvertedSalary</th>\n",
       "      <th>CurrencySymbol</th>\n",
       "      <th>CommunicationTools</th>\n",
       "      <th>TimeFullyProductive</th>\n",
       "      <th>EducationTypes</th>\n",
       "      <th>SelfTaughtTypes</th>\n",
       "      <th>TimeAfterBootcamp</th>\n",
       "      <th>HackathonReasons</th>\n",
       "      <th>AgreeDisagree1</th>\n",
       "      <th>AgreeDisagree2</th>\n",
       "      <th>AgreeDisagree3</th>\n",
       "      <th>LanguageWorkedWith</th>\n",
       "      <th>LanguageDesireNextYear</th>\n",
       "      <th>DatabaseWorkedWith</th>\n",
       "      <th>DatabaseDesireNextYear</th>\n",
       "      <th>PlatformWorkedWith</th>\n",
       "      <th>PlatformDesireNextYear</th>\n",
       "      <th>FrameworkWorkedWith</th>\n",
       "      <th>FrameworkDesireNextYear</th>\n",
       "      <th>IDE</th>\n",
       "      <th>OperatingSystem</th>\n",
       "      <th>NumberMonitors</th>\n",
       "      <th>Methodology</th>\n",
       "      <th>VersionControl</th>\n",
       "      <th>CheckInCode</th>\n",
       "      <th>AdBlocker</th>\n",
       "      <th>AdBlockerDisable</th>\n",
       "      <th>AdBlockerReasons</th>\n",
       "      <th>AdsAgreeDisagree1</th>\n",
       "      <th>AdsAgreeDisagree2</th>\n",
       "      <th>AdsAgreeDisagree3</th>\n",
       "      <th>AdsActions</th>\n",
       "      <th>AdsPriorities1</th>\n",
       "      <th>AdsPriorities2</th>\n",
       "      <th>AdsPriorities3</th>\n",
       "      <th>AdsPriorities4</th>\n",
       "      <th>AdsPriorities5</th>\n",
       "      <th>AdsPriorities6</th>\n",
       "      <th>AdsPriorities7</th>\n",
       "      <th>AIDangerous</th>\n",
       "      <th>AIInteresting</th>\n",
       "      <th>AIResponsible</th>\n",
       "      <th>AIFuture</th>\n",
       "      <th>EthicsChoice</th>\n",
       "      <th>EthicsReport</th>\n",
       "      <th>EthicsResponsible</th>\n",
       "      <th>EthicalImplications</th>\n",
       "      <th>StackOverflowRecommend</th>\n",
       "      <th>StackOverflowVisit</th>\n",
       "      <th>StackOverflowHasAccount</th>\n",
       "      <th>StackOverflowParticipate</th>\n",
       "      <th>StackOverflowJobs</th>\n",
       "      <th>StackOverflowDevStory</th>\n",
       "      <th>StackOverflowJobsRecommend</th>\n",
       "      <th>StackOverflowConsiderMember</th>\n",
       "      <th>HypotheticalTools1</th>\n",
       "      <th>HypotheticalTools2</th>\n",
       "      <th>HypotheticalTools3</th>\n",
       "      <th>HypotheticalTools4</th>\n",
       "      <th>HypotheticalTools5</th>\n",
       "      <th>WakeTime</th>\n",
       "      <th>HoursComputer</th>\n",
       "      <th>HoursOutside</th>\n",
       "      <th>SkipMeals</th>\n",
       "      <th>ErgonomicDevices</th>\n",
       "      <th>Exercise</th>\n",
       "      <th>Gender</th>\n",
       "      <th>SexualOrientation</th>\n",
       "      <th>EducationParents</th>\n",
       "      <th>RaceEthnicity</th>\n",
       "      <th>Age</th>\n",
       "      <th>Dependents</th>\n",
       "      <th>MilitaryUS</th>\n",
       "      <th>SurveyTooLong</th>\n",
       "      <th>SurveyEasy</th>\n",
       "    </tr>\n",
       "  </thead>\n",
       "  <tbody>\n",
       "    <tr>\n",
       "      <th>2</th>\n",
       "      <td>4</td>\n",
       "      <td>Yes</td>\n",
       "      <td>Yes</td>\n",
       "      <td>United States</td>\n",
       "      <td>No</td>\n",
       "      <td>Employed full-time</td>\n",
       "      <td>Associate degree</td>\n",
       "      <td>Computer science, computer engineering, or sof...</td>\n",
       "      <td>20 to 99 employees</td>\n",
       "      <td>Engineering manager;Full-stack developer</td>\n",
       "      <td>24-26 years</td>\n",
       "      <td>6-8 years</td>\n",
       "      <td>Moderately satisfied</td>\n",
       "      <td>Moderately satisfied</td>\n",
       "      <td>Working as a founder or co-founder of my own c...</td>\n",
       "      <td>I?™m not actively looking, but I am open to ne...</td>\n",
       "      <td>Less than a year ago</td>\n",
       "      <td>NaN</td>\n",
       "      <td>NaN</td>\n",
       "      <td>NaN</td>\n",
       "      <td>NaN</td>\n",
       "      <td>NaN</td>\n",
       "      <td>NaN</td>\n",
       "      <td>NaN</td>\n",
       "      <td>NaN</td>\n",
       "      <td>NaN</td>\n",
       "      <td>NaN</td>\n",
       "      <td>NaN</td>\n",
       "      <td>NaN</td>\n",
       "      <td>NaN</td>\n",
       "      <td>NaN</td>\n",
       "      <td>NaN</td>\n",
       "      <td>NaN</td>\n",
       "      <td>NaN</td>\n",
       "      <td>NaN</td>\n",
       "      <td>NaN</td>\n",
       "      <td>NaN</td>\n",
       "      <td>NaN</td>\n",
       "      <td>NaN</td>\n",
       "      <td>NaN</td>\n",
       "      <td>NaN</td>\n",
       "      <td>NaN</td>\n",
       "      <td>NaN</td>\n",
       "      <td>NaN</td>\n",
       "      <td>NaN</td>\n",
       "      <td>NaN</td>\n",
       "      <td>NaN</td>\n",
       "      <td>NaN</td>\n",
       "      <td>NaN</td>\n",
       "      <td>NaN</td>\n",
       "      <td>NaN</td>\n",
       "      <td>NaN</td>\n",
       "      <td>NaN</td>\n",
       "      <td>NaN</td>\n",
       "      <td>NaN</td>\n",
       "      <td>NaN</td>\n",
       "      <td>NaN</td>\n",
       "      <td>NaN</td>\n",
       "      <td>NaN</td>\n",
       "      <td>NaN</td>\n",
       "      <td>NaN</td>\n",
       "      <td>NaN</td>\n",
       "      <td>NaN</td>\n",
       "      <td>NaN</td>\n",
       "      <td>NaN</td>\n",
       "      <td>NaN</td>\n",
       "      <td>NaN</td>\n",
       "      <td>NaN</td>\n",
       "      <td>NaN</td>\n",
       "      <td>NaN</td>\n",
       "      <td>NaN</td>\n",
       "      <td>NaN</td>\n",
       "      <td>NaN</td>\n",
       "      <td>NaN</td>\n",
       "      <td>NaN</td>\n",
       "      <td>NaN</td>\n",
       "      <td>NaN</td>\n",
       "      <td>NaN</td>\n",
       "      <td>NaN</td>\n",
       "      <td>NaN</td>\n",
       "      <td>NaN</td>\n",
       "      <td>NaN</td>\n",
       "      <td>NaN</td>\n",
       "      <td>NaN</td>\n",
       "      <td>NaN</td>\n",
       "      <td>NaN</td>\n",
       "      <td>NaN</td>\n",
       "      <td>NaN</td>\n",
       "      <td>NaN</td>\n",
       "      <td>NaN</td>\n",
       "      <td>NaN</td>\n",
       "      <td>NaN</td>\n",
       "      <td>NaN</td>\n",
       "      <td>NaN</td>\n",
       "      <td>NaN</td>\n",
       "      <td>NaN</td>\n",
       "      <td>NaN</td>\n",
       "      <td>NaN</td>\n",
       "      <td>NaN</td>\n",
       "      <td>NaN</td>\n",
       "      <td>NaN</td>\n",
       "      <td>NaN</td>\n",
       "      <td>NaN</td>\n",
       "      <td>NaN</td>\n",
       "      <td>NaN</td>\n",
       "      <td>NaN</td>\n",
       "      <td>NaN</td>\n",
       "      <td>NaN</td>\n",
       "      <td>NaN</td>\n",
       "      <td>NaN</td>\n",
       "      <td>NaN</td>\n",
       "      <td>NaN</td>\n",
       "      <td>NaN</td>\n",
       "      <td>NaN</td>\n",
       "      <td>NaN</td>\n",
       "      <td>NaN</td>\n",
       "      <td>NaN</td>\n",
       "      <td>NaN</td>\n",
       "      <td>NaN</td>\n",
       "      <td>NaN</td>\n",
       "      <td>NaN</td>\n",
       "      <td>NaN</td>\n",
       "      <td>NaN</td>\n",
       "      <td>NaN</td>\n",
       "      <td>NaN</td>\n",
       "      <td>NaN</td>\n",
       "      <td>NaN</td>\n",
       "      <td>NaN</td>\n",
       "      <td>NaN</td>\n",
       "    </tr>\n",
       "    <tr>\n",
       "      <th>3</th>\n",
       "      <td>5</td>\n",
       "      <td>No</td>\n",
       "      <td>No</td>\n",
       "      <td>United States</td>\n",
       "      <td>No</td>\n",
       "      <td>Employed full-time</td>\n",
       "      <td>Bachelor?™s degree (BA, BS, B.Eng., etc.)</td>\n",
       "      <td>Computer science, computer engineering, or sof...</td>\n",
       "      <td>100 to 499 employees</td>\n",
       "      <td>Full-stack developer</td>\n",
       "      <td>18-20 years</td>\n",
       "      <td>12-14 years</td>\n",
       "      <td>Neither satisfied nor dissatisfied</td>\n",
       "      <td>Slightly dissatisfied</td>\n",
       "      <td>Working as a founder or co-founder of my own c...</td>\n",
       "      <td>I?™m not actively looking, but I am open to ne...</td>\n",
       "      <td>Less than a year ago</td>\n",
       "      <td>NaN</td>\n",
       "      <td>NaN</td>\n",
       "      <td>NaN</td>\n",
       "      <td>NaN</td>\n",
       "      <td>NaN</td>\n",
       "      <td>NaN</td>\n",
       "      <td>NaN</td>\n",
       "      <td>NaN</td>\n",
       "      <td>NaN</td>\n",
       "      <td>NaN</td>\n",
       "      <td>NaN</td>\n",
       "      <td>NaN</td>\n",
       "      <td>NaN</td>\n",
       "      <td>NaN</td>\n",
       "      <td>NaN</td>\n",
       "      <td>NaN</td>\n",
       "      <td>NaN</td>\n",
       "      <td>NaN</td>\n",
       "      <td>NaN</td>\n",
       "      <td>NaN</td>\n",
       "      <td>NaN</td>\n",
       "      <td>NaN</td>\n",
       "      <td>NaN</td>\n",
       "      <td>NaN</td>\n",
       "      <td>NaN</td>\n",
       "      <td>NaN</td>\n",
       "      <td>NaN</td>\n",
       "      <td>NaN</td>\n",
       "      <td>NaN</td>\n",
       "      <td>NaN</td>\n",
       "      <td>NaN</td>\n",
       "      <td>NaN</td>\n",
       "      <td>NaN</td>\n",
       "      <td>A recruiter contacted me</td>\n",
       "      <td>U.S. dollars ($)</td>\n",
       "      <td>NaN</td>\n",
       "      <td>NaN</td>\n",
       "      <td>NaN</td>\n",
       "      <td>NaN</td>\n",
       "      <td>NaN</td>\n",
       "      <td>Three to six months</td>\n",
       "      <td>Completed an industry certification program (e...</td>\n",
       "      <td>The official documentation and/or standards fo...</td>\n",
       "      <td>NaN</td>\n",
       "      <td>NaN</td>\n",
       "      <td>Disagree</td>\n",
       "      <td>Disagree</td>\n",
       "      <td>Strongly disagree</td>\n",
       "      <td>C#;JavaScript;SQL;TypeScript;HTML;CSS;Bash/Shell</td>\n",
       "      <td>C#;JavaScript;SQL;TypeScript;HTML;CSS;Bash/Shell</td>\n",
       "      <td>SQL Server;Microsoft Azure (Tables, CosmosDB, ...</td>\n",
       "      <td>SQL Server;Microsoft Azure (Tables, CosmosDB, ...</td>\n",
       "      <td>Azure</td>\n",
       "      <td>Azure</td>\n",
       "      <td>NaN</td>\n",
       "      <td>Angular;.NET Core;React</td>\n",
       "      <td>Visual Studio;Visual Studio Code</td>\n",
       "      <td>Windows</td>\n",
       "      <td>2</td>\n",
       "      <td>Agile;Kanban;Scrum</td>\n",
       "      <td>Git</td>\n",
       "      <td>Multiple times per day</td>\n",
       "      <td>Yes</td>\n",
       "      <td>Yes</td>\n",
       "      <td>The ad-blocking software was causing display i...</td>\n",
       "      <td>Neither agree nor disagree</td>\n",
       "      <td>Somewhat agree</td>\n",
       "      <td>Somewhat agree</td>\n",
       "      <td>Stopped going to a website because of their ad...</td>\n",
       "      <td>NaN</td>\n",
       "      <td>NaN</td>\n",
       "      <td>NaN</td>\n",
       "      <td>NaN</td>\n",
       "      <td>NaN</td>\n",
       "      <td>NaN</td>\n",
       "      <td>NaN</td>\n",
       "      <td>Artificial intelligence surpassing human intel...</td>\n",
       "      <td>Artificial intelligence surpassing human intel...</td>\n",
       "      <td>A governmental or other regulatory body</td>\n",
       "      <td>I don't care about it, or I haven't thought ab...</td>\n",
       "      <td>No</td>\n",
       "      <td>Yes, but only within the company</td>\n",
       "      <td>Upper management at the company/organization</td>\n",
       "      <td>Yes</td>\n",
       "      <td>10 (Very Likely)</td>\n",
       "      <td>A few times per week</td>\n",
       "      <td>Yes</td>\n",
       "      <td>A few times per month or weekly</td>\n",
       "      <td>Yes</td>\n",
       "      <td>No, I have one but it's out of date</td>\n",
       "      <td>8</td>\n",
       "      <td>Yes</td>\n",
       "      <td>Somewhat interested</td>\n",
       "      <td>Somewhat interested</td>\n",
       "      <td>Somewhat interested</td>\n",
       "      <td>Somewhat interested</td>\n",
       "      <td>Somewhat interested</td>\n",
       "      <td>Between 6:01 - 7:00 AM</td>\n",
       "      <td>9 - 12 hours</td>\n",
       "      <td>Less than 30 minutes</td>\n",
       "      <td>3 - 4 times per week</td>\n",
       "      <td>NaN</td>\n",
       "      <td>I don't typically exercise</td>\n",
       "      <td>Male</td>\n",
       "      <td>Straight or heterosexual</td>\n",
       "      <td>Some college/university study without earning ...</td>\n",
       "      <td>White or of European descent</td>\n",
       "      <td>35 - 44 years old</td>\n",
       "      <td>No</td>\n",
       "      <td>No</td>\n",
       "      <td>The survey was an appropriate length</td>\n",
       "      <td>Somewhat easy</td>\n",
       "    </tr>\n",
       "    <tr>\n",
       "      <th>6</th>\n",
       "      <td>9</td>\n",
       "      <td>Yes</td>\n",
       "      <td>Yes</td>\n",
       "      <td>United States</td>\n",
       "      <td>No</td>\n",
       "      <td>Employed full-time</td>\n",
       "      <td>Some college/university study without earning ...</td>\n",
       "      <td>Computer science, computer engineering, or sof...</td>\n",
       "      <td>10,000 or more employees</td>\n",
       "      <td>Back-end developer;Front-end developer;Full-st...</td>\n",
       "      <td>9-11 years</td>\n",
       "      <td>0-2 years</td>\n",
       "      <td>Slightly satisfied</td>\n",
       "      <td>Moderately satisfied</td>\n",
       "      <td>Working as a founder or co-founder of my own c...</td>\n",
       "      <td>I?™m not actively looking, but I am open to ne...</td>\n",
       "      <td>Less than a year ago</td>\n",
       "      <td>5.0</td>\n",
       "      <td>3.0</td>\n",
       "      <td>9.0</td>\n",
       "      <td>4.0</td>\n",
       "      <td>1.0</td>\n",
       "      <td>8.0</td>\n",
       "      <td>2.0</td>\n",
       "      <td>7.0</td>\n",
       "      <td>10.0</td>\n",
       "      <td>6.0</td>\n",
       "      <td>1.0</td>\n",
       "      <td>3.0</td>\n",
       "      <td>2.0</td>\n",
       "      <td>9.0</td>\n",
       "      <td>11.0</td>\n",
       "      <td>4.0</td>\n",
       "      <td>8.0</td>\n",
       "      <td>6.0</td>\n",
       "      <td>7.0</td>\n",
       "      <td>10.0</td>\n",
       "      <td>5.0</td>\n",
       "      <td>3.0</td>\n",
       "      <td>1.0</td>\n",
       "      <td>5.0</td>\n",
       "      <td>4.0</td>\n",
       "      <td>2.0</td>\n",
       "      <td>1.0</td>\n",
       "      <td>5.0</td>\n",
       "      <td>3.0</td>\n",
       "      <td>4.0</td>\n",
       "      <td>2.0</td>\n",
       "      <td>6.0</td>\n",
       "      <td>7.0</td>\n",
       "      <td>My job status or other personal status changed</td>\n",
       "      <td>U.S. dollars ($)</td>\n",
       "      <td>120000</td>\n",
       "      <td>Yearly</td>\n",
       "      <td>120000.0</td>\n",
       "      <td>USD</td>\n",
       "      <td>Confluence;Office / productivity suite (Micros...</td>\n",
       "      <td>Six to nine months</td>\n",
       "      <td>Received on-the-job training in software devel...</td>\n",
       "      <td>The official documentation and/or standards fo...</td>\n",
       "      <td>NaN</td>\n",
       "      <td>NaN</td>\n",
       "      <td>Disagree</td>\n",
       "      <td>Agree</td>\n",
       "      <td>Strongly disagree</td>\n",
       "      <td>JavaScript;HTML;CSS</td>\n",
       "      <td>C;Go;JavaScript;Python;HTML;CSS</td>\n",
       "      <td>MongoDB</td>\n",
       "      <td>NaN</td>\n",
       "      <td>Linux</td>\n",
       "      <td>Linux</td>\n",
       "      <td>Node.js;React</td>\n",
       "      <td>React;TensorFlow</td>\n",
       "      <td>Atom;Visual Studio Code</td>\n",
       "      <td>MacOS</td>\n",
       "      <td>2</td>\n",
       "      <td>Agile;Scrum</td>\n",
       "      <td>Git</td>\n",
       "      <td>Multiple times per day</td>\n",
       "      <td>Yes</td>\n",
       "      <td>Yes</td>\n",
       "      <td>The ad-blocking software was causing display i...</td>\n",
       "      <td>Somewhat disagree</td>\n",
       "      <td>Neither agree nor disagree</td>\n",
       "      <td>Somewhat disagree</td>\n",
       "      <td>Clicked on an online advertisement;Stopped goi...</td>\n",
       "      <td>1.0</td>\n",
       "      <td>4.0</td>\n",
       "      <td>2.0</td>\n",
       "      <td>5.0</td>\n",
       "      <td>3.0</td>\n",
       "      <td>7.0</td>\n",
       "      <td>6.0</td>\n",
       "      <td>Algorithms making important decisions</td>\n",
       "      <td>Artificial intelligence surpassing human intel...</td>\n",
       "      <td>The developers or the people creating the AI</td>\n",
       "      <td>I'm excited about the possibilities more than ...</td>\n",
       "      <td>Depends on what it is</td>\n",
       "      <td>Yes, but only within the company</td>\n",
       "      <td>Upper management at the company/organization</td>\n",
       "      <td>Yes</td>\n",
       "      <td>10 (Very Likely)</td>\n",
       "      <td>Multiple times per day</td>\n",
       "      <td>Yes</td>\n",
       "      <td>I have never participated in Q&amp;A on Stack Over...</td>\n",
       "      <td>Yes</td>\n",
       "      <td>No, I have one but it's out of date</td>\n",
       "      <td>7</td>\n",
       "      <td>No</td>\n",
       "      <td>Very interested</td>\n",
       "      <td>A little bit interested</td>\n",
       "      <td>Extremely interested</td>\n",
       "      <td>Very interested</td>\n",
       "      <td>Very interested</td>\n",
       "      <td>Between 9:01 - 10:00 AM</td>\n",
       "      <td>Over 12 hours</td>\n",
       "      <td>Less than 30 minutes</td>\n",
       "      <td>1 - 2 times per week</td>\n",
       "      <td>NaN</td>\n",
       "      <td>I don't typically exercise</td>\n",
       "      <td>Male</td>\n",
       "      <td>Straight or heterosexual</td>\n",
       "      <td>Master?™s degree (MA, MS, M.Eng., MBA, etc.)</td>\n",
       "      <td>White or of European descent</td>\n",
       "      <td>18 - 24 years old</td>\n",
       "      <td>No</td>\n",
       "      <td>No</td>\n",
       "      <td>The survey was an appropriate length</td>\n",
       "      <td>Somewhat easy</td>\n",
       "    </tr>\n",
       "    <tr>\n",
       "      <th>8</th>\n",
       "      <td>11</td>\n",
       "      <td>Yes</td>\n",
       "      <td>Yes</td>\n",
       "      <td>United States</td>\n",
       "      <td>No</td>\n",
       "      <td>Employed full-time</td>\n",
       "      <td>Some college/university study without earning ...</td>\n",
       "      <td>Fine arts or performing arts (ex. graphic desi...</td>\n",
       "      <td>100 to 499 employees</td>\n",
       "      <td>Back-end developer;C-suite executive (CEO, CTO...</td>\n",
       "      <td>30 or more years</td>\n",
       "      <td>21-23 years</td>\n",
       "      <td>Moderately satisfied</td>\n",
       "      <td>Moderately satisfied</td>\n",
       "      <td>Doing the same work</td>\n",
       "      <td>I?™m not actively looking, but I am open to ne...</td>\n",
       "      <td>Between 2 and 4 years ago</td>\n",
       "      <td>6.0</td>\n",
       "      <td>3.0</td>\n",
       "      <td>7.0</td>\n",
       "      <td>4.0</td>\n",
       "      <td>1.0</td>\n",
       "      <td>5.0</td>\n",
       "      <td>10.0</td>\n",
       "      <td>8.0</td>\n",
       "      <td>9.0</td>\n",
       "      <td>2.0</td>\n",
       "      <td>1.0</td>\n",
       "      <td>3.0</td>\n",
       "      <td>2.0</td>\n",
       "      <td>9.0</td>\n",
       "      <td>11.0</td>\n",
       "      <td>5.0</td>\n",
       "      <td>8.0</td>\n",
       "      <td>4.0</td>\n",
       "      <td>10.0</td>\n",
       "      <td>7.0</td>\n",
       "      <td>6.0</td>\n",
       "      <td>5.0</td>\n",
       "      <td>1.0</td>\n",
       "      <td>2.0</td>\n",
       "      <td>3.0</td>\n",
       "      <td>4.0</td>\n",
       "      <td>3.0</td>\n",
       "      <td>7.0</td>\n",
       "      <td>2.0</td>\n",
       "      <td>4.0</td>\n",
       "      <td>1.0</td>\n",
       "      <td>6.0</td>\n",
       "      <td>5.0</td>\n",
       "      <td>My job status or other personal status changed</td>\n",
       "      <td>U.S. dollars ($)</td>\n",
       "      <td>250000</td>\n",
       "      <td>Yearly</td>\n",
       "      <td>250000.0</td>\n",
       "      <td>USD</td>\n",
       "      <td>Confluence;HipChat;Jira;Office / productivity ...</td>\n",
       "      <td>Three to six months</td>\n",
       "      <td>Taken an online course in programming or softw...</td>\n",
       "      <td>The official documentation and/or standards fo...</td>\n",
       "      <td>NaN</td>\n",
       "      <td>Because I find it enjoyable</td>\n",
       "      <td>Strongly agree</td>\n",
       "      <td>Strongly disagree</td>\n",
       "      <td>Strongly disagree</td>\n",
       "      <td>Assembly;CoffeeScript;Erlang;Go;JavaScript;Lua...</td>\n",
       "      <td>Erlang;Go;Python;Rust;SQL</td>\n",
       "      <td>Redis;PostgreSQL;Amazon DynamoDB;Apache HBase;...</td>\n",
       "      <td>Redis;PostgreSQL;Amazon DynamoDB;Apache Hive;A...</td>\n",
       "      <td>Amazon Echo;AWS;iOS;Linux;Mac OS;Serverless</td>\n",
       "      <td>AWS;Linux;Mac OS;Serverless</td>\n",
       "      <td>Hadoop;Node.js;React;Spark</td>\n",
       "      <td>NaN</td>\n",
       "      <td>IntelliJ;PyCharm;Sublime Text;Vim</td>\n",
       "      <td>MacOS</td>\n",
       "      <td>1</td>\n",
       "      <td>Agile;Evidence-based software engineering;Extr...</td>\n",
       "      <td>Git</td>\n",
       "      <td>Multiple times per day</td>\n",
       "      <td>No</td>\n",
       "      <td>NaN</td>\n",
       "      <td>NaN</td>\n",
       "      <td>Neither agree nor disagree</td>\n",
       "      <td>Somewhat agree</td>\n",
       "      <td>Neither agree nor disagree</td>\n",
       "      <td>Clicked on an online advertisement;Saw an onli...</td>\n",
       "      <td>1.0</td>\n",
       "      <td>3.0</td>\n",
       "      <td>5.0</td>\n",
       "      <td>4.0</td>\n",
       "      <td>2.0</td>\n",
       "      <td>7.0</td>\n",
       "      <td>6.0</td>\n",
       "      <td>Algorithms making important decisions</td>\n",
       "      <td>Artificial intelligence surpassing human intel...</td>\n",
       "      <td>The developers or the people creating the AI</td>\n",
       "      <td>I'm worried about the dangers more than I'm ex...</td>\n",
       "      <td>No</td>\n",
       "      <td>Yes, and publicly</td>\n",
       "      <td>The person who came up with the idea</td>\n",
       "      <td>Yes</td>\n",
       "      <td>7</td>\n",
       "      <td>A few times per month or weekly</td>\n",
       "      <td>Yes</td>\n",
       "      <td>Less than once per month or monthly</td>\n",
       "      <td>Yes</td>\n",
       "      <td>Yes</td>\n",
       "      <td>7</td>\n",
       "      <td>No</td>\n",
       "      <td>Not at all interested</td>\n",
       "      <td>Not at all interested</td>\n",
       "      <td>Not at all interested</td>\n",
       "      <td>Not at all interested</td>\n",
       "      <td>Not at all interested</td>\n",
       "      <td>Between 8:01 - 9:00 AM</td>\n",
       "      <td>9 - 12 hours</td>\n",
       "      <td>Less than 30 minutes</td>\n",
       "      <td>1 - 2 times per week</td>\n",
       "      <td>Standing desk;Fatigue-relieving floor mat</td>\n",
       "      <td>I don't typically exercise</td>\n",
       "      <td>Male</td>\n",
       "      <td>Straight or heterosexual</td>\n",
       "      <td>Some college/university study without earning ...</td>\n",
       "      <td>White or of European descent</td>\n",
       "      <td>35 - 44 years old</td>\n",
       "      <td>Yes</td>\n",
       "      <td>No</td>\n",
       "      <td>The survey was an appropriate length</td>\n",
       "      <td>Very easy</td>\n",
       "    </tr>\n",
       "    <tr>\n",
       "      <th>21</th>\n",
       "      <td>34</td>\n",
       "      <td>Yes</td>\n",
       "      <td>No</td>\n",
       "      <td>United States</td>\n",
       "      <td>No</td>\n",
       "      <td>Employed full-time</td>\n",
       "      <td>Bachelor?™s degree (BA, BS, B.Eng., etc.)</td>\n",
       "      <td>NaN</td>\n",
       "      <td>500 to 999 employees</td>\n",
       "      <td>Back-end developer;Desktop or enterprise appli...</td>\n",
       "      <td>24-26 years</td>\n",
       "      <td>24-26 years</td>\n",
       "      <td>Extremely satisfied</td>\n",
       "      <td>Moderately satisfied</td>\n",
       "      <td>Working in a different or more specialized tec...</td>\n",
       "      <td>I?™m not actively looking, but I am open to ne...</td>\n",
       "      <td>More than 4 years ago</td>\n",
       "      <td>3.0</td>\n",
       "      <td>4.0</td>\n",
       "      <td>6.0</td>\n",
       "      <td>7.0</td>\n",
       "      <td>1.0</td>\n",
       "      <td>8.0</td>\n",
       "      <td>5.0</td>\n",
       "      <td>2.0</td>\n",
       "      <td>9.0</td>\n",
       "      <td>10.0</td>\n",
       "      <td>2.0</td>\n",
       "      <td>4.0</td>\n",
       "      <td>1.0</td>\n",
       "      <td>11.0</td>\n",
       "      <td>7.0</td>\n",
       "      <td>3.0</td>\n",
       "      <td>8.0</td>\n",
       "      <td>5.0</td>\n",
       "      <td>9.0</td>\n",
       "      <td>6.0</td>\n",
       "      <td>10.0</td>\n",
       "      <td>2.0</td>\n",
       "      <td>1.0</td>\n",
       "      <td>5.0</td>\n",
       "      <td>4.0</td>\n",
       "      <td>3.0</td>\n",
       "      <td>2.0</td>\n",
       "      <td>1.0</td>\n",
       "      <td>3.0</td>\n",
       "      <td>5.0</td>\n",
       "      <td>4.0</td>\n",
       "      <td>7.0</td>\n",
       "      <td>6.0</td>\n",
       "      <td>My job status or other personal status changed</td>\n",
       "      <td>U.S. dollars ($)</td>\n",
       "      <td>NaN</td>\n",
       "      <td>Monthly</td>\n",
       "      <td>NaN</td>\n",
       "      <td>USD</td>\n",
       "      <td>Confluence;Jira;Office / productivity suite (M...</td>\n",
       "      <td>Three to six months</td>\n",
       "      <td>Taken an online course in programming or softw...</td>\n",
       "      <td>The official documentation and/or standards fo...</td>\n",
       "      <td>NaN</td>\n",
       "      <td>NaN</td>\n",
       "      <td>Strongly agree</td>\n",
       "      <td>Strongly disagree</td>\n",
       "      <td>Disagree</td>\n",
       "      <td>C;C++;C#;Groovy;JavaScript;Python;SQL;HTML;CSS...</td>\n",
       "      <td>C;C++;JavaScript;Python;HTML;CSS;Bash/Shell</td>\n",
       "      <td>SQL Server;MySQL;SQLite</td>\n",
       "      <td>MySQL;SQLite;Elasticsearch</td>\n",
       "      <td>Linux;Mac OS;Windows Desktop or Server</td>\n",
       "      <td>Linux;Mac OS;Windows Desktop or Server</td>\n",
       "      <td>Django</td>\n",
       "      <td>Django;Node.js</td>\n",
       "      <td>Visual Studio;Visual Studio Code</td>\n",
       "      <td>MacOS</td>\n",
       "      <td>3</td>\n",
       "      <td>Agile;Scrum</td>\n",
       "      <td>Git;Subversion</td>\n",
       "      <td>Multiple times per day</td>\n",
       "      <td>No</td>\n",
       "      <td>NaN</td>\n",
       "      <td>NaN</td>\n",
       "      <td>Somewhat agree</td>\n",
       "      <td>Somewhat agree</td>\n",
       "      <td>Somewhat disagree</td>\n",
       "      <td>Clicked on an online advertisement;Saw an onli...</td>\n",
       "      <td>1.0</td>\n",
       "      <td>3.0</td>\n",
       "      <td>2.0</td>\n",
       "      <td>4.0</td>\n",
       "      <td>7.0</td>\n",
       "      <td>5.0</td>\n",
       "      <td>6.0</td>\n",
       "      <td>Artificial intelligence surpassing human intel...</td>\n",
       "      <td>Increasing automation of jobs</td>\n",
       "      <td>The developers or the people creating the AI</td>\n",
       "      <td>I'm worried about the dangers more than I'm ex...</td>\n",
       "      <td>No</td>\n",
       "      <td>Yes, but only within the company</td>\n",
       "      <td>Upper management at the company/organization</td>\n",
       "      <td>Yes</td>\n",
       "      <td>10 (Very Likely)</td>\n",
       "      <td>Daily or almost daily</td>\n",
       "      <td>Yes</td>\n",
       "      <td>A few times per month or weekly</td>\n",
       "      <td>Yes</td>\n",
       "      <td>No, I know what it is but I don't have one</td>\n",
       "      <td>7</td>\n",
       "      <td>Yes</td>\n",
       "      <td>Somewhat interested</td>\n",
       "      <td>A little bit interested</td>\n",
       "      <td>Not at all interested</td>\n",
       "      <td>Somewhat interested</td>\n",
       "      <td>Very interested</td>\n",
       "      <td>Between 6:01 - 7:00 AM</td>\n",
       "      <td>5 - 8 hours</td>\n",
       "      <td>1 - 2 hours</td>\n",
       "      <td>NaN</td>\n",
       "      <td>Ergonomic keyboard or mouse</td>\n",
       "      <td>Daily or almost every day</td>\n",
       "      <td>Male</td>\n",
       "      <td>Straight or heterosexual</td>\n",
       "      <td>Bachelor?™s degree (BA, BS, B.Eng., etc.)</td>\n",
       "      <td>White or of European descent</td>\n",
       "      <td>45 - 54 years old</td>\n",
       "      <td>Yes</td>\n",
       "      <td>No</td>\n",
       "      <td>The survey was too long</td>\n",
       "      <td>Very easy</td>\n",
       "    </tr>\n",
       "  </tbody>\n",
       "</table>\n",
       "</div>"
      ],
      "text/plain": [
       "    Respondent Hobby OpenSource        Country Student          Employment  \\\n",
       "2            4   Yes        Yes  United States      No  Employed full-time   \n",
       "3            5    No         No  United States      No  Employed full-time   \n",
       "6            9   Yes        Yes  United States      No  Employed full-time   \n",
       "8           11   Yes        Yes  United States      No  Employed full-time   \n",
       "21          34   Yes         No  United States      No  Employed full-time   \n",
       "\n",
       "                                      FormalEducation  \\\n",
       "2                                    Associate degree   \n",
       "3           Bachelor?™s degree (BA, BS, B.Eng., etc.)   \n",
       "6   Some college/university study without earning ...   \n",
       "8   Some college/university study without earning ...   \n",
       "21          Bachelor?™s degree (BA, BS, B.Eng., etc.)   \n",
       "\n",
       "                                       UndergradMajor  \\\n",
       "2   Computer science, computer engineering, or sof...   \n",
       "3   Computer science, computer engineering, or sof...   \n",
       "6   Computer science, computer engineering, or sof...   \n",
       "8   Fine arts or performing arts (ex. graphic desi...   \n",
       "21                                                NaN   \n",
       "\n",
       "                 CompanySize  \\\n",
       "2         20 to 99 employees   \n",
       "3       100 to 499 employees   \n",
       "6   10,000 or more employees   \n",
       "8       100 to 499 employees   \n",
       "21      500 to 999 employees   \n",
       "\n",
       "                                              DevType       YearsCoding  \\\n",
       "2            Engineering manager;Full-stack developer       24-26 years   \n",
       "3                                Full-stack developer       18-20 years   \n",
       "6   Back-end developer;Front-end developer;Full-st...        9-11 years   \n",
       "8   Back-end developer;C-suite executive (CEO, CTO...  30 or more years   \n",
       "21  Back-end developer;Desktop or enterprise appli...       24-26 years   \n",
       "\n",
       "   YearsCodingProf                     JobSatisfaction     CareerSatisfaction  \\\n",
       "2        6-8 years                Moderately satisfied   Moderately satisfied   \n",
       "3      12-14 years  Neither satisfied nor dissatisfied  Slightly dissatisfied   \n",
       "6        0-2 years                  Slightly satisfied   Moderately satisfied   \n",
       "8      21-23 years                Moderately satisfied   Moderately satisfied   \n",
       "21     24-26 years                 Extremely satisfied   Moderately satisfied   \n",
       "\n",
       "                                        HopeFiveYears  \\\n",
       "2   Working as a founder or co-founder of my own c...   \n",
       "3   Working as a founder or co-founder of my own c...   \n",
       "6   Working as a founder or co-founder of my own c...   \n",
       "8                                 Doing the same work   \n",
       "21  Working in a different or more specialized tec...   \n",
       "\n",
       "                                      JobSearchStatus  \\\n",
       "2   I?™m not actively looking, but I am open to ne...   \n",
       "3   I?™m not actively looking, but I am open to ne...   \n",
       "6   I?™m not actively looking, but I am open to ne...   \n",
       "8   I?™m not actively looking, but I am open to ne...   \n",
       "21  I?™m not actively looking, but I am open to ne...   \n",
       "\n",
       "                   LastNewJob  AssessJob1  AssessJob2  AssessJob3  AssessJob4  \\\n",
       "2        Less than a year ago         NaN         NaN         NaN         NaN   \n",
       "3        Less than a year ago         NaN         NaN         NaN         NaN   \n",
       "6        Less than a year ago         5.0         3.0         9.0         4.0   \n",
       "8   Between 2 and 4 years ago         6.0         3.0         7.0         4.0   \n",
       "21      More than 4 years ago         3.0         4.0         6.0         7.0   \n",
       "\n",
       "    AssessJob5  AssessJob6  AssessJob7  AssessJob8  AssessJob9  AssessJob10  \\\n",
       "2          NaN         NaN         NaN         NaN         NaN          NaN   \n",
       "3          NaN         NaN         NaN         NaN         NaN          NaN   \n",
       "6          1.0         8.0         2.0         7.0        10.0          6.0   \n",
       "8          1.0         5.0        10.0         8.0         9.0          2.0   \n",
       "21         1.0         8.0         5.0         2.0         9.0         10.0   \n",
       "\n",
       "    AssessBenefits1  AssessBenefits2  AssessBenefits3  AssessBenefits4  \\\n",
       "2               NaN              NaN              NaN              NaN   \n",
       "3               NaN              NaN              NaN              NaN   \n",
       "6               1.0              3.0              2.0              9.0   \n",
       "8               1.0              3.0              2.0              9.0   \n",
       "21              2.0              4.0              1.0             11.0   \n",
       "\n",
       "    AssessBenefits5  AssessBenefits6  AssessBenefits7  AssessBenefits8  \\\n",
       "2               NaN              NaN              NaN              NaN   \n",
       "3               NaN              NaN              NaN              NaN   \n",
       "6              11.0              4.0              8.0              6.0   \n",
       "8              11.0              5.0              8.0              4.0   \n",
       "21              7.0              3.0              8.0              5.0   \n",
       "\n",
       "    AssessBenefits9  AssessBenefits10  AssessBenefits11  \\\n",
       "2               NaN               NaN               NaN   \n",
       "3               NaN               NaN               NaN   \n",
       "6               7.0              10.0               5.0   \n",
       "8              10.0               7.0               6.0   \n",
       "21              9.0               6.0              10.0   \n",
       "\n",
       "    JobContactPriorities1  JobContactPriorities2  JobContactPriorities3  \\\n",
       "2                     NaN                    NaN                    NaN   \n",
       "3                     NaN                    NaN                    NaN   \n",
       "6                     3.0                    1.0                    5.0   \n",
       "8                     5.0                    1.0                    2.0   \n",
       "21                    2.0                    1.0                    5.0   \n",
       "\n",
       "    JobContactPriorities4  JobContactPriorities5  JobEmailPriorities1  \\\n",
       "2                     NaN                    NaN                  NaN   \n",
       "3                     NaN                    NaN                  NaN   \n",
       "6                     4.0                    2.0                  1.0   \n",
       "8                     3.0                    4.0                  3.0   \n",
       "21                    4.0                    3.0                  2.0   \n",
       "\n",
       "    JobEmailPriorities2  JobEmailPriorities3  JobEmailPriorities4  \\\n",
       "2                   NaN                  NaN                  NaN   \n",
       "3                   NaN                  NaN                  NaN   \n",
       "6                   5.0                  3.0                  4.0   \n",
       "8                   7.0                  2.0                  4.0   \n",
       "21                  1.0                  3.0                  5.0   \n",
       "\n",
       "    JobEmailPriorities5  JobEmailPriorities6  JobEmailPriorities7  \\\n",
       "2                   NaN                  NaN                  NaN   \n",
       "3                   NaN                  NaN                  NaN   \n",
       "6                   2.0                  6.0                  7.0   \n",
       "8                   1.0                  6.0                  5.0   \n",
       "21                  4.0                  7.0                  6.0   \n",
       "\n",
       "                                          UpdateCV          Currency  Salary  \\\n",
       "2                                              NaN               NaN     NaN   \n",
       "3                         A recruiter contacted me  U.S. dollars ($)     NaN   \n",
       "6   My job status or other personal status changed  U.S. dollars ($)  120000   \n",
       "8   My job status or other personal status changed  U.S. dollars ($)  250000   \n",
       "21  My job status or other personal status changed  U.S. dollars ($)     NaN   \n",
       "\n",
       "   SalaryType  ConvertedSalary CurrencySymbol  \\\n",
       "2         NaN              NaN            NaN   \n",
       "3         NaN              NaN            NaN   \n",
       "6      Yearly         120000.0            USD   \n",
       "8      Yearly         250000.0            USD   \n",
       "21    Monthly              NaN            USD   \n",
       "\n",
       "                                   CommunicationTools  TimeFullyProductive  \\\n",
       "2                                                 NaN                  NaN   \n",
       "3                                                 NaN  Three to six months   \n",
       "6   Confluence;Office / productivity suite (Micros...   Six to nine months   \n",
       "8   Confluence;HipChat;Jira;Office / productivity ...  Three to six months   \n",
       "21  Confluence;Jira;Office / productivity suite (M...  Three to six months   \n",
       "\n",
       "                                       EducationTypes  \\\n",
       "2                                                 NaN   \n",
       "3   Completed an industry certification program (e...   \n",
       "6   Received on-the-job training in software devel...   \n",
       "8   Taken an online course in programming or softw...   \n",
       "21  Taken an online course in programming or softw...   \n",
       "\n",
       "                                      SelfTaughtTypes TimeAfterBootcamp  \\\n",
       "2                                                 NaN               NaN   \n",
       "3   The official documentation and/or standards fo...               NaN   \n",
       "6   The official documentation and/or standards fo...               NaN   \n",
       "8   The official documentation and/or standards fo...               NaN   \n",
       "21  The official documentation and/or standards fo...               NaN   \n",
       "\n",
       "               HackathonReasons  AgreeDisagree1     AgreeDisagree2  \\\n",
       "2                           NaN             NaN                NaN   \n",
       "3                           NaN        Disagree           Disagree   \n",
       "6                           NaN        Disagree              Agree   \n",
       "8   Because I find it enjoyable  Strongly agree  Strongly disagree   \n",
       "21                          NaN  Strongly agree  Strongly disagree   \n",
       "\n",
       "       AgreeDisagree3                                 LanguageWorkedWith  \\\n",
       "2                 NaN                                                NaN   \n",
       "3   Strongly disagree   C#;JavaScript;SQL;TypeScript;HTML;CSS;Bash/Shell   \n",
       "6   Strongly disagree                                JavaScript;HTML;CSS   \n",
       "8   Strongly disagree  Assembly;CoffeeScript;Erlang;Go;JavaScript;Lua...   \n",
       "21           Disagree  C;C++;C#;Groovy;JavaScript;Python;SQL;HTML;CSS...   \n",
       "\n",
       "                              LanguageDesireNextYear  \\\n",
       "2                                                NaN   \n",
       "3   C#;JavaScript;SQL;TypeScript;HTML;CSS;Bash/Shell   \n",
       "6                    C;Go;JavaScript;Python;HTML;CSS   \n",
       "8                          Erlang;Go;Python;Rust;SQL   \n",
       "21       C;C++;JavaScript;Python;HTML;CSS;Bash/Shell   \n",
       "\n",
       "                                   DatabaseWorkedWith  \\\n",
       "2                                                 NaN   \n",
       "3   SQL Server;Microsoft Azure (Tables, CosmosDB, ...   \n",
       "6                                             MongoDB   \n",
       "8   Redis;PostgreSQL;Amazon DynamoDB;Apache HBase;...   \n",
       "21                            SQL Server;MySQL;SQLite   \n",
       "\n",
       "                               DatabaseDesireNextYear  \\\n",
       "2                                                 NaN   \n",
       "3   SQL Server;Microsoft Azure (Tables, CosmosDB, ...   \n",
       "6                                                 NaN   \n",
       "8   Redis;PostgreSQL;Amazon DynamoDB;Apache Hive;A...   \n",
       "21                         MySQL;SQLite;Elasticsearch   \n",
       "\n",
       "                             PlatformWorkedWith  \\\n",
       "2                                           NaN   \n",
       "3                                         Azure   \n",
       "6                                         Linux   \n",
       "8   Amazon Echo;AWS;iOS;Linux;Mac OS;Serverless   \n",
       "21       Linux;Mac OS;Windows Desktop or Server   \n",
       "\n",
       "                    PlatformDesireNextYear         FrameworkWorkedWith  \\\n",
       "2                                      NaN                         NaN   \n",
       "3                                    Azure                         NaN   \n",
       "6                                    Linux               Node.js;React   \n",
       "8              AWS;Linux;Mac OS;Serverless  Hadoop;Node.js;React;Spark   \n",
       "21  Linux;Mac OS;Windows Desktop or Server                      Django   \n",
       "\n",
       "    FrameworkDesireNextYear                                IDE  \\\n",
       "2                       NaN                                NaN   \n",
       "3   Angular;.NET Core;React   Visual Studio;Visual Studio Code   \n",
       "6          React;TensorFlow            Atom;Visual Studio Code   \n",
       "8                       NaN  IntelliJ;PyCharm;Sublime Text;Vim   \n",
       "21           Django;Node.js   Visual Studio;Visual Studio Code   \n",
       "\n",
       "   OperatingSystem NumberMonitors  \\\n",
       "2              NaN            NaN   \n",
       "3          Windows              2   \n",
       "6            MacOS              2   \n",
       "8            MacOS              1   \n",
       "21           MacOS              3   \n",
       "\n",
       "                                          Methodology  VersionControl  \\\n",
       "2                                                 NaN             NaN   \n",
       "3                                  Agile;Kanban;Scrum             Git   \n",
       "6                                         Agile;Scrum             Git   \n",
       "8   Agile;Evidence-based software engineering;Extr...             Git   \n",
       "21                                        Agile;Scrum  Git;Subversion   \n",
       "\n",
       "               CheckInCode AdBlocker AdBlockerDisable  \\\n",
       "2                      NaN       NaN              NaN   \n",
       "3   Multiple times per day       Yes              Yes   \n",
       "6   Multiple times per day       Yes              Yes   \n",
       "8   Multiple times per day        No              NaN   \n",
       "21  Multiple times per day        No              NaN   \n",
       "\n",
       "                                     AdBlockerReasons  \\\n",
       "2                                                 NaN   \n",
       "3   The ad-blocking software was causing display i...   \n",
       "6   The ad-blocking software was causing display i...   \n",
       "8                                                 NaN   \n",
       "21                                                NaN   \n",
       "\n",
       "             AdsAgreeDisagree1           AdsAgreeDisagree2  \\\n",
       "2                          NaN                         NaN   \n",
       "3   Neither agree nor disagree              Somewhat agree   \n",
       "6            Somewhat disagree  Neither agree nor disagree   \n",
       "8   Neither agree nor disagree              Somewhat agree   \n",
       "21              Somewhat agree              Somewhat agree   \n",
       "\n",
       "             AdsAgreeDisagree3  \\\n",
       "2                          NaN   \n",
       "3               Somewhat agree   \n",
       "6            Somewhat disagree   \n",
       "8   Neither agree nor disagree   \n",
       "21           Somewhat disagree   \n",
       "\n",
       "                                           AdsActions  AdsPriorities1  \\\n",
       "2                                                 NaN             NaN   \n",
       "3   Stopped going to a website because of their ad...             NaN   \n",
       "6   Clicked on an online advertisement;Stopped goi...             1.0   \n",
       "8   Clicked on an online advertisement;Saw an onli...             1.0   \n",
       "21  Clicked on an online advertisement;Saw an onli...             1.0   \n",
       "\n",
       "    AdsPriorities2  AdsPriorities3  AdsPriorities4  AdsPriorities5  \\\n",
       "2              NaN             NaN             NaN             NaN   \n",
       "3              NaN             NaN             NaN             NaN   \n",
       "6              4.0             2.0             5.0             3.0   \n",
       "8              3.0             5.0             4.0             2.0   \n",
       "21             3.0             2.0             4.0             7.0   \n",
       "\n",
       "    AdsPriorities6  AdsPriorities7  \\\n",
       "2              NaN             NaN   \n",
       "3              NaN             NaN   \n",
       "6              7.0             6.0   \n",
       "8              7.0             6.0   \n",
       "21             5.0             6.0   \n",
       "\n",
       "                                          AIDangerous  \\\n",
       "2                                                 NaN   \n",
       "3   Artificial intelligence surpassing human intel...   \n",
       "6               Algorithms making important decisions   \n",
       "8               Algorithms making important decisions   \n",
       "21  Artificial intelligence surpassing human intel...   \n",
       "\n",
       "                                        AIInteresting  \\\n",
       "2                                                 NaN   \n",
       "3   Artificial intelligence surpassing human intel...   \n",
       "6   Artificial intelligence surpassing human intel...   \n",
       "8   Artificial intelligence surpassing human intel...   \n",
       "21                      Increasing automation of jobs   \n",
       "\n",
       "                                   AIResponsible  \\\n",
       "2                                            NaN   \n",
       "3        A governmental or other regulatory body   \n",
       "6   The developers or the people creating the AI   \n",
       "8   The developers or the people creating the AI   \n",
       "21  The developers or the people creating the AI   \n",
       "\n",
       "                                             AIFuture           EthicsChoice  \\\n",
       "2                                                 NaN                    NaN   \n",
       "3   I don't care about it, or I haven't thought ab...                     No   \n",
       "6   I'm excited about the possibilities more than ...  Depends on what it is   \n",
       "8   I'm worried about the dangers more than I'm ex...                     No   \n",
       "21  I'm worried about the dangers more than I'm ex...                     No   \n",
       "\n",
       "                        EthicsReport  \\\n",
       "2                                NaN   \n",
       "3   Yes, but only within the company   \n",
       "6   Yes, but only within the company   \n",
       "8                  Yes, and publicly   \n",
       "21  Yes, but only within the company   \n",
       "\n",
       "                               EthicsResponsible EthicalImplications  \\\n",
       "2                                            NaN                 NaN   \n",
       "3   Upper management at the company/organization                 Yes   \n",
       "6   Upper management at the company/organization                 Yes   \n",
       "8           The person who came up with the idea                 Yes   \n",
       "21  Upper management at the company/organization                 Yes   \n",
       "\n",
       "   StackOverflowRecommend               StackOverflowVisit  \\\n",
       "2                     NaN                              NaN   \n",
       "3        10 (Very Likely)             A few times per week   \n",
       "6        10 (Very Likely)           Multiple times per day   \n",
       "8                       7  A few times per month or weekly   \n",
       "21       10 (Very Likely)            Daily or almost daily   \n",
       "\n",
       "   StackOverflowHasAccount                           StackOverflowParticipate  \\\n",
       "2                      NaN                                                NaN   \n",
       "3                      Yes                    A few times per month or weekly   \n",
       "6                      Yes  I have never participated in Q&A on Stack Over...   \n",
       "8                      Yes                Less than once per month or monthly   \n",
       "21                     Yes                    A few times per month or weekly   \n",
       "\n",
       "   StackOverflowJobs                       StackOverflowDevStory  \\\n",
       "2                NaN                                         NaN   \n",
       "3                Yes         No, I have one but it's out of date   \n",
       "6                Yes         No, I have one but it's out of date   \n",
       "8                Yes                                         Yes   \n",
       "21               Yes  No, I know what it is but I don't have one   \n",
       "\n",
       "   StackOverflowJobsRecommend StackOverflowConsiderMember  \\\n",
       "2                         NaN                         NaN   \n",
       "3                           8                         Yes   \n",
       "6                           7                          No   \n",
       "8                           7                          No   \n",
       "21                          7                         Yes   \n",
       "\n",
       "       HypotheticalTools1       HypotheticalTools2     HypotheticalTools3  \\\n",
       "2                     NaN                      NaN                    NaN   \n",
       "3     Somewhat interested      Somewhat interested    Somewhat interested   \n",
       "6         Very interested  A little bit interested   Extremely interested   \n",
       "8   Not at all interested    Not at all interested  Not at all interested   \n",
       "21    Somewhat interested  A little bit interested  Not at all interested   \n",
       "\n",
       "       HypotheticalTools4     HypotheticalTools5                 WakeTime  \\\n",
       "2                     NaN                    NaN                      NaN   \n",
       "3     Somewhat interested    Somewhat interested   Between 6:01 - 7:00 AM   \n",
       "6         Very interested        Very interested  Between 9:01 - 10:00 AM   \n",
       "8   Not at all interested  Not at all interested   Between 8:01 - 9:00 AM   \n",
       "21    Somewhat interested        Very interested   Between 6:01 - 7:00 AM   \n",
       "\n",
       "    HoursComputer          HoursOutside             SkipMeals  \\\n",
       "2             NaN                   NaN                   NaN   \n",
       "3    9 - 12 hours  Less than 30 minutes  3 - 4 times per week   \n",
       "6   Over 12 hours  Less than 30 minutes  1 - 2 times per week   \n",
       "8    9 - 12 hours  Less than 30 minutes  1 - 2 times per week   \n",
       "21    5 - 8 hours           1 - 2 hours                   NaN   \n",
       "\n",
       "                             ErgonomicDevices                    Exercise  \\\n",
       "2                                         NaN                         NaN   \n",
       "3                                         NaN  I don't typically exercise   \n",
       "6                                         NaN  I don't typically exercise   \n",
       "8   Standing desk;Fatigue-relieving floor mat  I don't typically exercise   \n",
       "21                Ergonomic keyboard or mouse   Daily or almost every day   \n",
       "\n",
       "   Gender         SexualOrientation  \\\n",
       "2     NaN                       NaN   \n",
       "3    Male  Straight or heterosexual   \n",
       "6    Male  Straight or heterosexual   \n",
       "8    Male  Straight or heterosexual   \n",
       "21   Male  Straight or heterosexual   \n",
       "\n",
       "                                     EducationParents  \\\n",
       "2                                                 NaN   \n",
       "3   Some college/university study without earning ...   \n",
       "6        Master?™s degree (MA, MS, M.Eng., MBA, etc.)   \n",
       "8   Some college/university study without earning ...   \n",
       "21          Bachelor?™s degree (BA, BS, B.Eng., etc.)   \n",
       "\n",
       "                   RaceEthnicity                Age Dependents MilitaryUS  \\\n",
       "2                            NaN                NaN        NaN        NaN   \n",
       "3   White or of European descent  35 - 44 years old         No         No   \n",
       "6   White or of European descent  18 - 24 years old         No         No   \n",
       "8   White or of European descent  35 - 44 years old        Yes         No   \n",
       "21  White or of European descent  45 - 54 years old        Yes         No   \n",
       "\n",
       "                           SurveyTooLong     SurveyEasy  \n",
       "2                                    NaN            NaN  \n",
       "3   The survey was an appropriate length  Somewhat easy  \n",
       "6   The survey was an appropriate length  Somewhat easy  \n",
       "8   The survey was an appropriate length      Very easy  \n",
       "21               The survey was too long      Very easy  "
      ]
     },
     "metadata": {},
     "execution_count": 33
    }
   ],
   "metadata": {
    "tags": [],
    "cell_id": "00004-1439de3a-8ef7-410f-b19b-15f3189b2767",
    "deepnote_to_be_reexecuted": false,
    "source_hash": "47036a78",
    "execution_start": 1631582443968,
    "execution_millis": 6414,
    "deepnote_cell_type": "code"
   }
  },
  {
   "cell_type": "markdown",
   "source": [
    "Based on the features of the secondary dataset, the following directions can be explored:\n",
    "- Age interval. 在第二数据集的年龄特征里面，数据并不是一个单一的年龄值， 而是特定范围，可以支持我们对primary dataset 进行 bin 处理，整合分析。\n",
    "- 国家和公司规模进行过滤处理，摘选出同类型同地域的公司进行比较。\n",
    "- YearsCoding， 可筛选出primary dataset 中 R&D 部门，对应工作年限的比较。\n",
    "- Salary （经过上面的过滤，单位都是美元）\n",
    "- Gender"
   ],
   "metadata": {
    "tags": [],
    "cell_id": "00051-f1f4fcfb-7451-4ae6-b2e1-9201408cd5ad",
    "deepnote_cell_type": "markdown"
   }
  },
  {
   "cell_type": "code",
   "execution_count": null,
   "source": [
    "df_buf = df_usa[['Employment', 'YearsCoding', 'UndergradMajor', 'CompanySize','YearsCodingProf', \n",
    "                'JobSatisfaction', 'CareerSatisfaction', 'Salary','SalaryType', 'Age', 'Gender']]\n",
    "\n"
   ],
   "outputs": [],
   "metadata": {
    "tags": [],
    "cell_id": "00007-28d167dd-8241-4c26-b6e1-a2dffbbd808f",
    "deepnote_to_be_reexecuted": false,
    "source_hash": "1107448b",
    "execution_start": 1631582503959,
    "execution_millis": 1,
    "deepnote_cell_type": "code"
   }
  },
  {
   "cell_type": "code",
   "execution_count": null,
   "source": [
    "df_buf.info()"
   ],
   "outputs": [
    {
     "output_type": "stream",
     "name": "stdout",
     "text": [
      "<class 'pandas.core.frame.DataFrame'>\n",
      "Int64Index: 16031 entries, 2 to 98803\n",
      "Data columns (total 11 columns):\n",
      " #   Column              Non-Null Count  Dtype \n",
      "---  ------              --------------  ----- \n",
      " 0   Employment          16031 non-null  object\n",
      " 1   YearsCoding         15842 non-null  object\n",
      " 2   UndergradMajor      14934 non-null  object\n",
      " 3   CompanySize         15452 non-null  object\n",
      " 4   YearsCodingProf     14356 non-null  object\n",
      " 5   JobSatisfaction     14187 non-null  object\n",
      " 6   CareerSatisfaction  14237 non-null  object\n",
      " 7   Salary              11523 non-null  object\n",
      " 8   SalaryType          9167 non-null   object\n",
      " 9   Age                 12733 non-null  object\n",
      " 10  Gender              12676 non-null  object\n",
      "dtypes: object(11)\n",
      "memory usage: 1.5+ MB\n"
     ]
    }
   ],
   "metadata": {
    "tags": [],
    "cell_id": "00055-38296442-d578-4695-b264-c694f3cec83a",
    "deepnote_to_be_reexecuted": false,
    "source_hash": "95539498",
    "execution_start": 1631582505103,
    "execution_millis": 70,
    "deepnote_cell_type": "code"
   }
  },
  {
   "cell_type": "code",
   "execution_count": null,
   "source": [
    "# Categorical Features Unique values \n",
    "object_col = []\n",
    "for column in df_buf.columns:\n",
    "    if df_buf[column].dtype == object and len(df_buf[column].unique()) <= 30:\n",
    "        object_col.append(column)\n",
    "        print(f\"{column} : {df_buf[column].unique()}\")\n",
    "        print(df_buf[column].value_counts())\n",
    "        print(\"====================================\")\n",
    "#object_col.remove('Attrition')"
   ],
   "outputs": [
    {
     "output_type": "stream",
     "name": "stdout",
     "text": [
      "Employment : ['Employed full-time']\n",
      "Employed full-time    16031\n",
      "Name: Employment, dtype: int64\n",
      "====================================\n",
      "YearsCoding : ['24-26 years' '18-20 years' '9-11 years' '30 or more years' '3-5 years'\n",
      " '6-8 years' '12-14 years' '15-17 years' '21-23 years' '0-2 years'\n",
      " '27-29 years' nan]\n",
      "6-8 years           3049\n",
      "3-5 years           2737\n",
      "9-11 years          2274\n",
      "12-14 years         1699\n",
      "15-17 years         1397\n",
      "18-20 years         1388\n",
      "30 or more years    1008\n",
      "0-2 years            776\n",
      "21-23 years          760\n",
      "24-26 years          502\n",
      "27-29 years          252\n",
      "Name: YearsCoding, dtype: int64\n",
      "====================================\n",
      "UndergradMajor : ['Computer science, computer engineering, or software engineering'\n",
      " 'Fine arts or performing arts (ex. graphic design, music, studio art)'\n",
      " nan 'A social science (ex. anthropology, psychology, political science)'\n",
      " 'Web development or web design'\n",
      " 'Another engineering discipline (ex. civil, electrical, mechanical)'\n",
      " 'A humanities discipline (ex. literature, history, philosophy)'\n",
      " 'A natural science (ex. biology, chemistry, physics)'\n",
      " 'Mathematics or statistics'\n",
      " 'A business discipline (ex. accounting, finance, marketing)'\n",
      " 'Information systems, information technology, or system administration'\n",
      " 'A health science (ex. nursing, pharmacy, radiology)'\n",
      " 'I never declared a major']\n",
      "Computer science, computer engineering, or software engineering          8586\n",
      "Another engineering discipline (ex. civil, electrical, mechanical)       1126\n",
      "Information systems, information technology, or system administration    1077\n",
      "A natural science (ex. biology, chemistry, physics)                       741\n",
      "Mathematics or statistics                                                 648\n",
      "A humanities discipline (ex. literature, history, philosophy)             615\n",
      "A social science (ex. anthropology, psychology, political science)        610\n",
      "Fine arts or performing arts (ex. graphic design, music, studio art)      509\n",
      "A business discipline (ex. accounting, finance, marketing)                476\n",
      "Web development or web design                                             273\n",
      "I never declared a major                                                  226\n",
      "A health science (ex. nursing, pharmacy, radiology)                        47\n",
      "Name: UndergradMajor, dtype: int64\n",
      "====================================\n",
      "CompanySize : ['20 to 99 employees' '100 to 499 employees' '10,000 or more employees'\n",
      " '500 to 999 employees' '10 to 19 employees' '1,000 to 4,999 employees'\n",
      " '5,000 to 9,999 employees' 'Fewer than 10 employees' nan]\n",
      "10,000 or more employees    3347\n",
      "100 to 499 employees        3094\n",
      "20 to 99 employees          2936\n",
      "1,000 to 4,999 employees    1928\n",
      "500 to 999 employees        1167\n",
      "10 to 19 employees          1133\n",
      "Fewer than 10 employees      962\n",
      "5,000 to 9,999 employees     885\n",
      "Name: CompanySize, dtype: int64\n",
      "====================================\n",
      "YearsCodingProf : ['6-8 years' '12-14 years' '0-2 years' '21-23 years' '24-26 years'\n",
      " '18-20 years' '3-5 years' '9-11 years' nan '15-17 years'\n",
      " '30 or more years' '27-29 years']\n",
      "3-5 years           3694\n",
      "0-2 years           2684\n",
      "6-8 years           2225\n",
      "9-11 years          1722\n",
      "12-14 years         1050\n",
      "18-20 years          877\n",
      "15-17 years          789\n",
      "21-23 years          452\n",
      "30 or more years     424\n",
      "24-26 years          278\n",
      "27-29 years          161\n",
      "Name: YearsCodingProf, dtype: int64\n",
      "====================================\n",
      "JobSatisfaction : ['Moderately satisfied' 'Neither satisfied nor dissatisfied'\n",
      " 'Slightly satisfied' 'Extremely satisfied' 'Slightly dissatisfied'\n",
      " 'Extremely dissatisfied' 'Moderately dissatisfied' nan]\n",
      "Moderately satisfied                  5453\n",
      "Extremely satisfied                   3374\n",
      "Slightly satisfied                    1653\n",
      "Slightly dissatisfied                 1282\n",
      "Moderately dissatisfied               1277\n",
      "Neither satisfied nor dissatisfied     684\n",
      "Extremely dissatisfied                 464\n",
      "Name: JobSatisfaction, dtype: int64\n",
      "====================================\n",
      "CareerSatisfaction : ['Moderately satisfied' 'Slightly dissatisfied' 'Extremely satisfied'\n",
      " 'Slightly satisfied' nan 'Neither satisfied nor dissatisfied'\n",
      " 'Moderately dissatisfied' 'Extremely dissatisfied']\n",
      "Moderately satisfied                  5957\n",
      "Extremely satisfied                   3709\n",
      "Slightly satisfied                    2034\n",
      "Slightly dissatisfied                  935\n",
      "Moderately dissatisfied                667\n",
      "Neither satisfied nor dissatisfied     604\n",
      "Extremely dissatisfied                 331\n",
      "Name: CareerSatisfaction, dtype: int64\n",
      "====================================\n",
      "SalaryType : [nan 'Yearly' 'Monthly' 'Weekly']\n",
      "Yearly     8222\n",
      "Monthly     528\n",
      "Weekly      417\n",
      "Name: SalaryType, dtype: int64\n",
      "====================================\n",
      "Age : [nan '35 - 44 years old' '18 - 24 years old' '45 - 54 years old'\n",
      " '25 - 34 years old' '55 - 64 years old' '65 years or older'\n",
      " 'Under 18 years old']\n",
      "25 - 34 years old     6535\n",
      "35 - 44 years old     3117\n",
      "18 - 24 years old     1617\n",
      "45 - 54 years old     1104\n",
      "55 - 64 years old      332\n",
      "65 years or older       23\n",
      "Under 18 years old       5\n",
      "Name: Age, dtype: int64\n",
      "====================================\n",
      "Gender : [nan 'Male'\n",
      " 'Female;Male;Transgender;Non-binary, genderqueer, or gender non-conforming'\n",
      " 'Female' 'Male;Non-binary, genderqueer, or gender non-conforming'\n",
      " 'Non-binary, genderqueer, or gender non-conforming' 'Transgender'\n",
      " 'Female;Transgender'\n",
      " 'Female;Non-binary, genderqueer, or gender non-conforming'\n",
      " 'Transgender;Non-binary, genderqueer, or gender non-conforming'\n",
      " 'Female;Transgender;Non-binary, genderqueer, or gender non-conforming'\n",
      " 'Male;Transgender'\n",
      " 'Male;Transgender;Non-binary, genderqueer, or gender non-conforming']\n",
      "Male                                                                         11385\n",
      "Female                                                                        1040\n",
      "Non-binary, genderqueer, or gender non-conforming                               77\n",
      "Female;Transgender                                                              53\n",
      "Male;Non-binary, genderqueer, or gender non-conforming                          28\n",
      "Transgender                                                                     22\n",
      "Transgender;Non-binary, genderqueer, or gender non-conforming                   21\n",
      "Female;Non-binary, genderqueer, or gender non-conforming                        19\n",
      "Male;Transgender                                                                17\n",
      "Female;Transgender;Non-binary, genderqueer, or gender non-conforming             9\n",
      "Female;Male;Transgender;Non-binary, genderqueer, or gender non-conforming        3\n",
      "Male;Transgender;Non-binary, genderqueer, or gender non-conforming               2\n",
      "Name: Gender, dtype: int64\n",
      "====================================\n"
     ]
    }
   ],
   "metadata": {
    "tags": [],
    "cell_id": "00057-42acbaf3-c003-467a-ad1c-919d6490a0a5",
    "deepnote_to_be_reexecuted": false,
    "source_hash": "d11f2217",
    "execution_start": 1631586227951,
    "execution_millis": 15,
    "deepnote_cell_type": "code"
   }
  },
  {
   "cell_type": "code",
   "execution_count": null,
   "source": [
    "\n",
    "\n",
    "df_buf.loc[:, ['YearsCoding', 'YearsCodingProf']]  = df_buf.loc[:, ['YearsCoding', 'YearsCodingProf']].transform(lambda x: x.map(lambda x: \n",
    "                    {'0-2 years': 0, '3-5 years': 1, '6-8 years':2, \n",
    "                    '9-11 years':3, '12-14 years':4, '15-17 years':5,\n",
    "                    '18-20 years':6, '21-23 years':7,\n",
    "                    '24-26 years':8, '27-29 years':9, \n",
    "                    '30 or more years':10}.get(x,x)))\n"
   ],
   "outputs": [
    {
     "output_type": "stream",
     "name": "stderr",
     "text": [
      "/shared-libs/python3.7/py/lib/python3.7/site-packages/pandas/core/indexing.py:1637: SettingWithCopyWarning: \n",
      "A value is trying to be set on a copy of a slice from a DataFrame\n",
      "\n",
      "See the caveats in the documentation: https://pandas.pydata.org/pandas-docs/stable/user_guide/indexing.html#returning-a-view-versus-a-copy\n",
      "  self._setitem_single_block(indexer, value, name)\n",
      "/shared-libs/python3.7/py/lib/python3.7/site-packages/pandas/core/indexing.py:692: SettingWithCopyWarning: \n",
      "A value is trying to be set on a copy of a slice from a DataFrame\n",
      "\n",
      "See the caveats in the documentation: https://pandas.pydata.org/pandas-docs/stable/user_guide/indexing.html#returning-a-view-versus-a-copy\n",
      "  iloc._setitem_with_indexer(indexer, value, self.name)\n"
     ]
    }
   ],
   "metadata": {
    "tags": [],
    "cell_id": "00056-4ff2d20b-54dd-40ef-af25-258a39bbe557",
    "deepnote_to_be_reexecuted": false,
    "source_hash": "8577f4e2",
    "execution_start": 1631587233383,
    "execution_millis": 7,
    "deepnote_cell_type": "code"
   }
  },
  {
   "cell_type": "code",
   "execution_count": null,
   "source": [
    "df_buf['YearsCoding'].unique()"
   ],
   "outputs": [
    {
     "output_type": "execute_result",
     "data": {
      "text/plain": [
       "array([8.0, 6.0, 3.0, 10.0, 1.0, 2.0, 4.0, 5.0, 7.0, 0.0, 9.0, nan],\n",
       "      dtype=object)"
      ]
     },
     "metadata": {},
     "execution_count": 47
    }
   ],
   "metadata": {
    "tags": [],
    "cell_id": "00059-c77e954d-4789-49df-8a61-367cca79f411",
    "deepnote_to_be_reexecuted": false,
    "source_hash": "f8c3cac6",
    "execution_start": 1631587267982,
    "execution_millis": 0,
    "deepnote_cell_type": "code"
   }
  },
  {
   "cell_type": "code",
   "execution_count": null,
   "source": [
    "df_buf.loc[:, ['JobSatisfaction', 'CareerSatisfaction']]  = df_buf.loc[:, ['JobSatisfaction', 'CareerSatisfaction']].transform(lambda x: x.map(lambda x: \n",
    "                    {'Extremely dissatisfied': 0, 'Moderately dissatisfied': 1, 'Slightly dissatisfied':2, \n",
    "                    'Neither satisfied nor dissatisfied':3, 'Slightly satisfied':4, 'Moderately satisfied':5,\n",
    "                    'Extremely satisfied':6}.get(x,x)))\n",
    "\n",
    "\n",
    "df_buf.loc[:, 'JobSearchStatus'] = df_buf.loc[:, 'JobSearchStatus'].transform(\n",
    "    lambda x: x.map(lambda x: {'I am not interested in new job opportunities': 0, \n",
    "                               'I?™m not actively looking, but I am open to new opportunities': 0,\n",
    "                              'I am actively looking for a job':1}.get(x,x)))\n",
    "\n",
    "df_buf.loc[:, 'Age']  = df_buf.loc[:, 'Age'].transform(lambda x: x.map(lambda x: \n",
    "                    {'Under 18 years old': 0, '18 - 24 years old': 1, '25 - 34 years old':2, \n",
    "                    '35 - 44 years old':3, '45 - 54 years old':4, '55 - 64 years old':5,\n",
    "                    '65 years or older':6}.get(x,x)))\n",
    "\n",
    "df_buf3 = df_buf.loc[:, ['Hobby', 'OpenSource', 'YearsCoding', 'YearsCodingProf', 'JobSatisfaction', 'CareerSatisfaction', \n",
    "                        'JobSearchStatus', 'Age']]"
   ],
   "outputs": [],
   "metadata": {
    "tags": [],
    "cell_id": "00059-c4b8c00a-f870-4e0e-92b5-754b6da7ef50",
    "deepnote_cell_type": "code"
   }
  },
  {
   "cell_type": "markdown",
   "source": [
    "<a style='text-decoration:none;line-height:16px;display:flex;color:#5B5B62;padding:10px;justify-content:end;' href='https://deepnote.com?utm_source=created-in-deepnote-cell&projectId=d18beb40-c7f5-4252-8f44-871d7ae07af1' target=\"_blank\">\n",
    "<img alt='Created in deepnote.com' style='display:inline;max-height:16px;margin:0px;margin-right:7.5px;' src='data:image/svg+xml;base64,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' > </img>\n",
    "Created in <span style='font-weight:600;margin-left:4px;'>Deepnote</span></a>"
   ],
   "metadata": {
    "tags": [],
    "created_in_deepnote_cell": true,
    "deepnote_cell_type": "markdown"
   }
  }
 ],
 "nbformat": 4,
 "nbformat_minor": 2,
 "metadata": {
  "orig_nbformat": 2,
  "deepnote": {
   "is_reactive": false
  },
  "deepnote_notebook_id": "c72357bb-9eed-432b-a071-c49e626c6072",
  "deepnote_execution_queue": [],
  "language_info": {
   "name": "python",
   "version": "3.7.6"
  },
  "kernelspec": {
   "name": "python3",
   "display_name": "Python 3.7.6 64-bit ('base': conda)"
  },
  "interpreter": {
   "hash": "356b7644f9d657b7813b96938b05f1d0fcd6ce65c976f513cfdb179034b74700"
  }
 }
}